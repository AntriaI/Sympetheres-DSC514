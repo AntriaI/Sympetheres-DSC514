{
 "cells": [
  {
   "cell_type": "code",
   "execution_count": 1,
   "id": "zLP9sejBJYZ5",
   "metadata": {
    "colab": {
     "base_uri": "https://localhost:8080/"
    },
    "id": "zLP9sejBJYZ5",
    "outputId": "0d2a16f8-9445-449f-96f4-21e1130aad2c"
   },
   "outputs": [
    {
     "name": "stdout",
     "output_type": "stream",
     "text": [
      "Using GPU: Tesla T4\n"
     ]
    }
   ],
   "source": [
    "import torch\n",
    "\n",
    "if torch.cuda.is_available():\n",
    "    print(f\"Using GPU: {torch.cuda.get_device_name(0)}\")\n",
    "else:\n",
    "    print(\"No GPU detected, using CPU.\")"
   ]
  },
  {
   "cell_type": "markdown",
   "id": "9daa7c40-e942-4a1e-9b1f-88e0117d7693",
   "metadata": {
    "id": "9daa7c40-e942-4a1e-9b1f-88e0117d7693"
   },
   "source": [
    "# Mistral LLM"
   ]
  },
  {
   "cell_type": "code",
   "execution_count": 2,
   "id": "zaTsIXXQPz7F",
   "metadata": {
    "id": "zaTsIXXQPz7F"
   },
   "outputs": [],
   "source": [
    "from IPython.display import clear_output\n",
    "\n",
    "clear_output()"
   ]
  },
  {
   "cell_type": "code",
   "execution_count": 3,
   "id": "ce58e4b8-8e2e-464f-bdf7-4228130a7b1d",
   "metadata": {
    "id": "ce58e4b8-8e2e-464f-bdf7-4228130a7b1d"
   },
   "outputs": [],
   "source": [
    "# Installs Unsloth, Xformers (Flash Attention) and all other packages!\n",
    "\n",
    "# !pip install \"unsloth[colab-new] @ git+https://github.com/unslothai/unsloth.git\"\n",
    "# !pip install --no-deps xformers trl peft accelerate bitsandbytes\n",
    "\n",
    "# clear_output()"
   ]
  },
  {
   "cell_type": "code",
   "execution_count": 4,
   "id": "yujzOqDuJdHl",
   "metadata": {
    "colab": {
     "base_uri": "https://localhost:8080/"
    },
    "id": "yujzOqDuJdHl",
    "outputId": "4de3afc2-91a0-4a4d-a282-cabf5d87f854"
   },
   "outputs": [],
   "source": [
    "# from google.colab import drive\n",
    "\n",
    "# drive.mount('/content/drive', force_remount = True)"
   ]
  },
  {
   "cell_type": "code",
   "execution_count": 5,
   "id": "BvajGoH9L5aA",
   "metadata": {
    "id": "BvajGoH9L5aA"
   },
   "outputs": [],
   "source": [
    "import pandas as pd\n",
    "from sklearn.model_selection import train_test_split"
   ]
  },
  {
   "cell_type": "code",
   "execution_count": 6,
   "id": "9d5413c8-8063-482e-a6af-2ca6b69cd399",
   "metadata": {
    "id": "9d5413c8-8063-482e-a6af-2ca6b69cd399"
   },
   "outputs": [],
   "source": [
    "data = pd.read_csv(\"sampled_data.csv\")"
   ]
  },
  {
   "cell_type": "code",
   "execution_count": 7,
   "id": "353af36e-607d-4d58-b33c-15f13737b5e6",
   "metadata": {
    "colab": {
     "base_uri": "https://localhost:8080/",
     "height": 352,
     "referenced_widgets": [
      "0ebab1ab37314b3ab9782685d044fcd5",
      "c80bde8780114c2797cd62e0d20a7cb6",
      "5d489adefcc44a02ab93da90fb948f46",
      "2e7c0c37f6554e16b95382c7082e0934",
      "c0aa38f0db6047b8958a835f3fb92629",
      "40643ca9090a412d9bca4cd41177efb9",
      "f8ea702867c54d2a8598081601a88882",
      "33be4d3760a2417cafd1282a279d80f7",
      "571909b60f964a09adc2d5b92269ff9a",
      "341e85fb1b3c41f4912d8d4a95f167c2",
      "4ff90584bb09415887e5867f53acc4c7",
      "1af1cb0ac0674523b02dcfcad559e0d7",
      "dbf749b3cddd484bb446b76b61c2e3a7",
      "228ef69cb3c44f3c89dc77076f22923b",
      "e431324d33fb4a3fbe776442a3c6034f",
      "b5d6f04dc4a7439f8b8f9914c564ddbe",
      "576b784ad0dd464bb2a190a96c2c92b0",
      "cf1acb68bc65488a9ad20ae24b1bbc3f",
      "5c40094d4fe54243ab214baf69c76982",
      "33085212506246558b5719f0cf390b87",
      "2ff7f5d0fccc4f9395ab377869212f2a",
      "7d86d7500f4c4eedb0720d6aae40c0fa",
      "6bdb629335184943bc8677f30cf499e2",
      "5755236b856c4fe294fdc1db804ffd5c",
      "1e0ec2a0989247748dc738871fe5bec0",
      "0c4f11bc06b043c98c167f28c771d461",
      "9bd17e508f01480dba53ad3891da97bd",
      "632a83921d5949beb9e7def1ab42d848",
      "5639f54ca5514893a3bb6a2b56d78099",
      "3337a9dc514c4d4ea04794d589d29423",
      "6a9c25fd39954862bced81c52e2cf5dd",
      "0ad83ec7c75547c9ad23ff03e03312bb",
      "c85dd397cb4e4d4f80113fd043fcd16e",
      "91f573094fec43819819c59b0096474f",
      "eed7cbe3e91448cb9ca265929057015d",
      "6b88a8abf40540aeaa0f76eb155561ed",
      "301f064c954b43abaaa9218803e98300",
      "0f3565c3f0804474995216365086de07",
      "30cfe05c41e749dbb9d4ff3f705d9d28",
      "5df5a9c58dee4cbea57dd65287c7a8b8",
      "0d9b6d2f0258418e83f3301a65846099",
      "ff3d8e5afa8444ba8350a2ef9b77c2f2",
      "4a00523e584b489191cb28190127c715",
      "68d7cd3e93a8424f9b0b398ba26a3a0c",
      "3df2c93d70d145e491f39048682d2c85",
      "04b62a9c37b64d44a0d602e3a41f6657",
      "d611c5c95eda4a21802c05b83c0c216a",
      "9bddec0153494155a5d4005643e83131",
      "82e0b18dc21f40fb82c0c9d7d2fe2513",
      "7ad1e651786a4bcf94bc5bcd9ff66308",
      "a45af0029d9645dba34a2cd7b75274c9",
      "faf918a2edb145789ee037011c5db228",
      "84f06f4fa8f246fb9d20946d90393ced",
      "3fcb7d8806a0407c91b04eaac7c1fea6",
      "3d40ddec434d44248a4f7b10a07e9923",
      "6584bfb1477e4afabf83a881452394dd",
      "8ffc568164a94aa988454e4ca1b2e121",
      "708cef39728549d1b4491a3acc100077",
      "f39ba8b0005f4294ac29bfee81db712f",
      "9b2a903de13f4f6c9d3f1795726f5c08",
      "8bf177ec54cb42e480d5e2ae984fe60d",
      "370ea2599cdc4bc6b77b2f1cb2825364",
      "0e04a30af0de4596aed6555ba44f44af",
      "1ab631a9851b4ef1819a02f1886784d2",
      "c0ddc6ea929f4f76acf63eb99ed9600c",
      "143e8b39061f40fb9111643c0f4c47e1"
     ]
    },
    "id": "353af36e-607d-4d58-b33c-15f13737b5e6",
    "outputId": "00f1bc7b-d080-4dcc-ac5d-acf094ac6d5b"
   },
   "outputs": [
    {
     "name": "stdout",
     "output_type": "stream",
     "text": [
      "🦥 Unsloth: Will patch your computer to enable 2x faster free finetuning.\n",
      "🦥 Unsloth Zoo will now patch everything to make training faster!\n",
      "==((====))==  Unsloth 2025.1.7: Fast Mistral patching. Transformers: 4.49.0.\n",
      "   \\\\   /|    GPU: Tesla T4. Max memory: 14.581 GB. Platform: Linux.\n",
      "O^O/ \\_/ \\    Torch: 2.5.1+cu124. CUDA: 7.5. CUDA Toolkit: 12.4. Triton: 3.1.0\n",
      "\\        /    Bfloat16 = FALSE. FA [Xformers = 0.0.28.post3. FA2 = False]\n",
      " \"-____-\"     Free Apache license: http://github.com/unslothai/unsloth\n",
      "Unsloth: Fast downloading is enabled - ignore downloading bars which are red colored!\n"
     ]
    }
   ],
   "source": [
    "from unsloth import FastLanguageModel\n",
    "import torch\n",
    "# Set the maximum tokens that the model can handle\n",
    "max_seq_length = 2048\n",
    "dtype = None\n",
    "# Use 4bit quantization to reduce memory usage\n",
    "load_in_4bit = True\n",
    "\n",
    "# From FastLanguageModel return the model and the tokenizer\n",
    "model, tokenizer = FastLanguageModel.from_pretrained(\n",
    "    model_name = \"unsloth/mistral-7b-bnb-4bit\",\n",
    "    max_seq_length = max_seq_length,\n",
    "    dtype = None,\n",
    "    load_in_4bit = True,\n",
    ")"
   ]
  },
  {
   "cell_type": "code",
   "execution_count": 8,
   "id": "528e9d04-c5e1-40e6-820a-e792e5ced098",
   "metadata": {},
   "outputs": [],
   "source": [
    "from transformers import AutoTokenizer\n",
    "\n",
    "tokenizer1 = AutoTokenizer.from_pretrained('mistralai/Mistral-7B-Instruct-v0.2')"
   ]
  },
  {
   "cell_type": "code",
   "execution_count": 9,
   "id": "b228eea1-23ec-400e-b664-b64935c43519",
   "metadata": {
    "colab": {
     "base_uri": "https://localhost:8080/"
    },
    "id": "b228eea1-23ec-400e-b664-b64935c43519",
    "outputId": "7809d551-d32a-41ee-b2f9-33a93e0c0345"
   },
   "outputs": [
    {
     "name": "stderr",
     "output_type": "stream",
     "text": [
      "Unsloth 2025.1.7 patched 32 layers with 32 QKV layers, 32 O layers and 32 MLP layers.\n"
     ]
    }
   ],
   "source": [
    "# Prepare the model for fine tuning - update only some of the model's parameters\n",
    "model = FastLanguageModel.get_peft_model(\n",
    "    model,\n",
    "    r = 16,\n",
    "    target_modules = [\"q_proj\", \"k_proj\", \"v_proj\", \"o_proj\",\n",
    "                      \"gate_proj\", \"up_proj\", \"down_proj\",],\n",
    "    lora_alpha = 16,\n",
    "    lora_dropout = 0,\n",
    "    bias = \"none\",\n",
    "    use_gradient_checkpointing = \"unsloth\",\n",
    "    random_state = 3407,\n",
    "    use_rslora = False,\n",
    "    loftq_config = None,\n",
    ")"
   ]
  },
  {
   "cell_type": "markdown",
   "id": "fIrdjhITFE_o",
   "metadata": {
    "id": "fIrdjhITFE_o"
   },
   "source": [
    "# Data Preparation"
   ]
  },
  {
   "cell_type": "code",
   "execution_count": 10,
   "id": "e10cf534-ebd4-4802-94d5-4b612f562c1d",
   "metadata": {
    "colab": {
     "base_uri": "https://localhost:8080/",
     "height": 504
    },
    "id": "e10cf534-ebd4-4802-94d5-4b612f562c1d",
    "outputId": "55dd0d40-dca0-4437-ca45-032631adf07b"
   },
   "outputs": [
    {
     "data": {
      "text/html": [
       "<div>\n",
       "<style scoped>\n",
       "    .dataframe tbody tr th:only-of-type {\n",
       "        vertical-align: middle;\n",
       "    }\n",
       "\n",
       "    .dataframe tbody tr th {\n",
       "        vertical-align: top;\n",
       "    }\n",
       "\n",
       "    .dataframe thead th {\n",
       "        text-align: right;\n",
       "    }\n",
       "</style>\n",
       "<table border=\"1\" class=\"dataframe\">\n",
       "  <thead>\n",
       "    <tr style=\"text-align: right;\">\n",
       "      <th></th>\n",
       "      <th>movie_id</th>\n",
       "      <th>plot_summary</th>\n",
       "      <th>duration</th>\n",
       "      <th>genre</th>\n",
       "      <th>rating_x</th>\n",
       "      <th>release_date</th>\n",
       "      <th>plot_synopsis</th>\n",
       "      <th>review_date</th>\n",
       "      <th>user_id</th>\n",
       "      <th>is_spoiler</th>\n",
       "      <th>review_text</th>\n",
       "      <th>rating_y</th>\n",
       "      <th>review_summary</th>\n",
       "      <th>whole_review</th>\n",
       "    </tr>\n",
       "  </thead>\n",
       "  <tbody>\n",
       "    <tr>\n",
       "      <th>3941</th>\n",
       "      <td>tt1074638</td>\n",
       "      <td>When Bond's latest assignment goes gravely wro...</td>\n",
       "      <td>2h 23min</td>\n",
       "      <td>['Action', 'Adventure', 'Thriller']</td>\n",
       "      <td>7.8</td>\n",
       "      <td>2012-11-09</td>\n",
       "      <td>The film begins in Istanbul, where James Bond ...</td>\n",
       "      <td>22 November 2012</td>\n",
       "      <td>ur37965905</td>\n",
       "      <td>True</td>\n",
       "      <td>Mendes so meticulously crafts scenes to explor...</td>\n",
       "      <td>3</td>\n",
       "      <td>Batman NOT Bond</td>\n",
       "      <td>Mendes so meticulously crafts scenes to explor...</td>\n",
       "    </tr>\n",
       "    <tr>\n",
       "      <th>1897</th>\n",
       "      <td>tt0134847</td>\n",
       "      <td>The space transport vessel \"Hunter-Gratzner\" c...</td>\n",
       "      <td>1h 49min</td>\n",
       "      <td>['Horror', 'Sci-Fi']</td>\n",
       "      <td>7.1</td>\n",
       "      <td>2000-02-18</td>\n",
       "      <td>In the distant future in another part of the g...</td>\n",
       "      <td>31 July 2001</td>\n",
       "      <td>ur0762705</td>\n",
       "      <td>True</td>\n",
       "      <td>(Might contain minor spoilers.)Watched this on...</td>\n",
       "      <td>6</td>\n",
       "      <td>An OK Sci-Fi Horror Flick (if you're into that...</td>\n",
       "      <td>(Might contain minor spoilers.)Watched this on...</td>\n",
       "    </tr>\n",
       "    <tr>\n",
       "      <th>2229</th>\n",
       "      <td>tt0212346</td>\n",
       "      <td>Undercover FBI agent Gracie Hart shows no sign...</td>\n",
       "      <td>1h 49min</td>\n",
       "      <td>['Action', 'Comedy', 'Crime']</td>\n",
       "      <td>6.2</td>\n",
       "      <td>2000-12-22</td>\n",
       "      <td>The film opens at a school where a boy is pick...</td>\n",
       "      <td>2 July 2009</td>\n",
       "      <td>ur0819382</td>\n",
       "      <td>True</td>\n",
       "      <td>I guess \"unpretentious\" is as good a way as an...</td>\n",
       "      <td>6</td>\n",
       "      <td>Modest comedy.</td>\n",
       "      <td>I guess \"unpretentious\" is as good a way as an...</td>\n",
       "    </tr>\n",
       "    <tr>\n",
       "      <th>4299</th>\n",
       "      <td>tt1389072</td>\n",
       "      <td>\"Downsizing\" follows a kindly occupational the...</td>\n",
       "      <td>2h 15min</td>\n",
       "      <td>['Comedy', 'Drama', 'Sci-Fi']</td>\n",
       "      <td>5.8</td>\n",
       "      <td>2017-12-22</td>\n",
       "      <td>The film opens at a research facility in Berge...</td>\n",
       "      <td>22 December 2017</td>\n",
       "      <td>ur69980801</td>\n",
       "      <td>True</td>\n",
       "      <td>If the environment... or rather, The Environme...</td>\n",
       "      <td>1</td>\n",
       "      <td>Not What It Promises to Be as an Obvious Agend...</td>\n",
       "      <td>If the environment... or rather, The Environme...</td>\n",
       "    </tr>\n",
       "    <tr>\n",
       "      <th>2868</th>\n",
       "      <td>tt0364725</td>\n",
       "      <td>White Goodman (Ben Stiller) is the owner and f...</td>\n",
       "      <td>1h 32min</td>\n",
       "      <td>['Comedy', 'Sport']</td>\n",
       "      <td>6.7</td>\n",
       "      <td>2004-06-18</td>\n",
       "      <td>The movie opens with an infomercial for Globo ...</td>\n",
       "      <td>22 April 2014</td>\n",
       "      <td>ur6918917</td>\n",
       "      <td>True</td>\n",
       "      <td>Vince Vaughn, Ben Stiller, Christine Taylor, J...</td>\n",
       "      <td>6</td>\n",
       "      <td>\"Good Comedy!\"</td>\n",
       "      <td>Vince Vaughn, Ben Stiller, Christine Taylor, J...</td>\n",
       "    </tr>\n",
       "  </tbody>\n",
       "</table>\n",
       "</div>"
      ],
      "text/plain": [
       "       movie_id                                       plot_summary  duration  \\\n",
       "3941  tt1074638  When Bond's latest assignment goes gravely wro...  2h 23min   \n",
       "1897  tt0134847  The space transport vessel \"Hunter-Gratzner\" c...  1h 49min   \n",
       "2229  tt0212346  Undercover FBI agent Gracie Hart shows no sign...  1h 49min   \n",
       "4299  tt1389072  \"Downsizing\" follows a kindly occupational the...  2h 15min   \n",
       "2868  tt0364725  White Goodman (Ben Stiller) is the owner and f...  1h 32min   \n",
       "\n",
       "                                    genre  rating_x release_date  \\\n",
       "3941  ['Action', 'Adventure', 'Thriller']       7.8   2012-11-09   \n",
       "1897                 ['Horror', 'Sci-Fi']       7.1   2000-02-18   \n",
       "2229        ['Action', 'Comedy', 'Crime']       6.2   2000-12-22   \n",
       "4299        ['Comedy', 'Drama', 'Sci-Fi']       5.8   2017-12-22   \n",
       "2868                  ['Comedy', 'Sport']       6.7   2004-06-18   \n",
       "\n",
       "                                          plot_synopsis       review_date  \\\n",
       "3941  The film begins in Istanbul, where James Bond ...  22 November 2012   \n",
       "1897  In the distant future in another part of the g...      31 July 2001   \n",
       "2229  The film opens at a school where a boy is pick...       2 July 2009   \n",
       "4299  The film opens at a research facility in Berge...  22 December 2017   \n",
       "2868  The movie opens with an infomercial for Globo ...     22 April 2014   \n",
       "\n",
       "         user_id  is_spoiler  \\\n",
       "3941  ur37965905        True   \n",
       "1897   ur0762705        True   \n",
       "2229   ur0819382        True   \n",
       "4299  ur69980801        True   \n",
       "2868   ur6918917        True   \n",
       "\n",
       "                                            review_text  rating_y  \\\n",
       "3941  Mendes so meticulously crafts scenes to explor...         3   \n",
       "1897  (Might contain minor spoilers.)Watched this on...         6   \n",
       "2229  I guess \"unpretentious\" is as good a way as an...         6   \n",
       "4299  If the environment... or rather, The Environme...         1   \n",
       "2868  Vince Vaughn, Ben Stiller, Christine Taylor, J...         6   \n",
       "\n",
       "                                         review_summary  \\\n",
       "3941                                    Batman NOT Bond   \n",
       "1897  An OK Sci-Fi Horror Flick (if you're into that...   \n",
       "2229                                     Modest comedy.   \n",
       "4299  Not What It Promises to Be as an Obvious Agend...   \n",
       "2868                                     \"Good Comedy!\"   \n",
       "\n",
       "                                           whole_review  \n",
       "3941  Mendes so meticulously crafts scenes to explor...  \n",
       "1897  (Might contain minor spoilers.)Watched this on...  \n",
       "2229  I guess \"unpretentious\" is as good a way as an...  \n",
       "4299  If the environment... or rather, The Environme...  \n",
       "2868  Vince Vaughn, Ben Stiller, Christine Taylor, J...  "
      ]
     },
     "execution_count": 10,
     "metadata": {},
     "output_type": "execute_result"
    }
   ],
   "source": [
    "# Split our dataframe into train and test dataframes\n",
    "\n",
    "train_df_original, test_df_original = train_test_split(data, test_size=0.2, random_state=42)\n",
    "train_df_original.head()"
   ]
  },
  {
   "cell_type": "code",
   "execution_count": 11,
   "id": "OzraffT8th3Q",
   "metadata": {
    "id": "OzraffT8th3Q"
   },
   "outputs": [],
   "source": [
    "# Create copy of training and test data\n",
    "\n",
    "train_df = train_df_original.copy()\n",
    "test_df = test_df_original.copy()"
   ]
  },
  {
   "cell_type": "code",
   "execution_count": 12,
   "id": "Fxufq5SWmtNh",
   "metadata": {
    "colab": {
     "base_uri": "https://localhost:8080/"
    },
    "id": "Fxufq5SWmtNh",
    "outputId": "1a42bdec-278f-4366-9ac1-23fdd0e4c2e5"
   },
   "outputs": [
    {
     "data": {
      "text/plain": [
       "(4268, 14)"
      ]
     },
     "execution_count": 12,
     "metadata": {},
     "output_type": "execute_result"
    }
   ],
   "source": [
    "train_df.shape"
   ]
  },
  {
   "cell_type": "code",
   "execution_count": 13,
   "id": "LE9_TToGmuNX",
   "metadata": {
    "colab": {
     "base_uri": "https://localhost:8080/"
    },
    "id": "LE9_TToGmuNX",
    "outputId": "b876468e-d5bf-49a8-dcd7-58dea13a612c"
   },
   "outputs": [
    {
     "data": {
      "text/plain": [
       "(1067, 14)"
      ]
     },
     "execution_count": 13,
     "metadata": {},
     "output_type": "execute_result"
    }
   ],
   "source": [
    "test_df.shape"
   ]
  },
  {
   "cell_type": "code",
   "execution_count": 14,
   "id": "ZzDQa0RDmwew",
   "metadata": {
    "colab": {
     "base_uri": "https://localhost:8080/",
     "height": 178
    },
    "id": "ZzDQa0RDmwew",
    "outputId": "3654d972-f6b4-4be3-ee43-d01340fd5fff"
   },
   "outputs": [
    {
     "data": {
      "text/plain": [
       "is_spoiler\n",
       "True     2138\n",
       "False    2130\n",
       "Name: count, dtype: int64"
      ]
     },
     "execution_count": 14,
     "metadata": {},
     "output_type": "execute_result"
    }
   ],
   "source": [
    "train_df['is_spoiler'].value_counts()"
   ]
  },
  {
   "cell_type": "markdown",
   "id": "BLTYoY_umXqx",
   "metadata": {
    "id": "BLTYoY_umXqx"
   },
   "source": [
    "# Classify as spoiler/non-spoiler based only on the review"
   ]
  },
  {
   "cell_type": "markdown",
   "id": "3L8U6zdmD2Le",
   "metadata": {
    "id": "3L8U6zdmD2Le"
   },
   "source": [
    "We will use the Alpaca-style prompt for our classification problem."
   ]
  },
  {
   "cell_type": "code",
   "execution_count": 16,
   "id": "5cb25c8f-399e-4842-b8b6-69a4effd0cc8",
   "metadata": {},
   "outputs": [],
   "source": [
    "prompt_template = tokenizer1.apply_chat_template([\n",
    "    {'role': 'system', 'content': \"{}\"},\n",
    "    {'role': 'user', 'content': \"{}\"},\n",
    "    {'role': 'assistant', 'content': '{}'}\n",
    "], tokenize=False, add_generation_prompt=False)"
   ]
  },
  {
   "cell_type": "code",
   "execution_count": 17,
   "id": "MOr2nWK5j230",
   "metadata": {
    "colab": {
     "base_uri": "https://localhost:8080/"
    },
    "id": "MOr2nWK5j230",
    "outputId": "0a2ea94a-8b1f-4fda-a2e6-9ec1d6dff3bc"
   },
   "outputs": [
    {
     "name": "stdout",
     "output_type": "stream",
     "text": [
      "<s> [INST] {}\n",
      "\n",
      "{} [/INST] {}</s>\n"
     ]
    }
   ],
   "source": [
    "alpaca_prompt = prompt_template\n",
    "\n",
    "print(alpaca_prompt)"
   ]
  },
  {
   "cell_type": "code",
   "execution_count": 18,
   "id": "6gP5e_yXEoXj",
   "metadata": {
    "colab": {
     "base_uri": "https://localhost:8080/",
     "height": 49,
     "referenced_widgets": [
      "c7ac8023d9a94548996982b0b58ea242",
      "f01f349e6d8b462380db289eaf81de77",
      "21974f90ebf44dd8a364b7eb8b68fd58",
      "6b9dc6b203874d91bf5f04351149719e",
      "64d4abc846bc458e9790e9a88c1f4839",
      "7ec77b2b6fff4c3194365aadfd62cec1",
      "ff939a1d2f1c484a98a814399bc24f9f",
      "3b4b04ed3a27418cac5a2455f6a8a96f",
      "bb4f8b23b8ec4ea9b236e15098edcecc",
      "2d8135de3c4f4824977555a1a4ebb8c3",
      "215635f87efe4210870eb2c20bd81422"
     ]
    },
    "id": "6gP5e_yXEoXj",
    "outputId": "67493f3d-9b71-464a-f4d2-6a18480fb27c"
   },
   "outputs": [],
   "source": [
    "# Define prompt template\n",
    "# alpaca_prompt = \"\"\"### Instruction:\n",
    "# {}\n",
    "\n",
    "# ### Input:\n",
    "# {}\n",
    "\n",
    "# ### Response:\n",
    "# {}\"\"\"\n",
    "\n",
    "# Define a function that adds instruction, input, and output columns to our dataset\n",
    "def add_instruction(df):\n",
    "    df[\"instruction\"] = \"You are an experienced movie and series spoilers detector. Classify the following movie review as either 'spoiler' or 'non-spoiler'.\"\n",
    "    df[\"input\"] = df[\"whole_review\"]\n",
    "    df[\"output\"] = df[\"is_spoiler\"].apply(lambda x: \"spoiler\" if x else \"non-spoiler\")\n",
    "    return df\n",
    "\n",
    "# Add instruction, input and output columns to training and test dataframes\n",
    "train_df = add_instruction(train_df)\n",
    "#test_df = add_instruction(test_df)"
   ]
  },
  {
   "cell_type": "code",
   "execution_count": 19,
   "id": "d53f1768-e81e-496e-8eb1-42833e13f9e0",
   "metadata": {},
   "outputs": [
    {
     "data": {
      "text/plain": [
       "\"You are an experienced movie and series spoilers detector. Classify the following movie review as either 'spoiler' or 'non-spoiler'.\""
      ]
     },
     "execution_count": 19,
     "metadata": {},
     "output_type": "execute_result"
    }
   ],
   "source": [
    "train_df.iloc[0]['instruction']"
   ]
  },
  {
   "cell_type": "code",
   "execution_count": 20,
   "id": "6cd58606-9bec-4746-ad75-cf311802e08f",
   "metadata": {},
   "outputs": [
    {
     "data": {
      "text/plain": [
       "'Mendes so meticulously crafts scenes to explore story themes that he completely misses the spirit of Bond, kills the character, and delivers a soulless movie.THIS WILL BE FULL OF SPOILERS If there\\'s one scene that encapsulates this entire movie, it\\'s the scene where M is reciting pretentious poetry interspersed with action scenes involving Bond. The inter-cut action scenes are boring but that doesn\\'t matter. In Mendes hands, it\\'s the pretensions that are important. The action scenes are only there to add symbolic weight to the words of the poem -- or to be strung together as pieces of \"art\" and paraded as a Bond movie. Ironically, there\\'s no scene of classy performance art like we normally get in a Bond movie (we DO get it in the latest Mission Impossible movie). It\\'s \"Skyfall\" itself that gets passed-off as \"classy\" performance art.It\\'s as though Mendes felt that, having delivered a good Bond mini-movie in the pre-credit sequence, he had fulfilled his obligation to Bond fans and was now free create a personal art project (merely checking some Bond boxes along the way) -- and an overly serious and boring art project at that.As for the plot of \"Skyfall\", there\\'s not a SINGLE scene in this entire movie that makes any sense what-so-ever from a plot perspective. John Logan, who wrote the brilliant Hugo, must have simply been brought-in to add wit and story themes to the existing script -- not concerning himself at all about the, apparently, necessary plot faults. Yes, I can only think the producers believe major plot faults to be NECESSARY to a Bond movie as they refuse to make the movies without these faults. With the near total lack of truly Bondian action set-pieces, all these major plot faults, simply and unfortunately, cannot be ignored.For those that think I\\'ve overly harped on the plot faults, consider... This Bond movie had pretensions of being taken as a serious thriller. It has an academy award winning director at its helm and is filled with top-tier actors and actresses. It has a celebrated writing team. The producers have publicly bragged about this script and all the time (YEARS) that they had to perfect it. All this and they give us a story no more cohesive than that of \"Moonraker\"(and, amazingly, even less original) -- but with none of that movie\\'s stunts, gadgets, or special effects to hide the craters. It\\'s enough to make one forget one\\'s complaints about double-taking pigeons, gondola-car hybrids, and henchman who fall in love with teenage girls half their height.THEN, there\\'s the \"a storm is coming\" line. PLEASE. I can\\'t begin to count the number of times I\\'ve heard that line used as metaphor in a movie but I think the first time was WAY back in the first Terminator movie. Logan, Mendes, and Craig should ALL be flogged for this. THIS is art?! This is our 50 year anniversary gift for all our support over the years -- and the new formula!? Old formula -- the plot and story must never make sense and we\\'ll have great panache-laden action set-pieces to hide the fact. New formula -- the plot and story must never make sense and we\\'ll have well-acted \"art\" scenes to hide the fact -- and the action set-pieces are to be thrown-out (the baby with the bath water).I appreciate the great performances, theme explorations, artistic devices, drama and cinematography. I really do. These are needed additions to the Bond series. However, if \"Skyfall\" is supposed to be the new direction of Bond -- all the dumb story and plot faults we\\'ve come to expect of the franchise but none of the special effects, set-pieces, thrills, stunts, gadgets, panache and fun -- the series will never make it close to another 50 years.Happy Birthday anyway Mr. Bond. You may have done nothing for us lately but we appreciate your cumulative service. Now, I\\'ll stop \"expecting you\" as you\\'ve now become, yourself, an \"uninvited guest\". As I said, you\\'ve committed an unforgivable sin. You bored me.James Bond is Dead (with a capital \"D\"). Long Live Mission Impossible.Batman NOT Bond'"
      ]
     },
     "execution_count": 20,
     "metadata": {},
     "output_type": "execute_result"
    }
   ],
   "source": [
    "train_df.iloc[0]['input']"
   ]
  },
  {
   "cell_type": "code",
   "execution_count": 21,
   "id": "f6e5fbd2-0e7c-40b1-a8df-2eef617ef62e",
   "metadata": {},
   "outputs": [
    {
     "data": {
      "text/plain": [
       "'spoiler'"
      ]
     },
     "execution_count": 21,
     "metadata": {},
     "output_type": "execute_result"
    }
   ],
   "source": [
    "train_df.iloc[0]['output']"
   ]
  },
  {
   "cell_type": "code",
   "execution_count": 22,
   "id": "108544f6-3d46-4695-a966-fa2885b688cb",
   "metadata": {},
   "outputs": [
    {
     "data": {
      "text/plain": [
       "'<s> [INST] You are an experienced movie and series spoilers detector. Classify the following movie review as either \\'spoiler\\' or \\'non-spoiler\\'.\\n\\nMendes so meticulously crafts scenes to explore story themes that he completely misses the spirit of Bond, kills the character, and delivers a soulless movie.THIS WILL BE FULL OF SPOILERS If there\\'s one scene that encapsulates this entire movie, it\\'s the scene where M is reciting pretentious poetry interspersed with action scenes involving Bond. The inter-cut action scenes are boring but that doesn\\'t matter. In Mendes hands, it\\'s the pretensions that are important. The action scenes are only there to add symbolic weight to the words of the poem -- or to be strung together as pieces of \"art\" and paraded as a Bond movie. Ironically, there\\'s no scene of classy performance art like we normally get in a Bond movie (we DO get it in the latest Mission Impossible movie). It\\'s \"Skyfall\" itself that gets passed-off as \"classy\" performance art.It\\'s as though Mendes felt that, having delivered a good Bond mini-movie in the pre-credit sequence, he had fulfilled his obligation to Bond fans and was now free create a personal art project (merely checking some Bond boxes along the way) -- and an overly serious and boring art project at that.As for the plot of \"Skyfall\", there\\'s not a SINGLE scene in this entire movie that makes any sense what-so-ever from a plot perspective. John Logan, who wrote the brilliant Hugo, must have simply been brought-in to add wit and story themes to the existing script -- not concerning himself at all about the, apparently, necessary plot faults. Yes, I can only think the producers believe major plot faults to be NECESSARY to a Bond movie as they refuse to make the movies without these faults. With the near total lack of truly Bondian action set-pieces, all these major plot faults, simply and unfortunately, cannot be ignored.For those that think I\\'ve overly harped on the plot faults, consider... This Bond movie had pretensions of being taken as a serious thriller. It has an academy award winning director at its helm and is filled with top-tier actors and actresses. It has a celebrated writing team. The producers have publicly bragged about this script and all the time (YEARS) that they had to perfect it. All this and they give us a story no more cohesive than that of \"Moonraker\"(and, amazingly, even less original) -- but with none of that movie\\'s stunts, gadgets, or special effects to hide the craters. It\\'s enough to make one forget one\\'s complaints about double-taking pigeons, gondola-car hybrids, and henchman who fall in love with teenage girls half their height.THEN, there\\'s the \"a storm is coming\" line. PLEASE. I can\\'t begin to count the number of times I\\'ve heard that line used as metaphor in a movie but I think the first time was WAY back in the first Terminator movie. Logan, Mendes, and Craig should ALL be flogged for this. THIS is art?! This is our 50 year anniversary gift for all our support over the years -- and the new formula!? Old formula -- the plot and story must never make sense and we\\'ll have great panache-laden action set-pieces to hide the fact. New formula -- the plot and story must never make sense and we\\'ll have well-acted \"art\" scenes to hide the fact -- and the action set-pieces are to be thrown-out (the baby with the bath water).I appreciate the great performances, theme explorations, artistic devices, drama and cinematography. I really do. These are needed additions to the Bond series. However, if \"Skyfall\" is supposed to be the new direction of Bond -- all the dumb story and plot faults we\\'ve come to expect of the franchise but none of the special effects, set-pieces, thrills, stunts, gadgets, panache and fun -- the series will never make it close to another 50 years.Happy Birthday anyway Mr. Bond. You may have done nothing for us lately but we appreciate your cumulative service. Now, I\\'ll stop \"expecting you\" as you\\'ve now become, yourself, an \"uninvited guest\". As I said, you\\'ve committed an unforgivable sin. You bored me.James Bond is Dead (with a capital \"D\"). Long Live Mission Impossible.Batman NOT Bond [/INST] spoiler</s>'"
      ]
     },
     "execution_count": 22,
     "metadata": {},
     "output_type": "execute_result"
    }
   ],
   "source": [
    "alpaca_prompt.format(\n",
    "    train_df.iloc[0]['instruction'],\n",
    "    train_df.iloc[0]['input'],\n",
    "    train_df.iloc[0]['output']\n",
    ")"
   ]
  },
  {
   "cell_type": "code",
   "execution_count": 23,
   "id": "f32da1fb-cfdc-4ff1-8af4-c8cdd9910d91",
   "metadata": {},
   "outputs": [
    {
     "data": {
      "application/vnd.jupyter.widget-view+json": {
       "model_id": "bafc660106ab43aa89c80c23f97a78ab",
       "version_major": 2,
       "version_minor": 0
      },
      "text/plain": [
       "Map:   0%|          | 0/4268 [00:00<?, ? examples/s]"
      ]
     },
     "metadata": {},
     "output_type": "display_data"
    }
   ],
   "source": [
    "\n",
    "# Convert training and test dataframes to HuggingFace Datasets\n",
    "from datasets import Dataset\n",
    "train_dataset = Dataset.from_pandas(train_df)\n",
    "#test_dataset = Dataset.from_pandas(test_df)\n",
    "\n",
    "EOS_TOKEN = tokenizer.eos_token\n",
    "# Function that converts dataset to instruction-style using the alpaca_prompt\n",
    "def formatting_prompts_func(examples):\n",
    "    instructions = examples[\"instruction\"]\n",
    "    inputs       = examples[\"input\"]\n",
    "    outputs      = examples[\"output\"]\n",
    "    texts = []\n",
    "    for instruction, input, output in zip(instructions, inputs, outputs):\n",
    "\n",
    "        # text = alpaca_prompt.format(instruction, input, output) + EOS_TOKEN\n",
    "        text = alpaca_prompt.format(instruction, input, output)\n",
    "        texts.append(text)\n",
    "    return { \"text\" : texts}\n",
    "pass\n",
    "\n",
    "# Convert training and test dataset to instruction-style\n",
    "train_dataset = train_dataset.map(formatting_prompts_func, batched = True,)\n",
    "#test_dataset = test_dataset.map(formatting_prompts_func, batched = True,)"
   ]
  },
  {
   "cell_type": "code",
   "execution_count": 24,
   "id": "gVkj1Gh8Mt1W",
   "metadata": {
    "colab": {
     "base_uri": "https://localhost:8080/",
     "height": 573
    },
    "id": "gVkj1Gh8Mt1W",
    "outputId": "05c5ac17-bd22-45d1-9581-3775dceefb39"
   },
   "outputs": [
    {
     "data": {
      "text/html": [
       "<div>\n",
       "<style scoped>\n",
       "    .dataframe tbody tr th:only-of-type {\n",
       "        vertical-align: middle;\n",
       "    }\n",
       "\n",
       "    .dataframe tbody tr th {\n",
       "        vertical-align: top;\n",
       "    }\n",
       "\n",
       "    .dataframe thead th {\n",
       "        text-align: right;\n",
       "    }\n",
       "</style>\n",
       "<table border=\"1\" class=\"dataframe\">\n",
       "  <thead>\n",
       "    <tr style=\"text-align: right;\">\n",
       "      <th></th>\n",
       "      <th>movie_id</th>\n",
       "      <th>plot_summary</th>\n",
       "      <th>duration</th>\n",
       "      <th>genre</th>\n",
       "      <th>rating_x</th>\n",
       "      <th>release_date</th>\n",
       "      <th>plot_synopsis</th>\n",
       "      <th>review_date</th>\n",
       "      <th>user_id</th>\n",
       "      <th>is_spoiler</th>\n",
       "      <th>review_text</th>\n",
       "      <th>rating_y</th>\n",
       "      <th>review_summary</th>\n",
       "      <th>whole_review</th>\n",
       "      <th>instruction</th>\n",
       "      <th>input</th>\n",
       "      <th>output</th>\n",
       "      <th>__index_level_0__</th>\n",
       "      <th>text</th>\n",
       "    </tr>\n",
       "  </thead>\n",
       "  <tbody>\n",
       "    <tr>\n",
       "      <th>0</th>\n",
       "      <td>tt1074638</td>\n",
       "      <td>When Bond's latest assignment goes gravely wro...</td>\n",
       "      <td>2h 23min</td>\n",
       "      <td>['Action', 'Adventure', 'Thriller']</td>\n",
       "      <td>7.8</td>\n",
       "      <td>2012-11-09</td>\n",
       "      <td>The film begins in Istanbul, where James Bond ...</td>\n",
       "      <td>22 November 2012</td>\n",
       "      <td>ur37965905</td>\n",
       "      <td>True</td>\n",
       "      <td>Mendes so meticulously crafts scenes to explor...</td>\n",
       "      <td>3</td>\n",
       "      <td>Batman NOT Bond</td>\n",
       "      <td>Mendes so meticulously crafts scenes to explor...</td>\n",
       "      <td>You are an experienced movie and series spoile...</td>\n",
       "      <td>Mendes so meticulously crafts scenes to explor...</td>\n",
       "      <td>spoiler</td>\n",
       "      <td>3941</td>\n",
       "      <td>&lt;s&gt; [INST] You are an experienced movie and se...</td>\n",
       "    </tr>\n",
       "    <tr>\n",
       "      <th>1</th>\n",
       "      <td>tt0134847</td>\n",
       "      <td>The space transport vessel \"Hunter-Gratzner\" c...</td>\n",
       "      <td>1h 49min</td>\n",
       "      <td>['Horror', 'Sci-Fi']</td>\n",
       "      <td>7.1</td>\n",
       "      <td>2000-02-18</td>\n",
       "      <td>In the distant future in another part of the g...</td>\n",
       "      <td>31 July 2001</td>\n",
       "      <td>ur0762705</td>\n",
       "      <td>True</td>\n",
       "      <td>(Might contain minor spoilers.)Watched this on...</td>\n",
       "      <td>6</td>\n",
       "      <td>An OK Sci-Fi Horror Flick (if you're into that...</td>\n",
       "      <td>(Might contain minor spoilers.)Watched this on...</td>\n",
       "      <td>You are an experienced movie and series spoile...</td>\n",
       "      <td>(Might contain minor spoilers.)Watched this on...</td>\n",
       "      <td>spoiler</td>\n",
       "      <td>1897</td>\n",
       "      <td>&lt;s&gt; [INST] You are an experienced movie and se...</td>\n",
       "    </tr>\n",
       "    <tr>\n",
       "      <th>2</th>\n",
       "      <td>tt0212346</td>\n",
       "      <td>Undercover FBI agent Gracie Hart shows no sign...</td>\n",
       "      <td>1h 49min</td>\n",
       "      <td>['Action', 'Comedy', 'Crime']</td>\n",
       "      <td>6.2</td>\n",
       "      <td>2000-12-22</td>\n",
       "      <td>The film opens at a school where a boy is pick...</td>\n",
       "      <td>2 July 2009</td>\n",
       "      <td>ur0819382</td>\n",
       "      <td>True</td>\n",
       "      <td>I guess \"unpretentious\" is as good a way as an...</td>\n",
       "      <td>6</td>\n",
       "      <td>Modest comedy.</td>\n",
       "      <td>I guess \"unpretentious\" is as good a way as an...</td>\n",
       "      <td>You are an experienced movie and series spoile...</td>\n",
       "      <td>I guess \"unpretentious\" is as good a way as an...</td>\n",
       "      <td>spoiler</td>\n",
       "      <td>2229</td>\n",
       "      <td>&lt;s&gt; [INST] You are an experienced movie and se...</td>\n",
       "    </tr>\n",
       "    <tr>\n",
       "      <th>3</th>\n",
       "      <td>tt1389072</td>\n",
       "      <td>\"Downsizing\" follows a kindly occupational the...</td>\n",
       "      <td>2h 15min</td>\n",
       "      <td>['Comedy', 'Drama', 'Sci-Fi']</td>\n",
       "      <td>5.8</td>\n",
       "      <td>2017-12-22</td>\n",
       "      <td>The film opens at a research facility in Berge...</td>\n",
       "      <td>22 December 2017</td>\n",
       "      <td>ur69980801</td>\n",
       "      <td>True</td>\n",
       "      <td>If the environment... or rather, The Environme...</td>\n",
       "      <td>1</td>\n",
       "      <td>Not What It Promises to Be as an Obvious Agend...</td>\n",
       "      <td>If the environment... or rather, The Environme...</td>\n",
       "      <td>You are an experienced movie and series spoile...</td>\n",
       "      <td>If the environment... or rather, The Environme...</td>\n",
       "      <td>spoiler</td>\n",
       "      <td>4299</td>\n",
       "      <td>&lt;s&gt; [INST] You are an experienced movie and se...</td>\n",
       "    </tr>\n",
       "    <tr>\n",
       "      <th>4</th>\n",
       "      <td>tt0364725</td>\n",
       "      <td>White Goodman (Ben Stiller) is the owner and f...</td>\n",
       "      <td>1h 32min</td>\n",
       "      <td>['Comedy', 'Sport']</td>\n",
       "      <td>6.7</td>\n",
       "      <td>2004-06-18</td>\n",
       "      <td>The movie opens with an infomercial for Globo ...</td>\n",
       "      <td>22 April 2014</td>\n",
       "      <td>ur6918917</td>\n",
       "      <td>True</td>\n",
       "      <td>Vince Vaughn, Ben Stiller, Christine Taylor, J...</td>\n",
       "      <td>6</td>\n",
       "      <td>\"Good Comedy!\"</td>\n",
       "      <td>Vince Vaughn, Ben Stiller, Christine Taylor, J...</td>\n",
       "      <td>You are an experienced movie and series spoile...</td>\n",
       "      <td>Vince Vaughn, Ben Stiller, Christine Taylor, J...</td>\n",
       "      <td>spoiler</td>\n",
       "      <td>2868</td>\n",
       "      <td>&lt;s&gt; [INST] You are an experienced movie and se...</td>\n",
       "    </tr>\n",
       "  </tbody>\n",
       "</table>\n",
       "</div>"
      ],
      "text/plain": [
       "    movie_id                                       plot_summary  duration  \\\n",
       "0  tt1074638  When Bond's latest assignment goes gravely wro...  2h 23min   \n",
       "1  tt0134847  The space transport vessel \"Hunter-Gratzner\" c...  1h 49min   \n",
       "2  tt0212346  Undercover FBI agent Gracie Hart shows no sign...  1h 49min   \n",
       "3  tt1389072  \"Downsizing\" follows a kindly occupational the...  2h 15min   \n",
       "4  tt0364725  White Goodman (Ben Stiller) is the owner and f...  1h 32min   \n",
       "\n",
       "                                 genre  rating_x release_date  \\\n",
       "0  ['Action', 'Adventure', 'Thriller']       7.8   2012-11-09   \n",
       "1                 ['Horror', 'Sci-Fi']       7.1   2000-02-18   \n",
       "2        ['Action', 'Comedy', 'Crime']       6.2   2000-12-22   \n",
       "3        ['Comedy', 'Drama', 'Sci-Fi']       5.8   2017-12-22   \n",
       "4                  ['Comedy', 'Sport']       6.7   2004-06-18   \n",
       "\n",
       "                                       plot_synopsis       review_date  \\\n",
       "0  The film begins in Istanbul, where James Bond ...  22 November 2012   \n",
       "1  In the distant future in another part of the g...      31 July 2001   \n",
       "2  The film opens at a school where a boy is pick...       2 July 2009   \n",
       "3  The film opens at a research facility in Berge...  22 December 2017   \n",
       "4  The movie opens with an infomercial for Globo ...     22 April 2014   \n",
       "\n",
       "      user_id  is_spoiler                                        review_text  \\\n",
       "0  ur37965905        True  Mendes so meticulously crafts scenes to explor...   \n",
       "1   ur0762705        True  (Might contain minor spoilers.)Watched this on...   \n",
       "2   ur0819382        True  I guess \"unpretentious\" is as good a way as an...   \n",
       "3  ur69980801        True  If the environment... or rather, The Environme...   \n",
       "4   ur6918917        True  Vince Vaughn, Ben Stiller, Christine Taylor, J...   \n",
       "\n",
       "   rating_y                                     review_summary  \\\n",
       "0         3                                    Batman NOT Bond   \n",
       "1         6  An OK Sci-Fi Horror Flick (if you're into that...   \n",
       "2         6                                     Modest comedy.   \n",
       "3         1  Not What It Promises to Be as an Obvious Agend...   \n",
       "4         6                                     \"Good Comedy!\"   \n",
       "\n",
       "                                        whole_review  \\\n",
       "0  Mendes so meticulously crafts scenes to explor...   \n",
       "1  (Might contain minor spoilers.)Watched this on...   \n",
       "2  I guess \"unpretentious\" is as good a way as an...   \n",
       "3  If the environment... or rather, The Environme...   \n",
       "4  Vince Vaughn, Ben Stiller, Christine Taylor, J...   \n",
       "\n",
       "                                         instruction  \\\n",
       "0  You are an experienced movie and series spoile...   \n",
       "1  You are an experienced movie and series spoile...   \n",
       "2  You are an experienced movie and series spoile...   \n",
       "3  You are an experienced movie and series spoile...   \n",
       "4  You are an experienced movie and series spoile...   \n",
       "\n",
       "                                               input   output  \\\n",
       "0  Mendes so meticulously crafts scenes to explor...  spoiler   \n",
       "1  (Might contain minor spoilers.)Watched this on...  spoiler   \n",
       "2  I guess \"unpretentious\" is as good a way as an...  spoiler   \n",
       "3  If the environment... or rather, The Environme...  spoiler   \n",
       "4  Vince Vaughn, Ben Stiller, Christine Taylor, J...  spoiler   \n",
       "\n",
       "   __index_level_0__                                               text  \n",
       "0               3941  <s> [INST] You are an experienced movie and se...  \n",
       "1               1897  <s> [INST] You are an experienced movie and se...  \n",
       "2               2229  <s> [INST] You are an experienced movie and se...  \n",
       "3               4299  <s> [INST] You are an experienced movie and se...  \n",
       "4               2868  <s> [INST] You are an experienced movie and se...  "
      ]
     },
     "execution_count": 24,
     "metadata": {},
     "output_type": "execute_result"
    }
   ],
   "source": [
    "# Just to view the extra columns that we have added\n",
    "train_dataset.to_pandas().head()"
   ]
  },
  {
   "cell_type": "code",
   "execution_count": 25,
   "id": "2ef76476-f9fe-4d17-b05f-bf0c16ff7a8c",
   "metadata": {
    "colab": {
     "base_uri": "https://localhost:8080/"
    },
    "id": "2ef76476-f9fe-4d17-b05f-bf0c16ff7a8c",
    "outputId": "82a1a06b-5d4b-4e75-f88f-f20fe6e65c3e"
   },
   "outputs": [
    {
     "name": "stdout",
     "output_type": "stream",
     "text": [
      "<s> [INST] You are an experienced movie and series spoilers detector. Classify the following movie review as either 'spoiler' or 'non-spoiler'.\n",
      "\n",
      "Mendes so meticulously crafts scenes to explore story themes that he completely misses the spirit of Bond, kills the character, and delivers a soulless movie.THIS WILL BE FULL OF SPOILERS If there's one scene that encapsulates this entire movie, it's the scene where M is reciting pretentious poetry interspersed with action scenes involving Bond. The inter-cut action scenes are boring but that doesn't matter. In Mendes hands, it's the pretensions that are important. The action scenes are only there to add symbolic weight to the words of the poem -- or to be strung together as pieces of \"art\" and paraded as a Bond movie. Ironically, there's no scene of classy performance art like we normally get in a Bond movie (we DO get it in the latest Mission Impossible movie). It's \"Skyfall\" itself that gets passed-off as \"classy\" performance art.It's as though Mendes felt that, having delivered a good Bond mini-movie in the pre-credit sequence, he had fulfilled his obligation to Bond fans and was now free create a personal art project (merely checking some Bond boxes along the way) -- and an overly serious and boring art project at that.As for the plot of \"Skyfall\", there's not a SINGLE scene in this entire movie that makes any sense what-so-ever from a plot perspective. John Logan, who wrote the brilliant Hugo, must have simply been brought-in to add wit and story themes to the existing script -- not concerning himself at all about the, apparently, necessary plot faults. Yes, I can only think the producers believe major plot faults to be NECESSARY to a Bond movie as they refuse to make the movies without these faults. With the near total lack of truly Bondian action set-pieces, all these major plot faults, simply and unfortunately, cannot be ignored.For those that think I've overly harped on the plot faults, consider... This Bond movie had pretensions of being taken as a serious thriller. It has an academy award winning director at its helm and is filled with top-tier actors and actresses. It has a celebrated writing team. The producers have publicly bragged about this script and all the time (YEARS) that they had to perfect it. All this and they give us a story no more cohesive than that of \"Moonraker\"(and, amazingly, even less original) -- but with none of that movie's stunts, gadgets, or special effects to hide the craters. It's enough to make one forget one's complaints about double-taking pigeons, gondola-car hybrids, and henchman who fall in love with teenage girls half their height.THEN, there's the \"a storm is coming\" line. PLEASE. I can't begin to count the number of times I've heard that line used as metaphor in a movie but I think the first time was WAY back in the first Terminator movie. Logan, Mendes, and Craig should ALL be flogged for this. THIS is art?! This is our 50 year anniversary gift for all our support over the years -- and the new formula!? Old formula -- the plot and story must never make sense and we'll have great panache-laden action set-pieces to hide the fact. New formula -- the plot and story must never make sense and we'll have well-acted \"art\" scenes to hide the fact -- and the action set-pieces are to be thrown-out (the baby with the bath water).I appreciate the great performances, theme explorations, artistic devices, drama and cinematography. I really do. These are needed additions to the Bond series. However, if \"Skyfall\" is supposed to be the new direction of Bond -- all the dumb story and plot faults we've come to expect of the franchise but none of the special effects, set-pieces, thrills, stunts, gadgets, panache and fun -- the series will never make it close to another 50 years.Happy Birthday anyway Mr. Bond. You may have done nothing for us lately but we appreciate your cumulative service. Now, I'll stop \"expecting you\" as you've now become, yourself, an \"uninvited guest\". As I said, you've committed an unforgivable sin. You bored me.James Bond is Dead (with a capital \"D\"). Long Live Mission Impossible.Batman NOT Bond [/INST] spoiler</s>\n"
     ]
    }
   ],
   "source": [
    "# View text for the first review\n",
    "print(train_dataset[0][\"text\"])"
   ]
  },
  {
   "cell_type": "markdown",
   "id": "o3lbrE8Xrdcr",
   "metadata": {
    "id": "o3lbrE8Xrdcr"
   },
   "source": [
    "# Train the Model"
   ]
  },
  {
   "cell_type": "markdown",
   "id": "PDYlN9wiNk_m",
   "metadata": {
    "id": "PDYlN9wiNk_m"
   },
   "source": [
    "We will use Huggingface TRL's `SFTTrainer`. We set `num_train_epochs=1` for a full run."
   ]
  },
  {
   "cell_type": "code",
   "execution_count": 26,
   "id": "y5oLvLwkNym_",
   "metadata": {
    "colab": {
     "base_uri": "https://localhost:8080/",
     "height": 49,
     "referenced_widgets": [
      "83a56aaddf8d4f129d3c9dc3328fd4c6",
      "9e14cccb03204602981c36dcb1a20814",
      "2ce27c8e0ebf4e7aa27c9ec4e70a5da7",
      "81f2e0f2e5d8418a963d8e1fc1ffa72d",
      "9e53707dfe4e41ad8d0ea4efae94c733",
      "d9de3b5a74ae4b80a82747f79e11a3fd",
      "67f2e5f4eadc49bb986cf2ba1663af38",
      "4ef2ca971b4a4dcf95faf60773a22812",
      "541c2c71e9a64df69f2cbe1228788e0a",
      "51a7ad1f8e194da9a982df5baa7730be",
      "54332062bf214126ac28f84ff2893718"
     ]
    },
    "id": "y5oLvLwkNym_",
    "outputId": "ef577d95-aa88-43a4-e0a1-709099403346"
   },
   "outputs": [
    {
     "data": {
      "application/vnd.jupyter.widget-view+json": {
       "model_id": "fc9d70293d5545e2ad6c28cd30d99211",
       "version_major": 2,
       "version_minor": 0
      },
      "text/plain": [
       "Map (num_proc=2):   0%|          | 0/4268 [00:00<?, ? examples/s]"
      ]
     },
     "metadata": {},
     "output_type": "display_data"
    },
    {
     "name": "stderr",
     "output_type": "stream",
     "text": [
      "No label_names provided for model class `PeftModelForCausalLM`. Since `PeftModel` hides base models input arguments, if label_names is not given, label_names can't be set automatically within `Trainer`. Note that empty label_names list will be used instead.\n"
     ]
    }
   ],
   "source": [
    "from trl import SFTTrainer\n",
    "from transformers import TrainingArguments\n",
    "from unsloth import is_bfloat16_supported\n",
    "\n",
    "trainer = SFTTrainer(\n",
    "    model = model,\n",
    "    tokenizer = tokenizer,\n",
    "    train_dataset = train_dataset,\n",
    "    dataset_text_field = \"text\",\n",
    "    max_seq_length = max_seq_length,\n",
    "    dataset_num_proc = 2,\n",
    "    packing = False, # Can make training 5x faster for short sequences.\n",
    "    args = TrainingArguments(\n",
    "        per_device_train_batch_size = 2,\n",
    "        gradient_accumulation_steps = 4,\n",
    "        warmup_steps = 5,\n",
    "        num_train_epochs = 1,\n",
    "        #max_steps = -1,\n",
    "        #max_steps = 60, # Set num_train_epochs = 1 for full training runs\n",
    "        learning_rate = 2e-4,\n",
    "        fp16 = not is_bfloat16_supported(),\n",
    "        bf16 = is_bfloat16_supported(),\n",
    "        logging_steps = 1,\n",
    "        optim = \"adamw_8bit\",\n",
    "        weight_decay = 0.01,\n",
    "        lr_scheduler_type = \"linear\",\n",
    "        seed = 3407,\n",
    "        output_dir = \"outputs\",\n",
    "    ),\n",
    ")"
   ]
  },
  {
   "cell_type": "code",
   "execution_count": 27,
   "id": "mKWKyeIYOfs4",
   "metadata": {
    "colab": {
     "base_uri": "https://localhost:8080/"
    },
    "id": "mKWKyeIYOfs4",
    "outputId": "8a862ae4-6959-4ed0-e877-089e26c7fa55"
   },
   "outputs": [
    {
     "name": "stdout",
     "output_type": "stream",
     "text": [
      "GPU = Tesla T4. Max memory = 14.581 GB.\n",
      "4.02 GB of memory reserved.\n"
     ]
    }
   ],
   "source": [
    "#@title Show current memory stats\n",
    "gpu_stats = torch.cuda.get_device_properties(0)\n",
    "start_gpu_memory = round(torch.cuda.max_memory_reserved() / 1024 / 1024 / 1024, 3)\n",
    "max_memory = round(gpu_stats.total_memory / 1024 / 1024 / 1024, 3)\n",
    "print(f\"GPU = {gpu_stats.name}. Max memory = {max_memory} GB.\")\n",
    "print(f\"{start_gpu_memory} GB of memory reserved.\")"
   ]
  },
  {
   "cell_type": "code",
   "execution_count": null,
   "id": "da4492fe-801e-43b9-9234-a2635c079af6",
   "metadata": {
    "colab": {
     "base_uri": "https://localhost:8080/",
     "height": 597
    },
    "id": "da4492fe-801e-43b9-9234-a2635c079af6",
    "outputId": "4ccd112e-3345-4576-e7d1-f5a3d0402de7"
   },
   "outputs": [
    {
     "name": "stderr",
     "output_type": "stream",
     "text": [
      "==((====))==  Unsloth - 2x faster free finetuning | Num GPUs = 1\n",
      "   \\\\   /|    Num examples = 4,268 | Num Epochs = 1\n",
      "O^O/ \\_/ \\    Batch size per device = 2 | Gradient Accumulation steps = 4\n",
      "\\        /    Total batch size = 8 | Total steps = 533\n",
      " \"-____-\"     Number of trainable parameters = 41,943,040\n",
      "\u001b[34m\u001b[1mwandb\u001b[0m: \u001b[33mWARNING\u001b[0m The `run_name` is currently set to the same value as `TrainingArguments.output_dir`. If this was not intended, please specify a different run name by setting the `TrainingArguments.run_name` parameter.\n",
      "Failed to detect the name of this notebook, you can set it manually with the WANDB_NOTEBOOK_NAME environment variable to enable code saving.\n"
     ]
    },
    {
     "data": {
      "text/html": [
       "\n",
       "    <div>\n",
       "      \n",
       "      <progress value='12' max='533' style='width:300px; height:20px; vertical-align: middle;'></progress>\n",
       "      [ 12/533 02:27 < 2:08:30, 0.07 it/s, Epoch 0.02/1]\n",
       "    </div>\n",
       "    <table border=\"1\" class=\"dataframe\">\n",
       "  <thead>\n",
       " <tr style=\"text-align: left;\">\n",
       "      <th>Step</th>\n",
       "      <th>Training Loss</th>\n",
       "    </tr>\n",
       "  </thead>\n",
       "  <tbody>\n",
       "    <tr>\n",
       "      <td>1</td>\n",
       "      <td>2.269700</td>\n",
       "    </tr>\n",
       "    <tr>\n",
       "      <td>2</td>\n",
       "      <td>2.430000</td>\n",
       "    </tr>\n",
       "    <tr>\n",
       "      <td>3</td>\n",
       "      <td>2.538500</td>\n",
       "    </tr>\n",
       "    <tr>\n",
       "      <td>4</td>\n",
       "      <td>2.433300</td>\n",
       "    </tr>\n",
       "    <tr>\n",
       "      <td>5</td>\n",
       "      <td>2.432500</td>\n",
       "    </tr>\n",
       "    <tr>\n",
       "      <td>6</td>\n",
       "      <td>2.338400</td>\n",
       "    </tr>\n",
       "    <tr>\n",
       "      <td>7</td>\n",
       "      <td>2.254200</td>\n",
       "    </tr>\n",
       "    <tr>\n",
       "      <td>8</td>\n",
       "      <td>2.017200</td>\n",
       "    </tr>\n",
       "    <tr>\n",
       "      <td>9</td>\n",
       "      <td>2.265400</td>\n",
       "    </tr>\n",
       "    <tr>\n",
       "      <td>10</td>\n",
       "      <td>2.192900</td>\n",
       "    </tr>\n",
       "  </tbody>\n",
       "</table><p>"
      ],
      "text/plain": [
       "<IPython.core.display.HTML object>"
      ]
     },
     "metadata": {},
     "output_type": "display_data"
    }
   ],
   "source": [
    "# To disable all wandb logging and avoid API prompts\n",
    "import os\n",
    "os.environ[\"WANDB_MODE\"] = \"disabled\"\n",
    "\n",
    "# Train the model (fine-tune) and save training statistics into trainer_stats\n",
    "trainer_stats = trainer.train()"
   ]
  },
  {
   "cell_type": "code",
   "execution_count": 30,
   "id": "iZJY4up8T4Dt",
   "metadata": {
    "colab": {
     "base_uri": "https://localhost:8080/"
    },
    "id": "iZJY4up8T4Dt",
    "outputId": "e1dc0c1e-54c5-4660-c990-ad2438eea1e4"
   },
   "outputs": [
    {
     "name": "stdout",
     "output_type": "stream",
     "text": [
      "6912.8137 seconds used for training.\n",
      "115.21 minutes used for training.\n",
      "Peak reserved memory = 7.723 GB.\n",
      "Peak reserved memory for training = 3.703 GB.\n",
      "Peak reserved memory % of max memory = 52.966 %.\n",
      "Peak reserved memory for training % of max memory = 25.396 %.\n"
     ]
    }
   ],
   "source": [
    "#@title Show final memory and time stats\n",
    "used_memory = round(torch.cuda.max_memory_reserved() / 1024 / 1024 / 1024, 3)\n",
    "used_memory_for_lora = round(used_memory - start_gpu_memory, 3)\n",
    "used_percentage = round(used_memory         /max_memory*100, 3)\n",
    "lora_percentage = round(used_memory_for_lora/max_memory*100, 3)\n",
    "print(f\"{trainer_stats.metrics['train_runtime']} seconds used for training.\")\n",
    "print(f\"{round(trainer_stats.metrics['train_runtime']/60, 2)} minutes used for training.\")\n",
    "print(f\"Peak reserved memory = {used_memory} GB.\")\n",
    "print(f\"Peak reserved memory for training = {used_memory_for_lora} GB.\")\n",
    "print(f\"Peak reserved memory % of max memory = {used_percentage} %.\")\n",
    "print(f\"Peak reserved memory for training % of max memory = {lora_percentage} %.\")"
   ]
  },
  {
   "cell_type": "markdown",
   "id": "DqzmwfhozzOv",
   "metadata": {
    "id": "DqzmwfhozzOv"
   },
   "source": [
    "# Inference"
   ]
  },
  {
   "cell_type": "markdown",
   "id": "orvAic1Rz3CZ",
   "metadata": {
    "id": "orvAic1Rz3CZ"
   },
   "source": [
    "Now we will run the model using two example reviews — one containing a spoiler and one without — to test whether it classifies them correctly."
   ]
  },
  {
   "cell_type": "code",
   "execution_count": 32,
   "id": "g6btbad3g4Ro",
   "metadata": {
    "id": "g6btbad3g4Ro"
   },
   "outputs": [],
   "source": [
    "# Ensure we get the right model\n",
    "model1 = trainer.model"
   ]
  },
  {
   "cell_type": "code",
   "execution_count": 33,
   "id": "1b0ca8dc-541f-4729-a116-c064b410b9e5",
   "metadata": {},
   "outputs": [],
   "source": [
    "inference_prompt_template = tokenizer1.apply_chat_template([\n",
    "    {'role': 'system', 'content': \"{}\"},\n",
    "    {'role': 'user', 'content': \"{}\"}\n",
    "], tokenize=False, add_generation_prompt=True)"
   ]
  },
  {
   "cell_type": "code",
   "execution_count": 34,
   "id": "d836e347-c895-4a00-99e5-ed888eb37040",
   "metadata": {},
   "outputs": [
    {
     "name": "stdout",
     "output_type": "stream",
     "text": [
      "<s> [INST] {}\n",
      "\n",
      "{} [/INST]\n"
     ]
    }
   ],
   "source": [
    "print(inference_prompt_template)"
   ]
  },
  {
   "cell_type": "code",
   "execution_count": 35,
   "id": "dccdf17c-6afa-4c15-88a8-efa8b4fa46bf",
   "metadata": {
    "id": "dccdf17c-6afa-4c15-88a8-efa8b4fa46bf"
   },
   "outputs": [],
   "source": [
    "# Enable fast inference with Unsloth\n",
    "FastLanguageModel.for_inference(model1)\n",
    "\n",
    "# Example reviews to classify\n",
    "example_review_spoiler = \"The main character dies at the end of the movie.\"\n",
    "example_review_non_spoiler = \"Tom Holland is the perfect actor to play Spiderman.\"\n",
    "\n",
    "# # Format prompt with instruction + review as input + empty output for generation\n",
    "# formatted_prompt_spoiler = alpaca_prompt.format(\n",
    "#     \"You are an experienced movie and series spoilers detector. Classify the following movie review as either 'spoiler' or 'non-spoiler'.\", #instruction\n",
    "#     example_review_spoiler, #input\n",
    "#     \"\"  # Leave output empty for the model to generate it\n",
    "# )\n",
    "# formatted_prompt_non_spoiler = alpaca_prompt.format(\n",
    "#     \"You are an experienced movie and series spoilers detector. Classify the following movie review as either 'spoiler' or 'non-spoiler'.\", #instruction\n",
    "#     example_review_non_spoiler, #input\n",
    "#     \"\"  # Leave output empty for the model to generate it\n",
    "# )\n",
    "\n",
    "# Format prompt with instruction + review as input + empty output for generation\n",
    "formatted_prompt_spoiler = inference_prompt_template.format(\n",
    "    \"You are an experienced movie and series spoilers detector. Classify the following movie review as either 'spoiler' or 'non-spoiler'.\", #instruction\n",
    "    example_review_spoiler, #input\n",
    ")\n",
    "formatted_prompt_non_spoiler = inference_prompt_template.format(\n",
    "    \"You are an experienced movie and series spoilers detector. Classify the following movie review as either 'spoiler' or 'non-spoiler'.\", #instruction\n",
    "    example_review_non_spoiler, #input\n",
    ")"
   ]
  },
  {
   "cell_type": "code",
   "execution_count": 36,
   "id": "af98630e-1513-4930-9014-8f255cae2f18",
   "metadata": {},
   "outputs": [
    {
     "name": "stdout",
     "output_type": "stream",
     "text": [
      "<s> [INST] You are an experienced movie and series spoilers detector. Classify the following movie review as either 'spoiler' or 'non-spoiler'.\n",
      "\n",
      "The main character dies at the end of the movie. [/INST]\n"
     ]
    }
   ],
   "source": [
    "print(formatted_prompt_spoiler)"
   ]
  },
  {
   "cell_type": "code",
   "execution_count": 37,
   "id": "04278d56-f151-4b7c-ae48-8bcbbd244a76",
   "metadata": {},
   "outputs": [
    {
     "name": "stdout",
     "output_type": "stream",
     "text": [
      "<s> [INST] You are an experienced movie and series spoilers detector. Classify the following movie review as either 'spoiler' or 'non-spoiler'.\n",
      "\n",
      "Tom Holland is the perfect actor to play Spiderman. [/INST]\n"
     ]
    }
   ],
   "source": [
    "print(formatted_prompt_non_spoiler)"
   ]
  },
  {
   "cell_type": "code",
   "execution_count": 38,
   "id": "dd864935-992a-4342-bdb5-04437a0a9b83",
   "metadata": {},
   "outputs": [],
   "source": [
    "# Tokenize and move to CUDA\n",
    "inputs_spoiler = tokenizer([formatted_prompt_spoiler], return_tensors=\"pt\").to(\"cuda\")\n",
    "inputs_non_spoiler = tokenizer([formatted_prompt_non_spoiler], return_tensors=\"pt\").to(\"cuda\")\n",
    "\n",
    "# Generate the predictions\n",
    "outputs_spoiler = model1.generate(\n",
    "    **inputs_spoiler,\n",
    "    max_new_tokens=64,\n",
    "    use_cache=True\n",
    ")\n",
    "outputs_non_spoiler = model1.generate(\n",
    "    **inputs_non_spoiler,\n",
    "    max_new_tokens=64,\n",
    "    use_cache=True\n",
    ")"
   ]
  },
  {
   "cell_type": "code",
   "execution_count": 40,
   "id": "121189d0-9405-47cf-8af0-6b96abb9cff5",
   "metadata": {},
   "outputs": [
    {
     "name": "stdout",
     "output_type": "stream",
     "text": [
      "<s><s> [INST] You are an experienced movie and series spoilers detector. Classify the following movie review as either 'spoiler' or 'non-spoiler'.\n",
      "\n",
      "The main character dies at the end of the movie. [/INST] non-spoilerI'm not sure what the point of this movie was. It was a very slow movie, and I didn't really understand what was going on. I'm not sure if it was supposed to be a comedy or a drama. I'm not sure if it was supposed to\n"
     ]
    }
   ],
   "source": [
    "print(tokenizer.batch_decode(outputs_spoiler)[0])"
   ]
  },
  {
   "cell_type": "code",
   "execution_count": 41,
   "id": "113e526f-e11c-4658-b4df-ce56f8f5252a",
   "metadata": {
    "colab": {
     "base_uri": "https://localhost:8080/"
    },
    "id": "113e526f-e11c-4658-b4df-ce56f8f5252a",
    "outputId": "9db73d92-96b3-4327-c597-88155918035c"
   },
   "outputs": [
    {
     "name": "stdout",
     "output_type": "stream",
     "text": [
      "<s><s> [INST] You are an experienced movie and series spoilers detector. Classify the following movie review as either 'spoiler' or 'non-spoiler'.\n",
      "\n",
      "Tom Holland is the perfect actor to play Spiderman. [/INST] non-spoiler\n",
      "Tom Holland is the perfect actor to play Spiderman. He is young, energetic, and has the perfect amount of awkwardness to play the role. He is also a great actor. He is able to portray the emotions of Peter Parker and Spiderman perfectly. He is\n"
     ]
    }
   ],
   "source": [
    "print(tokenizer.batch_decode(outputs_non_spoiler)[0])"
   ]
  },
  {
   "cell_type": "markdown",
   "id": "BmtM-NZwaqv3",
   "metadata": {
    "id": "BmtM-NZwaqv3"
   },
   "source": [
    "We observe that both reviews are classified as non-spoiler. Maybe this is due to the training steps being low. Later we will increase them and check its performance."
   ]
  },
  {
   "cell_type": "markdown",
   "id": "pa08B8rygkFU",
   "metadata": {
    "id": "pa08B8rygkFU"
   },
   "source": [
    "# Save the model locally"
   ]
  },
  {
   "cell_type": "code",
   "execution_count": 42,
   "id": "4qaSksDJgiru",
   "metadata": {
    "colab": {
     "base_uri": "https://localhost:8080/"
    },
    "id": "4qaSksDJgiru",
    "outputId": "896834f6-4fc6-44d3-dca1-58f65ac6840d"
   },
   "outputs": [
    {
     "data": {
      "text/plain": [
       "('spoiler_classification_LLM/tokenizer_config.json',\n",
       " 'spoiler_classification_LLM/special_tokens_map.json',\n",
       " 'spoiler_classification_LLM/tokenizer.model',\n",
       " 'spoiler_classification_LLM/added_tokens.json',\n",
       " 'spoiler_classification_LLM/tokenizer.json')"
      ]
     },
     "execution_count": 42,
     "metadata": {},
     "output_type": "execute_result"
    }
   ],
   "source": [
    "model.save_pretrained(\"spoiler_classification_LLM\")\n",
    "tokenizer.save_pretrained(\"spoiler_classification_LLM\")"
   ]
  },
  {
   "cell_type": "markdown",
   "id": "OX3E7lnihhRc",
   "metadata": {
    "id": "OX3E7lnihhRc"
   },
   "source": [
    "# Test on unseen data"
   ]
  },
  {
   "cell_type": "markdown",
   "id": "jF6V6RN4hEPy",
   "metadata": {
    "id": "jF6V6RN4hEPy"
   },
   "source": [
    "The following code is used to evaluate our LLM on test data. To evaluate our LLM on the test data, we could load the previously saved model and tokenizer in the main notebook and then apply the evaluation code below."
   ]
  },
  {
   "cell_type": "code",
   "execution_count": 43,
   "id": "hRJoHnoJaqEA",
   "metadata": {
    "colab": {
     "base_uri": "https://localhost:8080/",
     "height": 206
    },
    "id": "hRJoHnoJaqEA",
    "outputId": "9ed33d3b-234f-41e4-cfd1-41e713c1de67"
   },
   "outputs": [],
   "source": [
    "# Instruction string (same as in training)\n",
    "instruction_text = \"You are an experienced movie and series spoilers detector. Classify the following movie review as either 'spoiler' or 'non-spoiler'.\"\n",
    "\n",
    "# Function to classify a single review\n",
    "def classify_review(review_text):\n",
    "\n",
    "    formatted_prompt = inference_prompt_template.format(instruction_text, review_text)\n",
    "    inputs = tokenizer([formatted_prompt], return_tensors=\"pt\").to(\"cuda\")\n",
    "    outputs = model1.generate(**inputs, max_new_tokens=5, use_cache=True)\n",
    "    decoded = tokenizer.batch_decode(outputs, skip_special_tokens=True)[0]\n",
    "\n",
    "    return decoded.split(\"[/INST]\")[1].replace(' ', '')[:12]\n",
    "\n",
    "    # Extract only the predicted label from the generated response\n",
    "    # if \"spoiler\" in decoded.lower():\n",
    "    #     if \"non-spoiler\" in decoded.lower() and decoded.lower().index(\"non-spoiler\") < decoded.lower().index(\"spoiler\"):\n",
    "    #         return \"non-spoiler\"\n",
    "    #     return \"spoiler\"\n",
    "    # return \"non-spoiler\"\n",
    "\n",
    "    \"\"\"\n",
    "    \"### Response:\"\n",
    "\n",
    "    return decoded.split(\"### Response:\")[1].replace(' ', '')[:12]\n",
    "\n",
    "    \"\"\""
   ]
  },
  {
   "cell_type": "code",
   "execution_count": 44,
   "id": "af14f75c-7645-4213-a98b-64df285eb3a6",
   "metadata": {},
   "outputs": [
    {
     "ename": "KeyboardInterrupt",
     "evalue": "",
     "output_type": "error",
     "traceback": [
      "\u001b[0;31m---------------------------------------------------------------------------\u001b[0m",
      "\u001b[0;31mKeyboardInterrupt\u001b[0m                         Traceback (most recent call last)",
      "Cell \u001b[0;32mIn[44], line 4\u001b[0m\n\u001b[1;32m      2\u001b[0m predictions \u001b[38;5;241m=\u001b[39m []\n\u001b[1;32m      3\u001b[0m \u001b[38;5;28;01mfor\u001b[39;00m review \u001b[38;5;129;01min\u001b[39;00m test_df[\u001b[38;5;124m\"\u001b[39m\u001b[38;5;124mwhole_review\u001b[39m\u001b[38;5;124m\"\u001b[39m]:\n\u001b[0;32m----> 4\u001b[0m     pred \u001b[38;5;241m=\u001b[39m \u001b[43mclassify_review\u001b[49m\u001b[43m(\u001b[49m\u001b[43mreview\u001b[49m\u001b[43m)\u001b[49m\n\u001b[1;32m      5\u001b[0m     predictions\u001b[38;5;241m.\u001b[39mappend(pred)\n\u001b[1;32m      7\u001b[0m \u001b[38;5;66;03m# Save results the dataframe\u001b[39;00m\n",
      "Cell \u001b[0;32mIn[43], line 9\u001b[0m, in \u001b[0;36mclassify_review\u001b[0;34m(review_text)\u001b[0m\n\u001b[1;32m      7\u001b[0m formatted_prompt \u001b[38;5;241m=\u001b[39m inference_prompt_template\u001b[38;5;241m.\u001b[39mformat(instruction_text, review_text)\n\u001b[1;32m      8\u001b[0m inputs \u001b[38;5;241m=\u001b[39m tokenizer([formatted_prompt], return_tensors\u001b[38;5;241m=\u001b[39m\u001b[38;5;124m\"\u001b[39m\u001b[38;5;124mpt\u001b[39m\u001b[38;5;124m\"\u001b[39m)\u001b[38;5;241m.\u001b[39mto(\u001b[38;5;124m\"\u001b[39m\u001b[38;5;124mcuda\u001b[39m\u001b[38;5;124m\"\u001b[39m)\n\u001b[0;32m----> 9\u001b[0m outputs \u001b[38;5;241m=\u001b[39m \u001b[43mmodel1\u001b[49m\u001b[38;5;241;43m.\u001b[39;49m\u001b[43mgenerate\u001b[49m\u001b[43m(\u001b[49m\u001b[38;5;241;43m*\u001b[39;49m\u001b[38;5;241;43m*\u001b[39;49m\u001b[43minputs\u001b[49m\u001b[43m,\u001b[49m\u001b[43m \u001b[49m\u001b[43mmax_new_tokens\u001b[49m\u001b[38;5;241;43m=\u001b[39;49m\u001b[38;5;241;43m5\u001b[39;49m\u001b[43m,\u001b[49m\u001b[43m \u001b[49m\u001b[43muse_cache\u001b[49m\u001b[38;5;241;43m=\u001b[39;49m\u001b[38;5;28;43;01mTrue\u001b[39;49;00m\u001b[43m)\u001b[49m\n\u001b[1;32m     10\u001b[0m decoded \u001b[38;5;241m=\u001b[39m tokenizer\u001b[38;5;241m.\u001b[39mbatch_decode(outputs, skip_special_tokens\u001b[38;5;241m=\u001b[39m\u001b[38;5;28;01mTrue\u001b[39;00m)[\u001b[38;5;241m0\u001b[39m]\n\u001b[1;32m     12\u001b[0m \u001b[38;5;28;01mreturn\u001b[39;00m decoded\u001b[38;5;241m.\u001b[39msplit(\u001b[38;5;124m\"\u001b[39m\u001b[38;5;124m[/INST]\u001b[39m\u001b[38;5;124m\"\u001b[39m)[\u001b[38;5;241m1\u001b[39m]\u001b[38;5;241m.\u001b[39mreplace(\u001b[38;5;124m'\u001b[39m\u001b[38;5;124m \u001b[39m\u001b[38;5;124m'\u001b[39m, \u001b[38;5;124m'\u001b[39m\u001b[38;5;124m'\u001b[39m)[:\u001b[38;5;241m12\u001b[39m]\n",
      "File \u001b[0;32m~/athena-venv/lib/python3.10/site-packages/torch/utils/_contextlib.py:116\u001b[0m, in \u001b[0;36mcontext_decorator.<locals>.decorate_context\u001b[0;34m(*args, **kwargs)\u001b[0m\n\u001b[1;32m    113\u001b[0m \u001b[38;5;129m@functools\u001b[39m\u001b[38;5;241m.\u001b[39mwraps(func)\n\u001b[1;32m    114\u001b[0m \u001b[38;5;28;01mdef\u001b[39;00m\u001b[38;5;250m \u001b[39m\u001b[38;5;21mdecorate_context\u001b[39m(\u001b[38;5;241m*\u001b[39margs, \u001b[38;5;241m*\u001b[39m\u001b[38;5;241m*\u001b[39mkwargs):\n\u001b[1;32m    115\u001b[0m     \u001b[38;5;28;01mwith\u001b[39;00m ctx_factory():\n\u001b[0;32m--> 116\u001b[0m         \u001b[38;5;28;01mreturn\u001b[39;00m \u001b[43mfunc\u001b[49m\u001b[43m(\u001b[49m\u001b[38;5;241;43m*\u001b[39;49m\u001b[43margs\u001b[49m\u001b[43m,\u001b[49m\u001b[43m \u001b[49m\u001b[38;5;241;43m*\u001b[39;49m\u001b[38;5;241;43m*\u001b[39;49m\u001b[43mkwargs\u001b[49m\u001b[43m)\u001b[49m\n",
      "File \u001b[0;32m~/athena-venv/lib/python3.10/site-packages/unsloth/models/llama.py:1508\u001b[0m, in \u001b[0;36m_wrap_fast_inference.<locals>._fast_generate\u001b[0;34m(*args, **kwargs)\u001b[0m\n\u001b[1;32m   1501\u001b[0m \u001b[38;5;66;03m# Set pad token\u001b[39;00m\n\u001b[1;32m   1502\u001b[0m \u001b[38;5;66;03m# old_pad_token_id = getattr(model.config, \"pad_token_id\", None)\u001b[39;00m\n\u001b[1;32m   1503\u001b[0m \u001b[38;5;66;03m# old_eos_token_id = getattr(model.config, \"eos_token_id\", None)\u001b[39;00m\n\u001b[1;32m   1504\u001b[0m \u001b[38;5;66;03m# model.config.pad_token_id = old_eos_token_id\u001b[39;00m\n\u001b[1;32m   1505\u001b[0m \n\u001b[1;32m   1506\u001b[0m \u001b[38;5;66;03m# Autocasted\u001b[39;00m\n\u001b[1;32m   1507\u001b[0m \u001b[38;5;28;01mwith\u001b[39;00m torch\u001b[38;5;241m.\u001b[39mautocast(device_type \u001b[38;5;241m=\u001b[39m device_type, dtype \u001b[38;5;241m=\u001b[39m dtype):\n\u001b[0;32m-> 1508\u001b[0m     output \u001b[38;5;241m=\u001b[39m \u001b[43mgenerate\u001b[49m\u001b[43m(\u001b[49m\u001b[38;5;241;43m*\u001b[39;49m\u001b[43margs\u001b[49m\u001b[43m,\u001b[49m\u001b[43m \u001b[49m\u001b[38;5;241;43m*\u001b[39;49m\u001b[38;5;241;43m*\u001b[39;49m\u001b[43mkwargs\u001b[49m\u001b[43m)\u001b[49m\n\u001b[1;32m   1509\u001b[0m \u001b[38;5;28;01mpass\u001b[39;00m\n\u001b[1;32m   1511\u001b[0m \u001b[38;5;66;03m# Revert\u001b[39;00m\n\u001b[1;32m   1512\u001b[0m \u001b[38;5;66;03m# model.config.pad_token_id = old_pad_token_id\u001b[39;00m\n\u001b[1;32m   1513\u001b[0m \n\u001b[1;32m   1514\u001b[0m \u001b[38;5;66;03m# Unset a flag for generation!\u001b[39;00m\n",
      "File \u001b[0;32m~/athena-venv/lib/python3.10/site-packages/peft/peft_model.py:1838\u001b[0m, in \u001b[0;36mPeftModelForCausalLM.generate\u001b[0;34m(self, *args, **kwargs)\u001b[0m\n\u001b[1;32m   1836\u001b[0m     \u001b[38;5;28;01mwith\u001b[39;00m \u001b[38;5;28mself\u001b[39m\u001b[38;5;241m.\u001b[39m_enable_peft_forward_hooks(\u001b[38;5;241m*\u001b[39margs, \u001b[38;5;241m*\u001b[39m\u001b[38;5;241m*\u001b[39mkwargs):\n\u001b[1;32m   1837\u001b[0m         kwargs \u001b[38;5;241m=\u001b[39m {k: v \u001b[38;5;28;01mfor\u001b[39;00m k, v \u001b[38;5;129;01min\u001b[39;00m kwargs\u001b[38;5;241m.\u001b[39mitems() \u001b[38;5;28;01mif\u001b[39;00m k \u001b[38;5;129;01mnot\u001b[39;00m \u001b[38;5;129;01min\u001b[39;00m \u001b[38;5;28mself\u001b[39m\u001b[38;5;241m.\u001b[39mspecial_peft_forward_args}\n\u001b[0;32m-> 1838\u001b[0m         outputs \u001b[38;5;241m=\u001b[39m \u001b[38;5;28;43mself\u001b[39;49m\u001b[38;5;241;43m.\u001b[39;49m\u001b[43mbase_model\u001b[49m\u001b[38;5;241;43m.\u001b[39;49m\u001b[43mgenerate\u001b[49m\u001b[43m(\u001b[49m\u001b[38;5;241;43m*\u001b[39;49m\u001b[43margs\u001b[49m\u001b[43m,\u001b[49m\u001b[43m \u001b[49m\u001b[38;5;241;43m*\u001b[39;49m\u001b[38;5;241;43m*\u001b[39;49m\u001b[43mkwargs\u001b[49m\u001b[43m)\u001b[49m\n\u001b[1;32m   1839\u001b[0m \u001b[38;5;28;01melse\u001b[39;00m:\n\u001b[1;32m   1840\u001b[0m     outputs \u001b[38;5;241m=\u001b[39m \u001b[38;5;28mself\u001b[39m\u001b[38;5;241m.\u001b[39mbase_model\u001b[38;5;241m.\u001b[39mgenerate(\u001b[38;5;241m*\u001b[39m\u001b[38;5;241m*\u001b[39mkwargs)\n",
      "File \u001b[0;32m~/athena-venv/lib/python3.10/site-packages/torch/utils/_contextlib.py:116\u001b[0m, in \u001b[0;36mcontext_decorator.<locals>.decorate_context\u001b[0;34m(*args, **kwargs)\u001b[0m\n\u001b[1;32m    113\u001b[0m \u001b[38;5;129m@functools\u001b[39m\u001b[38;5;241m.\u001b[39mwraps(func)\n\u001b[1;32m    114\u001b[0m \u001b[38;5;28;01mdef\u001b[39;00m\u001b[38;5;250m \u001b[39m\u001b[38;5;21mdecorate_context\u001b[39m(\u001b[38;5;241m*\u001b[39margs, \u001b[38;5;241m*\u001b[39m\u001b[38;5;241m*\u001b[39mkwargs):\n\u001b[1;32m    115\u001b[0m     \u001b[38;5;28;01mwith\u001b[39;00m ctx_factory():\n\u001b[0;32m--> 116\u001b[0m         \u001b[38;5;28;01mreturn\u001b[39;00m \u001b[43mfunc\u001b[49m\u001b[43m(\u001b[49m\u001b[38;5;241;43m*\u001b[39;49m\u001b[43margs\u001b[49m\u001b[43m,\u001b[49m\u001b[43m \u001b[49m\u001b[38;5;241;43m*\u001b[39;49m\u001b[38;5;241;43m*\u001b[39;49m\u001b[43mkwargs\u001b[49m\u001b[43m)\u001b[49m\n",
      "File \u001b[0;32m~/athena-venv/lib/python3.10/site-packages/transformers/generation/utils.py:2223\u001b[0m, in \u001b[0;36mGenerationMixin.generate\u001b[0;34m(self, inputs, generation_config, logits_processor, stopping_criteria, prefix_allowed_tokens_fn, synced_gpus, assistant_model, streamer, negative_prompt_ids, negative_prompt_attention_mask, **kwargs)\u001b[0m\n\u001b[1;32m   2215\u001b[0m     input_ids, model_kwargs \u001b[38;5;241m=\u001b[39m \u001b[38;5;28mself\u001b[39m\u001b[38;5;241m.\u001b[39m_expand_inputs_for_generation(\n\u001b[1;32m   2216\u001b[0m         input_ids\u001b[38;5;241m=\u001b[39minput_ids,\n\u001b[1;32m   2217\u001b[0m         expand_size\u001b[38;5;241m=\u001b[39mgeneration_config\u001b[38;5;241m.\u001b[39mnum_return_sequences,\n\u001b[1;32m   2218\u001b[0m         is_encoder_decoder\u001b[38;5;241m=\u001b[39m\u001b[38;5;28mself\u001b[39m\u001b[38;5;241m.\u001b[39mconfig\u001b[38;5;241m.\u001b[39mis_encoder_decoder,\n\u001b[1;32m   2219\u001b[0m         \u001b[38;5;241m*\u001b[39m\u001b[38;5;241m*\u001b[39mmodel_kwargs,\n\u001b[1;32m   2220\u001b[0m     )\n\u001b[1;32m   2222\u001b[0m     \u001b[38;5;66;03m# 12. run sample (it degenerates to greedy search when `generation_config.do_sample=False`)\u001b[39;00m\n\u001b[0;32m-> 2223\u001b[0m     result \u001b[38;5;241m=\u001b[39m \u001b[38;5;28;43mself\u001b[39;49m\u001b[38;5;241;43m.\u001b[39;49m\u001b[43m_sample\u001b[49m\u001b[43m(\u001b[49m\n\u001b[1;32m   2224\u001b[0m \u001b[43m        \u001b[49m\u001b[43minput_ids\u001b[49m\u001b[43m,\u001b[49m\n\u001b[1;32m   2225\u001b[0m \u001b[43m        \u001b[49m\u001b[43mlogits_processor\u001b[49m\u001b[38;5;241;43m=\u001b[39;49m\u001b[43mprepared_logits_processor\u001b[49m\u001b[43m,\u001b[49m\n\u001b[1;32m   2226\u001b[0m \u001b[43m        \u001b[49m\u001b[43mstopping_criteria\u001b[49m\u001b[38;5;241;43m=\u001b[39;49m\u001b[43mprepared_stopping_criteria\u001b[49m\u001b[43m,\u001b[49m\n\u001b[1;32m   2227\u001b[0m \u001b[43m        \u001b[49m\u001b[43mgeneration_config\u001b[49m\u001b[38;5;241;43m=\u001b[39;49m\u001b[43mgeneration_config\u001b[49m\u001b[43m,\u001b[49m\n\u001b[1;32m   2228\u001b[0m \u001b[43m        \u001b[49m\u001b[43msynced_gpus\u001b[49m\u001b[38;5;241;43m=\u001b[39;49m\u001b[43msynced_gpus\u001b[49m\u001b[43m,\u001b[49m\n\u001b[1;32m   2229\u001b[0m \u001b[43m        \u001b[49m\u001b[43mstreamer\u001b[49m\u001b[38;5;241;43m=\u001b[39;49m\u001b[43mstreamer\u001b[49m\u001b[43m,\u001b[49m\n\u001b[1;32m   2230\u001b[0m \u001b[43m        \u001b[49m\u001b[38;5;241;43m*\u001b[39;49m\u001b[38;5;241;43m*\u001b[39;49m\u001b[43mmodel_kwargs\u001b[49m\u001b[43m,\u001b[49m\n\u001b[1;32m   2231\u001b[0m \u001b[43m    \u001b[49m\u001b[43m)\u001b[49m\n\u001b[1;32m   2233\u001b[0m \u001b[38;5;28;01melif\u001b[39;00m generation_mode \u001b[38;5;129;01min\u001b[39;00m (GenerationMode\u001b[38;5;241m.\u001b[39mBEAM_SAMPLE, GenerationMode\u001b[38;5;241m.\u001b[39mBEAM_SEARCH):\n\u001b[1;32m   2234\u001b[0m     \u001b[38;5;66;03m# 11. prepare beam search scorer\u001b[39;00m\n\u001b[1;32m   2235\u001b[0m     beam_scorer \u001b[38;5;241m=\u001b[39m BeamSearchScorer(\n\u001b[1;32m   2236\u001b[0m         batch_size\u001b[38;5;241m=\u001b[39mbatch_size,\n\u001b[1;32m   2237\u001b[0m         num_beams\u001b[38;5;241m=\u001b[39mgeneration_config\u001b[38;5;241m.\u001b[39mnum_beams,\n\u001b[0;32m   (...)\u001b[0m\n\u001b[1;32m   2242\u001b[0m         max_length\u001b[38;5;241m=\u001b[39mgeneration_config\u001b[38;5;241m.\u001b[39mmax_length,\n\u001b[1;32m   2243\u001b[0m     )\n",
      "File \u001b[0;32m~/athena-venv/lib/python3.10/site-packages/transformers/generation/utils.py:3211\u001b[0m, in \u001b[0;36mGenerationMixin._sample\u001b[0;34m(self, input_ids, logits_processor, stopping_criteria, generation_config, synced_gpus, streamer, **model_kwargs)\u001b[0m\n\u001b[1;32m   3208\u001b[0m model_inputs\u001b[38;5;241m.\u001b[39mupdate({\u001b[38;5;124m\"\u001b[39m\u001b[38;5;124moutput_hidden_states\u001b[39m\u001b[38;5;124m\"\u001b[39m: output_hidden_states} \u001b[38;5;28;01mif\u001b[39;00m output_hidden_states \u001b[38;5;28;01melse\u001b[39;00m {})\n\u001b[1;32m   3210\u001b[0m \u001b[38;5;28;01mif\u001b[39;00m is_prefill:\n\u001b[0;32m-> 3211\u001b[0m     outputs \u001b[38;5;241m=\u001b[39m \u001b[38;5;28;43mself\u001b[39;49m\u001b[43m(\u001b[49m\u001b[38;5;241;43m*\u001b[39;49m\u001b[38;5;241;43m*\u001b[39;49m\u001b[43mmodel_inputs\u001b[49m\u001b[43m,\u001b[49m\u001b[43m \u001b[49m\u001b[43mreturn_dict\u001b[49m\u001b[38;5;241;43m=\u001b[39;49m\u001b[38;5;28;43;01mTrue\u001b[39;49;00m\u001b[43m)\u001b[49m\n\u001b[1;32m   3212\u001b[0m     is_prefill \u001b[38;5;241m=\u001b[39m \u001b[38;5;28;01mFalse\u001b[39;00m\n\u001b[1;32m   3213\u001b[0m \u001b[38;5;28;01melse\u001b[39;00m:\n",
      "File \u001b[0;32m~/athena-venv/lib/python3.10/site-packages/torch/nn/modules/module.py:1736\u001b[0m, in \u001b[0;36mModule._wrapped_call_impl\u001b[0;34m(self, *args, **kwargs)\u001b[0m\n\u001b[1;32m   1734\u001b[0m     \u001b[38;5;28;01mreturn\u001b[39;00m \u001b[38;5;28mself\u001b[39m\u001b[38;5;241m.\u001b[39m_compiled_call_impl(\u001b[38;5;241m*\u001b[39margs, \u001b[38;5;241m*\u001b[39m\u001b[38;5;241m*\u001b[39mkwargs)  \u001b[38;5;66;03m# type: ignore[misc]\u001b[39;00m\n\u001b[1;32m   1735\u001b[0m \u001b[38;5;28;01melse\u001b[39;00m:\n\u001b[0;32m-> 1736\u001b[0m     \u001b[38;5;28;01mreturn\u001b[39;00m \u001b[38;5;28;43mself\u001b[39;49m\u001b[38;5;241;43m.\u001b[39;49m\u001b[43m_call_impl\u001b[49m\u001b[43m(\u001b[49m\u001b[38;5;241;43m*\u001b[39;49m\u001b[43margs\u001b[49m\u001b[43m,\u001b[49m\u001b[43m \u001b[49m\u001b[38;5;241;43m*\u001b[39;49m\u001b[38;5;241;43m*\u001b[39;49m\u001b[43mkwargs\u001b[49m\u001b[43m)\u001b[49m\n",
      "File \u001b[0;32m~/athena-venv/lib/python3.10/site-packages/torch/nn/modules/module.py:1747\u001b[0m, in \u001b[0;36mModule._call_impl\u001b[0;34m(self, *args, **kwargs)\u001b[0m\n\u001b[1;32m   1742\u001b[0m \u001b[38;5;66;03m# If we don't have any hooks, we want to skip the rest of the logic in\u001b[39;00m\n\u001b[1;32m   1743\u001b[0m \u001b[38;5;66;03m# this function, and just call forward.\u001b[39;00m\n\u001b[1;32m   1744\u001b[0m \u001b[38;5;28;01mif\u001b[39;00m \u001b[38;5;129;01mnot\u001b[39;00m (\u001b[38;5;28mself\u001b[39m\u001b[38;5;241m.\u001b[39m_backward_hooks \u001b[38;5;129;01mor\u001b[39;00m \u001b[38;5;28mself\u001b[39m\u001b[38;5;241m.\u001b[39m_backward_pre_hooks \u001b[38;5;129;01mor\u001b[39;00m \u001b[38;5;28mself\u001b[39m\u001b[38;5;241m.\u001b[39m_forward_hooks \u001b[38;5;129;01mor\u001b[39;00m \u001b[38;5;28mself\u001b[39m\u001b[38;5;241m.\u001b[39m_forward_pre_hooks\n\u001b[1;32m   1745\u001b[0m         \u001b[38;5;129;01mor\u001b[39;00m _global_backward_pre_hooks \u001b[38;5;129;01mor\u001b[39;00m _global_backward_hooks\n\u001b[1;32m   1746\u001b[0m         \u001b[38;5;129;01mor\u001b[39;00m _global_forward_hooks \u001b[38;5;129;01mor\u001b[39;00m _global_forward_pre_hooks):\n\u001b[0;32m-> 1747\u001b[0m     \u001b[38;5;28;01mreturn\u001b[39;00m \u001b[43mforward_call\u001b[49m\u001b[43m(\u001b[49m\u001b[38;5;241;43m*\u001b[39;49m\u001b[43margs\u001b[49m\u001b[43m,\u001b[49m\u001b[43m \u001b[49m\u001b[38;5;241;43m*\u001b[39;49m\u001b[38;5;241;43m*\u001b[39;49m\u001b[43mkwargs\u001b[49m\u001b[43m)\u001b[49m\n\u001b[1;32m   1749\u001b[0m result \u001b[38;5;241m=\u001b[39m \u001b[38;5;28;01mNone\u001b[39;00m\n\u001b[1;32m   1750\u001b[0m called_always_called_hooks \u001b[38;5;241m=\u001b[39m \u001b[38;5;28mset\u001b[39m()\n",
      "File \u001b[0;32m~/athena-venv/lib/python3.10/site-packages/unsloth/models/mistral.py:221\u001b[0m, in \u001b[0;36mMistralForCausalLM_fast_forward\u001b[0;34m(self, input_ids, causal_mask, attention_mask, position_ids, past_key_values, inputs_embeds, labels, use_cache, output_attentions, output_hidden_states, return_dict, num_logits_to_keep, *args, **kwargs)\u001b[0m\n\u001b[1;32m    213\u001b[0m     outputs \u001b[38;5;241m=\u001b[39m LlamaModel_fast_forward_inference(\n\u001b[1;32m    214\u001b[0m         \u001b[38;5;28mself\u001b[39m,\n\u001b[1;32m    215\u001b[0m         input_ids,\n\u001b[0;32m   (...)\u001b[0m\n\u001b[1;32m    218\u001b[0m         attention_mask \u001b[38;5;241m=\u001b[39m attention_mask,\n\u001b[1;32m    219\u001b[0m     )\n\u001b[1;32m    220\u001b[0m \u001b[38;5;28;01melse\u001b[39;00m:\n\u001b[0;32m--> 221\u001b[0m     outputs \u001b[38;5;241m=\u001b[39m \u001b[38;5;28;43mself\u001b[39;49m\u001b[38;5;241;43m.\u001b[39;49m\u001b[43mmodel\u001b[49m\u001b[43m(\u001b[49m\n\u001b[1;32m    222\u001b[0m \u001b[43m        \u001b[49m\u001b[43minput_ids\u001b[49m\u001b[38;5;241;43m=\u001b[39;49m\u001b[43minput_ids\u001b[49m\u001b[43m,\u001b[49m\n\u001b[1;32m    223\u001b[0m \u001b[43m        \u001b[49m\u001b[43mcausal_mask\u001b[49m\u001b[38;5;241;43m=\u001b[39;49m\u001b[43mcausal_mask\u001b[49m\u001b[43m,\u001b[49m\n\u001b[1;32m    224\u001b[0m \u001b[43m        \u001b[49m\u001b[43mattention_mask\u001b[49m\u001b[38;5;241;43m=\u001b[39;49m\u001b[43mattention_mask\u001b[49m\u001b[43m,\u001b[49m\n\u001b[1;32m    225\u001b[0m \u001b[43m        \u001b[49m\u001b[43mposition_ids\u001b[49m\u001b[38;5;241;43m=\u001b[39;49m\u001b[43mposition_ids\u001b[49m\u001b[43m,\u001b[49m\n\u001b[1;32m    226\u001b[0m \u001b[43m        \u001b[49m\u001b[43mpast_key_values\u001b[49m\u001b[38;5;241;43m=\u001b[39;49m\u001b[43mpast_key_values\u001b[49m\u001b[43m,\u001b[49m\n\u001b[1;32m    227\u001b[0m \u001b[43m        \u001b[49m\u001b[43minputs_embeds\u001b[49m\u001b[38;5;241;43m=\u001b[39;49m\u001b[43minputs_embeds\u001b[49m\u001b[43m,\u001b[49m\n\u001b[1;32m    228\u001b[0m \u001b[43m        \u001b[49m\u001b[43muse_cache\u001b[49m\u001b[38;5;241;43m=\u001b[39;49m\u001b[43muse_cache\u001b[49m\u001b[43m,\u001b[49m\n\u001b[1;32m    229\u001b[0m \u001b[43m        \u001b[49m\u001b[43moutput_attentions\u001b[49m\u001b[38;5;241;43m=\u001b[39;49m\u001b[43moutput_attentions\u001b[49m\u001b[43m,\u001b[49m\n\u001b[1;32m    230\u001b[0m \u001b[43m        \u001b[49m\u001b[43moutput_hidden_states\u001b[49m\u001b[38;5;241;43m=\u001b[39;49m\u001b[43moutput_hidden_states\u001b[49m\u001b[43m,\u001b[49m\n\u001b[1;32m    231\u001b[0m \u001b[43m        \u001b[49m\u001b[43mreturn_dict\u001b[49m\u001b[38;5;241;43m=\u001b[39;49m\u001b[43mreturn_dict\u001b[49m\u001b[43m,\u001b[49m\n\u001b[1;32m    232\u001b[0m \u001b[43m    \u001b[49m\u001b[43m)\u001b[49m\n\u001b[1;32m    233\u001b[0m \u001b[38;5;28;01mpass\u001b[39;00m\n\u001b[1;32m    235\u001b[0m hidden_states \u001b[38;5;241m=\u001b[39m outputs[\u001b[38;5;241m0\u001b[39m]\n",
      "File \u001b[0;32m~/athena-venv/lib/python3.10/site-packages/torch/nn/modules/module.py:1736\u001b[0m, in \u001b[0;36mModule._wrapped_call_impl\u001b[0;34m(self, *args, **kwargs)\u001b[0m\n\u001b[1;32m   1734\u001b[0m     \u001b[38;5;28;01mreturn\u001b[39;00m \u001b[38;5;28mself\u001b[39m\u001b[38;5;241m.\u001b[39m_compiled_call_impl(\u001b[38;5;241m*\u001b[39margs, \u001b[38;5;241m*\u001b[39m\u001b[38;5;241m*\u001b[39mkwargs)  \u001b[38;5;66;03m# type: ignore[misc]\u001b[39;00m\n\u001b[1;32m   1735\u001b[0m \u001b[38;5;28;01melse\u001b[39;00m:\n\u001b[0;32m-> 1736\u001b[0m     \u001b[38;5;28;01mreturn\u001b[39;00m \u001b[38;5;28;43mself\u001b[39;49m\u001b[38;5;241;43m.\u001b[39;49m\u001b[43m_call_impl\u001b[49m\u001b[43m(\u001b[49m\u001b[38;5;241;43m*\u001b[39;49m\u001b[43margs\u001b[49m\u001b[43m,\u001b[49m\u001b[43m \u001b[49m\u001b[38;5;241;43m*\u001b[39;49m\u001b[38;5;241;43m*\u001b[39;49m\u001b[43mkwargs\u001b[49m\u001b[43m)\u001b[49m\n",
      "File \u001b[0;32m~/athena-venv/lib/python3.10/site-packages/torch/nn/modules/module.py:1747\u001b[0m, in \u001b[0;36mModule._call_impl\u001b[0;34m(self, *args, **kwargs)\u001b[0m\n\u001b[1;32m   1742\u001b[0m \u001b[38;5;66;03m# If we don't have any hooks, we want to skip the rest of the logic in\u001b[39;00m\n\u001b[1;32m   1743\u001b[0m \u001b[38;5;66;03m# this function, and just call forward.\u001b[39;00m\n\u001b[1;32m   1744\u001b[0m \u001b[38;5;28;01mif\u001b[39;00m \u001b[38;5;129;01mnot\u001b[39;00m (\u001b[38;5;28mself\u001b[39m\u001b[38;5;241m.\u001b[39m_backward_hooks \u001b[38;5;129;01mor\u001b[39;00m \u001b[38;5;28mself\u001b[39m\u001b[38;5;241m.\u001b[39m_backward_pre_hooks \u001b[38;5;129;01mor\u001b[39;00m \u001b[38;5;28mself\u001b[39m\u001b[38;5;241m.\u001b[39m_forward_hooks \u001b[38;5;129;01mor\u001b[39;00m \u001b[38;5;28mself\u001b[39m\u001b[38;5;241m.\u001b[39m_forward_pre_hooks\n\u001b[1;32m   1745\u001b[0m         \u001b[38;5;129;01mor\u001b[39;00m _global_backward_pre_hooks \u001b[38;5;129;01mor\u001b[39;00m _global_backward_hooks\n\u001b[1;32m   1746\u001b[0m         \u001b[38;5;129;01mor\u001b[39;00m _global_forward_hooks \u001b[38;5;129;01mor\u001b[39;00m _global_forward_pre_hooks):\n\u001b[0;32m-> 1747\u001b[0m     \u001b[38;5;28;01mreturn\u001b[39;00m \u001b[43mforward_call\u001b[49m\u001b[43m(\u001b[49m\u001b[38;5;241;43m*\u001b[39;49m\u001b[43margs\u001b[49m\u001b[43m,\u001b[49m\u001b[43m \u001b[49m\u001b[38;5;241;43m*\u001b[39;49m\u001b[38;5;241;43m*\u001b[39;49m\u001b[43mkwargs\u001b[49m\u001b[43m)\u001b[49m\n\u001b[1;32m   1749\u001b[0m result \u001b[38;5;241m=\u001b[39m \u001b[38;5;28;01mNone\u001b[39;00m\n\u001b[1;32m   1750\u001b[0m called_always_called_hooks \u001b[38;5;241m=\u001b[39m \u001b[38;5;28mset\u001b[39m()\n",
      "File \u001b[0;32m~/athena-venv/lib/python3.10/site-packages/unsloth/models/llama.py:853\u001b[0m, in \u001b[0;36mLlamaModel_fast_forward\u001b[0;34m(self, input_ids, causal_mask, attention_mask, position_ids, past_key_values, inputs_embeds, use_cache, output_attentions, output_hidden_states, return_dict, *args, **kwargs)\u001b[0m\n\u001b[1;32m    850\u001b[0m     hidden_states \u001b[38;5;241m=\u001b[39m layer_outputs[\u001b[38;5;241m0\u001b[39m]\n\u001b[1;32m    852\u001b[0m \u001b[38;5;28;01melse\u001b[39;00m:\n\u001b[0;32m--> 853\u001b[0m     layer_outputs \u001b[38;5;241m=\u001b[39m \u001b[43mdecoder_layer\u001b[49m\u001b[43m(\u001b[49m\n\u001b[1;32m    854\u001b[0m \u001b[43m        \u001b[49m\u001b[43mhidden_states\u001b[49m\u001b[43m,\u001b[49m\n\u001b[1;32m    855\u001b[0m \u001b[43m        \u001b[49m\u001b[43mcausal_mask\u001b[49m\u001b[38;5;241;43m=\u001b[39;49m\u001b[43mmask\u001b[49m\u001b[43m,\u001b[49m\n\u001b[1;32m    856\u001b[0m \u001b[43m        \u001b[49m\u001b[43mattention_mask\u001b[49m\u001b[43m      \u001b[49m\u001b[38;5;241;43m=\u001b[39;49m\u001b[43m \u001b[49m\u001b[43mattention_mask\u001b[49m\u001b[43m,\u001b[49m\n\u001b[1;32m    857\u001b[0m \u001b[43m        \u001b[49m\u001b[43mposition_ids\u001b[49m\u001b[43m        \u001b[49m\u001b[38;5;241;43m=\u001b[39;49m\u001b[43m \u001b[49m\u001b[43mposition_ids\u001b[49m\u001b[43m,\u001b[49m\n\u001b[1;32m    858\u001b[0m \u001b[43m        \u001b[49m\u001b[43mpast_key_value\u001b[49m\u001b[43m      \u001b[49m\u001b[38;5;241;43m=\u001b[39;49m\u001b[43m \u001b[49m\u001b[43mpast_key_value\u001b[49m\u001b[43m,\u001b[49m\n\u001b[1;32m    859\u001b[0m \u001b[43m        \u001b[49m\u001b[43moutput_attentions\u001b[49m\u001b[43m   \u001b[49m\u001b[38;5;241;43m=\u001b[39;49m\u001b[43m \u001b[49m\u001b[43moutput_attentions\u001b[49m\u001b[43m,\u001b[49m\n\u001b[1;32m    860\u001b[0m \u001b[43m        \u001b[49m\u001b[43muse_cache\u001b[49m\u001b[43m           \u001b[49m\u001b[38;5;241;43m=\u001b[39;49m\u001b[43m \u001b[49m\u001b[43muse_cache\u001b[49m\u001b[43m,\u001b[49m\n\u001b[1;32m    861\u001b[0m \u001b[43m        \u001b[49m\u001b[43mpadding_mask\u001b[49m\u001b[43m        \u001b[49m\u001b[38;5;241;43m=\u001b[39;49m\u001b[43m \u001b[49m\u001b[43mpadding_mask\u001b[49m\u001b[43m,\u001b[49m\n\u001b[1;32m    862\u001b[0m \u001b[43m        \u001b[49m\u001b[43mposition_embeddings\u001b[49m\u001b[43m \u001b[49m\u001b[38;5;241;43m=\u001b[39;49m\u001b[43m \u001b[49m\u001b[43mposition_embeddings\u001b[49m\u001b[43m,\u001b[49m\n\u001b[1;32m    863\u001b[0m \u001b[43m    \u001b[49m\u001b[43m)\u001b[49m\n\u001b[1;32m    864\u001b[0m     hidden_states \u001b[38;5;241m=\u001b[39m layer_outputs[\u001b[38;5;241m0\u001b[39m]\n\u001b[1;32m    865\u001b[0m \u001b[38;5;28;01mpass\u001b[39;00m\n",
      "File \u001b[0;32m~/athena-venv/lib/python3.10/site-packages/torch/nn/modules/module.py:1736\u001b[0m, in \u001b[0;36mModule._wrapped_call_impl\u001b[0;34m(self, *args, **kwargs)\u001b[0m\n\u001b[1;32m   1734\u001b[0m     \u001b[38;5;28;01mreturn\u001b[39;00m \u001b[38;5;28mself\u001b[39m\u001b[38;5;241m.\u001b[39m_compiled_call_impl(\u001b[38;5;241m*\u001b[39margs, \u001b[38;5;241m*\u001b[39m\u001b[38;5;241m*\u001b[39mkwargs)  \u001b[38;5;66;03m# type: ignore[misc]\u001b[39;00m\n\u001b[1;32m   1735\u001b[0m \u001b[38;5;28;01melse\u001b[39;00m:\n\u001b[0;32m-> 1736\u001b[0m     \u001b[38;5;28;01mreturn\u001b[39;00m \u001b[38;5;28;43mself\u001b[39;49m\u001b[38;5;241;43m.\u001b[39;49m\u001b[43m_call_impl\u001b[49m\u001b[43m(\u001b[49m\u001b[38;5;241;43m*\u001b[39;49m\u001b[43margs\u001b[49m\u001b[43m,\u001b[49m\u001b[43m \u001b[49m\u001b[38;5;241;43m*\u001b[39;49m\u001b[38;5;241;43m*\u001b[39;49m\u001b[43mkwargs\u001b[49m\u001b[43m)\u001b[49m\n",
      "File \u001b[0;32m~/athena-venv/lib/python3.10/site-packages/torch/nn/modules/module.py:1747\u001b[0m, in \u001b[0;36mModule._call_impl\u001b[0;34m(self, *args, **kwargs)\u001b[0m\n\u001b[1;32m   1742\u001b[0m \u001b[38;5;66;03m# If we don't have any hooks, we want to skip the rest of the logic in\u001b[39;00m\n\u001b[1;32m   1743\u001b[0m \u001b[38;5;66;03m# this function, and just call forward.\u001b[39;00m\n\u001b[1;32m   1744\u001b[0m \u001b[38;5;28;01mif\u001b[39;00m \u001b[38;5;129;01mnot\u001b[39;00m (\u001b[38;5;28mself\u001b[39m\u001b[38;5;241m.\u001b[39m_backward_hooks \u001b[38;5;129;01mor\u001b[39;00m \u001b[38;5;28mself\u001b[39m\u001b[38;5;241m.\u001b[39m_backward_pre_hooks \u001b[38;5;129;01mor\u001b[39;00m \u001b[38;5;28mself\u001b[39m\u001b[38;5;241m.\u001b[39m_forward_hooks \u001b[38;5;129;01mor\u001b[39;00m \u001b[38;5;28mself\u001b[39m\u001b[38;5;241m.\u001b[39m_forward_pre_hooks\n\u001b[1;32m   1745\u001b[0m         \u001b[38;5;129;01mor\u001b[39;00m _global_backward_pre_hooks \u001b[38;5;129;01mor\u001b[39;00m _global_backward_hooks\n\u001b[1;32m   1746\u001b[0m         \u001b[38;5;129;01mor\u001b[39;00m _global_forward_hooks \u001b[38;5;129;01mor\u001b[39;00m _global_forward_pre_hooks):\n\u001b[0;32m-> 1747\u001b[0m     \u001b[38;5;28;01mreturn\u001b[39;00m \u001b[43mforward_call\u001b[49m\u001b[43m(\u001b[49m\u001b[38;5;241;43m*\u001b[39;49m\u001b[43margs\u001b[49m\u001b[43m,\u001b[49m\u001b[43m \u001b[49m\u001b[38;5;241;43m*\u001b[39;49m\u001b[38;5;241;43m*\u001b[39;49m\u001b[43mkwargs\u001b[49m\u001b[43m)\u001b[49m\n\u001b[1;32m   1749\u001b[0m result \u001b[38;5;241m=\u001b[39m \u001b[38;5;28;01mNone\u001b[39;00m\n\u001b[1;32m   1750\u001b[0m called_always_called_hooks \u001b[38;5;241m=\u001b[39m \u001b[38;5;28mset\u001b[39m()\n",
      "File \u001b[0;32m~/athena-venv/lib/python3.10/site-packages/unsloth/models/llama.py:508\u001b[0m, in \u001b[0;36mLlamaDecoderLayer_fast_forward\u001b[0;34m(self, hidden_states, causal_mask, attention_mask, position_ids, past_key_value, output_attentions, use_cache, padding_mask, position_embeddings, *args, **kwargs)\u001b[0m\n\u001b[1;32m    506\u001b[0m residual \u001b[38;5;241m=\u001b[39m hidden_states\n\u001b[1;32m    507\u001b[0m hidden_states \u001b[38;5;241m=\u001b[39m fast_rms_layernorm(\u001b[38;5;28mself\u001b[39m\u001b[38;5;241m.\u001b[39minput_layernorm, hidden_states)\n\u001b[0;32m--> 508\u001b[0m hidden_states, self_attn_weights, present_key_value \u001b[38;5;241m=\u001b[39m \u001b[38;5;28;43mself\u001b[39;49m\u001b[38;5;241;43m.\u001b[39;49m\u001b[43mself_attn\u001b[49m\u001b[43m(\u001b[49m\n\u001b[1;32m    509\u001b[0m \u001b[43m    \u001b[49m\u001b[43mhidden_states\u001b[49m\u001b[43m       \u001b[49m\u001b[38;5;241;43m=\u001b[39;49m\u001b[43m \u001b[49m\u001b[43mhidden_states\u001b[49m\u001b[43m,\u001b[49m\n\u001b[1;32m    510\u001b[0m \u001b[43m    \u001b[49m\u001b[43mcausal_mask\u001b[49m\u001b[43m         \u001b[49m\u001b[38;5;241;43m=\u001b[39;49m\u001b[43m \u001b[49m\u001b[43mcausal_mask\u001b[49m\u001b[43m,\u001b[49m\n\u001b[1;32m    511\u001b[0m \u001b[43m    \u001b[49m\u001b[43mattention_mask\u001b[49m\u001b[43m      \u001b[49m\u001b[38;5;241;43m=\u001b[39;49m\u001b[43m \u001b[49m\u001b[43mattention_mask\u001b[49m\u001b[43m,\u001b[49m\n\u001b[1;32m    512\u001b[0m \u001b[43m    \u001b[49m\u001b[43mposition_ids\u001b[49m\u001b[43m        \u001b[49m\u001b[38;5;241;43m=\u001b[39;49m\u001b[43m \u001b[49m\u001b[43mposition_ids\u001b[49m\u001b[43m,\u001b[49m\n\u001b[1;32m    513\u001b[0m \u001b[43m    \u001b[49m\u001b[43mpast_key_value\u001b[49m\u001b[43m      \u001b[49m\u001b[38;5;241;43m=\u001b[39;49m\u001b[43m \u001b[49m\u001b[43mpast_key_value\u001b[49m\u001b[43m,\u001b[49m\n\u001b[1;32m    514\u001b[0m \u001b[43m    \u001b[49m\u001b[43moutput_attentions\u001b[49m\u001b[43m   \u001b[49m\u001b[38;5;241;43m=\u001b[39;49m\u001b[43m \u001b[49m\u001b[43moutput_attentions\u001b[49m\u001b[43m,\u001b[49m\n\u001b[1;32m    515\u001b[0m \u001b[43m    \u001b[49m\u001b[43muse_cache\u001b[49m\u001b[43m           \u001b[49m\u001b[38;5;241;43m=\u001b[39;49m\u001b[43m \u001b[49m\u001b[43muse_cache\u001b[49m\u001b[43m,\u001b[49m\n\u001b[1;32m    516\u001b[0m \u001b[43m    \u001b[49m\u001b[43mpadding_mask\u001b[49m\u001b[43m        \u001b[49m\u001b[38;5;241;43m=\u001b[39;49m\u001b[43m \u001b[49m\u001b[43mpadding_mask\u001b[49m\u001b[43m,\u001b[49m\n\u001b[1;32m    517\u001b[0m \u001b[43m    \u001b[49m\u001b[43mposition_embeddings\u001b[49m\u001b[43m \u001b[49m\u001b[38;5;241;43m=\u001b[39;49m\u001b[43m \u001b[49m\u001b[43mposition_embeddings\u001b[49m\u001b[43m,\u001b[49m\n\u001b[1;32m    518\u001b[0m \u001b[43m\u001b[49m\u001b[43m)\u001b[49m\n\u001b[1;32m    519\u001b[0m hidden_states \u001b[38;5;241m=\u001b[39m residual \u001b[38;5;241m+\u001b[39m hidden_states\n\u001b[1;32m    521\u001b[0m \u001b[38;5;66;03m# Fully Connected\u001b[39;00m\n",
      "File \u001b[0;32m~/athena-venv/lib/python3.10/site-packages/torch/nn/modules/module.py:1736\u001b[0m, in \u001b[0;36mModule._wrapped_call_impl\u001b[0;34m(self, *args, **kwargs)\u001b[0m\n\u001b[1;32m   1734\u001b[0m     \u001b[38;5;28;01mreturn\u001b[39;00m \u001b[38;5;28mself\u001b[39m\u001b[38;5;241m.\u001b[39m_compiled_call_impl(\u001b[38;5;241m*\u001b[39margs, \u001b[38;5;241m*\u001b[39m\u001b[38;5;241m*\u001b[39mkwargs)  \u001b[38;5;66;03m# type: ignore[misc]\u001b[39;00m\n\u001b[1;32m   1735\u001b[0m \u001b[38;5;28;01melse\u001b[39;00m:\n\u001b[0;32m-> 1736\u001b[0m     \u001b[38;5;28;01mreturn\u001b[39;00m \u001b[38;5;28;43mself\u001b[39;49m\u001b[38;5;241;43m.\u001b[39;49m\u001b[43m_call_impl\u001b[49m\u001b[43m(\u001b[49m\u001b[38;5;241;43m*\u001b[39;49m\u001b[43margs\u001b[49m\u001b[43m,\u001b[49m\u001b[43m \u001b[49m\u001b[38;5;241;43m*\u001b[39;49m\u001b[38;5;241;43m*\u001b[39;49m\u001b[43mkwargs\u001b[49m\u001b[43m)\u001b[49m\n",
      "File \u001b[0;32m~/athena-venv/lib/python3.10/site-packages/torch/nn/modules/module.py:1747\u001b[0m, in \u001b[0;36mModule._call_impl\u001b[0;34m(self, *args, **kwargs)\u001b[0m\n\u001b[1;32m   1742\u001b[0m \u001b[38;5;66;03m# If we don't have any hooks, we want to skip the rest of the logic in\u001b[39;00m\n\u001b[1;32m   1743\u001b[0m \u001b[38;5;66;03m# this function, and just call forward.\u001b[39;00m\n\u001b[1;32m   1744\u001b[0m \u001b[38;5;28;01mif\u001b[39;00m \u001b[38;5;129;01mnot\u001b[39;00m (\u001b[38;5;28mself\u001b[39m\u001b[38;5;241m.\u001b[39m_backward_hooks \u001b[38;5;129;01mor\u001b[39;00m \u001b[38;5;28mself\u001b[39m\u001b[38;5;241m.\u001b[39m_backward_pre_hooks \u001b[38;5;129;01mor\u001b[39;00m \u001b[38;5;28mself\u001b[39m\u001b[38;5;241m.\u001b[39m_forward_hooks \u001b[38;5;129;01mor\u001b[39;00m \u001b[38;5;28mself\u001b[39m\u001b[38;5;241m.\u001b[39m_forward_pre_hooks\n\u001b[1;32m   1745\u001b[0m         \u001b[38;5;129;01mor\u001b[39;00m _global_backward_pre_hooks \u001b[38;5;129;01mor\u001b[39;00m _global_backward_hooks\n\u001b[1;32m   1746\u001b[0m         \u001b[38;5;129;01mor\u001b[39;00m _global_forward_hooks \u001b[38;5;129;01mor\u001b[39;00m _global_forward_pre_hooks):\n\u001b[0;32m-> 1747\u001b[0m     \u001b[38;5;28;01mreturn\u001b[39;00m \u001b[43mforward_call\u001b[49m\u001b[43m(\u001b[49m\u001b[38;5;241;43m*\u001b[39;49m\u001b[43margs\u001b[49m\u001b[43m,\u001b[49m\u001b[43m \u001b[49m\u001b[38;5;241;43m*\u001b[39;49m\u001b[38;5;241;43m*\u001b[39;49m\u001b[43mkwargs\u001b[49m\u001b[43m)\u001b[49m\n\u001b[1;32m   1749\u001b[0m result \u001b[38;5;241m=\u001b[39m \u001b[38;5;28;01mNone\u001b[39;00m\n\u001b[1;32m   1750\u001b[0m called_always_called_hooks \u001b[38;5;241m=\u001b[39m \u001b[38;5;28mset\u001b[39m()\n",
      "File \u001b[0;32m~/athena-venv/lib/python3.10/site-packages/unsloth/models/mistral.py:166\u001b[0m, in \u001b[0;36mMistralAttention_fast_forward\u001b[0;34m(self, hidden_states, causal_mask, attention_mask, position_ids, past_key_value, output_attentions, use_cache, padding_mask, position_embeddings, *args, **kwargs)\u001b[0m\n\u001b[1;32m    163\u001b[0m \u001b[38;5;28;01mpass\u001b[39;00m\n\u001b[1;32m    165\u001b[0m attn_output \u001b[38;5;241m=\u001b[39m A\u001b[38;5;241m.\u001b[39mreshape(bsz, q_len, n_heads\u001b[38;5;241m*\u001b[39mhead_dim)\n\u001b[0;32m--> 166\u001b[0m attn_output \u001b[38;5;241m=\u001b[39m \u001b[38;5;28;43mself\u001b[39;49m\u001b[38;5;241;43m.\u001b[39;49m\u001b[43mapply_o\u001b[49m\u001b[43m(\u001b[49m\u001b[38;5;28;43mself\u001b[39;49m\u001b[43m,\u001b[49m\u001b[43m \u001b[49m\u001b[43mattn_output\u001b[49m\u001b[43m)\u001b[49m\n\u001b[1;32m    167\u001b[0m attn_weights \u001b[38;5;241m=\u001b[39m \u001b[38;5;28;01mNone\u001b[39;00m\n\u001b[1;32m    168\u001b[0m \u001b[38;5;28;01mreturn\u001b[39;00m attn_output, attn_weights, past_key_value\n",
      "File \u001b[0;32m~/athena-venv/lib/python3.10/site-packages/unsloth/kernels/fast_lora.py:410\u001b[0m, in \u001b[0;36mapply_lora_o\u001b[0;34m(self, X)\u001b[0m\n\u001b[1;32m    408\u001b[0m \u001b[38;5;28;01mdef\u001b[39;00m\u001b[38;5;250m \u001b[39m\u001b[38;5;21mapply_lora_o\u001b[39m(\u001b[38;5;28mself\u001b[39m, X):\n\u001b[1;32m    409\u001b[0m     OW, OW_quant, OA, OB, OS \u001b[38;5;241m=\u001b[39m get_lora_parameters(\u001b[38;5;28mself\u001b[39m\u001b[38;5;241m.\u001b[39mo_proj)\n\u001b[0;32m--> 410\u001b[0m     O \u001b[38;5;241m=\u001b[39m \u001b[43mLoRA_W\u001b[49m\u001b[38;5;241;43m.\u001b[39;49m\u001b[43mapply\u001b[49m\u001b[43m(\u001b[49m\u001b[43mX\u001b[49m\u001b[43m,\u001b[49m\u001b[43m \u001b[49m\u001b[43mOW\u001b[49m\u001b[43m,\u001b[49m\u001b[43m \u001b[49m\u001b[43mOW_quant\u001b[49m\u001b[43m,\u001b[49m\u001b[43m \u001b[49m\u001b[43mOA\u001b[49m\u001b[43m,\u001b[49m\u001b[43m \u001b[49m\u001b[43mOB\u001b[49m\u001b[43m,\u001b[49m\u001b[43m \u001b[49m\u001b[43mOS\u001b[49m\u001b[43m)\u001b[49m\n\u001b[1;32m    411\u001b[0m     \u001b[38;5;28;01mreturn\u001b[39;00m O\n",
      "File \u001b[0;32m~/athena-venv/lib/python3.10/site-packages/torch/autograd/function.py:575\u001b[0m, in \u001b[0;36mFunction.apply\u001b[0;34m(cls, *args, **kwargs)\u001b[0m\n\u001b[1;32m    572\u001b[0m \u001b[38;5;28;01mif\u001b[39;00m \u001b[38;5;129;01mnot\u001b[39;00m torch\u001b[38;5;241m.\u001b[39m_C\u001b[38;5;241m.\u001b[39m_are_functorch_transforms_active():\n\u001b[1;32m    573\u001b[0m     \u001b[38;5;66;03m# See NOTE: [functorch vjp and autograd interaction]\u001b[39;00m\n\u001b[1;32m    574\u001b[0m     args \u001b[38;5;241m=\u001b[39m _functorch\u001b[38;5;241m.\u001b[39mutils\u001b[38;5;241m.\u001b[39munwrap_dead_wrappers(args)\n\u001b[0;32m--> 575\u001b[0m     \u001b[38;5;28;01mreturn\u001b[39;00m \u001b[38;5;28;43msuper\u001b[39;49m\u001b[43m(\u001b[49m\u001b[43m)\u001b[49m\u001b[38;5;241;43m.\u001b[39;49m\u001b[43mapply\u001b[49m\u001b[43m(\u001b[49m\u001b[38;5;241;43m*\u001b[39;49m\u001b[43margs\u001b[49m\u001b[43m,\u001b[49m\u001b[43m \u001b[49m\u001b[38;5;241;43m*\u001b[39;49m\u001b[38;5;241;43m*\u001b[39;49m\u001b[43mkwargs\u001b[49m\u001b[43m)\u001b[49m  \u001b[38;5;66;03m# type: ignore[misc]\u001b[39;00m\n\u001b[1;32m    577\u001b[0m \u001b[38;5;28;01mif\u001b[39;00m \u001b[38;5;129;01mnot\u001b[39;00m is_setup_ctx_defined:\n\u001b[1;32m    578\u001b[0m     \u001b[38;5;28;01mraise\u001b[39;00m \u001b[38;5;167;01mRuntimeError\u001b[39;00m(\n\u001b[1;32m    579\u001b[0m         \u001b[38;5;124m\"\u001b[39m\u001b[38;5;124mIn order to use an autograd.Function with functorch transforms \u001b[39m\u001b[38;5;124m\"\u001b[39m\n\u001b[1;32m    580\u001b[0m         \u001b[38;5;124m\"\u001b[39m\u001b[38;5;124m(vmap, grad, jvp, jacrev, ...), it must override the setup_context \u001b[39m\u001b[38;5;124m\"\u001b[39m\n\u001b[1;32m    581\u001b[0m         \u001b[38;5;124m\"\u001b[39m\u001b[38;5;124mstaticmethod. For more details, please see \u001b[39m\u001b[38;5;124m\"\u001b[39m\n\u001b[1;32m    582\u001b[0m         \u001b[38;5;124m\"\u001b[39m\u001b[38;5;124mhttps://pytorch.org/docs/main/notes/extending.func.html\u001b[39m\u001b[38;5;124m\"\u001b[39m\n\u001b[1;32m    583\u001b[0m     )\n",
      "File \u001b[0;32m~/athena-venv/lib/python3.10/site-packages/torch/amp/autocast_mode.py:465\u001b[0m, in \u001b[0;36mcustom_fwd.<locals>.decorate_fwd\u001b[0;34m(*args, **kwargs)\u001b[0m\n\u001b[1;32m    463\u001b[0m \u001b[38;5;28;01mif\u001b[39;00m cast_inputs \u001b[38;5;129;01mis\u001b[39;00m \u001b[38;5;28;01mNone\u001b[39;00m:\n\u001b[1;32m    464\u001b[0m     args[\u001b[38;5;241m0\u001b[39m]\u001b[38;5;241m.\u001b[39m_fwd_used_autocast \u001b[38;5;241m=\u001b[39m torch\u001b[38;5;241m.\u001b[39mis_autocast_enabled(device_type)\n\u001b[0;32m--> 465\u001b[0m     \u001b[38;5;28;01mreturn\u001b[39;00m \u001b[43mfwd\u001b[49m\u001b[43m(\u001b[49m\u001b[38;5;241;43m*\u001b[39;49m\u001b[43margs\u001b[49m\u001b[43m,\u001b[49m\u001b[43m \u001b[49m\u001b[38;5;241;43m*\u001b[39;49m\u001b[38;5;241;43m*\u001b[39;49m\u001b[43mkwargs\u001b[49m\u001b[43m)\u001b[49m\n\u001b[1;32m    466\u001b[0m \u001b[38;5;28;01melse\u001b[39;00m:\n\u001b[1;32m    467\u001b[0m     autocast_context \u001b[38;5;241m=\u001b[39m torch\u001b[38;5;241m.\u001b[39mis_autocast_enabled(device_type)\n",
      "File \u001b[0;32m~/athena-venv/lib/python3.10/site-packages/unsloth/kernels/fast_lora.py:369\u001b[0m, in \u001b[0;36mLoRA_W.forward\u001b[0;34m(ctx, X, W, W_quant, A, B, S)\u001b[0m\n\u001b[1;32m    364\u001b[0m \u001b[38;5;129m@staticmethod\u001b[39m\n\u001b[1;32m    365\u001b[0m \u001b[38;5;129m@torch_amp_custom_fwd\u001b[39m\n\u001b[1;32m    366\u001b[0m \u001b[38;5;28;01mdef\u001b[39;00m\u001b[38;5;250m \u001b[39m\u001b[38;5;21mforward\u001b[39m(ctx, X : torch\u001b[38;5;241m.\u001b[39mTensor,\n\u001b[1;32m    367\u001b[0m             W, W_quant, A, B, S):\n\u001b[1;32m    368\u001b[0m     dtype \u001b[38;5;241m=\u001b[39m X\u001b[38;5;241m.\u001b[39mdtype\n\u001b[0;32m--> 369\u001b[0m     XW \u001b[38;5;241m=\u001b[39m \u001b[43mmatmul_lora\u001b[49m\u001b[43m(\u001b[49m\u001b[43mX\u001b[49m\u001b[43m,\u001b[49m\u001b[43m \u001b[49m\u001b[43mW\u001b[49m\u001b[43m,\u001b[49m\u001b[43m \u001b[49m\u001b[43mW_quant\u001b[49m\u001b[43m,\u001b[49m\u001b[43m \u001b[49m\u001b[43mA\u001b[49m\u001b[43m,\u001b[49m\u001b[43m \u001b[49m\u001b[43mB\u001b[49m\u001b[43m,\u001b[49m\u001b[43m \u001b[49m\u001b[43mS\u001b[49m\u001b[43m)\u001b[49m\n\u001b[1;32m    370\u001b[0m     ctx\u001b[38;5;241m.\u001b[39mcustom_saved_tensors \u001b[38;5;241m=\u001b[39m (W, W_quant, S,)\n\u001b[1;32m    371\u001b[0m     ctx\u001b[38;5;241m.\u001b[39msave_for_backward(A, B, X)\n",
      "File \u001b[0;32m~/athena-venv/lib/python3.10/site-packages/unsloth/kernels/utils.py:418\u001b[0m, in \u001b[0;36mmatmul_lora\u001b[0;34m(***failed resolving arguments***)\u001b[0m\n\u001b[1;32m    415\u001b[0m \u001b[38;5;28;01mif\u001b[39;00m A \u001b[38;5;129;01mis\u001b[39;00m \u001b[38;5;129;01mnot\u001b[39;00m \u001b[38;5;28;01mNone\u001b[39;00m:\n\u001b[1;32m    416\u001b[0m     \u001b[38;5;66;03m# LoRA is enabled\u001b[39;00m\n\u001b[1;32m    417\u001b[0m     A, B \u001b[38;5;241m=\u001b[39m A\u001b[38;5;241m.\u001b[39mt(), B\u001b[38;5;241m.\u001b[39mt()\n\u001b[0;32m--> 418\u001b[0m     out \u001b[38;5;241m+\u001b[39m\u001b[38;5;241m=\u001b[39m (X \u001b[38;5;241m@\u001b[39m A\u001b[38;5;241m.\u001b[39mto(dtype)) \u001b[38;5;241m@\u001b[39m (s \u001b[38;5;241m*\u001b[39m \u001b[43mB\u001b[49m\u001b[38;5;241;43m.\u001b[39;49m\u001b[43mto\u001b[49m\u001b[43m(\u001b[49m\u001b[43mdtype\u001b[49m\u001b[43m)\u001b[49m)\n\u001b[1;32m    419\u001b[0m \u001b[38;5;28;01mpass\u001b[39;00m\n\u001b[1;32m    421\u001b[0m \u001b[38;5;28;01mreturn\u001b[39;00m out\u001b[38;5;241m.\u001b[39mview(batch, seq_len, \u001b[38;5;241m-\u001b[39m\u001b[38;5;241m1\u001b[39m) \u001b[38;5;28;01mif\u001b[39;00m reshape \u001b[38;5;28;01melse\u001b[39;00m out\n",
      "\u001b[0;31mKeyboardInterrupt\u001b[0m: "
     ]
    }
   ],
   "source": [
    "# Apply classification\n",
    "predictions = []\n",
    "for review in test_df[\"whole_review\"]:\n",
    "    pred = classify_review(review)\n",
    "    predictions.append(pred)\n",
    "\n",
    "# Save results the dataframe\n",
    "test_df[\"predicted_label\"] = predictions\n",
    "test_df[\"true_label\"] = test_df[\"is_spoiler\"].apply(lambda x: \"spoiler\" if x else \"non-spoiler\")\n",
    "\n",
    "# View results\n",
    "test_df[[\"whole_review\", \"true_label\", \"predicted_label\"]].head()"
   ]
  },
  {
   "cell_type": "code",
   "execution_count": null,
   "id": "VslXLycCwpbC",
   "metadata": {
    "colab": {
     "base_uri": "https://localhost:8080/"
    },
    "id": "VslXLycCwpbC",
    "outputId": "d193d4b3-faa5-4b76-f07d-fcec71323fac"
   },
   "outputs": [],
   "source": [
    "from sklearn.metrics import classification_report\n",
    "print(classification_report(test_df[\"true_label\"], test_df[\"predicted_label\"], labels=[\"spoiler\", \"non-spoiler\"]))"
   ]
  },
  {
   "cell_type": "markdown",
   "id": "mcczTacwqZgP",
   "metadata": {
    "id": "mcczTacwqZgP"
   },
   "source": [
    "We observe that the model achieves a recall of 1.0 when treating \"spoiler\" as the positive class, and a recall of 0 when treating \"non-spoiler\" as positive. This indicates that the model classified all instances as spoilers. A likely cause is the low number of training steps, which we plan to address."
   ]
  },
  {
   "cell_type": "markdown",
   "id": "QnsXvfyNmhyf",
   "metadata": {
    "id": "QnsXvfyNmhyf"
   },
   "source": [
    "# Classify as spoiler/non-spoiler based on both the review and the plot"
   ]
  },
  {
   "cell_type": "markdown",
   "id": "5h1aN12pmp9N",
   "metadata": {
    "id": "5h1aN12pmp9N"
   },
   "source": [
    "Since the movie plots do not contain spoilers, we will train the LLM to classify reviews by incorporating both the review text and the plot information. We will then compare its performance to a baseline model that relies solely on the review text, to evaluate whether including the plot improves spoiler detection."
   ]
  },
  {
   "cell_type": "code",
   "execution_count": null,
   "id": "EuzbYF7puJtO",
   "metadata": {
    "id": "EuzbYF7puJtO"
   },
   "outputs": [],
   "source": [
    "# Create copy of training and test data (again)\n",
    "train_df = train_df_original.copy()\n",
    "test_df = test_df_original.copy()"
   ]
  },
  {
   "cell_type": "code",
   "execution_count": null,
   "id": "QXGRsTbF70qb",
   "metadata": {
    "colab": {
     "base_uri": "https://localhost:8080/"
    },
    "id": "QXGRsTbF70qb",
    "outputId": "c590f4b0-6ba2-447a-88d7-8d446061e716"
   },
   "outputs": [],
   "source": [
    "len(max(train_df.plot_synopsis))"
   ]
  },
  {
   "cell_type": "code",
   "execution_count": null,
   "id": "YGEYQ1A_tB-R",
   "metadata": {
    "colab": {
     "base_uri": "https://localhost:8080/"
    },
    "id": "YGEYQ1A_tB-R",
    "outputId": "9978cbb8-9e58-4c57-fa33-7c3df91ac6be"
   },
   "outputs": [],
   "source": [
    "# From FastLanguageModel return the model and the tokenizer\n",
    "model_wc, tokenizer_wc = FastLanguageModel.from_pretrained(\n",
    "    model_name = \"unsloth/mistral-7b-bnb-4bit\",\n",
    "    max_seq_length = 2048,\n",
    "    dtype = None,\n",
    "    load_in_4bit = True,\n",
    ")"
   ]
  },
  {
   "cell_type": "code",
   "execution_count": null,
   "id": "FfXngozItHfu",
   "metadata": {
    "id": "FfXngozItHfu"
   },
   "outputs": [],
   "source": [
    "# Prepare the model for fine tuning - update only some of the model's parameters\n",
    "model_wc = FastLanguageModel.get_peft_model(\n",
    "    model_wc,\n",
    "    r = 16,\n",
    "    target_modules = [\"q_proj\", \"k_proj\", \"v_proj\", \"o_proj\",\n",
    "                      \"gate_proj\", \"up_proj\", \"down_proj\",],\n",
    "    lora_alpha = 16,\n",
    "    lora_dropout = 0,\n",
    "    bias = \"none\",\n",
    "    use_gradient_checkpointing = \"unsloth\",\n",
    "    random_state = 3407,\n",
    "    use_rslora = False,\n",
    "    loftq_config = None,\n",
    ")"
   ]
  },
  {
   "cell_type": "code",
   "execution_count": null,
   "id": "GB39q4ORrU0n",
   "metadata": {
    "id": "GB39q4ORrU0n"
   },
   "outputs": [],
   "source": [
    "# Define prompt template\n",
    "alpaca_prompt_with_context = \"\"\"<s> [INST] {}\\n\\n{} [/INST] {}\"\"\"\n",
    "\n",
    "print(alpaca_prompt_with_context)"
   ]
  },
  {
   "cell_type": "code",
   "execution_count": null,
   "id": "b2825da7-bded-4fe9-a170-ba3a05609953",
   "metadata": {
    "id": "b2825da7-bded-4fe9-a170-ba3a05609953"
   },
   "outputs": [],
   "source": [
    "# Define prompt template\n",
    "# alpaca_prompt_with_context = \"\"\"You are a spoiler detection assistant. Use the provided plot summary and plot synopsis (which contain no spoilers) to help judge whether the review contains a spoiler.\n",
    "\n",
    "# ### Instruction:\n",
    "# Classify the following movie review as either 'spoiler' or 'non-spoiler'. You may use the plot summary and plot synopsis as context.\n",
    "\n",
    "# ### Input:\n",
    "# Review: {}\n",
    "# Plot Summary: {}\n",
    "# Plot Synopsis: {}\n",
    "\n",
    "# ### Response:\n",
    "# {}\"\"\""
   ]
  },
  {
   "cell_type": "code",
   "execution_count": null,
   "id": "c10d774e-b5d4-4577-b422-a299e7b2bdf9",
   "metadata": {
    "id": "c10d774e-b5d4-4577-b422-a299e7b2bdf9"
   },
   "outputs": [],
   "source": [
    "# Define a function that adds instruction, input, and output columns to our dataset\n",
    "def add_instruction_with_context(df):\n",
    "    df[\"instruction\"] = \"You are an experienced movie and series spoilers detector. Classify the following movie review as either 'spoiler' or 'non-spoiler'. You may use the plot summary and plot synopsis (which don't contain spoilers) as context.\"\n",
    "    df[\"input_summary\"] = df[\"plot_summary\"].fillna(\"\")\n",
    "    df[\"input_synopsis\"] = df[\"plot_synopsis\"].fillna(\"\")\n",
    "    df[\"input_review\"] = df[\"whole_review\"]\n",
    "    df[\"output\"] = df[\"is_spoiler\"].apply(lambda x: \"spoiler\" if x else \"non-spoiler\")\n",
    "    return df"
   ]
  },
  {
   "cell_type": "code",
   "execution_count": null,
   "id": "s1OfV1ginvEc",
   "metadata": {
    "id": "s1OfV1ginvEc"
   },
   "outputs": [],
   "source": [
    "# Add instruction, input and output columns to training and test dataframes\n",
    "train_df = add_instruction_with_context(train_df)\n",
    "\n",
    "# Convert training dataframe to HuggingFace Dataset\n",
    "train_dataset = Dataset.from_pandas(train_df)"
   ]
  },
  {
   "cell_type": "code",
   "execution_count": null,
   "id": "Bjsvu2mBpyvX",
   "metadata": {
    "id": "Bjsvu2mBpyvX"
   },
   "outputs": [],
   "source": [
    "# Function that converts dataset to instruction-style using the alpaca_prompt\n",
    "def formatting_prompts_func_with_context(examples):\n",
    "    summaries = examples[\"input_summary\"]\n",
    "    synopses  = examples[\"input_synopsis\"]\n",
    "    reviews   = examples[\"input_review\"]\n",
    "    outputs   = examples[\"output\"]\n",
    "    instructions = examples[\"instruction\"]\n",
    "\n",
    "    texts = []\n",
    "    for instruction, summary, synopsis, review, output in zip(instructions, summaries, synopses, reviews, outputs):\n",
    "        text = alpaca_prompt.format(summary, synopsis, review, output) + EOS_TOKEN\n",
    "        texts.append(text)\n",
    "    return { \"text\": texts }"
   ]
  },
  {
   "cell_type": "code",
   "execution_count": null,
   "id": "cc8Jt7llnv20",
   "metadata": {
    "colab": {
     "base_uri": "https://localhost:8080/",
     "height": 49,
     "referenced_widgets": [
      "5ef12111f3d646df82e6a37d173f1c89",
      "c11f8944168c4b7e9e1cf4bd53289ec4",
      "148026b1520644dd8e6eaa04f2134e95",
      "6165726e6f7848b6b30b3e3a3565bea3",
      "9d6394a0c8b6457697bc8a546e7d8c39",
      "4fc04cbdc0184ca792042f2b7a73e54f",
      "080a8a5f22fc4d9d87300906621287c2",
      "a46ceb633c784f53b5ea1bcd5b86f453",
      "8461fdfa85074f8da2c5468dbc7a07dd",
      "7287af8f89454179ae6565850611e3e4",
      "569cf7e57a674edd857ee1a465218dd7"
     ]
    },
    "id": "cc8Jt7llnv20",
    "outputId": "39fbcdb8-3be8-4d01-e6ce-31ecb5f28a3f"
   },
   "outputs": [],
   "source": [
    "# Convert training dataset to instruction-style\n",
    "train_dataset = train_dataset.map(formatting_prompts_func_with_context, batched = True,)"
   ]
  },
  {
   "cell_type": "markdown",
   "id": "MS6R8Me5sF5U",
   "metadata": {
    "id": "MS6R8Me5sF5U"
   },
   "source": [
    "# Train the model"
   ]
  },
  {
   "cell_type": "code",
   "execution_count": null,
   "id": "11d36O548y5m",
   "metadata": {
    "id": "11d36O548y5m"
   },
   "outputs": [],
   "source": [
    "from trl import SFTTrainer\n",
    "from transformers import TrainingArguments\n",
    "from unsloth import is_bfloat16_supported"
   ]
  },
  {
   "cell_type": "code",
   "execution_count": null,
   "id": "TS-a7UyUnv56",
   "metadata": {
    "colab": {
     "base_uri": "https://localhost:8080/",
     "height": 49,
     "referenced_widgets": [
      "62da08ed2a1c45d491c68c71246df6b3",
      "c161b672a7cd4c08b3b6e1fa609d2048",
      "2afdad4c23e9402394e6fab6f53fad32",
      "a2fbe3b794b9450c9e4a3bba8e6536b1",
      "5367cfdc97a346b1b68b67a0b7f29e62",
      "e03b08a3fa5b4e20afd647d5f69f975b",
      "01bd8408d0104bc39014413e9f40dd7c",
      "07fe106f52a94729997dfeb36fa2e4fd",
      "f4d09fc15f474155ab141501b6bbd7c4",
      "5c3bff6390ca40c6976f9335214fa197",
      "39e80d32786040838204ed7005ffa634"
     ]
    },
    "id": "TS-a7UyUnv56",
    "outputId": "9ace25d7-9bf0-4700-8e95-a8e5df6be0e0"
   },
   "outputs": [],
   "source": [
    "trainer_wc = SFTTrainer(\n",
    "    model = model_wc,\n",
    "    tokenizer = tokenizer_wc,\n",
    "    train_dataset = train_dataset,\n",
    "    dataset_text_field = \"text\",\n",
    "    max_seq_length = max_seq_length,\n",
    "    dataset_num_proc = 2,\n",
    "    packing = False, # Can make training 5x faster for short sequences.\n",
    "    args = TrainingArguments(\n",
    "        per_device_train_batch_size = 2,\n",
    "        gradient_accumulation_steps = 4,\n",
    "        warmup_steps = 5,\n",
    "        num_train_epochs = 1,\n",
    "        #max_steps = -1,\n",
    "        #max_steps = 60, # Set num_train_epochs = 1 for full training runs\n",
    "        learning_rate = 2e-4,\n",
    "        fp16 = not is_bfloat16_supported(),\n",
    "        bf16 = is_bfloat16_supported(),\n",
    "        logging_steps = 1,\n",
    "        optim = \"adamw_8bit\",\n",
    "        weight_decay = 0.01,\n",
    "        lr_scheduler_type = \"linear\",\n",
    "        seed = 3407,\n",
    "        output_dir = \"outputs\",\n",
    "    ),\n",
    ")"
   ]
  },
  {
   "cell_type": "code",
   "execution_count": null,
   "id": "s76h25SRnv9g",
   "metadata": {
    "colab": {
     "base_uri": "https://localhost:8080/",
     "height": 1000
    },
    "id": "s76h25SRnv9g",
    "outputId": "071883cc-3fce-47e6-fc5c-3026e406037d"
   },
   "outputs": [],
   "source": [
    "# Train the model (fine-tune) and save training statistics into trainer_stats\n",
    "trainer_stats_wc = trainer_wc.train()"
   ]
  },
  {
   "cell_type": "markdown",
   "id": "IPYqgPh5vPII",
   "metadata": {
    "id": "IPYqgPh5vPII"
   },
   "source": [
    "# Save the model locally"
   ]
  },
  {
   "cell_type": "code",
   "execution_count": null,
   "id": "8DX39dPfnwDQ",
   "metadata": {
    "colab": {
     "base_uri": "https://localhost:8080/"
    },
    "id": "8DX39dPfnwDQ",
    "outputId": "d10c9f3e-e264-4d97-9ab8-4c5e3c036d7c"
   },
   "outputs": [],
   "source": [
    "model_wc.save_pretrained(\"spoiler_classification_with_context_LLM\")\n",
    "tokenizer_wc.save_pretrained(\"spoiler_classification_with_context_LLM\")"
   ]
  },
  {
   "cell_type": "markdown",
   "id": "4AnygPp9vdKd",
   "metadata": {
    "id": "4AnygPp9vdKd"
   },
   "source": [
    "# Test on unseen data"
   ]
  },
  {
   "cell_type": "code",
   "execution_count": null,
   "id": "dmRsj5T5sYaK",
   "metadata": {
    "id": "dmRsj5T5sYaK"
   },
   "outputs": [],
   "source": [
    "model2 = trainer_wc.model"
   ]
  },
  {
   "cell_type": "code",
   "execution_count": null,
   "id": "1In2mmwJvWDg",
   "metadata": {
    "id": "1In2mmwJvWDg"
   },
   "outputs": [],
   "source": [
    "# Enable fast inference with Unsloth\n",
    "FastLanguageModel.for_inference(model2)\n",
    "\n",
    "# Instruction string (same as in training)\n",
    "instruction_text = \"You are an experienced movie and series spoilers detector. Classify the following movie review as either 'spoiler' or 'non-spoiler'. You may use the plot summary and plot synopsis (which don't contain spoilers) as context.\"\n",
    "\n",
    "# Function to classify a single review\n",
    "def classify_review(review_text, summary_text, synopsis_text):\n",
    "\n",
    "    formatted_prompt = alpaca_prompt_with_context.format(review_text, summary_text, synopsis_text, \"\")\n",
    "    inputs = tokenizer_wc([formatted_prompt], return_tensors=\"pt\").to(\"cuda\")\n",
    "    outputs = model2.generate(**inputs, max_new_tokens=10, use_cache=True)\n",
    "    decoded = tokenizer_wc.batch_decode(outputs, skip_special_tokens=True)[0]\n",
    "\n",
    "    return decoded.split(\"### Response:\")[1].replace(' ', '')[:12]\n",
    "\n",
    "    # # Clean output\n",
    "    # if \"spoiler\" in decoded.lower():\n",
    "    #     if \"non-spoiler\" in decoded.lower() and decoded.lower().index(\"non-spoiler\") < decoded.lower().index(\"spoiler\"):\n",
    "    #         return \"non-spoiler\"\n",
    "    #     return \"spoiler\"\n",
    "    # return \"non-spoiler\""
   ]
  },
  {
   "cell_type": "code",
   "execution_count": null,
   "id": "q2osktmTnwIr",
   "metadata": {
    "colab": {
     "base_uri": "https://localhost:8080/",
     "height": 418
    },
    "id": "q2osktmTnwIr",
    "outputId": "39bfd273-1baa-49c4-a984-cf34f55b6aff"
   },
   "outputs": [],
   "source": [
    "# Apply classification on test data\n",
    "predictions = []\n",
    "for _, row in test_df.iterrows():\n",
    "    pred = classify_review(row[\"whole_review\"], row[\"plot_summary\"], row[\"plot_synopsis\"])\n",
    "    predictions.append(pred)\n",
    "\n",
    "# Save results in the dataframe\n",
    "test_df[\"predicted_label\"] = predictions\n",
    "test_df[\"true_label\"] = test_df[\"is_spoiler\"].apply(lambda x: \"spoiler\" if x else \"non-spoiler\")\n",
    "\n",
    "# View results\n",
    "test_df[[\"whole_review\", \"true_label\", \"predicted_label\"]].head()"
   ]
  },
  {
   "cell_type": "code",
   "execution_count": null,
   "id": "3LyKZXYLnwK8",
   "metadata": {
    "id": "3LyKZXYLnwK8"
   },
   "outputs": [],
   "source": [
    "# Print classification report\n",
    "print(classification_report(test_df[\"true_label\"], test_df[\"predicted_label\"], labels=[\"spoiler\", \"non-spoiler\"]))"
   ]
  }
 ],
 "metadata": {
  "accelerator": "GPU",
  "colab": {
   "gpuType": "T4",
   "provenance": []
  },
  "kernelspec": {
   "display_name": "Python 3 (ipykernel)",
   "language": "python",
   "name": "python3"
  },
  "language_info": {
   "codemirror_mode": {
    "name": "ipython",
    "version": 3
   },
   "file_extension": ".py",
   "mimetype": "text/x-python",
   "name": "python",
   "nbconvert_exporter": "python",
   "pygments_lexer": "ipython3",
   "version": "3.10.12"
  },
  "widgets": {
   "application/vnd.jupyter.widget-state+json": {
    "01bd8408d0104bc39014413e9f40dd7c": {
     "model_module": "@jupyter-widgets/controls",
     "model_module_version": "1.5.0",
     "model_name": "DescriptionStyleModel",
     "state": {
      "_model_module": "@jupyter-widgets/controls",
      "_model_module_version": "1.5.0",
      "_model_name": "DescriptionStyleModel",
      "_view_count": null,
      "_view_module": "@jupyter-widgets/base",
      "_view_module_version": "1.2.0",
      "_view_name": "StyleView",
      "description_width": ""
     }
    },
    "04b62a9c37b64d44a0d602e3a41f6657": {
     "model_module": "@jupyter-widgets/controls",
     "model_module_version": "1.5.0",
     "model_name": "HTMLModel",
     "state": {
      "_dom_classes": [],
      "_model_module": "@jupyter-widgets/controls",
      "_model_module_version": "1.5.0",
      "_model_name": "HTMLModel",
      "_view_count": null,
      "_view_module": "@jupyter-widgets/controls",
      "_view_module_version": "1.5.0",
      "_view_name": "HTMLView",
      "description": "",
      "description_tooltip": null,
      "layout": "IPY_MODEL_7ad1e651786a4bcf94bc5bcd9ff66308",
      "placeholder": "​",
      "style": "IPY_MODEL_a45af0029d9645dba34a2cd7b75274c9",
      "value": "special_tokens_map.json: 100%"
     }
    },
    "07fe106f52a94729997dfeb36fa2e4fd": {
     "model_module": "@jupyter-widgets/base",
     "model_module_version": "1.2.0",
     "model_name": "LayoutModel",
     "state": {
      "_model_module": "@jupyter-widgets/base",
      "_model_module_version": "1.2.0",
      "_model_name": "LayoutModel",
      "_view_count": null,
      "_view_module": "@jupyter-widgets/base",
      "_view_module_version": "1.2.0",
      "_view_name": "LayoutView",
      "align_content": null,
      "align_items": null,
      "align_self": null,
      "border": null,
      "bottom": null,
      "display": null,
      "flex": null,
      "flex_flow": null,
      "grid_area": null,
      "grid_auto_columns": null,
      "grid_auto_flow": null,
      "grid_auto_rows": null,
      "grid_column": null,
      "grid_gap": null,
      "grid_row": null,
      "grid_template_areas": null,
      "grid_template_columns": null,
      "grid_template_rows": null,
      "height": null,
      "justify_content": null,
      "justify_items": null,
      "left": null,
      "margin": null,
      "max_height": null,
      "max_width": null,
      "min_height": null,
      "min_width": null,
      "object_fit": null,
      "object_position": null,
      "order": null,
      "overflow": null,
      "overflow_x": null,
      "overflow_y": null,
      "padding": null,
      "right": null,
      "top": null,
      "visibility": null,
      "width": null
     }
    },
    "080a8a5f22fc4d9d87300906621287c2": {
     "model_module": "@jupyter-widgets/controls",
     "model_module_version": "1.5.0",
     "model_name": "DescriptionStyleModel",
     "state": {
      "_model_module": "@jupyter-widgets/controls",
      "_model_module_version": "1.5.0",
      "_model_name": "DescriptionStyleModel",
      "_view_count": null,
      "_view_module": "@jupyter-widgets/base",
      "_view_module_version": "1.2.0",
      "_view_name": "StyleView",
      "description_width": ""
     }
    },
    "0ad83ec7c75547c9ad23ff03e03312bb": {
     "model_module": "@jupyter-widgets/base",
     "model_module_version": "1.2.0",
     "model_name": "LayoutModel",
     "state": {
      "_model_module": "@jupyter-widgets/base",
      "_model_module_version": "1.2.0",
      "_model_name": "LayoutModel",
      "_view_count": null,
      "_view_module": "@jupyter-widgets/base",
      "_view_module_version": "1.2.0",
      "_view_name": "LayoutView",
      "align_content": null,
      "align_items": null,
      "align_self": null,
      "border": null,
      "bottom": null,
      "display": null,
      "flex": null,
      "flex_flow": null,
      "grid_area": null,
      "grid_auto_columns": null,
      "grid_auto_flow": null,
      "grid_auto_rows": null,
      "grid_column": null,
      "grid_gap": null,
      "grid_row": null,
      "grid_template_areas": null,
      "grid_template_columns": null,
      "grid_template_rows": null,
      "height": null,
      "justify_content": null,
      "justify_items": null,
      "left": null,
      "margin": null,
      "max_height": null,
      "max_width": null,
      "min_height": null,
      "min_width": null,
      "object_fit": null,
      "object_position": null,
      "order": null,
      "overflow": null,
      "overflow_x": null,
      "overflow_y": null,
      "padding": null,
      "right": null,
      "top": null,
      "visibility": null,
      "width": null
     }
    },
    "0c4f11bc06b043c98c167f28c771d461": {
     "model_module": "@jupyter-widgets/controls",
     "model_module_version": "1.5.0",
     "model_name": "HTMLModel",
     "state": {
      "_dom_classes": [],
      "_model_module": "@jupyter-widgets/controls",
      "_model_module_version": "1.5.0",
      "_model_name": "HTMLModel",
      "_view_count": null,
      "_view_module": "@jupyter-widgets/controls",
      "_view_module_version": "1.5.0",
      "_view_name": "HTMLView",
      "description": "",
      "description_tooltip": null,
      "layout": "IPY_MODEL_0ad83ec7c75547c9ad23ff03e03312bb",
      "placeholder": "​",
      "style": "IPY_MODEL_c85dd397cb4e4d4f80113fd043fcd16e",
      "value": " 1.02k/1.02k [00:00&lt;00:00, 116kB/s]"
     }
    },
    "0d9b6d2f0258418e83f3301a65846099": {
     "model_module": "@jupyter-widgets/base",
     "model_module_version": "1.2.0",
     "model_name": "LayoutModel",
     "state": {
      "_model_module": "@jupyter-widgets/base",
      "_model_module_version": "1.2.0",
      "_model_name": "LayoutModel",
      "_view_count": null,
      "_view_module": "@jupyter-widgets/base",
      "_view_module_version": "1.2.0",
      "_view_name": "LayoutView",
      "align_content": null,
      "align_items": null,
      "align_self": null,
      "border": null,
      "bottom": null,
      "display": null,
      "flex": null,
      "flex_flow": null,
      "grid_area": null,
      "grid_auto_columns": null,
      "grid_auto_flow": null,
      "grid_auto_rows": null,
      "grid_column": null,
      "grid_gap": null,
      "grid_row": null,
      "grid_template_areas": null,
      "grid_template_columns": null,
      "grid_template_rows": null,
      "height": null,
      "justify_content": null,
      "justify_items": null,
      "left": null,
      "margin": null,
      "max_height": null,
      "max_width": null,
      "min_height": null,
      "min_width": null,
      "object_fit": null,
      "object_position": null,
      "order": null,
      "overflow": null,
      "overflow_x": null,
      "overflow_y": null,
      "padding": null,
      "right": null,
      "top": null,
      "visibility": null,
      "width": null
     }
    },
    "0e04a30af0de4596aed6555ba44f44af": {
     "model_module": "@jupyter-widgets/base",
     "model_module_version": "1.2.0",
     "model_name": "LayoutModel",
     "state": {
      "_model_module": "@jupyter-widgets/base",
      "_model_module_version": "1.2.0",
      "_model_name": "LayoutModel",
      "_view_count": null,
      "_view_module": "@jupyter-widgets/base",
      "_view_module_version": "1.2.0",
      "_view_name": "LayoutView",
      "align_content": null,
      "align_items": null,
      "align_self": null,
      "border": null,
      "bottom": null,
      "display": null,
      "flex": null,
      "flex_flow": null,
      "grid_area": null,
      "grid_auto_columns": null,
      "grid_auto_flow": null,
      "grid_auto_rows": null,
      "grid_column": null,
      "grid_gap": null,
      "grid_row": null,
      "grid_template_areas": null,
      "grid_template_columns": null,
      "grid_template_rows": null,
      "height": null,
      "justify_content": null,
      "justify_items": null,
      "left": null,
      "margin": null,
      "max_height": null,
      "max_width": null,
      "min_height": null,
      "min_width": null,
      "object_fit": null,
      "object_position": null,
      "order": null,
      "overflow": null,
      "overflow_x": null,
      "overflow_y": null,
      "padding": null,
      "right": null,
      "top": null,
      "visibility": null,
      "width": null
     }
    },
    "0ebab1ab37314b3ab9782685d044fcd5": {
     "model_module": "@jupyter-widgets/controls",
     "model_module_version": "1.5.0",
     "model_name": "HBoxModel",
     "state": {
      "_dom_classes": [],
      "_model_module": "@jupyter-widgets/controls",
      "_model_module_version": "1.5.0",
      "_model_name": "HBoxModel",
      "_view_count": null,
      "_view_module": "@jupyter-widgets/controls",
      "_view_module_version": "1.5.0",
      "_view_name": "HBoxView",
      "box_style": "",
      "children": [
       "IPY_MODEL_c80bde8780114c2797cd62e0d20a7cb6",
       "IPY_MODEL_5d489adefcc44a02ab93da90fb948f46",
       "IPY_MODEL_2e7c0c37f6554e16b95382c7082e0934"
      ],
      "layout": "IPY_MODEL_c0aa38f0db6047b8958a835f3fb92629"
     }
    },
    "0f3565c3f0804474995216365086de07": {
     "model_module": "@jupyter-widgets/base",
     "model_module_version": "1.2.0",
     "model_name": "LayoutModel",
     "state": {
      "_model_module": "@jupyter-widgets/base",
      "_model_module_version": "1.2.0",
      "_model_name": "LayoutModel",
      "_view_count": null,
      "_view_module": "@jupyter-widgets/base",
      "_view_module_version": "1.2.0",
      "_view_name": "LayoutView",
      "align_content": null,
      "align_items": null,
      "align_self": null,
      "border": null,
      "bottom": null,
      "display": null,
      "flex": null,
      "flex_flow": null,
      "grid_area": null,
      "grid_auto_columns": null,
      "grid_auto_flow": null,
      "grid_auto_rows": null,
      "grid_column": null,
      "grid_gap": null,
      "grid_row": null,
      "grid_template_areas": null,
      "grid_template_columns": null,
      "grid_template_rows": null,
      "height": null,
      "justify_content": null,
      "justify_items": null,
      "left": null,
      "margin": null,
      "max_height": null,
      "max_width": null,
      "min_height": null,
      "min_width": null,
      "object_fit": null,
      "object_position": null,
      "order": null,
      "overflow": null,
      "overflow_x": null,
      "overflow_y": null,
      "padding": null,
      "right": null,
      "top": null,
      "visibility": null,
      "width": null
     }
    },
    "143e8b39061f40fb9111643c0f4c47e1": {
     "model_module": "@jupyter-widgets/controls",
     "model_module_version": "1.5.0",
     "model_name": "DescriptionStyleModel",
     "state": {
      "_model_module": "@jupyter-widgets/controls",
      "_model_module_version": "1.5.0",
      "_model_name": "DescriptionStyleModel",
      "_view_count": null,
      "_view_module": "@jupyter-widgets/base",
      "_view_module_version": "1.2.0",
      "_view_name": "StyleView",
      "description_width": ""
     }
    },
    "148026b1520644dd8e6eaa04f2134e95": {
     "model_module": "@jupyter-widgets/controls",
     "model_module_version": "1.5.0",
     "model_name": "FloatProgressModel",
     "state": {
      "_dom_classes": [],
      "_model_module": "@jupyter-widgets/controls",
      "_model_module_version": "1.5.0",
      "_model_name": "FloatProgressModel",
      "_view_count": null,
      "_view_module": "@jupyter-widgets/controls",
      "_view_module_version": "1.5.0",
      "_view_name": "ProgressView",
      "bar_style": "success",
      "description": "",
      "description_tooltip": null,
      "layout": "IPY_MODEL_a46ceb633c784f53b5ea1bcd5b86f453",
      "max": 4268,
      "min": 0,
      "orientation": "horizontal",
      "style": "IPY_MODEL_8461fdfa85074f8da2c5468dbc7a07dd",
      "value": 4268
     }
    },
    "1ab631a9851b4ef1819a02f1886784d2": {
     "model_module": "@jupyter-widgets/controls",
     "model_module_version": "1.5.0",
     "model_name": "ProgressStyleModel",
     "state": {
      "_model_module": "@jupyter-widgets/controls",
      "_model_module_version": "1.5.0",
      "_model_name": "ProgressStyleModel",
      "_view_count": null,
      "_view_module": "@jupyter-widgets/base",
      "_view_module_version": "1.2.0",
      "_view_name": "StyleView",
      "bar_color": null,
      "description_width": ""
     }
    },
    "1af1cb0ac0674523b02dcfcad559e0d7": {
     "model_module": "@jupyter-widgets/controls",
     "model_module_version": "1.5.0",
     "model_name": "HBoxModel",
     "state": {
      "_dom_classes": [],
      "_model_module": "@jupyter-widgets/controls",
      "_model_module_version": "1.5.0",
      "_model_name": "HBoxModel",
      "_view_count": null,
      "_view_module": "@jupyter-widgets/controls",
      "_view_module_version": "1.5.0",
      "_view_name": "HBoxView",
      "box_style": "",
      "children": [
       "IPY_MODEL_dbf749b3cddd484bb446b76b61c2e3a7",
       "IPY_MODEL_228ef69cb3c44f3c89dc77076f22923b",
       "IPY_MODEL_e431324d33fb4a3fbe776442a3c6034f"
      ],
      "layout": "IPY_MODEL_b5d6f04dc4a7439f8b8f9914c564ddbe"
     }
    },
    "1e0ec2a0989247748dc738871fe5bec0": {
     "model_module": "@jupyter-widgets/controls",
     "model_module_version": "1.5.0",
     "model_name": "FloatProgressModel",
     "state": {
      "_dom_classes": [],
      "_model_module": "@jupyter-widgets/controls",
      "_model_module_version": "1.5.0",
      "_model_name": "FloatProgressModel",
      "_view_count": null,
      "_view_module": "@jupyter-widgets/controls",
      "_view_module_version": "1.5.0",
      "_view_name": "ProgressView",
      "bar_style": "success",
      "description": "",
      "description_tooltip": null,
      "layout": "IPY_MODEL_3337a9dc514c4d4ea04794d589d29423",
      "max": 1025,
      "min": 0,
      "orientation": "horizontal",
      "style": "IPY_MODEL_6a9c25fd39954862bced81c52e2cf5dd",
      "value": 1025
     }
    },
    "215635f87efe4210870eb2c20bd81422": {
     "model_module": "@jupyter-widgets/controls",
     "model_module_version": "1.5.0",
     "model_name": "DescriptionStyleModel",
     "state": {
      "_model_module": "@jupyter-widgets/controls",
      "_model_module_version": "1.5.0",
      "_model_name": "DescriptionStyleModel",
      "_view_count": null,
      "_view_module": "@jupyter-widgets/base",
      "_view_module_version": "1.2.0",
      "_view_name": "StyleView",
      "description_width": ""
     }
    },
    "21974f90ebf44dd8a364b7eb8b68fd58": {
     "model_module": "@jupyter-widgets/controls",
     "model_module_version": "1.5.0",
     "model_name": "FloatProgressModel",
     "state": {
      "_dom_classes": [],
      "_model_module": "@jupyter-widgets/controls",
      "_model_module_version": "1.5.0",
      "_model_name": "FloatProgressModel",
      "_view_count": null,
      "_view_module": "@jupyter-widgets/controls",
      "_view_module_version": "1.5.0",
      "_view_name": "ProgressView",
      "bar_style": "success",
      "description": "",
      "description_tooltip": null,
      "layout": "IPY_MODEL_3b4b04ed3a27418cac5a2455f6a8a96f",
      "max": 4268,
      "min": 0,
      "orientation": "horizontal",
      "style": "IPY_MODEL_bb4f8b23b8ec4ea9b236e15098edcecc",
      "value": 4268
     }
    },
    "228ef69cb3c44f3c89dc77076f22923b": {
     "model_module": "@jupyter-widgets/controls",
     "model_module_version": "1.5.0",
     "model_name": "FloatProgressModel",
     "state": {
      "_dom_classes": [],
      "_model_module": "@jupyter-widgets/controls",
      "_model_module_version": "1.5.0",
      "_model_name": "FloatProgressModel",
      "_view_count": null,
      "_view_module": "@jupyter-widgets/controls",
      "_view_module_version": "1.5.0",
      "_view_name": "ProgressView",
      "bar_style": "success",
      "description": "",
      "description_tooltip": null,
      "layout": "IPY_MODEL_5c40094d4fe54243ab214baf69c76982",
      "max": 155,
      "min": 0,
      "orientation": "horizontal",
      "style": "IPY_MODEL_33085212506246558b5719f0cf390b87",
      "value": 155
     }
    },
    "2afdad4c23e9402394e6fab6f53fad32": {
     "model_module": "@jupyter-widgets/controls",
     "model_module_version": "1.5.0",
     "model_name": "FloatProgressModel",
     "state": {
      "_dom_classes": [],
      "_model_module": "@jupyter-widgets/controls",
      "_model_module_version": "1.5.0",
      "_model_name": "FloatProgressModel",
      "_view_count": null,
      "_view_module": "@jupyter-widgets/controls",
      "_view_module_version": "1.5.0",
      "_view_name": "ProgressView",
      "bar_style": "success",
      "description": "",
      "description_tooltip": null,
      "layout": "IPY_MODEL_07fe106f52a94729997dfeb36fa2e4fd",
      "max": 4268,
      "min": 0,
      "orientation": "horizontal",
      "style": "IPY_MODEL_f4d09fc15f474155ab141501b6bbd7c4",
      "value": 4268
     }
    },
    "2ce27c8e0ebf4e7aa27c9ec4e70a5da7": {
     "model_module": "@jupyter-widgets/controls",
     "model_module_version": "1.5.0",
     "model_name": "FloatProgressModel",
     "state": {
      "_dom_classes": [],
      "_model_module": "@jupyter-widgets/controls",
      "_model_module_version": "1.5.0",
      "_model_name": "FloatProgressModel",
      "_view_count": null,
      "_view_module": "@jupyter-widgets/controls",
      "_view_module_version": "1.5.0",
      "_view_name": "ProgressView",
      "bar_style": "success",
      "description": "",
      "description_tooltip": null,
      "layout": "IPY_MODEL_4ef2ca971b4a4dcf95faf60773a22812",
      "max": 4268,
      "min": 0,
      "orientation": "horizontal",
      "style": "IPY_MODEL_541c2c71e9a64df69f2cbe1228788e0a",
      "value": 4268
     }
    },
    "2d8135de3c4f4824977555a1a4ebb8c3": {
     "model_module": "@jupyter-widgets/base",
     "model_module_version": "1.2.0",
     "model_name": "LayoutModel",
     "state": {
      "_model_module": "@jupyter-widgets/base",
      "_model_module_version": "1.2.0",
      "_model_name": "LayoutModel",
      "_view_count": null,
      "_view_module": "@jupyter-widgets/base",
      "_view_module_version": "1.2.0",
      "_view_name": "LayoutView",
      "align_content": null,
      "align_items": null,
      "align_self": null,
      "border": null,
      "bottom": null,
      "display": null,
      "flex": null,
      "flex_flow": null,
      "grid_area": null,
      "grid_auto_columns": null,
      "grid_auto_flow": null,
      "grid_auto_rows": null,
      "grid_column": null,
      "grid_gap": null,
      "grid_row": null,
      "grid_template_areas": null,
      "grid_template_columns": null,
      "grid_template_rows": null,
      "height": null,
      "justify_content": null,
      "justify_items": null,
      "left": null,
      "margin": null,
      "max_height": null,
      "max_width": null,
      "min_height": null,
      "min_width": null,
      "object_fit": null,
      "object_position": null,
      "order": null,
      "overflow": null,
      "overflow_x": null,
      "overflow_y": null,
      "padding": null,
      "right": null,
      "top": null,
      "visibility": null,
      "width": null
     }
    },
    "2e7c0c37f6554e16b95382c7082e0934": {
     "model_module": "@jupyter-widgets/controls",
     "model_module_version": "1.5.0",
     "model_name": "HTMLModel",
     "state": {
      "_dom_classes": [],
      "_model_module": "@jupyter-widgets/controls",
      "_model_module_version": "1.5.0",
      "_model_name": "HTMLModel",
      "_view_count": null,
      "_view_module": "@jupyter-widgets/controls",
      "_view_module_version": "1.5.0",
      "_view_name": "HTMLView",
      "description": "",
      "description_tooltip": null,
      "layout": "IPY_MODEL_341e85fb1b3c41f4912d8d4a95f167c2",
      "placeholder": "​",
      "style": "IPY_MODEL_4ff90584bb09415887e5867f53acc4c7",
      "value": " 4.13G/4.13G [00:35&lt;00:00, 595MB/s]"
     }
    },
    "2ff7f5d0fccc4f9395ab377869212f2a": {
     "model_module": "@jupyter-widgets/base",
     "model_module_version": "1.2.0",
     "model_name": "LayoutModel",
     "state": {
      "_model_module": "@jupyter-widgets/base",
      "_model_module_version": "1.2.0",
      "_model_name": "LayoutModel",
      "_view_count": null,
      "_view_module": "@jupyter-widgets/base",
      "_view_module_version": "1.2.0",
      "_view_name": "LayoutView",
      "align_content": null,
      "align_items": null,
      "align_self": null,
      "border": null,
      "bottom": null,
      "display": null,
      "flex": null,
      "flex_flow": null,
      "grid_area": null,
      "grid_auto_columns": null,
      "grid_auto_flow": null,
      "grid_auto_rows": null,
      "grid_column": null,
      "grid_gap": null,
      "grid_row": null,
      "grid_template_areas": null,
      "grid_template_columns": null,
      "grid_template_rows": null,
      "height": null,
      "justify_content": null,
      "justify_items": null,
      "left": null,
      "margin": null,
      "max_height": null,
      "max_width": null,
      "min_height": null,
      "min_width": null,
      "object_fit": null,
      "object_position": null,
      "order": null,
      "overflow": null,
      "overflow_x": null,
      "overflow_y": null,
      "padding": null,
      "right": null,
      "top": null,
      "visibility": null,
      "width": null
     }
    },
    "301f064c954b43abaaa9218803e98300": {
     "model_module": "@jupyter-widgets/controls",
     "model_module_version": "1.5.0",
     "model_name": "HTMLModel",
     "state": {
      "_dom_classes": [],
      "_model_module": "@jupyter-widgets/controls",
      "_model_module_version": "1.5.0",
      "_model_name": "HTMLModel",
      "_view_count": null,
      "_view_module": "@jupyter-widgets/controls",
      "_view_module_version": "1.5.0",
      "_view_name": "HTMLView",
      "description": "",
      "description_tooltip": null,
      "layout": "IPY_MODEL_4a00523e584b489191cb28190127c715",
      "placeholder": "​",
      "style": "IPY_MODEL_68d7cd3e93a8424f9b0b398ba26a3a0c",
      "value": " 493k/493k [00:00&lt;00:00, 16.8MB/s]"
     }
    },
    "30cfe05c41e749dbb9d4ff3f705d9d28": {
     "model_module": "@jupyter-widgets/base",
     "model_module_version": "1.2.0",
     "model_name": "LayoutModel",
     "state": {
      "_model_module": "@jupyter-widgets/base",
      "_model_module_version": "1.2.0",
      "_model_name": "LayoutModel",
      "_view_count": null,
      "_view_module": "@jupyter-widgets/base",
      "_view_module_version": "1.2.0",
      "_view_name": "LayoutView",
      "align_content": null,
      "align_items": null,
      "align_self": null,
      "border": null,
      "bottom": null,
      "display": null,
      "flex": null,
      "flex_flow": null,
      "grid_area": null,
      "grid_auto_columns": null,
      "grid_auto_flow": null,
      "grid_auto_rows": null,
      "grid_column": null,
      "grid_gap": null,
      "grid_row": null,
      "grid_template_areas": null,
      "grid_template_columns": null,
      "grid_template_rows": null,
      "height": null,
      "justify_content": null,
      "justify_items": null,
      "left": null,
      "margin": null,
      "max_height": null,
      "max_width": null,
      "min_height": null,
      "min_width": null,
      "object_fit": null,
      "object_position": null,
      "order": null,
      "overflow": null,
      "overflow_x": null,
      "overflow_y": null,
      "padding": null,
      "right": null,
      "top": null,
      "visibility": null,
      "width": null
     }
    },
    "33085212506246558b5719f0cf390b87": {
     "model_module": "@jupyter-widgets/controls",
     "model_module_version": "1.5.0",
     "model_name": "ProgressStyleModel",
     "state": {
      "_model_module": "@jupyter-widgets/controls",
      "_model_module_version": "1.5.0",
      "_model_name": "ProgressStyleModel",
      "_view_count": null,
      "_view_module": "@jupyter-widgets/base",
      "_view_module_version": "1.2.0",
      "_view_name": "StyleView",
      "bar_color": null,
      "description_width": ""
     }
    },
    "3337a9dc514c4d4ea04794d589d29423": {
     "model_module": "@jupyter-widgets/base",
     "model_module_version": "1.2.0",
     "model_name": "LayoutModel",
     "state": {
      "_model_module": "@jupyter-widgets/base",
      "_model_module_version": "1.2.0",
      "_model_name": "LayoutModel",
      "_view_count": null,
      "_view_module": "@jupyter-widgets/base",
      "_view_module_version": "1.2.0",
      "_view_name": "LayoutView",
      "align_content": null,
      "align_items": null,
      "align_self": null,
      "border": null,
      "bottom": null,
      "display": null,
      "flex": null,
      "flex_flow": null,
      "grid_area": null,
      "grid_auto_columns": null,
      "grid_auto_flow": null,
      "grid_auto_rows": null,
      "grid_column": null,
      "grid_gap": null,
      "grid_row": null,
      "grid_template_areas": null,
      "grid_template_columns": null,
      "grid_template_rows": null,
      "height": null,
      "justify_content": null,
      "justify_items": null,
      "left": null,
      "margin": null,
      "max_height": null,
      "max_width": null,
      "min_height": null,
      "min_width": null,
      "object_fit": null,
      "object_position": null,
      "order": null,
      "overflow": null,
      "overflow_x": null,
      "overflow_y": null,
      "padding": null,
      "right": null,
      "top": null,
      "visibility": null,
      "width": null
     }
    },
    "33be4d3760a2417cafd1282a279d80f7": {
     "model_module": "@jupyter-widgets/base",
     "model_module_version": "1.2.0",
     "model_name": "LayoutModel",
     "state": {
      "_model_module": "@jupyter-widgets/base",
      "_model_module_version": "1.2.0",
      "_model_name": "LayoutModel",
      "_view_count": null,
      "_view_module": "@jupyter-widgets/base",
      "_view_module_version": "1.2.0",
      "_view_name": "LayoutView",
      "align_content": null,
      "align_items": null,
      "align_self": null,
      "border": null,
      "bottom": null,
      "display": null,
      "flex": null,
      "flex_flow": null,
      "grid_area": null,
      "grid_auto_columns": null,
      "grid_auto_flow": null,
      "grid_auto_rows": null,
      "grid_column": null,
      "grid_gap": null,
      "grid_row": null,
      "grid_template_areas": null,
      "grid_template_columns": null,
      "grid_template_rows": null,
      "height": null,
      "justify_content": null,
      "justify_items": null,
      "left": null,
      "margin": null,
      "max_height": null,
      "max_width": null,
      "min_height": null,
      "min_width": null,
      "object_fit": null,
      "object_position": null,
      "order": null,
      "overflow": null,
      "overflow_x": null,
      "overflow_y": null,
      "padding": null,
      "right": null,
      "top": null,
      "visibility": null,
      "width": null
     }
    },
    "341e85fb1b3c41f4912d8d4a95f167c2": {
     "model_module": "@jupyter-widgets/base",
     "model_module_version": "1.2.0",
     "model_name": "LayoutModel",
     "state": {
      "_model_module": "@jupyter-widgets/base",
      "_model_module_version": "1.2.0",
      "_model_name": "LayoutModel",
      "_view_count": null,
      "_view_module": "@jupyter-widgets/base",
      "_view_module_version": "1.2.0",
      "_view_name": "LayoutView",
      "align_content": null,
      "align_items": null,
      "align_self": null,
      "border": null,
      "bottom": null,
      "display": null,
      "flex": null,
      "flex_flow": null,
      "grid_area": null,
      "grid_auto_columns": null,
      "grid_auto_flow": null,
      "grid_auto_rows": null,
      "grid_column": null,
      "grid_gap": null,
      "grid_row": null,
      "grid_template_areas": null,
      "grid_template_columns": null,
      "grid_template_rows": null,
      "height": null,
      "justify_content": null,
      "justify_items": null,
      "left": null,
      "margin": null,
      "max_height": null,
      "max_width": null,
      "min_height": null,
      "min_width": null,
      "object_fit": null,
      "object_position": null,
      "order": null,
      "overflow": null,
      "overflow_x": null,
      "overflow_y": null,
      "padding": null,
      "right": null,
      "top": null,
      "visibility": null,
      "width": null
     }
    },
    "370ea2599cdc4bc6b77b2f1cb2825364": {
     "model_module": "@jupyter-widgets/controls",
     "model_module_version": "1.5.0",
     "model_name": "DescriptionStyleModel",
     "state": {
      "_model_module": "@jupyter-widgets/controls",
      "_model_module_version": "1.5.0",
      "_model_name": "DescriptionStyleModel",
      "_view_count": null,
      "_view_module": "@jupyter-widgets/base",
      "_view_module_version": "1.2.0",
      "_view_name": "StyleView",
      "description_width": ""
     }
    },
    "39e80d32786040838204ed7005ffa634": {
     "model_module": "@jupyter-widgets/controls",
     "model_module_version": "1.5.0",
     "model_name": "DescriptionStyleModel",
     "state": {
      "_model_module": "@jupyter-widgets/controls",
      "_model_module_version": "1.5.0",
      "_model_name": "DescriptionStyleModel",
      "_view_count": null,
      "_view_module": "@jupyter-widgets/base",
      "_view_module_version": "1.2.0",
      "_view_name": "StyleView",
      "description_width": ""
     }
    },
    "3b4b04ed3a27418cac5a2455f6a8a96f": {
     "model_module": "@jupyter-widgets/base",
     "model_module_version": "1.2.0",
     "model_name": "LayoutModel",
     "state": {
      "_model_module": "@jupyter-widgets/base",
      "_model_module_version": "1.2.0",
      "_model_name": "LayoutModel",
      "_view_count": null,
      "_view_module": "@jupyter-widgets/base",
      "_view_module_version": "1.2.0",
      "_view_name": "LayoutView",
      "align_content": null,
      "align_items": null,
      "align_self": null,
      "border": null,
      "bottom": null,
      "display": null,
      "flex": null,
      "flex_flow": null,
      "grid_area": null,
      "grid_auto_columns": null,
      "grid_auto_flow": null,
      "grid_auto_rows": null,
      "grid_column": null,
      "grid_gap": null,
      "grid_row": null,
      "grid_template_areas": null,
      "grid_template_columns": null,
      "grid_template_rows": null,
      "height": null,
      "justify_content": null,
      "justify_items": null,
      "left": null,
      "margin": null,
      "max_height": null,
      "max_width": null,
      "min_height": null,
      "min_width": null,
      "object_fit": null,
      "object_position": null,
      "order": null,
      "overflow": null,
      "overflow_x": null,
      "overflow_y": null,
      "padding": null,
      "right": null,
      "top": null,
      "visibility": null,
      "width": null
     }
    },
    "3d40ddec434d44248a4f7b10a07e9923": {
     "model_module": "@jupyter-widgets/controls",
     "model_module_version": "1.5.0",
     "model_name": "DescriptionStyleModel",
     "state": {
      "_model_module": "@jupyter-widgets/controls",
      "_model_module_version": "1.5.0",
      "_model_name": "DescriptionStyleModel",
      "_view_count": null,
      "_view_module": "@jupyter-widgets/base",
      "_view_module_version": "1.2.0",
      "_view_name": "StyleView",
      "description_width": ""
     }
    },
    "3df2c93d70d145e491f39048682d2c85": {
     "model_module": "@jupyter-widgets/controls",
     "model_module_version": "1.5.0",
     "model_name": "HBoxModel",
     "state": {
      "_dom_classes": [],
      "_model_module": "@jupyter-widgets/controls",
      "_model_module_version": "1.5.0",
      "_model_name": "HBoxModel",
      "_view_count": null,
      "_view_module": "@jupyter-widgets/controls",
      "_view_module_version": "1.5.0",
      "_view_name": "HBoxView",
      "box_style": "",
      "children": [
       "IPY_MODEL_04b62a9c37b64d44a0d602e3a41f6657",
       "IPY_MODEL_d611c5c95eda4a21802c05b83c0c216a",
       "IPY_MODEL_9bddec0153494155a5d4005643e83131"
      ],
      "layout": "IPY_MODEL_82e0b18dc21f40fb82c0c9d7d2fe2513"
     }
    },
    "3fcb7d8806a0407c91b04eaac7c1fea6": {
     "model_module": "@jupyter-widgets/base",
     "model_module_version": "1.2.0",
     "model_name": "LayoutModel",
     "state": {
      "_model_module": "@jupyter-widgets/base",
      "_model_module_version": "1.2.0",
      "_model_name": "LayoutModel",
      "_view_count": null,
      "_view_module": "@jupyter-widgets/base",
      "_view_module_version": "1.2.0",
      "_view_name": "LayoutView",
      "align_content": null,
      "align_items": null,
      "align_self": null,
      "border": null,
      "bottom": null,
      "display": null,
      "flex": null,
      "flex_flow": null,
      "grid_area": null,
      "grid_auto_columns": null,
      "grid_auto_flow": null,
      "grid_auto_rows": null,
      "grid_column": null,
      "grid_gap": null,
      "grid_row": null,
      "grid_template_areas": null,
      "grid_template_columns": null,
      "grid_template_rows": null,
      "height": null,
      "justify_content": null,
      "justify_items": null,
      "left": null,
      "margin": null,
      "max_height": null,
      "max_width": null,
      "min_height": null,
      "min_width": null,
      "object_fit": null,
      "object_position": null,
      "order": null,
      "overflow": null,
      "overflow_x": null,
      "overflow_y": null,
      "padding": null,
      "right": null,
      "top": null,
      "visibility": null,
      "width": null
     }
    },
    "40643ca9090a412d9bca4cd41177efb9": {
     "model_module": "@jupyter-widgets/base",
     "model_module_version": "1.2.0",
     "model_name": "LayoutModel",
     "state": {
      "_model_module": "@jupyter-widgets/base",
      "_model_module_version": "1.2.0",
      "_model_name": "LayoutModel",
      "_view_count": null,
      "_view_module": "@jupyter-widgets/base",
      "_view_module_version": "1.2.0",
      "_view_name": "LayoutView",
      "align_content": null,
      "align_items": null,
      "align_self": null,
      "border": null,
      "bottom": null,
      "display": null,
      "flex": null,
      "flex_flow": null,
      "grid_area": null,
      "grid_auto_columns": null,
      "grid_auto_flow": null,
      "grid_auto_rows": null,
      "grid_column": null,
      "grid_gap": null,
      "grid_row": null,
      "grid_template_areas": null,
      "grid_template_columns": null,
      "grid_template_rows": null,
      "height": null,
      "justify_content": null,
      "justify_items": null,
      "left": null,
      "margin": null,
      "max_height": null,
      "max_width": null,
      "min_height": null,
      "min_width": null,
      "object_fit": null,
      "object_position": null,
      "order": null,
      "overflow": null,
      "overflow_x": null,
      "overflow_y": null,
      "padding": null,
      "right": null,
      "top": null,
      "visibility": null,
      "width": null
     }
    },
    "4a00523e584b489191cb28190127c715": {
     "model_module": "@jupyter-widgets/base",
     "model_module_version": "1.2.0",
     "model_name": "LayoutModel",
     "state": {
      "_model_module": "@jupyter-widgets/base",
      "_model_module_version": "1.2.0",
      "_model_name": "LayoutModel",
      "_view_count": null,
      "_view_module": "@jupyter-widgets/base",
      "_view_module_version": "1.2.0",
      "_view_name": "LayoutView",
      "align_content": null,
      "align_items": null,
      "align_self": null,
      "border": null,
      "bottom": null,
      "display": null,
      "flex": null,
      "flex_flow": null,
      "grid_area": null,
      "grid_auto_columns": null,
      "grid_auto_flow": null,
      "grid_auto_rows": null,
      "grid_column": null,
      "grid_gap": null,
      "grid_row": null,
      "grid_template_areas": null,
      "grid_template_columns": null,
      "grid_template_rows": null,
      "height": null,
      "justify_content": null,
      "justify_items": null,
      "left": null,
      "margin": null,
      "max_height": null,
      "max_width": null,
      "min_height": null,
      "min_width": null,
      "object_fit": null,
      "object_position": null,
      "order": null,
      "overflow": null,
      "overflow_x": null,
      "overflow_y": null,
      "padding": null,
      "right": null,
      "top": null,
      "visibility": null,
      "width": null
     }
    },
    "4ef2ca971b4a4dcf95faf60773a22812": {
     "model_module": "@jupyter-widgets/base",
     "model_module_version": "1.2.0",
     "model_name": "LayoutModel",
     "state": {
      "_model_module": "@jupyter-widgets/base",
      "_model_module_version": "1.2.0",
      "_model_name": "LayoutModel",
      "_view_count": null,
      "_view_module": "@jupyter-widgets/base",
      "_view_module_version": "1.2.0",
      "_view_name": "LayoutView",
      "align_content": null,
      "align_items": null,
      "align_self": null,
      "border": null,
      "bottom": null,
      "display": null,
      "flex": null,
      "flex_flow": null,
      "grid_area": null,
      "grid_auto_columns": null,
      "grid_auto_flow": null,
      "grid_auto_rows": null,
      "grid_column": null,
      "grid_gap": null,
      "grid_row": null,
      "grid_template_areas": null,
      "grid_template_columns": null,
      "grid_template_rows": null,
      "height": null,
      "justify_content": null,
      "justify_items": null,
      "left": null,
      "margin": null,
      "max_height": null,
      "max_width": null,
      "min_height": null,
      "min_width": null,
      "object_fit": null,
      "object_position": null,
      "order": null,
      "overflow": null,
      "overflow_x": null,
      "overflow_y": null,
      "padding": null,
      "right": null,
      "top": null,
      "visibility": null,
      "width": null
     }
    },
    "4fc04cbdc0184ca792042f2b7a73e54f": {
     "model_module": "@jupyter-widgets/base",
     "model_module_version": "1.2.0",
     "model_name": "LayoutModel",
     "state": {
      "_model_module": "@jupyter-widgets/base",
      "_model_module_version": "1.2.0",
      "_model_name": "LayoutModel",
      "_view_count": null,
      "_view_module": "@jupyter-widgets/base",
      "_view_module_version": "1.2.0",
      "_view_name": "LayoutView",
      "align_content": null,
      "align_items": null,
      "align_self": null,
      "border": null,
      "bottom": null,
      "display": null,
      "flex": null,
      "flex_flow": null,
      "grid_area": null,
      "grid_auto_columns": null,
      "grid_auto_flow": null,
      "grid_auto_rows": null,
      "grid_column": null,
      "grid_gap": null,
      "grid_row": null,
      "grid_template_areas": null,
      "grid_template_columns": null,
      "grid_template_rows": null,
      "height": null,
      "justify_content": null,
      "justify_items": null,
      "left": null,
      "margin": null,
      "max_height": null,
      "max_width": null,
      "min_height": null,
      "min_width": null,
      "object_fit": null,
      "object_position": null,
      "order": null,
      "overflow": null,
      "overflow_x": null,
      "overflow_y": null,
      "padding": null,
      "right": null,
      "top": null,
      "visibility": null,
      "width": null
     }
    },
    "4ff90584bb09415887e5867f53acc4c7": {
     "model_module": "@jupyter-widgets/controls",
     "model_module_version": "1.5.0",
     "model_name": "DescriptionStyleModel",
     "state": {
      "_model_module": "@jupyter-widgets/controls",
      "_model_module_version": "1.5.0",
      "_model_name": "DescriptionStyleModel",
      "_view_count": null,
      "_view_module": "@jupyter-widgets/base",
      "_view_module_version": "1.2.0",
      "_view_name": "StyleView",
      "description_width": ""
     }
    },
    "51a7ad1f8e194da9a982df5baa7730be": {
     "model_module": "@jupyter-widgets/base",
     "model_module_version": "1.2.0",
     "model_name": "LayoutModel",
     "state": {
      "_model_module": "@jupyter-widgets/base",
      "_model_module_version": "1.2.0",
      "_model_name": "LayoutModel",
      "_view_count": null,
      "_view_module": "@jupyter-widgets/base",
      "_view_module_version": "1.2.0",
      "_view_name": "LayoutView",
      "align_content": null,
      "align_items": null,
      "align_self": null,
      "border": null,
      "bottom": null,
      "display": null,
      "flex": null,
      "flex_flow": null,
      "grid_area": null,
      "grid_auto_columns": null,
      "grid_auto_flow": null,
      "grid_auto_rows": null,
      "grid_column": null,
      "grid_gap": null,
      "grid_row": null,
      "grid_template_areas": null,
      "grid_template_columns": null,
      "grid_template_rows": null,
      "height": null,
      "justify_content": null,
      "justify_items": null,
      "left": null,
      "margin": null,
      "max_height": null,
      "max_width": null,
      "min_height": null,
      "min_width": null,
      "object_fit": null,
      "object_position": null,
      "order": null,
      "overflow": null,
      "overflow_x": null,
      "overflow_y": null,
      "padding": null,
      "right": null,
      "top": null,
      "visibility": null,
      "width": null
     }
    },
    "5367cfdc97a346b1b68b67a0b7f29e62": {
     "model_module": "@jupyter-widgets/base",
     "model_module_version": "1.2.0",
     "model_name": "LayoutModel",
     "state": {
      "_model_module": "@jupyter-widgets/base",
      "_model_module_version": "1.2.0",
      "_model_name": "LayoutModel",
      "_view_count": null,
      "_view_module": "@jupyter-widgets/base",
      "_view_module_version": "1.2.0",
      "_view_name": "LayoutView",
      "align_content": null,
      "align_items": null,
      "align_self": null,
      "border": null,
      "bottom": null,
      "display": null,
      "flex": null,
      "flex_flow": null,
      "grid_area": null,
      "grid_auto_columns": null,
      "grid_auto_flow": null,
      "grid_auto_rows": null,
      "grid_column": null,
      "grid_gap": null,
      "grid_row": null,
      "grid_template_areas": null,
      "grid_template_columns": null,
      "grid_template_rows": null,
      "height": null,
      "justify_content": null,
      "justify_items": null,
      "left": null,
      "margin": null,
      "max_height": null,
      "max_width": null,
      "min_height": null,
      "min_width": null,
      "object_fit": null,
      "object_position": null,
      "order": null,
      "overflow": null,
      "overflow_x": null,
      "overflow_y": null,
      "padding": null,
      "right": null,
      "top": null,
      "visibility": null,
      "width": null
     }
    },
    "541c2c71e9a64df69f2cbe1228788e0a": {
     "model_module": "@jupyter-widgets/controls",
     "model_module_version": "1.5.0",
     "model_name": "ProgressStyleModel",
     "state": {
      "_model_module": "@jupyter-widgets/controls",
      "_model_module_version": "1.5.0",
      "_model_name": "ProgressStyleModel",
      "_view_count": null,
      "_view_module": "@jupyter-widgets/base",
      "_view_module_version": "1.2.0",
      "_view_name": "StyleView",
      "bar_color": null,
      "description_width": ""
     }
    },
    "54332062bf214126ac28f84ff2893718": {
     "model_module": "@jupyter-widgets/controls",
     "model_module_version": "1.5.0",
     "model_name": "DescriptionStyleModel",
     "state": {
      "_model_module": "@jupyter-widgets/controls",
      "_model_module_version": "1.5.0",
      "_model_name": "DescriptionStyleModel",
      "_view_count": null,
      "_view_module": "@jupyter-widgets/base",
      "_view_module_version": "1.2.0",
      "_view_name": "StyleView",
      "description_width": ""
     }
    },
    "5639f54ca5514893a3bb6a2b56d78099": {
     "model_module": "@jupyter-widgets/controls",
     "model_module_version": "1.5.0",
     "model_name": "DescriptionStyleModel",
     "state": {
      "_model_module": "@jupyter-widgets/controls",
      "_model_module_version": "1.5.0",
      "_model_name": "DescriptionStyleModel",
      "_view_count": null,
      "_view_module": "@jupyter-widgets/base",
      "_view_module_version": "1.2.0",
      "_view_name": "StyleView",
      "description_width": ""
     }
    },
    "569cf7e57a674edd857ee1a465218dd7": {
     "model_module": "@jupyter-widgets/controls",
     "model_module_version": "1.5.0",
     "model_name": "DescriptionStyleModel",
     "state": {
      "_model_module": "@jupyter-widgets/controls",
      "_model_module_version": "1.5.0",
      "_model_name": "DescriptionStyleModel",
      "_view_count": null,
      "_view_module": "@jupyter-widgets/base",
      "_view_module_version": "1.2.0",
      "_view_name": "StyleView",
      "description_width": ""
     }
    },
    "571909b60f964a09adc2d5b92269ff9a": {
     "model_module": "@jupyter-widgets/controls",
     "model_module_version": "1.5.0",
     "model_name": "ProgressStyleModel",
     "state": {
      "_model_module": "@jupyter-widgets/controls",
      "_model_module_version": "1.5.0",
      "_model_name": "ProgressStyleModel",
      "_view_count": null,
      "_view_module": "@jupyter-widgets/base",
      "_view_module_version": "1.2.0",
      "_view_name": "StyleView",
      "bar_color": null,
      "description_width": ""
     }
    },
    "5755236b856c4fe294fdc1db804ffd5c": {
     "model_module": "@jupyter-widgets/controls",
     "model_module_version": "1.5.0",
     "model_name": "HTMLModel",
     "state": {
      "_dom_classes": [],
      "_model_module": "@jupyter-widgets/controls",
      "_model_module_version": "1.5.0",
      "_model_name": "HTMLModel",
      "_view_count": null,
      "_view_module": "@jupyter-widgets/controls",
      "_view_module_version": "1.5.0",
      "_view_name": "HTMLView",
      "description": "",
      "description_tooltip": null,
      "layout": "IPY_MODEL_632a83921d5949beb9e7def1ab42d848",
      "placeholder": "​",
      "style": "IPY_MODEL_5639f54ca5514893a3bb6a2b56d78099",
      "value": "tokenizer_config.json: 100%"
     }
    },
    "576b784ad0dd464bb2a190a96c2c92b0": {
     "model_module": "@jupyter-widgets/base",
     "model_module_version": "1.2.0",
     "model_name": "LayoutModel",
     "state": {
      "_model_module": "@jupyter-widgets/base",
      "_model_module_version": "1.2.0",
      "_model_name": "LayoutModel",
      "_view_count": null,
      "_view_module": "@jupyter-widgets/base",
      "_view_module_version": "1.2.0",
      "_view_name": "LayoutView",
      "align_content": null,
      "align_items": null,
      "align_self": null,
      "border": null,
      "bottom": null,
      "display": null,
      "flex": null,
      "flex_flow": null,
      "grid_area": null,
      "grid_auto_columns": null,
      "grid_auto_flow": null,
      "grid_auto_rows": null,
      "grid_column": null,
      "grid_gap": null,
      "grid_row": null,
      "grid_template_areas": null,
      "grid_template_columns": null,
      "grid_template_rows": null,
      "height": null,
      "justify_content": null,
      "justify_items": null,
      "left": null,
      "margin": null,
      "max_height": null,
      "max_width": null,
      "min_height": null,
      "min_width": null,
      "object_fit": null,
      "object_position": null,
      "order": null,
      "overflow": null,
      "overflow_x": null,
      "overflow_y": null,
      "padding": null,
      "right": null,
      "top": null,
      "visibility": null,
      "width": null
     }
    },
    "5c3bff6390ca40c6976f9335214fa197": {
     "model_module": "@jupyter-widgets/base",
     "model_module_version": "1.2.0",
     "model_name": "LayoutModel",
     "state": {
      "_model_module": "@jupyter-widgets/base",
      "_model_module_version": "1.2.0",
      "_model_name": "LayoutModel",
      "_view_count": null,
      "_view_module": "@jupyter-widgets/base",
      "_view_module_version": "1.2.0",
      "_view_name": "LayoutView",
      "align_content": null,
      "align_items": null,
      "align_self": null,
      "border": null,
      "bottom": null,
      "display": null,
      "flex": null,
      "flex_flow": null,
      "grid_area": null,
      "grid_auto_columns": null,
      "grid_auto_flow": null,
      "grid_auto_rows": null,
      "grid_column": null,
      "grid_gap": null,
      "grid_row": null,
      "grid_template_areas": null,
      "grid_template_columns": null,
      "grid_template_rows": null,
      "height": null,
      "justify_content": null,
      "justify_items": null,
      "left": null,
      "margin": null,
      "max_height": null,
      "max_width": null,
      "min_height": null,
      "min_width": null,
      "object_fit": null,
      "object_position": null,
      "order": null,
      "overflow": null,
      "overflow_x": null,
      "overflow_y": null,
      "padding": null,
      "right": null,
      "top": null,
      "visibility": null,
      "width": null
     }
    },
    "5c40094d4fe54243ab214baf69c76982": {
     "model_module": "@jupyter-widgets/base",
     "model_module_version": "1.2.0",
     "model_name": "LayoutModel",
     "state": {
      "_model_module": "@jupyter-widgets/base",
      "_model_module_version": "1.2.0",
      "_model_name": "LayoutModel",
      "_view_count": null,
      "_view_module": "@jupyter-widgets/base",
      "_view_module_version": "1.2.0",
      "_view_name": "LayoutView",
      "align_content": null,
      "align_items": null,
      "align_self": null,
      "border": null,
      "bottom": null,
      "display": null,
      "flex": null,
      "flex_flow": null,
      "grid_area": null,
      "grid_auto_columns": null,
      "grid_auto_flow": null,
      "grid_auto_rows": null,
      "grid_column": null,
      "grid_gap": null,
      "grid_row": null,
      "grid_template_areas": null,
      "grid_template_columns": null,
      "grid_template_rows": null,
      "height": null,
      "justify_content": null,
      "justify_items": null,
      "left": null,
      "margin": null,
      "max_height": null,
      "max_width": null,
      "min_height": null,
      "min_width": null,
      "object_fit": null,
      "object_position": null,
      "order": null,
      "overflow": null,
      "overflow_x": null,
      "overflow_y": null,
      "padding": null,
      "right": null,
      "top": null,
      "visibility": null,
      "width": null
     }
    },
    "5d489adefcc44a02ab93da90fb948f46": {
     "model_module": "@jupyter-widgets/controls",
     "model_module_version": "1.5.0",
     "model_name": "FloatProgressModel",
     "state": {
      "_dom_classes": [],
      "_model_module": "@jupyter-widgets/controls",
      "_model_module_version": "1.5.0",
      "_model_name": "FloatProgressModel",
      "_view_count": null,
      "_view_module": "@jupyter-widgets/controls",
      "_view_module_version": "1.5.0",
      "_view_name": "ProgressView",
      "bar_style": "danger",
      "description": "",
      "description_tooltip": null,
      "layout": "IPY_MODEL_33be4d3760a2417cafd1282a279d80f7",
      "max": 4125687906,
      "min": 0,
      "orientation": "horizontal",
      "style": "IPY_MODEL_571909b60f964a09adc2d5b92269ff9a",
      "value": 4125687513
     }
    },
    "5df5a9c58dee4cbea57dd65287c7a8b8": {
     "model_module": "@jupyter-widgets/controls",
     "model_module_version": "1.5.0",
     "model_name": "DescriptionStyleModel",
     "state": {
      "_model_module": "@jupyter-widgets/controls",
      "_model_module_version": "1.5.0",
      "_model_name": "DescriptionStyleModel",
      "_view_count": null,
      "_view_module": "@jupyter-widgets/base",
      "_view_module_version": "1.2.0",
      "_view_name": "StyleView",
      "description_width": ""
     }
    },
    "5ef12111f3d646df82e6a37d173f1c89": {
     "model_module": "@jupyter-widgets/controls",
     "model_module_version": "1.5.0",
     "model_name": "HBoxModel",
     "state": {
      "_dom_classes": [],
      "_model_module": "@jupyter-widgets/controls",
      "_model_module_version": "1.5.0",
      "_model_name": "HBoxModel",
      "_view_count": null,
      "_view_module": "@jupyter-widgets/controls",
      "_view_module_version": "1.5.0",
      "_view_name": "HBoxView",
      "box_style": "",
      "children": [
       "IPY_MODEL_c11f8944168c4b7e9e1cf4bd53289ec4",
       "IPY_MODEL_148026b1520644dd8e6eaa04f2134e95",
       "IPY_MODEL_6165726e6f7848b6b30b3e3a3565bea3"
      ],
      "layout": "IPY_MODEL_9d6394a0c8b6457697bc8a546e7d8c39"
     }
    },
    "6165726e6f7848b6b30b3e3a3565bea3": {
     "model_module": "@jupyter-widgets/controls",
     "model_module_version": "1.5.0",
     "model_name": "HTMLModel",
     "state": {
      "_dom_classes": [],
      "_model_module": "@jupyter-widgets/controls",
      "_model_module_version": "1.5.0",
      "_model_name": "HTMLModel",
      "_view_count": null,
      "_view_module": "@jupyter-widgets/controls",
      "_view_module_version": "1.5.0",
      "_view_name": "HTMLView",
      "description": "",
      "description_tooltip": null,
      "layout": "IPY_MODEL_7287af8f89454179ae6565850611e3e4",
      "placeholder": "​",
      "style": "IPY_MODEL_569cf7e57a674edd857ee1a465218dd7",
      "value": " 4268/4268 [00:00&lt;00:00, 8014.96 examples/s]"
     }
    },
    "62da08ed2a1c45d491c68c71246df6b3": {
     "model_module": "@jupyter-widgets/controls",
     "model_module_version": "1.5.0",
     "model_name": "HBoxModel",
     "state": {
      "_dom_classes": [],
      "_model_module": "@jupyter-widgets/controls",
      "_model_module_version": "1.5.0",
      "_model_name": "HBoxModel",
      "_view_count": null,
      "_view_module": "@jupyter-widgets/controls",
      "_view_module_version": "1.5.0",
      "_view_name": "HBoxView",
      "box_style": "",
      "children": [
       "IPY_MODEL_c161b672a7cd4c08b3b6e1fa609d2048",
       "IPY_MODEL_2afdad4c23e9402394e6fab6f53fad32",
       "IPY_MODEL_a2fbe3b794b9450c9e4a3bba8e6536b1"
      ],
      "layout": "IPY_MODEL_5367cfdc97a346b1b68b67a0b7f29e62"
     }
    },
    "632a83921d5949beb9e7def1ab42d848": {
     "model_module": "@jupyter-widgets/base",
     "model_module_version": "1.2.0",
     "model_name": "LayoutModel",
     "state": {
      "_model_module": "@jupyter-widgets/base",
      "_model_module_version": "1.2.0",
      "_model_name": "LayoutModel",
      "_view_count": null,
      "_view_module": "@jupyter-widgets/base",
      "_view_module_version": "1.2.0",
      "_view_name": "LayoutView",
      "align_content": null,
      "align_items": null,
      "align_self": null,
      "border": null,
      "bottom": null,
      "display": null,
      "flex": null,
      "flex_flow": null,
      "grid_area": null,
      "grid_auto_columns": null,
      "grid_auto_flow": null,
      "grid_auto_rows": null,
      "grid_column": null,
      "grid_gap": null,
      "grid_row": null,
      "grid_template_areas": null,
      "grid_template_columns": null,
      "grid_template_rows": null,
      "height": null,
      "justify_content": null,
      "justify_items": null,
      "left": null,
      "margin": null,
      "max_height": null,
      "max_width": null,
      "min_height": null,
      "min_width": null,
      "object_fit": null,
      "object_position": null,
      "order": null,
      "overflow": null,
      "overflow_x": null,
      "overflow_y": null,
      "padding": null,
      "right": null,
      "top": null,
      "visibility": null,
      "width": null
     }
    },
    "64d4abc846bc458e9790e9a88c1f4839": {
     "model_module": "@jupyter-widgets/base",
     "model_module_version": "1.2.0",
     "model_name": "LayoutModel",
     "state": {
      "_model_module": "@jupyter-widgets/base",
      "_model_module_version": "1.2.0",
      "_model_name": "LayoutModel",
      "_view_count": null,
      "_view_module": "@jupyter-widgets/base",
      "_view_module_version": "1.2.0",
      "_view_name": "LayoutView",
      "align_content": null,
      "align_items": null,
      "align_self": null,
      "border": null,
      "bottom": null,
      "display": null,
      "flex": null,
      "flex_flow": null,
      "grid_area": null,
      "grid_auto_columns": null,
      "grid_auto_flow": null,
      "grid_auto_rows": null,
      "grid_column": null,
      "grid_gap": null,
      "grid_row": null,
      "grid_template_areas": null,
      "grid_template_columns": null,
      "grid_template_rows": null,
      "height": null,
      "justify_content": null,
      "justify_items": null,
      "left": null,
      "margin": null,
      "max_height": null,
      "max_width": null,
      "min_height": null,
      "min_width": null,
      "object_fit": null,
      "object_position": null,
      "order": null,
      "overflow": null,
      "overflow_x": null,
      "overflow_y": null,
      "padding": null,
      "right": null,
      "top": null,
      "visibility": null,
      "width": null
     }
    },
    "6584bfb1477e4afabf83a881452394dd": {
     "model_module": "@jupyter-widgets/controls",
     "model_module_version": "1.5.0",
     "model_name": "HBoxModel",
     "state": {
      "_dom_classes": [],
      "_model_module": "@jupyter-widgets/controls",
      "_model_module_version": "1.5.0",
      "_model_name": "HBoxModel",
      "_view_count": null,
      "_view_module": "@jupyter-widgets/controls",
      "_view_module_version": "1.5.0",
      "_view_name": "HBoxView",
      "box_style": "",
      "children": [
       "IPY_MODEL_8ffc568164a94aa988454e4ca1b2e121",
       "IPY_MODEL_708cef39728549d1b4491a3acc100077",
       "IPY_MODEL_f39ba8b0005f4294ac29bfee81db712f"
      ],
      "layout": "IPY_MODEL_9b2a903de13f4f6c9d3f1795726f5c08"
     }
    },
    "67f2e5f4eadc49bb986cf2ba1663af38": {
     "model_module": "@jupyter-widgets/controls",
     "model_module_version": "1.5.0",
     "model_name": "DescriptionStyleModel",
     "state": {
      "_model_module": "@jupyter-widgets/controls",
      "_model_module_version": "1.5.0",
      "_model_name": "DescriptionStyleModel",
      "_view_count": null,
      "_view_module": "@jupyter-widgets/base",
      "_view_module_version": "1.2.0",
      "_view_name": "StyleView",
      "description_width": ""
     }
    },
    "68d7cd3e93a8424f9b0b398ba26a3a0c": {
     "model_module": "@jupyter-widgets/controls",
     "model_module_version": "1.5.0",
     "model_name": "DescriptionStyleModel",
     "state": {
      "_model_module": "@jupyter-widgets/controls",
      "_model_module_version": "1.5.0",
      "_model_name": "DescriptionStyleModel",
      "_view_count": null,
      "_view_module": "@jupyter-widgets/base",
      "_view_module_version": "1.2.0",
      "_view_name": "StyleView",
      "description_width": ""
     }
    },
    "6a9c25fd39954862bced81c52e2cf5dd": {
     "model_module": "@jupyter-widgets/controls",
     "model_module_version": "1.5.0",
     "model_name": "ProgressStyleModel",
     "state": {
      "_model_module": "@jupyter-widgets/controls",
      "_model_module_version": "1.5.0",
      "_model_name": "ProgressStyleModel",
      "_view_count": null,
      "_view_module": "@jupyter-widgets/base",
      "_view_module_version": "1.2.0",
      "_view_name": "StyleView",
      "bar_color": null,
      "description_width": ""
     }
    },
    "6b88a8abf40540aeaa0f76eb155561ed": {
     "model_module": "@jupyter-widgets/controls",
     "model_module_version": "1.5.0",
     "model_name": "FloatProgressModel",
     "state": {
      "_dom_classes": [],
      "_model_module": "@jupyter-widgets/controls",
      "_model_module_version": "1.5.0",
      "_model_name": "FloatProgressModel",
      "_view_count": null,
      "_view_module": "@jupyter-widgets/controls",
      "_view_module_version": "1.5.0",
      "_view_name": "ProgressView",
      "bar_style": "success",
      "description": "",
      "description_tooltip": null,
      "layout": "IPY_MODEL_0d9b6d2f0258418e83f3301a65846099",
      "max": 493443,
      "min": 0,
      "orientation": "horizontal",
      "style": "IPY_MODEL_ff3d8e5afa8444ba8350a2ef9b77c2f2",
      "value": 493443
     }
    },
    "6b9dc6b203874d91bf5f04351149719e": {
     "model_module": "@jupyter-widgets/controls",
     "model_module_version": "1.5.0",
     "model_name": "HTMLModel",
     "state": {
      "_dom_classes": [],
      "_model_module": "@jupyter-widgets/controls",
      "_model_module_version": "1.5.0",
      "_model_name": "HTMLModel",
      "_view_count": null,
      "_view_module": "@jupyter-widgets/controls",
      "_view_module_version": "1.5.0",
      "_view_name": "HTMLView",
      "description": "",
      "description_tooltip": null,
      "layout": "IPY_MODEL_2d8135de3c4f4824977555a1a4ebb8c3",
      "placeholder": "​",
      "style": "IPY_MODEL_215635f87efe4210870eb2c20bd81422",
      "value": " 4268/4268 [00:00&lt;00:00, 8532.63 examples/s]"
     }
    },
    "6bdb629335184943bc8677f30cf499e2": {
     "model_module": "@jupyter-widgets/controls",
     "model_module_version": "1.5.0",
     "model_name": "HBoxModel",
     "state": {
      "_dom_classes": [],
      "_model_module": "@jupyter-widgets/controls",
      "_model_module_version": "1.5.0",
      "_model_name": "HBoxModel",
      "_view_count": null,
      "_view_module": "@jupyter-widgets/controls",
      "_view_module_version": "1.5.0",
      "_view_name": "HBoxView",
      "box_style": "",
      "children": [
       "IPY_MODEL_5755236b856c4fe294fdc1db804ffd5c",
       "IPY_MODEL_1e0ec2a0989247748dc738871fe5bec0",
       "IPY_MODEL_0c4f11bc06b043c98c167f28c771d461"
      ],
      "layout": "IPY_MODEL_9bd17e508f01480dba53ad3891da97bd"
     }
    },
    "708cef39728549d1b4491a3acc100077": {
     "model_module": "@jupyter-widgets/controls",
     "model_module_version": "1.5.0",
     "model_name": "FloatProgressModel",
     "state": {
      "_dom_classes": [],
      "_model_module": "@jupyter-widgets/controls",
      "_model_module_version": "1.5.0",
      "_model_name": "FloatProgressModel",
      "_view_count": null,
      "_view_module": "@jupyter-widgets/controls",
      "_view_module_version": "1.5.0",
      "_view_name": "ProgressView",
      "bar_style": "success",
      "description": "",
      "description_tooltip": null,
      "layout": "IPY_MODEL_0e04a30af0de4596aed6555ba44f44af",
      "max": 1795188,
      "min": 0,
      "orientation": "horizontal",
      "style": "IPY_MODEL_1ab631a9851b4ef1819a02f1886784d2",
      "value": 1795188
     }
    },
    "7287af8f89454179ae6565850611e3e4": {
     "model_module": "@jupyter-widgets/base",
     "model_module_version": "1.2.0",
     "model_name": "LayoutModel",
     "state": {
      "_model_module": "@jupyter-widgets/base",
      "_model_module_version": "1.2.0",
      "_model_name": "LayoutModel",
      "_view_count": null,
      "_view_module": "@jupyter-widgets/base",
      "_view_module_version": "1.2.0",
      "_view_name": "LayoutView",
      "align_content": null,
      "align_items": null,
      "align_self": null,
      "border": null,
      "bottom": null,
      "display": null,
      "flex": null,
      "flex_flow": null,
      "grid_area": null,
      "grid_auto_columns": null,
      "grid_auto_flow": null,
      "grid_auto_rows": null,
      "grid_column": null,
      "grid_gap": null,
      "grid_row": null,
      "grid_template_areas": null,
      "grid_template_columns": null,
      "grid_template_rows": null,
      "height": null,
      "justify_content": null,
      "justify_items": null,
      "left": null,
      "margin": null,
      "max_height": null,
      "max_width": null,
      "min_height": null,
      "min_width": null,
      "object_fit": null,
      "object_position": null,
      "order": null,
      "overflow": null,
      "overflow_x": null,
      "overflow_y": null,
      "padding": null,
      "right": null,
      "top": null,
      "visibility": null,
      "width": null
     }
    },
    "7ad1e651786a4bcf94bc5bcd9ff66308": {
     "model_module": "@jupyter-widgets/base",
     "model_module_version": "1.2.0",
     "model_name": "LayoutModel",
     "state": {
      "_model_module": "@jupyter-widgets/base",
      "_model_module_version": "1.2.0",
      "_model_name": "LayoutModel",
      "_view_count": null,
      "_view_module": "@jupyter-widgets/base",
      "_view_module_version": "1.2.0",
      "_view_name": "LayoutView",
      "align_content": null,
      "align_items": null,
      "align_self": null,
      "border": null,
      "bottom": null,
      "display": null,
      "flex": null,
      "flex_flow": null,
      "grid_area": null,
      "grid_auto_columns": null,
      "grid_auto_flow": null,
      "grid_auto_rows": null,
      "grid_column": null,
      "grid_gap": null,
      "grid_row": null,
      "grid_template_areas": null,
      "grid_template_columns": null,
      "grid_template_rows": null,
      "height": null,
      "justify_content": null,
      "justify_items": null,
      "left": null,
      "margin": null,
      "max_height": null,
      "max_width": null,
      "min_height": null,
      "min_width": null,
      "object_fit": null,
      "object_position": null,
      "order": null,
      "overflow": null,
      "overflow_x": null,
      "overflow_y": null,
      "padding": null,
      "right": null,
      "top": null,
      "visibility": null,
      "width": null
     }
    },
    "7d86d7500f4c4eedb0720d6aae40c0fa": {
     "model_module": "@jupyter-widgets/controls",
     "model_module_version": "1.5.0",
     "model_name": "DescriptionStyleModel",
     "state": {
      "_model_module": "@jupyter-widgets/controls",
      "_model_module_version": "1.5.0",
      "_model_name": "DescriptionStyleModel",
      "_view_count": null,
      "_view_module": "@jupyter-widgets/base",
      "_view_module_version": "1.2.0",
      "_view_name": "StyleView",
      "description_width": ""
     }
    },
    "7ec77b2b6fff4c3194365aadfd62cec1": {
     "model_module": "@jupyter-widgets/base",
     "model_module_version": "1.2.0",
     "model_name": "LayoutModel",
     "state": {
      "_model_module": "@jupyter-widgets/base",
      "_model_module_version": "1.2.0",
      "_model_name": "LayoutModel",
      "_view_count": null,
      "_view_module": "@jupyter-widgets/base",
      "_view_module_version": "1.2.0",
      "_view_name": "LayoutView",
      "align_content": null,
      "align_items": null,
      "align_self": null,
      "border": null,
      "bottom": null,
      "display": null,
      "flex": null,
      "flex_flow": null,
      "grid_area": null,
      "grid_auto_columns": null,
      "grid_auto_flow": null,
      "grid_auto_rows": null,
      "grid_column": null,
      "grid_gap": null,
      "grid_row": null,
      "grid_template_areas": null,
      "grid_template_columns": null,
      "grid_template_rows": null,
      "height": null,
      "justify_content": null,
      "justify_items": null,
      "left": null,
      "margin": null,
      "max_height": null,
      "max_width": null,
      "min_height": null,
      "min_width": null,
      "object_fit": null,
      "object_position": null,
      "order": null,
      "overflow": null,
      "overflow_x": null,
      "overflow_y": null,
      "padding": null,
      "right": null,
      "top": null,
      "visibility": null,
      "width": null
     }
    },
    "81f2e0f2e5d8418a963d8e1fc1ffa72d": {
     "model_module": "@jupyter-widgets/controls",
     "model_module_version": "1.5.0",
     "model_name": "HTMLModel",
     "state": {
      "_dom_classes": [],
      "_model_module": "@jupyter-widgets/controls",
      "_model_module_version": "1.5.0",
      "_model_name": "HTMLModel",
      "_view_count": null,
      "_view_module": "@jupyter-widgets/controls",
      "_view_module_version": "1.5.0",
      "_view_name": "HTMLView",
      "description": "",
      "description_tooltip": null,
      "layout": "IPY_MODEL_51a7ad1f8e194da9a982df5baa7730be",
      "placeholder": "​",
      "style": "IPY_MODEL_54332062bf214126ac28f84ff2893718",
      "value": " 4268/4268 [00:06&lt;00:00, 1051.26 examples/s]"
     }
    },
    "82e0b18dc21f40fb82c0c9d7d2fe2513": {
     "model_module": "@jupyter-widgets/base",
     "model_module_version": "1.2.0",
     "model_name": "LayoutModel",
     "state": {
      "_model_module": "@jupyter-widgets/base",
      "_model_module_version": "1.2.0",
      "_model_name": "LayoutModel",
      "_view_count": null,
      "_view_module": "@jupyter-widgets/base",
      "_view_module_version": "1.2.0",
      "_view_name": "LayoutView",
      "align_content": null,
      "align_items": null,
      "align_self": null,
      "border": null,
      "bottom": null,
      "display": null,
      "flex": null,
      "flex_flow": null,
      "grid_area": null,
      "grid_auto_columns": null,
      "grid_auto_flow": null,
      "grid_auto_rows": null,
      "grid_column": null,
      "grid_gap": null,
      "grid_row": null,
      "grid_template_areas": null,
      "grid_template_columns": null,
      "grid_template_rows": null,
      "height": null,
      "justify_content": null,
      "justify_items": null,
      "left": null,
      "margin": null,
      "max_height": null,
      "max_width": null,
      "min_height": null,
      "min_width": null,
      "object_fit": null,
      "object_position": null,
      "order": null,
      "overflow": null,
      "overflow_x": null,
      "overflow_y": null,
      "padding": null,
      "right": null,
      "top": null,
      "visibility": null,
      "width": null
     }
    },
    "83a56aaddf8d4f129d3c9dc3328fd4c6": {
     "model_module": "@jupyter-widgets/controls",
     "model_module_version": "1.5.0",
     "model_name": "HBoxModel",
     "state": {
      "_dom_classes": [],
      "_model_module": "@jupyter-widgets/controls",
      "_model_module_version": "1.5.0",
      "_model_name": "HBoxModel",
      "_view_count": null,
      "_view_module": "@jupyter-widgets/controls",
      "_view_module_version": "1.5.0",
      "_view_name": "HBoxView",
      "box_style": "",
      "children": [
       "IPY_MODEL_9e14cccb03204602981c36dcb1a20814",
       "IPY_MODEL_2ce27c8e0ebf4e7aa27c9ec4e70a5da7",
       "IPY_MODEL_81f2e0f2e5d8418a963d8e1fc1ffa72d"
      ],
      "layout": "IPY_MODEL_9e53707dfe4e41ad8d0ea4efae94c733"
     }
    },
    "8461fdfa85074f8da2c5468dbc7a07dd": {
     "model_module": "@jupyter-widgets/controls",
     "model_module_version": "1.5.0",
     "model_name": "ProgressStyleModel",
     "state": {
      "_model_module": "@jupyter-widgets/controls",
      "_model_module_version": "1.5.0",
      "_model_name": "ProgressStyleModel",
      "_view_count": null,
      "_view_module": "@jupyter-widgets/base",
      "_view_module_version": "1.2.0",
      "_view_name": "StyleView",
      "bar_color": null,
      "description_width": ""
     }
    },
    "84f06f4fa8f246fb9d20946d90393ced": {
     "model_module": "@jupyter-widgets/controls",
     "model_module_version": "1.5.0",
     "model_name": "ProgressStyleModel",
     "state": {
      "_model_module": "@jupyter-widgets/controls",
      "_model_module_version": "1.5.0",
      "_model_name": "ProgressStyleModel",
      "_view_count": null,
      "_view_module": "@jupyter-widgets/base",
      "_view_module_version": "1.2.0",
      "_view_name": "StyleView",
      "bar_color": null,
      "description_width": ""
     }
    },
    "8bf177ec54cb42e480d5e2ae984fe60d": {
     "model_module": "@jupyter-widgets/base",
     "model_module_version": "1.2.0",
     "model_name": "LayoutModel",
     "state": {
      "_model_module": "@jupyter-widgets/base",
      "_model_module_version": "1.2.0",
      "_model_name": "LayoutModel",
      "_view_count": null,
      "_view_module": "@jupyter-widgets/base",
      "_view_module_version": "1.2.0",
      "_view_name": "LayoutView",
      "align_content": null,
      "align_items": null,
      "align_self": null,
      "border": null,
      "bottom": null,
      "display": null,
      "flex": null,
      "flex_flow": null,
      "grid_area": null,
      "grid_auto_columns": null,
      "grid_auto_flow": null,
      "grid_auto_rows": null,
      "grid_column": null,
      "grid_gap": null,
      "grid_row": null,
      "grid_template_areas": null,
      "grid_template_columns": null,
      "grid_template_rows": null,
      "height": null,
      "justify_content": null,
      "justify_items": null,
      "left": null,
      "margin": null,
      "max_height": null,
      "max_width": null,
      "min_height": null,
      "min_width": null,
      "object_fit": null,
      "object_position": null,
      "order": null,
      "overflow": null,
      "overflow_x": null,
      "overflow_y": null,
      "padding": null,
      "right": null,
      "top": null,
      "visibility": null,
      "width": null
     }
    },
    "8ffc568164a94aa988454e4ca1b2e121": {
     "model_module": "@jupyter-widgets/controls",
     "model_module_version": "1.5.0",
     "model_name": "HTMLModel",
     "state": {
      "_dom_classes": [],
      "_model_module": "@jupyter-widgets/controls",
      "_model_module_version": "1.5.0",
      "_model_name": "HTMLModel",
      "_view_count": null,
      "_view_module": "@jupyter-widgets/controls",
      "_view_module_version": "1.5.0",
      "_view_name": "HTMLView",
      "description": "",
      "description_tooltip": null,
      "layout": "IPY_MODEL_8bf177ec54cb42e480d5e2ae984fe60d",
      "placeholder": "​",
      "style": "IPY_MODEL_370ea2599cdc4bc6b77b2f1cb2825364",
      "value": "tokenizer.json: 100%"
     }
    },
    "91f573094fec43819819c59b0096474f": {
     "model_module": "@jupyter-widgets/controls",
     "model_module_version": "1.5.0",
     "model_name": "HBoxModel",
     "state": {
      "_dom_classes": [],
      "_model_module": "@jupyter-widgets/controls",
      "_model_module_version": "1.5.0",
      "_model_name": "HBoxModel",
      "_view_count": null,
      "_view_module": "@jupyter-widgets/controls",
      "_view_module_version": "1.5.0",
      "_view_name": "HBoxView",
      "box_style": "",
      "children": [
       "IPY_MODEL_eed7cbe3e91448cb9ca265929057015d",
       "IPY_MODEL_6b88a8abf40540aeaa0f76eb155561ed",
       "IPY_MODEL_301f064c954b43abaaa9218803e98300"
      ],
      "layout": "IPY_MODEL_0f3565c3f0804474995216365086de07"
     }
    },
    "9b2a903de13f4f6c9d3f1795726f5c08": {
     "model_module": "@jupyter-widgets/base",
     "model_module_version": "1.2.0",
     "model_name": "LayoutModel",
     "state": {
      "_model_module": "@jupyter-widgets/base",
      "_model_module_version": "1.2.0",
      "_model_name": "LayoutModel",
      "_view_count": null,
      "_view_module": "@jupyter-widgets/base",
      "_view_module_version": "1.2.0",
      "_view_name": "LayoutView",
      "align_content": null,
      "align_items": null,
      "align_self": null,
      "border": null,
      "bottom": null,
      "display": null,
      "flex": null,
      "flex_flow": null,
      "grid_area": null,
      "grid_auto_columns": null,
      "grid_auto_flow": null,
      "grid_auto_rows": null,
      "grid_column": null,
      "grid_gap": null,
      "grid_row": null,
      "grid_template_areas": null,
      "grid_template_columns": null,
      "grid_template_rows": null,
      "height": null,
      "justify_content": null,
      "justify_items": null,
      "left": null,
      "margin": null,
      "max_height": null,
      "max_width": null,
      "min_height": null,
      "min_width": null,
      "object_fit": null,
      "object_position": null,
      "order": null,
      "overflow": null,
      "overflow_x": null,
      "overflow_y": null,
      "padding": null,
      "right": null,
      "top": null,
      "visibility": null,
      "width": null
     }
    },
    "9bd17e508f01480dba53ad3891da97bd": {
     "model_module": "@jupyter-widgets/base",
     "model_module_version": "1.2.0",
     "model_name": "LayoutModel",
     "state": {
      "_model_module": "@jupyter-widgets/base",
      "_model_module_version": "1.2.0",
      "_model_name": "LayoutModel",
      "_view_count": null,
      "_view_module": "@jupyter-widgets/base",
      "_view_module_version": "1.2.0",
      "_view_name": "LayoutView",
      "align_content": null,
      "align_items": null,
      "align_self": null,
      "border": null,
      "bottom": null,
      "display": null,
      "flex": null,
      "flex_flow": null,
      "grid_area": null,
      "grid_auto_columns": null,
      "grid_auto_flow": null,
      "grid_auto_rows": null,
      "grid_column": null,
      "grid_gap": null,
      "grid_row": null,
      "grid_template_areas": null,
      "grid_template_columns": null,
      "grid_template_rows": null,
      "height": null,
      "justify_content": null,
      "justify_items": null,
      "left": null,
      "margin": null,
      "max_height": null,
      "max_width": null,
      "min_height": null,
      "min_width": null,
      "object_fit": null,
      "object_position": null,
      "order": null,
      "overflow": null,
      "overflow_x": null,
      "overflow_y": null,
      "padding": null,
      "right": null,
      "top": null,
      "visibility": null,
      "width": null
     }
    },
    "9bddec0153494155a5d4005643e83131": {
     "model_module": "@jupyter-widgets/controls",
     "model_module_version": "1.5.0",
     "model_name": "HTMLModel",
     "state": {
      "_dom_classes": [],
      "_model_module": "@jupyter-widgets/controls",
      "_model_module_version": "1.5.0",
      "_model_name": "HTMLModel",
      "_view_count": null,
      "_view_module": "@jupyter-widgets/controls",
      "_view_module_version": "1.5.0",
      "_view_name": "HTMLView",
      "description": "",
      "description_tooltip": null,
      "layout": "IPY_MODEL_3fcb7d8806a0407c91b04eaac7c1fea6",
      "placeholder": "​",
      "style": "IPY_MODEL_3d40ddec434d44248a4f7b10a07e9923",
      "value": " 438/438 [00:00&lt;00:00, 41.5kB/s]"
     }
    },
    "9d6394a0c8b6457697bc8a546e7d8c39": {
     "model_module": "@jupyter-widgets/base",
     "model_module_version": "1.2.0",
     "model_name": "LayoutModel",
     "state": {
      "_model_module": "@jupyter-widgets/base",
      "_model_module_version": "1.2.0",
      "_model_name": "LayoutModel",
      "_view_count": null,
      "_view_module": "@jupyter-widgets/base",
      "_view_module_version": "1.2.0",
      "_view_name": "LayoutView",
      "align_content": null,
      "align_items": null,
      "align_self": null,
      "border": null,
      "bottom": null,
      "display": null,
      "flex": null,
      "flex_flow": null,
      "grid_area": null,
      "grid_auto_columns": null,
      "grid_auto_flow": null,
      "grid_auto_rows": null,
      "grid_column": null,
      "grid_gap": null,
      "grid_row": null,
      "grid_template_areas": null,
      "grid_template_columns": null,
      "grid_template_rows": null,
      "height": null,
      "justify_content": null,
      "justify_items": null,
      "left": null,
      "margin": null,
      "max_height": null,
      "max_width": null,
      "min_height": null,
      "min_width": null,
      "object_fit": null,
      "object_position": null,
      "order": null,
      "overflow": null,
      "overflow_x": null,
      "overflow_y": null,
      "padding": null,
      "right": null,
      "top": null,
      "visibility": null,
      "width": null
     }
    },
    "9e14cccb03204602981c36dcb1a20814": {
     "model_module": "@jupyter-widgets/controls",
     "model_module_version": "1.5.0",
     "model_name": "HTMLModel",
     "state": {
      "_dom_classes": [],
      "_model_module": "@jupyter-widgets/controls",
      "_model_module_version": "1.5.0",
      "_model_name": "HTMLModel",
      "_view_count": null,
      "_view_module": "@jupyter-widgets/controls",
      "_view_module_version": "1.5.0",
      "_view_name": "HTMLView",
      "description": "",
      "description_tooltip": null,
      "layout": "IPY_MODEL_d9de3b5a74ae4b80a82747f79e11a3fd",
      "placeholder": "​",
      "style": "IPY_MODEL_67f2e5f4eadc49bb986cf2ba1663af38",
      "value": "Unsloth: Tokenizing [&quot;text&quot;] (num_proc=2): 100%"
     }
    },
    "9e53707dfe4e41ad8d0ea4efae94c733": {
     "model_module": "@jupyter-widgets/base",
     "model_module_version": "1.2.0",
     "model_name": "LayoutModel",
     "state": {
      "_model_module": "@jupyter-widgets/base",
      "_model_module_version": "1.2.0",
      "_model_name": "LayoutModel",
      "_view_count": null,
      "_view_module": "@jupyter-widgets/base",
      "_view_module_version": "1.2.0",
      "_view_name": "LayoutView",
      "align_content": null,
      "align_items": null,
      "align_self": null,
      "border": null,
      "bottom": null,
      "display": null,
      "flex": null,
      "flex_flow": null,
      "grid_area": null,
      "grid_auto_columns": null,
      "grid_auto_flow": null,
      "grid_auto_rows": null,
      "grid_column": null,
      "grid_gap": null,
      "grid_row": null,
      "grid_template_areas": null,
      "grid_template_columns": null,
      "grid_template_rows": null,
      "height": null,
      "justify_content": null,
      "justify_items": null,
      "left": null,
      "margin": null,
      "max_height": null,
      "max_width": null,
      "min_height": null,
      "min_width": null,
      "object_fit": null,
      "object_position": null,
      "order": null,
      "overflow": null,
      "overflow_x": null,
      "overflow_y": null,
      "padding": null,
      "right": null,
      "top": null,
      "visibility": null,
      "width": null
     }
    },
    "a2fbe3b794b9450c9e4a3bba8e6536b1": {
     "model_module": "@jupyter-widgets/controls",
     "model_module_version": "1.5.0",
     "model_name": "HTMLModel",
     "state": {
      "_dom_classes": [],
      "_model_module": "@jupyter-widgets/controls",
      "_model_module_version": "1.5.0",
      "_model_name": "HTMLModel",
      "_view_count": null,
      "_view_module": "@jupyter-widgets/controls",
      "_view_module_version": "1.5.0",
      "_view_name": "HTMLView",
      "description": "",
      "description_tooltip": null,
      "layout": "IPY_MODEL_5c3bff6390ca40c6976f9335214fa197",
      "placeholder": "​",
      "style": "IPY_MODEL_39e80d32786040838204ed7005ffa634",
      "value": " 4268/4268 [00:20&lt;00:00, 281.19 examples/s]"
     }
    },
    "a45af0029d9645dba34a2cd7b75274c9": {
     "model_module": "@jupyter-widgets/controls",
     "model_module_version": "1.5.0",
     "model_name": "DescriptionStyleModel",
     "state": {
      "_model_module": "@jupyter-widgets/controls",
      "_model_module_version": "1.5.0",
      "_model_name": "DescriptionStyleModel",
      "_view_count": null,
      "_view_module": "@jupyter-widgets/base",
      "_view_module_version": "1.2.0",
      "_view_name": "StyleView",
      "description_width": ""
     }
    },
    "a46ceb633c784f53b5ea1bcd5b86f453": {
     "model_module": "@jupyter-widgets/base",
     "model_module_version": "1.2.0",
     "model_name": "LayoutModel",
     "state": {
      "_model_module": "@jupyter-widgets/base",
      "_model_module_version": "1.2.0",
      "_model_name": "LayoutModel",
      "_view_count": null,
      "_view_module": "@jupyter-widgets/base",
      "_view_module_version": "1.2.0",
      "_view_name": "LayoutView",
      "align_content": null,
      "align_items": null,
      "align_self": null,
      "border": null,
      "bottom": null,
      "display": null,
      "flex": null,
      "flex_flow": null,
      "grid_area": null,
      "grid_auto_columns": null,
      "grid_auto_flow": null,
      "grid_auto_rows": null,
      "grid_column": null,
      "grid_gap": null,
      "grid_row": null,
      "grid_template_areas": null,
      "grid_template_columns": null,
      "grid_template_rows": null,
      "height": null,
      "justify_content": null,
      "justify_items": null,
      "left": null,
      "margin": null,
      "max_height": null,
      "max_width": null,
      "min_height": null,
      "min_width": null,
      "object_fit": null,
      "object_position": null,
      "order": null,
      "overflow": null,
      "overflow_x": null,
      "overflow_y": null,
      "padding": null,
      "right": null,
      "top": null,
      "visibility": null,
      "width": null
     }
    },
    "b5d6f04dc4a7439f8b8f9914c564ddbe": {
     "model_module": "@jupyter-widgets/base",
     "model_module_version": "1.2.0",
     "model_name": "LayoutModel",
     "state": {
      "_model_module": "@jupyter-widgets/base",
      "_model_module_version": "1.2.0",
      "_model_name": "LayoutModel",
      "_view_count": null,
      "_view_module": "@jupyter-widgets/base",
      "_view_module_version": "1.2.0",
      "_view_name": "LayoutView",
      "align_content": null,
      "align_items": null,
      "align_self": null,
      "border": null,
      "bottom": null,
      "display": null,
      "flex": null,
      "flex_flow": null,
      "grid_area": null,
      "grid_auto_columns": null,
      "grid_auto_flow": null,
      "grid_auto_rows": null,
      "grid_column": null,
      "grid_gap": null,
      "grid_row": null,
      "grid_template_areas": null,
      "grid_template_columns": null,
      "grid_template_rows": null,
      "height": null,
      "justify_content": null,
      "justify_items": null,
      "left": null,
      "margin": null,
      "max_height": null,
      "max_width": null,
      "min_height": null,
      "min_width": null,
      "object_fit": null,
      "object_position": null,
      "order": null,
      "overflow": null,
      "overflow_x": null,
      "overflow_y": null,
      "padding": null,
      "right": null,
      "top": null,
      "visibility": null,
      "width": null
     }
    },
    "bb4f8b23b8ec4ea9b236e15098edcecc": {
     "model_module": "@jupyter-widgets/controls",
     "model_module_version": "1.5.0",
     "model_name": "ProgressStyleModel",
     "state": {
      "_model_module": "@jupyter-widgets/controls",
      "_model_module_version": "1.5.0",
      "_model_name": "ProgressStyleModel",
      "_view_count": null,
      "_view_module": "@jupyter-widgets/base",
      "_view_module_version": "1.2.0",
      "_view_name": "StyleView",
      "bar_color": null,
      "description_width": ""
     }
    },
    "c0aa38f0db6047b8958a835f3fb92629": {
     "model_module": "@jupyter-widgets/base",
     "model_module_version": "1.2.0",
     "model_name": "LayoutModel",
     "state": {
      "_model_module": "@jupyter-widgets/base",
      "_model_module_version": "1.2.0",
      "_model_name": "LayoutModel",
      "_view_count": null,
      "_view_module": "@jupyter-widgets/base",
      "_view_module_version": "1.2.0",
      "_view_name": "LayoutView",
      "align_content": null,
      "align_items": null,
      "align_self": null,
      "border": null,
      "bottom": null,
      "display": null,
      "flex": null,
      "flex_flow": null,
      "grid_area": null,
      "grid_auto_columns": null,
      "grid_auto_flow": null,
      "grid_auto_rows": null,
      "grid_column": null,
      "grid_gap": null,
      "grid_row": null,
      "grid_template_areas": null,
      "grid_template_columns": null,
      "grid_template_rows": null,
      "height": null,
      "justify_content": null,
      "justify_items": null,
      "left": null,
      "margin": null,
      "max_height": null,
      "max_width": null,
      "min_height": null,
      "min_width": null,
      "object_fit": null,
      "object_position": null,
      "order": null,
      "overflow": null,
      "overflow_x": null,
      "overflow_y": null,
      "padding": null,
      "right": null,
      "top": null,
      "visibility": null,
      "width": null
     }
    },
    "c0ddc6ea929f4f76acf63eb99ed9600c": {
     "model_module": "@jupyter-widgets/base",
     "model_module_version": "1.2.0",
     "model_name": "LayoutModel",
     "state": {
      "_model_module": "@jupyter-widgets/base",
      "_model_module_version": "1.2.0",
      "_model_name": "LayoutModel",
      "_view_count": null,
      "_view_module": "@jupyter-widgets/base",
      "_view_module_version": "1.2.0",
      "_view_name": "LayoutView",
      "align_content": null,
      "align_items": null,
      "align_self": null,
      "border": null,
      "bottom": null,
      "display": null,
      "flex": null,
      "flex_flow": null,
      "grid_area": null,
      "grid_auto_columns": null,
      "grid_auto_flow": null,
      "grid_auto_rows": null,
      "grid_column": null,
      "grid_gap": null,
      "grid_row": null,
      "grid_template_areas": null,
      "grid_template_columns": null,
      "grid_template_rows": null,
      "height": null,
      "justify_content": null,
      "justify_items": null,
      "left": null,
      "margin": null,
      "max_height": null,
      "max_width": null,
      "min_height": null,
      "min_width": null,
      "object_fit": null,
      "object_position": null,
      "order": null,
      "overflow": null,
      "overflow_x": null,
      "overflow_y": null,
      "padding": null,
      "right": null,
      "top": null,
      "visibility": null,
      "width": null
     }
    },
    "c11f8944168c4b7e9e1cf4bd53289ec4": {
     "model_module": "@jupyter-widgets/controls",
     "model_module_version": "1.5.0",
     "model_name": "HTMLModel",
     "state": {
      "_dom_classes": [],
      "_model_module": "@jupyter-widgets/controls",
      "_model_module_version": "1.5.0",
      "_model_name": "HTMLModel",
      "_view_count": null,
      "_view_module": "@jupyter-widgets/controls",
      "_view_module_version": "1.5.0",
      "_view_name": "HTMLView",
      "description": "",
      "description_tooltip": null,
      "layout": "IPY_MODEL_4fc04cbdc0184ca792042f2b7a73e54f",
      "placeholder": "​",
      "style": "IPY_MODEL_080a8a5f22fc4d9d87300906621287c2",
      "value": "Map: 100%"
     }
    },
    "c161b672a7cd4c08b3b6e1fa609d2048": {
     "model_module": "@jupyter-widgets/controls",
     "model_module_version": "1.5.0",
     "model_name": "HTMLModel",
     "state": {
      "_dom_classes": [],
      "_model_module": "@jupyter-widgets/controls",
      "_model_module_version": "1.5.0",
      "_model_name": "HTMLModel",
      "_view_count": null,
      "_view_module": "@jupyter-widgets/controls",
      "_view_module_version": "1.5.0",
      "_view_name": "HTMLView",
      "description": "",
      "description_tooltip": null,
      "layout": "IPY_MODEL_e03b08a3fa5b4e20afd647d5f69f975b",
      "placeholder": "​",
      "style": "IPY_MODEL_01bd8408d0104bc39014413e9f40dd7c",
      "value": "Unsloth: Tokenizing [&quot;text&quot;] (num_proc=2): 100%"
     }
    },
    "c7ac8023d9a94548996982b0b58ea242": {
     "model_module": "@jupyter-widgets/controls",
     "model_module_version": "1.5.0",
     "model_name": "HBoxModel",
     "state": {
      "_dom_classes": [],
      "_model_module": "@jupyter-widgets/controls",
      "_model_module_version": "1.5.0",
      "_model_name": "HBoxModel",
      "_view_count": null,
      "_view_module": "@jupyter-widgets/controls",
      "_view_module_version": "1.5.0",
      "_view_name": "HBoxView",
      "box_style": "",
      "children": [
       "IPY_MODEL_f01f349e6d8b462380db289eaf81de77",
       "IPY_MODEL_21974f90ebf44dd8a364b7eb8b68fd58",
       "IPY_MODEL_6b9dc6b203874d91bf5f04351149719e"
      ],
      "layout": "IPY_MODEL_64d4abc846bc458e9790e9a88c1f4839"
     }
    },
    "c80bde8780114c2797cd62e0d20a7cb6": {
     "model_module": "@jupyter-widgets/controls",
     "model_module_version": "1.5.0",
     "model_name": "HTMLModel",
     "state": {
      "_dom_classes": [],
      "_model_module": "@jupyter-widgets/controls",
      "_model_module_version": "1.5.0",
      "_model_name": "HTMLModel",
      "_view_count": null,
      "_view_module": "@jupyter-widgets/controls",
      "_view_module_version": "1.5.0",
      "_view_name": "HTMLView",
      "description": "",
      "description_tooltip": null,
      "layout": "IPY_MODEL_40643ca9090a412d9bca4cd41177efb9",
      "placeholder": "​",
      "style": "IPY_MODEL_f8ea702867c54d2a8598081601a88882",
      "value": "model.safetensors: 100%"
     }
    },
    "c85dd397cb4e4d4f80113fd043fcd16e": {
     "model_module": "@jupyter-widgets/controls",
     "model_module_version": "1.5.0",
     "model_name": "DescriptionStyleModel",
     "state": {
      "_model_module": "@jupyter-widgets/controls",
      "_model_module_version": "1.5.0",
      "_model_name": "DescriptionStyleModel",
      "_view_count": null,
      "_view_module": "@jupyter-widgets/base",
      "_view_module_version": "1.2.0",
      "_view_name": "StyleView",
      "description_width": ""
     }
    },
    "cf1acb68bc65488a9ad20ae24b1bbc3f": {
     "model_module": "@jupyter-widgets/controls",
     "model_module_version": "1.5.0",
     "model_name": "DescriptionStyleModel",
     "state": {
      "_model_module": "@jupyter-widgets/controls",
      "_model_module_version": "1.5.0",
      "_model_name": "DescriptionStyleModel",
      "_view_count": null,
      "_view_module": "@jupyter-widgets/base",
      "_view_module_version": "1.2.0",
      "_view_name": "StyleView",
      "description_width": ""
     }
    },
    "d611c5c95eda4a21802c05b83c0c216a": {
     "model_module": "@jupyter-widgets/controls",
     "model_module_version": "1.5.0",
     "model_name": "FloatProgressModel",
     "state": {
      "_dom_classes": [],
      "_model_module": "@jupyter-widgets/controls",
      "_model_module_version": "1.5.0",
      "_model_name": "FloatProgressModel",
      "_view_count": null,
      "_view_module": "@jupyter-widgets/controls",
      "_view_module_version": "1.5.0",
      "_view_name": "ProgressView",
      "bar_style": "success",
      "description": "",
      "description_tooltip": null,
      "layout": "IPY_MODEL_faf918a2edb145789ee037011c5db228",
      "max": 438,
      "min": 0,
      "orientation": "horizontal",
      "style": "IPY_MODEL_84f06f4fa8f246fb9d20946d90393ced",
      "value": 438
     }
    },
    "d9de3b5a74ae4b80a82747f79e11a3fd": {
     "model_module": "@jupyter-widgets/base",
     "model_module_version": "1.2.0",
     "model_name": "LayoutModel",
     "state": {
      "_model_module": "@jupyter-widgets/base",
      "_model_module_version": "1.2.0",
      "_model_name": "LayoutModel",
      "_view_count": null,
      "_view_module": "@jupyter-widgets/base",
      "_view_module_version": "1.2.0",
      "_view_name": "LayoutView",
      "align_content": null,
      "align_items": null,
      "align_self": null,
      "border": null,
      "bottom": null,
      "display": null,
      "flex": null,
      "flex_flow": null,
      "grid_area": null,
      "grid_auto_columns": null,
      "grid_auto_flow": null,
      "grid_auto_rows": null,
      "grid_column": null,
      "grid_gap": null,
      "grid_row": null,
      "grid_template_areas": null,
      "grid_template_columns": null,
      "grid_template_rows": null,
      "height": null,
      "justify_content": null,
      "justify_items": null,
      "left": null,
      "margin": null,
      "max_height": null,
      "max_width": null,
      "min_height": null,
      "min_width": null,
      "object_fit": null,
      "object_position": null,
      "order": null,
      "overflow": null,
      "overflow_x": null,
      "overflow_y": null,
      "padding": null,
      "right": null,
      "top": null,
      "visibility": null,
      "width": null
     }
    },
    "dbf749b3cddd484bb446b76b61c2e3a7": {
     "model_module": "@jupyter-widgets/controls",
     "model_module_version": "1.5.0",
     "model_name": "HTMLModel",
     "state": {
      "_dom_classes": [],
      "_model_module": "@jupyter-widgets/controls",
      "_model_module_version": "1.5.0",
      "_model_name": "HTMLModel",
      "_view_count": null,
      "_view_module": "@jupyter-widgets/controls",
      "_view_module_version": "1.5.0",
      "_view_name": "HTMLView",
      "description": "",
      "description_tooltip": null,
      "layout": "IPY_MODEL_576b784ad0dd464bb2a190a96c2c92b0",
      "placeholder": "​",
      "style": "IPY_MODEL_cf1acb68bc65488a9ad20ae24b1bbc3f",
      "value": "generation_config.json: 100%"
     }
    },
    "e03b08a3fa5b4e20afd647d5f69f975b": {
     "model_module": "@jupyter-widgets/base",
     "model_module_version": "1.2.0",
     "model_name": "LayoutModel",
     "state": {
      "_model_module": "@jupyter-widgets/base",
      "_model_module_version": "1.2.0",
      "_model_name": "LayoutModel",
      "_view_count": null,
      "_view_module": "@jupyter-widgets/base",
      "_view_module_version": "1.2.0",
      "_view_name": "LayoutView",
      "align_content": null,
      "align_items": null,
      "align_self": null,
      "border": null,
      "bottom": null,
      "display": null,
      "flex": null,
      "flex_flow": null,
      "grid_area": null,
      "grid_auto_columns": null,
      "grid_auto_flow": null,
      "grid_auto_rows": null,
      "grid_column": null,
      "grid_gap": null,
      "grid_row": null,
      "grid_template_areas": null,
      "grid_template_columns": null,
      "grid_template_rows": null,
      "height": null,
      "justify_content": null,
      "justify_items": null,
      "left": null,
      "margin": null,
      "max_height": null,
      "max_width": null,
      "min_height": null,
      "min_width": null,
      "object_fit": null,
      "object_position": null,
      "order": null,
      "overflow": null,
      "overflow_x": null,
      "overflow_y": null,
      "padding": null,
      "right": null,
      "top": null,
      "visibility": null,
      "width": null
     }
    },
    "e431324d33fb4a3fbe776442a3c6034f": {
     "model_module": "@jupyter-widgets/controls",
     "model_module_version": "1.5.0",
     "model_name": "HTMLModel",
     "state": {
      "_dom_classes": [],
      "_model_module": "@jupyter-widgets/controls",
      "_model_module_version": "1.5.0",
      "_model_name": "HTMLModel",
      "_view_count": null,
      "_view_module": "@jupyter-widgets/controls",
      "_view_module_version": "1.5.0",
      "_view_name": "HTMLView",
      "description": "",
      "description_tooltip": null,
      "layout": "IPY_MODEL_2ff7f5d0fccc4f9395ab377869212f2a",
      "placeholder": "​",
      "style": "IPY_MODEL_7d86d7500f4c4eedb0720d6aae40c0fa",
      "value": " 155/155 [00:00&lt;00:00, 15.0kB/s]"
     }
    },
    "eed7cbe3e91448cb9ca265929057015d": {
     "model_module": "@jupyter-widgets/controls",
     "model_module_version": "1.5.0",
     "model_name": "HTMLModel",
     "state": {
      "_dom_classes": [],
      "_model_module": "@jupyter-widgets/controls",
      "_model_module_version": "1.5.0",
      "_model_name": "HTMLModel",
      "_view_count": null,
      "_view_module": "@jupyter-widgets/controls",
      "_view_module_version": "1.5.0",
      "_view_name": "HTMLView",
      "description": "",
      "description_tooltip": null,
      "layout": "IPY_MODEL_30cfe05c41e749dbb9d4ff3f705d9d28",
      "placeholder": "​",
      "style": "IPY_MODEL_5df5a9c58dee4cbea57dd65287c7a8b8",
      "value": "tokenizer.model: 100%"
     }
    },
    "f01f349e6d8b462380db289eaf81de77": {
     "model_module": "@jupyter-widgets/controls",
     "model_module_version": "1.5.0",
     "model_name": "HTMLModel",
     "state": {
      "_dom_classes": [],
      "_model_module": "@jupyter-widgets/controls",
      "_model_module_version": "1.5.0",
      "_model_name": "HTMLModel",
      "_view_count": null,
      "_view_module": "@jupyter-widgets/controls",
      "_view_module_version": "1.5.0",
      "_view_name": "HTMLView",
      "description": "",
      "description_tooltip": null,
      "layout": "IPY_MODEL_7ec77b2b6fff4c3194365aadfd62cec1",
      "placeholder": "​",
      "style": "IPY_MODEL_ff939a1d2f1c484a98a814399bc24f9f",
      "value": "Map: 100%"
     }
    },
    "f39ba8b0005f4294ac29bfee81db712f": {
     "model_module": "@jupyter-widgets/controls",
     "model_module_version": "1.5.0",
     "model_name": "HTMLModel",
     "state": {
      "_dom_classes": [],
      "_model_module": "@jupyter-widgets/controls",
      "_model_module_version": "1.5.0",
      "_model_name": "HTMLModel",
      "_view_count": null,
      "_view_module": "@jupyter-widgets/controls",
      "_view_module_version": "1.5.0",
      "_view_name": "HTMLView",
      "description": "",
      "description_tooltip": null,
      "layout": "IPY_MODEL_c0ddc6ea929f4f76acf63eb99ed9600c",
      "placeholder": "​",
      "style": "IPY_MODEL_143e8b39061f40fb9111643c0f4c47e1",
      "value": " 1.80M/1.80M [00:00&lt;00:00, 7.00MB/s]"
     }
    },
    "f4d09fc15f474155ab141501b6bbd7c4": {
     "model_module": "@jupyter-widgets/controls",
     "model_module_version": "1.5.0",
     "model_name": "ProgressStyleModel",
     "state": {
      "_model_module": "@jupyter-widgets/controls",
      "_model_module_version": "1.5.0",
      "_model_name": "ProgressStyleModel",
      "_view_count": null,
      "_view_module": "@jupyter-widgets/base",
      "_view_module_version": "1.2.0",
      "_view_name": "StyleView",
      "bar_color": null,
      "description_width": ""
     }
    },
    "f8ea702867c54d2a8598081601a88882": {
     "model_module": "@jupyter-widgets/controls",
     "model_module_version": "1.5.0",
     "model_name": "DescriptionStyleModel",
     "state": {
      "_model_module": "@jupyter-widgets/controls",
      "_model_module_version": "1.5.0",
      "_model_name": "DescriptionStyleModel",
      "_view_count": null,
      "_view_module": "@jupyter-widgets/base",
      "_view_module_version": "1.2.0",
      "_view_name": "StyleView",
      "description_width": ""
     }
    },
    "faf918a2edb145789ee037011c5db228": {
     "model_module": "@jupyter-widgets/base",
     "model_module_version": "1.2.0",
     "model_name": "LayoutModel",
     "state": {
      "_model_module": "@jupyter-widgets/base",
      "_model_module_version": "1.2.0",
      "_model_name": "LayoutModel",
      "_view_count": null,
      "_view_module": "@jupyter-widgets/base",
      "_view_module_version": "1.2.0",
      "_view_name": "LayoutView",
      "align_content": null,
      "align_items": null,
      "align_self": null,
      "border": null,
      "bottom": null,
      "display": null,
      "flex": null,
      "flex_flow": null,
      "grid_area": null,
      "grid_auto_columns": null,
      "grid_auto_flow": null,
      "grid_auto_rows": null,
      "grid_column": null,
      "grid_gap": null,
      "grid_row": null,
      "grid_template_areas": null,
      "grid_template_columns": null,
      "grid_template_rows": null,
      "height": null,
      "justify_content": null,
      "justify_items": null,
      "left": null,
      "margin": null,
      "max_height": null,
      "max_width": null,
      "min_height": null,
      "min_width": null,
      "object_fit": null,
      "object_position": null,
      "order": null,
      "overflow": null,
      "overflow_x": null,
      "overflow_y": null,
      "padding": null,
      "right": null,
      "top": null,
      "visibility": null,
      "width": null
     }
    },
    "ff3d8e5afa8444ba8350a2ef9b77c2f2": {
     "model_module": "@jupyter-widgets/controls",
     "model_module_version": "1.5.0",
     "model_name": "ProgressStyleModel",
     "state": {
      "_model_module": "@jupyter-widgets/controls",
      "_model_module_version": "1.5.0",
      "_model_name": "ProgressStyleModel",
      "_view_count": null,
      "_view_module": "@jupyter-widgets/base",
      "_view_module_version": "1.2.0",
      "_view_name": "StyleView",
      "bar_color": null,
      "description_width": ""
     }
    },
    "ff939a1d2f1c484a98a814399bc24f9f": {
     "model_module": "@jupyter-widgets/controls",
     "model_module_version": "1.5.0",
     "model_name": "DescriptionStyleModel",
     "state": {
      "_model_module": "@jupyter-widgets/controls",
      "_model_module_version": "1.5.0",
      "_model_name": "DescriptionStyleModel",
      "_view_count": null,
      "_view_module": "@jupyter-widgets/base",
      "_view_module_version": "1.2.0",
      "_view_name": "StyleView",
      "description_width": ""
     }
    }
   }
  }
 },
 "nbformat": 4,
 "nbformat_minor": 5
}
