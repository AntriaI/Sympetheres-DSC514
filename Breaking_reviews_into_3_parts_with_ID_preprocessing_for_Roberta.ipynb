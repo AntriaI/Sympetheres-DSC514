{
  "cells": [
    {
      "cell_type": "markdown",
      "metadata": {
        "id": "v56NdKSuEX2H"
      },
      "source": [
        "On this notebook , we will attempt a preprocessing step before using the RoBERTa model since it has a max input length of 512 and our reviews are much longer. The longest sequence we have is around 1500 so we will break each review into 3 parts which we will be able to trace back to the original review using IDs and then aggregate."
      ]
    },
    {
      "cell_type": "code",
      "execution_count": 1,
      "metadata": {
        "id": "QB92xkEkFYjG"
      },
      "outputs": [],
      "source": [
        "!pip install datasets\n",
        "from IPython.display import clear_output\n",
        "clear_output()"
      ]
    },
    {
      "cell_type": "code",
      "execution_count": 2,
      "metadata": {
        "id": "g72_3HblCa4Z"
      },
      "outputs": [],
      "source": [
        "import pandas as pd\n",
        "from datasets import Dataset, DatasetDict\n",
        "import torch\n",
        "import os\n",
        "import torch\n",
        "import numpy as np\n",
        "from google.colab import drive\n",
        "from transformers import RobertaTokenizer, RobertaConfig, RobertaForSequenceClassification, RobertaTokenizerFast, Trainer, TrainingArguments, EarlyStoppingCallback\n",
        "from torch.utils.data import TensorDataset, DataLoader, RandomSampler, SequentialSampler\n",
        "from sklearn.model_selection import train_test_split\n",
        "import matplotlib.pyplot as plt"
      ]
    },
    {
      "cell_type": "code",
      "execution_count": 3,
      "metadata": {
        "colab": {
          "base_uri": "https://localhost:8080/"
        },
        "id": "bmx19uygFxnL",
        "outputId": "92359822-279c-446a-af09-4725aadd7e86"
      },
      "outputs": [
        {
          "output_type": "stream",
          "name": "stdout",
          "text": [
            "Mounted at /content/drive\n"
          ]
        }
      ],
      "source": [
        "drive.mount('/content/drive', force_remount = True)"
      ]
    },
    {
      "cell_type": "code",
      "execution_count": 4,
      "metadata": {
        "colab": {
          "base_uri": "https://localhost:8080/",
          "height": 293
        },
        "id": "P1L6zEQ5FUNN",
        "outputId": "8923b3a3-8abd-4fce-bf05-3d471f1b9de9"
      },
      "outputs": [
        {
          "output_type": "execute_result",
          "data": {
            "text/plain": [
              "    movie_id                                       plot_summary  duration  \\\n",
              "0  tt0015864  A lone prospector ventures into Alaska looking...  1h 35min   \n",
              "1  tt0015864  A lone prospector ventures into Alaska looking...  1h 35min   \n",
              "2  tt0015864  A lone prospector ventures into Alaska looking...  1h 35min   \n",
              "3  tt0015864  A lone prospector ventures into Alaska looking...  1h 35min   \n",
              "4  tt0017136  Sometime in the future, the city of Metropolis...  2h 33min   \n",
              "\n",
              "                              genre  rating_x release_date  \\\n",
              "0  ['Adventure', 'Comedy', 'Drama']       8.2         1925   \n",
              "1  ['Adventure', 'Comedy', 'Drama']       8.2         1925   \n",
              "2  ['Adventure', 'Comedy', 'Drama']       8.2         1925   \n",
              "3  ['Adventure', 'Comedy', 'Drama']       8.2         1925   \n",
              "4               ['Drama', 'Sci-Fi']       8.3   1927-03-13   \n",
              "\n",
              "                                       plot_synopsis      review_date  \\\n",
              "0  It is in the middle of the Gold Rush. A Lone P...  1 February 2006   \n",
              "1  It is in the middle of the Gold Rush. A Lone P...   11 August 2005   \n",
              "2  It is in the middle of the Gold Rush. A Lone P...     22 June 2000   \n",
              "3  It is in the middle of the Gold Rush. A Lone P...     9 March 2009   \n",
              "4  The film is set in the year 2026, in the extra...     7 March 2015   \n",
              "\n",
              "      user_id  is_spoiler                                        review_text  \\\n",
              "0   ur5945598        True  Oh where can I start on why alleged comedians ...   \n",
              "1   ur5805910        True  We follow \"the little fellow\" (Chaplin), in hi...   \n",
              "2   ur0773000       False  I recently saw this movie with a live orchestr...   \n",
              "3   ur0361658       False  The Gold Rush (1925) was a big undertaking for...   \n",
              "4  ur13977076        True  This sci-fi classic is set in a future where t...   \n",
              "\n",
              "   rating_y                                     review_summary  \\\n",
              "0        10                        Chaplin strikes comic gold!   \n",
              "1        10          Chaplin's delightful bonhomie & innocence   \n",
              "2         9  As fresh, funny, and moving as the day it was ...   \n",
              "3        10       The Cinema of Charles Chaplin: The Gold Rush   \n",
              "4        10                          A science fiction classic   \n",
              "\n",
              "                                        whole_review  \n",
              "0  Oh where can I start on why alleged comedians ...  \n",
              "1  We follow \"the little fellow\" (Chaplin), in hi...  \n",
              "2  I recently saw this movie with a live orchestr...  \n",
              "3  The Gold Rush (1925) was a big undertaking for...  \n",
              "4  This sci-fi classic is set in a future where t...  "
            ],
            "text/html": [
              "\n",
              "  <div id=\"df-422c8295-088c-4f41-8269-a5059f599b44\" class=\"colab-df-container\">\n",
              "    <div>\n",
              "<style scoped>\n",
              "    .dataframe tbody tr th:only-of-type {\n",
              "        vertical-align: middle;\n",
              "    }\n",
              "\n",
              "    .dataframe tbody tr th {\n",
              "        vertical-align: top;\n",
              "    }\n",
              "\n",
              "    .dataframe thead th {\n",
              "        text-align: right;\n",
              "    }\n",
              "</style>\n",
              "<table border=\"1\" class=\"dataframe\">\n",
              "  <thead>\n",
              "    <tr style=\"text-align: right;\">\n",
              "      <th></th>\n",
              "      <th>movie_id</th>\n",
              "      <th>plot_summary</th>\n",
              "      <th>duration</th>\n",
              "      <th>genre</th>\n",
              "      <th>rating_x</th>\n",
              "      <th>release_date</th>\n",
              "      <th>plot_synopsis</th>\n",
              "      <th>review_date</th>\n",
              "      <th>user_id</th>\n",
              "      <th>is_spoiler</th>\n",
              "      <th>review_text</th>\n",
              "      <th>rating_y</th>\n",
              "      <th>review_summary</th>\n",
              "      <th>whole_review</th>\n",
              "    </tr>\n",
              "  </thead>\n",
              "  <tbody>\n",
              "    <tr>\n",
              "      <th>0</th>\n",
              "      <td>tt0015864</td>\n",
              "      <td>A lone prospector ventures into Alaska looking...</td>\n",
              "      <td>1h 35min</td>\n",
              "      <td>['Adventure', 'Comedy', 'Drama']</td>\n",
              "      <td>8.2</td>\n",
              "      <td>1925</td>\n",
              "      <td>It is in the middle of the Gold Rush. A Lone P...</td>\n",
              "      <td>1 February 2006</td>\n",
              "      <td>ur5945598</td>\n",
              "      <td>True</td>\n",
              "      <td>Oh where can I start on why alleged comedians ...</td>\n",
              "      <td>10</td>\n",
              "      <td>Chaplin strikes comic gold!</td>\n",
              "      <td>Oh where can I start on why alleged comedians ...</td>\n",
              "    </tr>\n",
              "    <tr>\n",
              "      <th>1</th>\n",
              "      <td>tt0015864</td>\n",
              "      <td>A lone prospector ventures into Alaska looking...</td>\n",
              "      <td>1h 35min</td>\n",
              "      <td>['Adventure', 'Comedy', 'Drama']</td>\n",
              "      <td>8.2</td>\n",
              "      <td>1925</td>\n",
              "      <td>It is in the middle of the Gold Rush. A Lone P...</td>\n",
              "      <td>11 August 2005</td>\n",
              "      <td>ur5805910</td>\n",
              "      <td>True</td>\n",
              "      <td>We follow \"the little fellow\" (Chaplin), in hi...</td>\n",
              "      <td>10</td>\n",
              "      <td>Chaplin's delightful bonhomie &amp; innocence</td>\n",
              "      <td>We follow \"the little fellow\" (Chaplin), in hi...</td>\n",
              "    </tr>\n",
              "    <tr>\n",
              "      <th>2</th>\n",
              "      <td>tt0015864</td>\n",
              "      <td>A lone prospector ventures into Alaska looking...</td>\n",
              "      <td>1h 35min</td>\n",
              "      <td>['Adventure', 'Comedy', 'Drama']</td>\n",
              "      <td>8.2</td>\n",
              "      <td>1925</td>\n",
              "      <td>It is in the middle of the Gold Rush. A Lone P...</td>\n",
              "      <td>22 June 2000</td>\n",
              "      <td>ur0773000</td>\n",
              "      <td>False</td>\n",
              "      <td>I recently saw this movie with a live orchestr...</td>\n",
              "      <td>9</td>\n",
              "      <td>As fresh, funny, and moving as the day it was ...</td>\n",
              "      <td>I recently saw this movie with a live orchestr...</td>\n",
              "    </tr>\n",
              "    <tr>\n",
              "      <th>3</th>\n",
              "      <td>tt0015864</td>\n",
              "      <td>A lone prospector ventures into Alaska looking...</td>\n",
              "      <td>1h 35min</td>\n",
              "      <td>['Adventure', 'Comedy', 'Drama']</td>\n",
              "      <td>8.2</td>\n",
              "      <td>1925</td>\n",
              "      <td>It is in the middle of the Gold Rush. A Lone P...</td>\n",
              "      <td>9 March 2009</td>\n",
              "      <td>ur0361658</td>\n",
              "      <td>False</td>\n",
              "      <td>The Gold Rush (1925) was a big undertaking for...</td>\n",
              "      <td>10</td>\n",
              "      <td>The Cinema of Charles Chaplin: The Gold Rush</td>\n",
              "      <td>The Gold Rush (1925) was a big undertaking for...</td>\n",
              "    </tr>\n",
              "    <tr>\n",
              "      <th>4</th>\n",
              "      <td>tt0017136</td>\n",
              "      <td>Sometime in the future, the city of Metropolis...</td>\n",
              "      <td>2h 33min</td>\n",
              "      <td>['Drama', 'Sci-Fi']</td>\n",
              "      <td>8.3</td>\n",
              "      <td>1927-03-13</td>\n",
              "      <td>The film is set in the year 2026, in the extra...</td>\n",
              "      <td>7 March 2015</td>\n",
              "      <td>ur13977076</td>\n",
              "      <td>True</td>\n",
              "      <td>This sci-fi classic is set in a future where t...</td>\n",
              "      <td>10</td>\n",
              "      <td>A science fiction classic</td>\n",
              "      <td>This sci-fi classic is set in a future where t...</td>\n",
              "    </tr>\n",
              "  </tbody>\n",
              "</table>\n",
              "</div>\n",
              "    <div class=\"colab-df-buttons\">\n",
              "\n",
              "  <div class=\"colab-df-container\">\n",
              "    <button class=\"colab-df-convert\" onclick=\"convertToInteractive('df-422c8295-088c-4f41-8269-a5059f599b44')\"\n",
              "            title=\"Convert this dataframe to an interactive table.\"\n",
              "            style=\"display:none;\">\n",
              "\n",
              "  <svg xmlns=\"http://www.w3.org/2000/svg\" height=\"24px\" viewBox=\"0 -960 960 960\">\n",
              "    <path d=\"M120-120v-720h720v720H120Zm60-500h600v-160H180v160Zm220 220h160v-160H400v160Zm0 220h160v-160H400v160ZM180-400h160v-160H180v160Zm440 0h160v-160H620v160ZM180-180h160v-160H180v160Zm440 0h160v-160H620v160Z\"/>\n",
              "  </svg>\n",
              "    </button>\n",
              "\n",
              "  <style>\n",
              "    .colab-df-container {\n",
              "      display:flex;\n",
              "      gap: 12px;\n",
              "    }\n",
              "\n",
              "    .colab-df-convert {\n",
              "      background-color: #E8F0FE;\n",
              "      border: none;\n",
              "      border-radius: 50%;\n",
              "      cursor: pointer;\n",
              "      display: none;\n",
              "      fill: #1967D2;\n",
              "      height: 32px;\n",
              "      padding: 0 0 0 0;\n",
              "      width: 32px;\n",
              "    }\n",
              "\n",
              "    .colab-df-convert:hover {\n",
              "      background-color: #E2EBFA;\n",
              "      box-shadow: 0px 1px 2px rgba(60, 64, 67, 0.3), 0px 1px 3px 1px rgba(60, 64, 67, 0.15);\n",
              "      fill: #174EA6;\n",
              "    }\n",
              "\n",
              "    .colab-df-buttons div {\n",
              "      margin-bottom: 4px;\n",
              "    }\n",
              "\n",
              "    [theme=dark] .colab-df-convert {\n",
              "      background-color: #3B4455;\n",
              "      fill: #D2E3FC;\n",
              "    }\n",
              "\n",
              "    [theme=dark] .colab-df-convert:hover {\n",
              "      background-color: #434B5C;\n",
              "      box-shadow: 0px 1px 3px 1px rgba(0, 0, 0, 0.15);\n",
              "      filter: drop-shadow(0px 1px 2px rgba(0, 0, 0, 0.3));\n",
              "      fill: #FFFFFF;\n",
              "    }\n",
              "  </style>\n",
              "\n",
              "    <script>\n",
              "      const buttonEl =\n",
              "        document.querySelector('#df-422c8295-088c-4f41-8269-a5059f599b44 button.colab-df-convert');\n",
              "      buttonEl.style.display =\n",
              "        google.colab.kernel.accessAllowed ? 'block' : 'none';\n",
              "\n",
              "      async function convertToInteractive(key) {\n",
              "        const element = document.querySelector('#df-422c8295-088c-4f41-8269-a5059f599b44');\n",
              "        const dataTable =\n",
              "          await google.colab.kernel.invokeFunction('convertToInteractive',\n",
              "                                                    [key], {});\n",
              "        if (!dataTable) return;\n",
              "\n",
              "        const docLinkHtml = 'Like what you see? Visit the ' +\n",
              "          '<a target=\"_blank\" href=https://colab.research.google.com/notebooks/data_table.ipynb>data table notebook</a>'\n",
              "          + ' to learn more about interactive tables.';\n",
              "        element.innerHTML = '';\n",
              "        dataTable['output_type'] = 'display_data';\n",
              "        await google.colab.output.renderOutput(dataTable, element);\n",
              "        const docLink = document.createElement('div');\n",
              "        docLink.innerHTML = docLinkHtml;\n",
              "        element.appendChild(docLink);\n",
              "      }\n",
              "    </script>\n",
              "  </div>\n",
              "\n",
              "\n",
              "<div id=\"df-fbc272a8-cebc-4b7f-b3df-6160675fa95a\">\n",
              "  <button class=\"colab-df-quickchart\" onclick=\"quickchart('df-fbc272a8-cebc-4b7f-b3df-6160675fa95a')\"\n",
              "            title=\"Suggest charts\"\n",
              "            style=\"display:none;\">\n",
              "\n",
              "<svg xmlns=\"http://www.w3.org/2000/svg\" height=\"24px\"viewBox=\"0 0 24 24\"\n",
              "     width=\"24px\">\n",
              "    <g>\n",
              "        <path d=\"M19 3H5c-1.1 0-2 .9-2 2v14c0 1.1.9 2 2 2h14c1.1 0 2-.9 2-2V5c0-1.1-.9-2-2-2zM9 17H7v-7h2v7zm4 0h-2V7h2v10zm4 0h-2v-4h2v4z\"/>\n",
              "    </g>\n",
              "</svg>\n",
              "  </button>\n",
              "\n",
              "<style>\n",
              "  .colab-df-quickchart {\n",
              "      --bg-color: #E8F0FE;\n",
              "      --fill-color: #1967D2;\n",
              "      --hover-bg-color: #E2EBFA;\n",
              "      --hover-fill-color: #174EA6;\n",
              "      --disabled-fill-color: #AAA;\n",
              "      --disabled-bg-color: #DDD;\n",
              "  }\n",
              "\n",
              "  [theme=dark] .colab-df-quickchart {\n",
              "      --bg-color: #3B4455;\n",
              "      --fill-color: #D2E3FC;\n",
              "      --hover-bg-color: #434B5C;\n",
              "      --hover-fill-color: #FFFFFF;\n",
              "      --disabled-bg-color: #3B4455;\n",
              "      --disabled-fill-color: #666;\n",
              "  }\n",
              "\n",
              "  .colab-df-quickchart {\n",
              "    background-color: var(--bg-color);\n",
              "    border: none;\n",
              "    border-radius: 50%;\n",
              "    cursor: pointer;\n",
              "    display: none;\n",
              "    fill: var(--fill-color);\n",
              "    height: 32px;\n",
              "    padding: 0;\n",
              "    width: 32px;\n",
              "  }\n",
              "\n",
              "  .colab-df-quickchart:hover {\n",
              "    background-color: var(--hover-bg-color);\n",
              "    box-shadow: 0 1px 2px rgba(60, 64, 67, 0.3), 0 1px 3px 1px rgba(60, 64, 67, 0.15);\n",
              "    fill: var(--button-hover-fill-color);\n",
              "  }\n",
              "\n",
              "  .colab-df-quickchart-complete:disabled,\n",
              "  .colab-df-quickchart-complete:disabled:hover {\n",
              "    background-color: var(--disabled-bg-color);\n",
              "    fill: var(--disabled-fill-color);\n",
              "    box-shadow: none;\n",
              "  }\n",
              "\n",
              "  .colab-df-spinner {\n",
              "    border: 2px solid var(--fill-color);\n",
              "    border-color: transparent;\n",
              "    border-bottom-color: var(--fill-color);\n",
              "    animation:\n",
              "      spin 1s steps(1) infinite;\n",
              "  }\n",
              "\n",
              "  @keyframes spin {\n",
              "    0% {\n",
              "      border-color: transparent;\n",
              "      border-bottom-color: var(--fill-color);\n",
              "      border-left-color: var(--fill-color);\n",
              "    }\n",
              "    20% {\n",
              "      border-color: transparent;\n",
              "      border-left-color: var(--fill-color);\n",
              "      border-top-color: var(--fill-color);\n",
              "    }\n",
              "    30% {\n",
              "      border-color: transparent;\n",
              "      border-left-color: var(--fill-color);\n",
              "      border-top-color: var(--fill-color);\n",
              "      border-right-color: var(--fill-color);\n",
              "    }\n",
              "    40% {\n",
              "      border-color: transparent;\n",
              "      border-right-color: var(--fill-color);\n",
              "      border-top-color: var(--fill-color);\n",
              "    }\n",
              "    60% {\n",
              "      border-color: transparent;\n",
              "      border-right-color: var(--fill-color);\n",
              "    }\n",
              "    80% {\n",
              "      border-color: transparent;\n",
              "      border-right-color: var(--fill-color);\n",
              "      border-bottom-color: var(--fill-color);\n",
              "    }\n",
              "    90% {\n",
              "      border-color: transparent;\n",
              "      border-bottom-color: var(--fill-color);\n",
              "    }\n",
              "  }\n",
              "</style>\n",
              "\n",
              "  <script>\n",
              "    async function quickchart(key) {\n",
              "      const quickchartButtonEl =\n",
              "        document.querySelector('#' + key + ' button');\n",
              "      quickchartButtonEl.disabled = true;  // To prevent multiple clicks.\n",
              "      quickchartButtonEl.classList.add('colab-df-spinner');\n",
              "      try {\n",
              "        const charts = await google.colab.kernel.invokeFunction(\n",
              "            'suggestCharts', [key], {});\n",
              "      } catch (error) {\n",
              "        console.error('Error during call to suggestCharts:', error);\n",
              "      }\n",
              "      quickchartButtonEl.classList.remove('colab-df-spinner');\n",
              "      quickchartButtonEl.classList.add('colab-df-quickchart-complete');\n",
              "    }\n",
              "    (() => {\n",
              "      let quickchartButtonEl =\n",
              "        document.querySelector('#df-fbc272a8-cebc-4b7f-b3df-6160675fa95a button');\n",
              "      quickchartButtonEl.style.display =\n",
              "        google.colab.kernel.accessAllowed ? 'block' : 'none';\n",
              "    })();\n",
              "  </script>\n",
              "</div>\n",
              "\n",
              "    </div>\n",
              "  </div>\n"
            ],
            "application/vnd.google.colaboratory.intrinsic+json": {
              "type": "dataframe",
              "variable_name": "df",
              "summary": "{\n  \"name\": \"df\",\n  \"rows\": 5335,\n  \"fields\": [\n    {\n      \"column\": \"movie_id\",\n      \"properties\": {\n        \"dtype\": \"category\",\n        \"num_unique_values\": 1339,\n        \"samples\": [\n          \"tt0119396\",\n          \"tt0482571\",\n          \"tt0117665\"\n        ],\n        \"semantic_type\": \"\",\n        \"description\": \"\"\n      }\n    },\n    {\n      \"column\": \"plot_summary\",\n      \"properties\": {\n        \"dtype\": \"category\",\n        \"num_unique_values\": 1339,\n        \"samples\": [\n          \"The middle-aged stewardess Jackie Brown smuggles money from Mexico to Los Angeles for the arms dealer Ordell Robbie. When she gets caught by the agents Ray Nicolet and Mark Dargus with ten thousand dollars and cocaine in her purse, they propose a deal to her to help them to arrest Ordell in exchange of her freedom. Meanwhile Ordell asks the 56-year-old Max Cherry, who runs a bail bond business, to release Jackie Brown with the intention of eliminating her. Jackie suspects of Ordell's intention and plots a complicated confidence game with Max to steal half a million dollars from Ordell.                Written by\\r\\nClaudio Carvalho, Rio de Janeiro, Brazil\",\n          \"In the end of the Nineteenth Century, in London, Robert Angier, his beloved wife Julia McCullough and Alfred Borden are friends and assistants of a magician. When Julia accidentally dies during a performance, Robert blames Alfred for her death and they become enemies. Both become famous and rival magicians, sabotaging the performance of the other on the stage. When Alfred performs a successful trick, Robert becomes obsessed trying to disclose the secret of his competitor with tragic consequences.                Written by\\r\\nClaudio Carvalho, Rio de Janeiro, Brazil\",\n          \"As children, Lorenzo Carcaterra - Shakes to his friends - Michael Sullivan, Tommy Marcano, and John Reilly were inseparable. They grew up in Hell's Kitchen, a far from perfect neighborhood, one filled as Shakes says with scams and shake downs, but one where the rules were known by its residents. The one adult who they admired was Father Bobby Carelli, who understood them as kids more than most adults and more than he himself would like to admit. In 1967, their lives would change forever when a typical teenage prank went wrong which led to the four of them being sentenced to various terms at Wilkinson Home for Boys, a reformatory. There, they were physically, emotionally and sexually abused primarily by Sean Nokes, the head guard of their cell block, and fellow guards Ralph Ferguson, Henry Addison, and Adam Styler, although there were other caring figures of authority at the home including other guards. Their time at the home affected the four, not all who were able to emerge from the ...                Written by\\r\\nHuggo\"\n        ],\n        \"semantic_type\": \"\",\n        \"description\": \"\"\n      }\n    },\n    {\n      \"column\": \"duration\",\n      \"properties\": {\n        \"dtype\": \"category\",\n        \"num_unique_values\": 129,\n        \"samples\": [\n          \"2h 27min\",\n          \"2h 52min\",\n          \"1h 33min\"\n        ],\n        \"semantic_type\": \"\",\n        \"description\": \"\"\n      }\n    },\n    {\n      \"column\": \"genre\",\n      \"properties\": {\n        \"dtype\": \"category\",\n        \"num_unique_values\": 218,\n        \"samples\": [\n          \"['Horror']\",\n          \"['Comedy', 'Music']\",\n          \"['Action', 'Adventure', 'Horror']\"\n        ],\n        \"semantic_type\": \"\",\n        \"description\": \"\"\n      }\n    },\n    {\n      \"column\": \"rating_x\",\n      \"properties\": {\n        \"dtype\": \"number\",\n        \"std\": 0.903827140550643,\n        \"min\": 2.4,\n        \"max\": 9.3,\n        \"num_unique_values\": 55,\n        \"samples\": [\n          6.8,\n          8.5,\n          7.7\n        ],\n        \"semantic_type\": \"\",\n        \"description\": \"\"\n      }\n    },\n    {\n      \"column\": \"release_date\",\n      \"properties\": {\n        \"dtype\": \"category\",\n        \"num_unique_values\": 1063,\n        \"samples\": [\n          \"1954-06-22\",\n          \"1999-03-05\",\n          \"2003-02-21\"\n        ],\n        \"semantic_type\": \"\",\n        \"description\": \"\"\n      }\n    },\n    {\n      \"column\": \"plot_synopsis\",\n      \"properties\": {\n        \"dtype\": \"category\",\n        \"num_unique_values\": 1339,\n        \"samples\": [\n          \"Los Angeles,1995. Jackie Brown (Pam Grier) is a flight attendant for a small Mexican airline called Cabalas Airlines which flies only from L.A. to Cabo San Lucas, the latest step down for her career. Despite the low pay, the job enables her to smuggle money from Mexico into the United States for Ordell Robbie (Samuel L. Jackson), a gun runner under the close watch of the ATF.One day, Ordell learns that another of his workers, Beaumont Livingston (Chris Tucker), has been arrested. Fearing that Livingston will become an informant in order to avoid jail time, Ordell arranges for his $10,000 bail with bail bondsman Max Cherry (Robert Forster). That same evening, Ordell promptly leads Livingston to his death by tricking him into getting into the trunk of a stolen car where Ordell shoots him to death.Acting on information Livingston had indeed shared after his arrest, ATF agent Ray Nicolette (Michael Keaton) and LAPD detective Mark Dargus (Michael Bowen) intercept Jackie as she arrives in the United States with Ordell's cash and some cocaine that Brown was unaware was stashed along with the $30,000 cash. She initially refuses to cooperate with Nicolette and Dargus, so Jackie is sent to jail on possession of drugs with intent to sell. Sensing that Jackie may be just as likely to inform as Livingston had been, Ordell goes back to Max Cherry and sets out to arrange Jackie's bail so he can plot to kill her too once she is released.That evening, Max Cherry arrives at the jail to pick Jackie up and, only partly masking his physical attraction, offers to buy her a drink and help determine her legal options. Over drinks at a local bar, Jackie senses an attraction that Max has on her, but reminds him that she is not interested. After dropping her off at her apartment, Jackie steals Max's gun that he kept hidden in his glove compartment.Later that night, Ordell arrives at Jackie's apartment apparently intending to murder her. Jackie pulls out the gun she stole/borrowed from Cherry and she holds him at gunpoint. Jackie barters a deal with Ordell whereby she will pretend to help the authorities while still managing to smuggle $500,000 of Ordell's money out of Mexico, enough to allow him to retire and flee to some distant country and retire. To carry out this plan, Ordell employs a woman he lives with, \\\"my little blond surfer girl\\\"; a drug-addicted beach bunny named Melanie Ralston (Bridget Fonda), plus his friend, Louis Gara (Robert De Niro), a former cellmate whom has shacked up with him. Ordell also uses a na\\u00efve Southern girl, Sheronda (Lisa Gay Hamilton) as his co-conspirator to give him an alibi for when the transaction will take place.The following day, Jackie meets at LAPD headquarters with Agent Nicolette and Detective Dargus to arrange a sting to catch Ordell. But Nicollette and Dargus are both unaware that Jackie and Ordell plan to double cross them by diverting the actual money before the authorities make an arrest. Unbeknownst to the others, Jackie plans to deceive them both with the help of Cherry in order to keep the $500,000 for herself. However, in another twist, Melanie tries to convince Louis to steal the $500,000 that Jackie will hand over to them and flee the country with the money for themselves. Though Louis agrees, he does not trust Melanie for she might take all the money for herself out of greed, while Melanie clearly suspects likewise about Louis.After a dry run, during which Nicolette could observe the operation, the stage is set for the actual event. Told from three different viewpoints (a nod to 1950s film noirs) the exchange takes place in a large shopping mall near Los Angeles (the Del Amo Fashion Center).Jackie's version: At the mall, Jackie enters the Billingsley department store where she buys a new suit and enters a dressing room. Her real intention is to swap bags there with Melanie and Louis, supposedly passing off the $500,000 under Nicolette's nose. Instead, she gives Melanie only $50,000 and leaves the rest behind in the dressing room for Max Cherry to pick up. Jackie then feigns despair as she leaves the department store and into the mall where she calls Nicolette and Dargus out from hiding and claims Melanie took all the money and ran.Louis and Melanie's version: Louis meets Melanie at Ordell's beachfront house while Ordell goes to a local bar-restaruant, called the Cockatoo Bar with Sheronda to have an alibi to his whereabouts for the day. Melanie gets on Louis case from the start when they are late for the rendevouz because Louis finds Melanie wasting time by getting high in the bathroom with smoking a basepipe. During the drive to the mall, the stoned Melanie annoys Louis more by playing loud rock music over the van radio. During the switch, Melanie enters the dressing room at Billingsley's with a brown bag of beach towels to make the switch while Louis waits outside, where he catches a glimpse of Max Cherry standing nearby. Melanie exits the dressing room with the other brown bag containing part of the cash. In the parking lot, Melanie gets on Louis' nerves more and more, which finally leads him to shoot and kill her while making their escape after she mouths off one too many times.Max Cherry's version: Max arrives at the mall alone and at the Billingsley's department store where he eyes Jackie from a distance and tries to hide when Louis and Melanie walk by to make the switch, but Louis catches a glimpse of him as they walk by. After Louis and Melanie leave the store, Jackie, pretending to be in dispair, pays for her new business suit and leaves the store. When Jackie leaves, Max approaches the sales clerk and claims that his wife left a bag in the dressing rooms for him, which Max picks up the bag containing the $500,000 cash and quietly leaves the store where he drives to his office to stash the cash before driving home.Across town, Louis then picks up Ordell from the Cockatoo Bar where he soon discovers that Louis has only $40,000 in the bag (Melanie having kept $10,000 for herself after being tricked into doing so by Jackie, which is apparently left on her dead person). Then Ordell realizes that it was Jackie who took his money, and in anger, a suspicious Ordell kills his friend Louis. He is also concerned about the involvement of Max Cherry, having been told by Louis that he spotted Max in the store before the pickup.At police headquarters, Agent Nicollette is angry with Jackie for what transpired during the pickup (Jackie apparently told him that the money that she was carrying was only $50,000, not the entire $500,000 from Ordell's secret account in Mexico). Nicollette tells Jackie about finding Melanie in the mall parking lot with $10,000 on her, and about finding Louis a short distance away in his van. Nicollette tells Jackie that she has only one more chance to cooperate with them to catch Ordell and find the rest of the money.That evening, Ordell goes to the Cockatoo Bar where Max is and pulls a gun on him and demands that he help him find Jackie who has his money. Lured back to Max's office, where Jackie is said to be frightened and waiting to hand over his money, Ordell arrives armed and dangerous. Jackie suddenly yells out that Ordell has a gun and he is shot by Nicolette, who was hidden in another room.Three days later. In the clear with the law and in possession of the $500,000, Jackie decides to leave town for a while, and she invites Max to run off with her. Max is tempted, clearly in love with her as they kiss, but he declines to go with Jackie for reasons that are left unclear.Note: There are a number of hints during the movie given by Cherry in his dialogue with Jackie about why he makes the choices he makes and does not act out of greed. Some include Max's wanting to get out of the bail bond business and find something else to do to being too old to start a new adventure in life (\\\"I'm just tired in general....\\\"), but his reasons for turning down an offer to run off with a woman he is obviously in love with remains intentionally ambiguous at the film's closing.\",\n          \"The Prestige begins with shots of several dozen top hats inexplicably strewn about in a forest.Cutter (Michael Caine), in voiceover, explains the three parts of a magic trick while performing a disappearing bird trick for a little girl. Part one is the pledge, where the magician shows you something ordinary, like a bird. Part two is the turn, where he does something extraordinary, like make the bird disappear. But this isn't enough. There always has to be a third act, the prestige, where you have a twist, and bring the bird back. Only then will the audience applaud.Robert Angier (Hugh Jackman), stage name \\\"the Great Danton,\\\" attempts a transporting trick that involves walking under a giant electrical machine with a Tesla coil and then disappearing through a trapdoor. Except that he falls straight into a giant tank of water that has been placed under the stage, and is automatically locked inside. A man in the audience, who we shortly learn is fellow magician Alfred Borden (Christian Bale), stage name \\\"the Professor,\\\" forces his way beneath the stage in time to see Angier drown.After this introduction, we follow three timelines at once. In the present day (19th century England), Borden is on trial for murdering Angier, who we learn was his greatest rival. Cutter is revealed to be Angier's engineer, the man who builds the machinery for his tricks, and the little girl is Borden's daughter Jess (Samantha Mahurin).Cutter confides to the judge in a private meeting that the machine Angier was using wasn't built by him, but by \\\"a wizard,\\\" and it legitimately did what it appeared to do.The trial does not go well for Borden, and he faces execution. Later, in jail, Borden is approached by the solicitor for a collector, Lord Caldlow, who is interested in buying his secrets, particularly the secret of Borden's famous \\\"Transported Man\\\" trick. The same collector has also bought all of Angier's equipment and props. When Borden refuses, the solicitor threatens that Jess is in danger of being declared an indigent orphan and sent to the workhouse unless his patron intervenes. As an incentive, he gives Borden Angier's diary, which documents the time he spent in Colorado trying to learn Bordon's secret.Borden's reading of the diary in prison frames the second part of the narrative, which is from Angier's point of view. Angier is on a train in the Rocky Mountains, headed to Colorado Springs, Colorado, on his way to see the notorious scientist Nikola Tesla (David Bowie). Disembarking at the train station in town, Angier is taken by coach to the inn, where he gets an unusually warm welcome from the hotel staff. The manager tells Angier that he's their first guest of the winter. Angier asks if a ride can be arranged to take him up to Pike's Peak the next day, but is told that the peak is closed for experimentation.The next day, Angier is dropped off on a dirt track in the woods, at the farthest point the carriage can take him. He makes his way up to the fence surrounding a clearing. He is immediately thrown back as the fence is electrified. Tesla's assistant Alley (Andy Serkis) comes out of the gatehouse, thinking at first that Angier is another intruder, then recognizes him, saying he's seen Angier's London show. Angier says he's come to ask Tesla to build him a machine like one that he believes Tesla built for Borden -- the machine that allows Borden to do the \\\"Transported Man\\\" trick. Alley says he can't help Angier, and Angier heads back to the hotel, disappointed. Alley takes satisfaction when Angier, back turned to him, correctly guesses that Alley is holding a gold watch in his hand.Angier sits down in his room and begins decoding a diary he stole from Borden, which is encrypted with a particular five-letter-word passcode (important later).Borden's diary frames the third thread of the narrative, which goes back to the very beginning.Angier and Borden are partners, up-and-comers working for an elderly magician named Milton (Ricky Jay). Milton also employs Cutter and Angier's wife Julia (Piper Perabo). Their best trick is an underwater escape act. In this act, Angier and Borden are planted in the audience and called up to the stage to tie Julia's wrists and ankles before she is hoisted up on a pulley and dropped into a water tank. A curtain descends on the tank, and Julia slips the knot around her wrists and escapes using a trick lock on the tank. As a safety precaution, Cutter is positioned stage right, behind the curtains, with a stopwatch and an axe.Angier and Borden are on friendly terms, though Angier is somewhat concerned that Borden might be using a knot that is more difficult for Julia to slip. We learn that Angier is using an alias so he won't embarrass his prominent family with his theatrical pursuits, while Borden and his engineer Fallon come from a rougher background. Borden is much more ambitious than Angier, isn't afraid to do dirtier tricks, and wishes Milton would try more dangerous tricks, like a bullet catch. Borden claims to have created a trick that will be his masterpiece.One day, Cutter sends Angier and Borden to watch a Chinese magician, Chung Ling Soo (Chao Li Chi), and figure out exactly how the man makes a heavy goldfish bowl (filled with water and goldfish) appear from under a cloth. Borden immediately deduces that the old magician is really putting up a front: he's holding the bowl between his legs under his skirt, hiding the strength required to accomplish the trick by always appearing frail in public. Borden admires the way the Chinese magician goes to such an extreme that he \\\"lives\\\" his performance at home. Angier is surprised, since when he tries holding an empty goldfish bowl at home, he has a hard time carrying it.As his prize for working out the fishbowl trick, Borden gets a few minutes onstage assisting Milton during a performance, where he performs a trick where a bird and cage disappear simultaneously, and then the bird reappears. A boy in the audience becomes upset when he realizes the bird in the cage isn't the same as the one that reappears. Borden tries to help the boy's aunt, a woman named Sarah (Rebecca Hall), to console him. After the show, we discover that the bird in the cage has to die to achieve the illusion, as Borden is seen tossing the original bird in the trash. Borden and Sarah strike up an acquaintance and become romantically involved.Disaster strikes during the next performance of the underwater escape. Borden ties, stops, and then reties the knot around Julia's hands as they prepare to put her on the hoist. She can't manage to slip the knot underwater, and Cutter isn't able to break the glass of the tank in time to save her. Julia dies onstage, leaving Angier devastated and Milton ruined. During the funeral, Angier confronts Borden, asking which knot he tied. His answer is that he \\\"doesn't know,\\\" which Angier cannot accept. This is the beginning of their bitter rivalry.Borden and Angier both strike out on their own, but there are obvious tensions. Borden marries Sarah and starts doing his own act, the climax of which is a bullet-catching trick. The secret, as Borden explains to his pregnant wife, is that the bullet is palmed, so that it's already in the magician's hand when the gun is fired. All that comes out of the pistol is gunpowder. But magicians have died during the trick because of audience members sticking buttons or their own bullets into the guns.Borden is next seen performing for a very rowdy audience. After whipping out the gun to silence the audience, he asks for volunteers, then hands the gun to a man who is actually a disguised Angier. Angier, knowing the trick, deliberately puts his own bullet into the gun, and confronts Borden again about the knot he tied. When Borden's answer is still \\\"I don't know,\\\" Angier shoots him, blowing the ends of two fingers off his left hand and jeopardizing Borden's career. Sarah encourages him to quit magic. She isn't happy that Borden keeps secrets from her as part of his trade. Their marriage is an uneven one, and she claims that when he says that he loves her, she can tell on some days he doesn't mean it. Borden admits this is true and they make a sad little game of it: some days he loves her, some days he loves the magic.One day at a bar, Angier is approached by Cutter, whom no one will hire because of his association with Milton. They start their own act, with Angier performing as \\\"the Great Danton\\\" (a name suggested by his late wife and rejected at the time for being \\\"too French\\\"). His lovely assistant is a blonde bombshell named Olivia Wenscombe (Scarlett Johansson). Because Angier doesn't want to get dirty, Cutter comes up with a new version of the \\\"disappearing-bird-in-the-cage\\\" trick where members of the audience keep their hands on the cage as it disappears. The trick involves mechanical gadgetry that Angier wears under his suit to fold away and retract the cage. Best of all, the bird is unharmed.Angier debuts the trick at his show. The audience is negative at first, complaining that they've seen the trick numerous times, but Angier says he'll make it a bit harder. He asks for two volunteers to come up from the audience. Two are selected: an elderly woman and a man who is actually a disguised Borden. Although Angier recognizes Borden the moment he puts his hand on the cage, he is unable to stop Borden from jamming the machinery. The cage malfunctions, causing the bird to be killed onstage and the other volunteer's hand to be caught. The theater owner cancels Angier's booking and Angier's reputation is left in tatters.Cutter sends Angier to a science lecture to get some new ideas. Nicola Tesla is preparing to demonstrate several huge, fantastic Tesla coils, generating immense electric charges that seem to fill the room. Because of the perceived danger, the demonstration is canceled by the authorities. But Angier spots Borden in the crowd and follows him, learning about Sarah and their new baby, Jessica. Fed by jealousy of Borden's happiness, which Angier feels should have been his, Angier's obsession over the rivalry grows.Intercut with this storyline are Angier's attempts to meet with Tesla and commission his own transporter machine. Tesla has supplied all of Colorado Springs with electrical service in exchange for being allowed full use of the generators at night (when the residents are sleeping) to conduct experiments. He's even rigged up his own electric fence. When Tesla finally agrees to build the machine for Angier, he warns that it will take a great deal of time and money.In Borden's diary, we learn that both magicians start performing again. Borden, as \\\"the Professor,\\\" has a dramatic new trick called the Transported Man that has been getting him attention. Angier and Olivia, who is falling in love with her magician, watch it repeatedly and are unable to tell how he does it. The trick appears amazingly simple: Borden gets into a cabinet on stage right and gets out of another cabinet on stage left. Cutter insists that he must be using a double, but Olivia insists that she can see the bandaged stumps on his left hand both when Borden disappears and when he reappears, even though Borden wears padded gloves to hide his short fingers.Angier and Cutter copy the trick and add the bit of showmanship and flair that Borden's version is missing. In his version, Angier throws his hat across the stage and walks through a door on one side of the stage, secretly drops through a trapdoor hidden behind the door frame onto a padded cushion, while a double simultaneously is hoisted out of another trapdoor behind the door on the other side of the stage to catch the hat. They hire an out-of-work actor named Gerald Root (also played by Hugh Jackman) to be Angier's double. He's a drunk and a lout, but he can perform.Their act, dubbed \\\"the New Transported Man,\\\" is an amazing success. But there's one small drawback: Angier has to be the one who sells the buildup of the trick, so he's always under the stage during the prestige and misses out on the audience reaction. Root is getting all the glory, even if Cutter makes sure that he keeps a low profile so the secret doesn't get out. Even worse, Angier still doesn't know how Borden does his version of the trick.Angier decides to send Olivia to work for Borden and spy on him to get the secret. Olivia, who is in love with him, doesn't like the idea, but does as Angier asks and becomes Borden's assistant. To gain his trust, she tells Borden how Angier's trick is done and offers to help him improve on his own act.Meanwhile, a big problem develops -- with Root, of course. Root realizes that he can control Angier because he's necessary for Angier's biggest trick, and demands money. It turns out that Borden has been influencing him, and Cutter thinks Olivia may have betrayed them. Borden's version of the \\\"Transported Man\\\" has improved, and now includes one of Tesla's electricity-generating machines. Cutter gets Angier to agree to phase out the trick.Root's performances get more intentionally sloppy, and one night he simply isn't there at all. When Angier goes through the trapdoor, the cushion to break his fall has been removed, and he breaks his leg. He watches Borden pop out of Root's trapdoor and proceed to humiliate him, suspending a tied-up Root from the ceiling with an advertisement for Borden's own act, before running out of the theater to his own show.Angier confronts Olivia, who insists that Borden's trick is accomplished using a double, because she's seen makeup and wigs lying around. He deduces that such items are planted by Borden as misdirection for her. When he questions her loyalty, she produces Borden's encrypted diary as proof that she didn't betray him. However, the five-letter-word to decrypt the diary is still necessary. Angier and Cutter kidnap Fallon, Borden's engineer, and nail him in a box to hold for ransom.When Borden comes to the meeting place in a cemetery to get Fallon back, Angier demands to know the secret of Borden's \\\"Transported Man\\\" in exchange. Borden writes down one word, \\\"Tesla,\\\" which will decode the diary, and suggests that he's teleporting using a machine Tesla built. Borden is then told that Fallon has been buried alive, and Angier asks him how fast he can dig.Angier leaves for America to track down Tesla, for the second section of the narrative, while Cutter stays behind. He was shot by Fallon in the shoulder while nailing the box up, and doesn't want to pursue the secret of the trick any further. Tesla refuses to meet with Angier, and the latter learns that Tesla has run out of funding and is being hounded by his rival, Thomas Edison. Angier assures Tesla that money is no object and Tesla tells him in turn that the machine is already being built.Borden's private life starts falling apart. He's having an affair with Olivia, and his wife is drinking because of their deteriorating marriage. At one point, he instructs Fallon to deal with his family while going to see Olivia. He appears to genuinely care for both women.Sarah eventually hangs herself in Borden's workroom, after trying to confront her husband about one of his secrets.In Colorado, Tesla and Alley have been unsuccessfully testing the machine they built for Angier. They've zapped his top hat time after time with an impressive electrical apparatus, but the hat won't move an inch.Angier comes to the end of Borden's diary and realizes that Olivia actually did betray him. She was in love with Angier, but since he used her as a spy without concern for her feelings, she knew she didn't have a future with him. She gave Angier the diary to prove her loyalty to Borden, who wrote it for Angier. The last entry in the diary tells him that \\\"Tesla\\\" was the keyword to decrypt the writing, which is true, but it's not the secret to the trick at all. Tesla never built a teleportation machine for Borden, and Angier has been sent on a wild goose chase.He goes back to Tesla's lab several times, where the scientist insists that he is capable of building a teleporter, but he never built one for Borden. He tests the machine again, this time using Alley's precious black cat. Alley warns Tesla not to harm the cat. Alley, using the cat's beautiful collar, chains the cat to the spot for the experiment, as Tesla thinks it may be a matter of needing something living. The cat does not like the procedure and hisses, but is completely unharmed. However, the cat doesn't move at all, so Angier leaves in disgust. Then the cat is freed and runs out the front door.As Angier walks back through the woods, we revisit the first shot of the movie: a heap of top hats on the forest floor. And this time, there are two identical (proved by the collar) black cats among them. The machine has been working all along, but instead of moving an object from one place to the other, it creates a duplicate at the destination. Tesla and Alley are amazed, moving from hat to hat and measuring them with calipers. When Angier leaves, Tesla tells him to take his hat. He asks which hat is his and Tesla, smiling for the first time, says \\\"They are all your hat.\\\"Tesla and Alley continue to refine the machine now that they know how it works. They have to leave suddenly in the middle of the night when their lab is burned down by Edison's goons. However, in the care of the hotel manager, Tesla leaves a large, trapezoidal wooden box for Angier, containing the components of the machine with instructions in a note. Tesla's note cautions Angier that using the machine is inviting Angier's doom and warns him to destroy the machine rather than use it.Angier takes the box back to England and reunites with Cutter. He's ready to perform again, but this time he's extremely secretive about his methods, hiring blind stage hands and not allowing Cutter backstage at any time. As he demonstrates to an influential promoter, he is zapped with electricity from the machine's Tesla coil, disappears from plain sight, and then reappears up in the balcony, appearing to traverse the distance instantaneously.The show is a hit and Borden is mystified. All he can tell is that Angier's trick involves a trapdoor, but he has no idea what's going on under the stage. Every night, he can see the blind stagehands removing a box from the theater.A few nights later, at another performance, Borden sneaks under the stage, as we saw in the prologue, and watches Angier fall through the trapdoor into the tank and drown. It's clear that Borden didn't have anything to do with it, and he actually tries to save his rival's life by attempting to break through the glass of the tank with a pipe. Cutter runs down under the stage and gets the wrong idea. Borden is arrested. Angier is confirmed dead with Cutter identifying the body.In his prison cell back in the present day, Borden comes to the end of Angier's diary, which gloats that Borden is being blamed for his death. Borden believes the diary must be a fake, until he's called out of his cell to say goodbye to Jess and meet the collector who wants to buy his secrets.The collector, Lord Caldlow, is Angier. Borden is dismayed that he would go so far and involve his child in their rivalry. Caldlow/Angier refuses to help clear his name, and won't even take the secret of Borden's \\\"Transported Man\\\" when bribed, telling him \\\"mine is better.\\\" Borden swears he'll get out and have his revenge, promising Jess he'll come for her.Cutter discovers Angier alive when he calls on Lord Caldlow to offer him the machine, hoping to convince him to destroy it. Cutter quickly realizes that Angier is remorseless about framing Borden. He says he's figured out the secret to Angier's version of \\\"the Transported Man\\\" and thinks he's gone too far.Borden has one last visitor: Fallon. Borden tells him what he's learned, gives him the rubber ball he sometimes uses for tricks, and tells Fallon to go \\\"live for both of us.\\\"Cutter brings the machine to Angier, and as he leaves, we see Fallon arrive to confront Angier. This is intercut with scenes of Borden being hanged. Borden dies just as Fallon shoots Angier. The camera pans up to reveal that \\\"Fallon\\\" has two missing fingers and Borden's face.Angier finally realizes that the secret of Borden's \\\"Transported Man\\\" was simple: Borden had a twin brother, and they were switching back and forth between the double roles of Borden and Fallon. One of them loved Sarah, and one of them loved Olivia. They both lived half of the same life, never telling anyone in order to maintain the illusion. In a flashback, it is shown that the unmutilated twin willingly let his brother amputate the ring and pinkie fingers on his left hand so that they could make the swaps without anyone telling the difference. Sarah, in a scene we've seen before, is puzzled and worried as to why the wound looks new and bruised again; Borden distracts her by slamming a fist down and saying they can't afford a doctor.Angier, who only ever cared about the glory of wowing an audience, went to far more terrible extremes. In his \\\"New Transported Man,\\\" he knowingly created a double of himself every time he used Tesla's machine, and he rigged the trapdoor to drown the one onstage. He never knew if he would be the prestige or the man in the box. The room where the machine is being kept is filled with water tanks, all of which hold a drowned double of Angier for every time he performed the trick. Several times, he mutters to himself a line we've heard before in a different context: \\\"No one cares about the man in the box.\\\"Angier falls and kicks over the lantern as he dies from his wound, and the resulting fire ensures the machine and all the evidence are destroyed.We loop back to the trick with the small birds in the opening scene (though this time, no birds are harmed) while Cutter reiterates the three parts of a magic trick. As Cutter has told Jess Borden, \\\"before the audience can clap, you have to make the disappeared man come back.\\\" On cue, her father appears to reclaim her. She runs into his arms, and Borden and Cutter exchange nods.\",\n          \"Told through the narration of a grown-up \\\"Shakes\\\", four young boys: Lorenzo \\\"Shakes\\\"(Joseph Perrino), Michael (Brad Renfro), Tommy (Jonathan Tucker), and John (Geoffrey Wigdor) are the best of friends growing up in Hell's Kitchen in New York City. Their family lives are hard, involving broken homes and spousal abuse, and the boys turn to street antics and volunteering as altar boys to escape. Father Bobby (Robert De Niro), an ex convict turned priest, watches out for them and tries to mold them into upstanding members of society. Despite their good hearts the boys get into all kinds of trouble, including sneaking into confessionals and pretending to be priests and playing pranks on nuns. Shakes becomes an errand boy and fast friends with a street kingpin named King Benny who runs all the illegal activity in Hell's Kitchen.One fateful day Michael suggests they knock off a hotdog vendor out of boredom. When Shakes runs off with a hotdog the vendor gives chase, leaving the stand unsupervised and allowing the three other boys to feast in his absence. Michael suggests that they leave the cart teetering on the edge of the subway entrance so when the vendor comes back he'll have to struggle to keep it from falling, giving them time to escape. In a tragic turn of events, the cart crashes down the stairs hitting and almost killing an elderly man.The boys are sentenced to a year in the Wilkinson Home for Boys. Because Shakes arrived at the scene of the cart crash later than the others (and because of the vouching of Father Bobby), he's only sentenced to 6 months. The boys hardly fit into the home which is filled with boys who have committed much more serious crimes and are subject to their ridicule and beatings. Worst of all is a guard named Sean Nokes (Kevin Bacon) who quickly turns the boys lives into a living hell. He begins by humiliating them along with three other guards, Henry Addison, Adam Styler and Ralph Ferguson (Jeffrey Donovan, Lennie Loftin and Terry Kinney respectively). Nokes embarrasses them in front of the other inmates by making them eat off the floor. The abuse escalates to beatings at night. He and the three other guards drag the four boys into the basement of the home where they repeatedly beat and rape them. It's suggested that this abuse becomes a nightly occurrence for the boys.The boys, no longer innocent and filled with shame, write to their parents to tell them not to visit; afraid they'll know what's been going on. Father Bobby refuses to stay away and urges Shakes to not let the home change him for the worse.The home holds a football game between the guards and inmates once a year for all the town to see. Michael convinces Rizzo, an intimidating black inmate to not let the guards win this year out of fear of the consequences but instead fight back as hard as possible. Rizzo agrees and the four boys and a few other inmates fight dirty and beat the guards in front of the whole town. Disgraced and angry, Nokes and the other guards throw the four boys into solitary confinement, starving them for two weeks straight. Shakes wakes up in the infirmary and is told by Michael that the guards beat Rizzo to death.As Shakes' release date nears, the four boys agree that once they get out of the home they won't breathe a word about what happened there to anyone and bury it as deep in their minds as possible.---------More than ten years later, two men walk into a pub and order a drink. Shakes' narration describes them as two of the most dangerous men in Hell's Kitchen. Both are members of the gang The West Side Boys. Both are murderers and drug users. The blonde man walks towards the bathroom and notices Nokes sitting by himself and eating dinner. He stares him down and Nokes reacts with annoyance. The blonde man tells him to enjoy his dinner and enters the bathroom. He returns to his dark-haired friend at the bar and tells him to look closely at Nokes. The dark-haired man recognizes him too and they both approach him. They sit down and introduce themselves as grown-up Tommy and John (Billy Crudup and Ron Eldard). Nokes says they were wimpy kids and he tried to make them tough. They point their guns at him. He tells them they're going to burn in hell. John says \\\"You first\\\", before they shoot him dead. Several people in the bar witness the shooting and hide their heads as Tommy and John walk out.Meanwhile, Shakes (Jason Patric), now a newspaper columnist, meets with Michael (Brad Pitt), now an assistant district attorney. Michael says he's going to take the Sean Nokes murder case as the prosecuting attorney. Shakes reacts with anger before Michael tells him he's going to take the case to lose. Not only that, he's planning on revealing the corrupt Wilkinson Home for what it really is. He asks Shakes to help him bring his plan to fruition. Michael hands Shakes years of research on the three other guards who had tortured them all those years ago.Shakes meets with Carol (Minnie Driver), a childhood friend of the boys and ex-girlfriend of Michael, and asks for her help finding files for the case since she has access as a social worker. She tells him that she's with John now and asks why he never asked her out. He said he never had the guts because she was Mikey's girl.Shakes enlists the help of King Benny who makes sure the fallen and disgraced drunk, Danny Snyder (Dustin Hoffman), is Tommy and John's defense lawyer, making it seem even less likely the two men will walk. Shakes meets with an internal affairs agent to give him information on Adam Styler, who has now become a cop, and his cocaine habit as well as his illegal trafficking activity. King Benny meets with drug kingpin Little Caesar, revealed to be Rizzo's older brother, and tells him the truth of Rizzo's death at the hands of Henry Addison in the Wilkinson home. Little Caesar was told Rizzo died of pneumonia.Shakes and Carol meet with Father Bobby and ask him to be Tommy and John's alibi for the night of the murder. Father Bobby doesn't want to swear to God and then lie on the stand. He asks why he should lie to let two guilty men, who will surely kill again, go free. He asks why Nokes' life means nothing to Shakes. Shakes tells him and Carol everything that happened while he, Michael, Tommy and John were at Wilkinson's. Afterward, Father Bobby says he has some thinking to do and tells them goodnight.In court, Michael successfully begins to throw the case, conveniently forgetting to present the jury with a motive. With the help of a list of questions and answers Michael previously provided him, Snyder successfully displays one of the witnesses as a \\\"scared woman who had too much to drink\\\", making it questionable whether Tommy and John were ever in the bar to begin with. Michael calls a character witness for Nokes by the name of Ralph Ferguson. Ferguson tells the jury that Nokes was a good man and didn't deserve to be killed by two street punks. Snyder uses Michael's question list to grill Ferguson on the goings-on of the Wilkinson Home for Boys. He asks him about the beatings and rapes and whether he and Nokes participated. Ferguson, realizing who the defendants are, breaks down and confesses. He's dismissed by the judge but told not to stray too far from home since there are people who will \\\"want to talk to him\\\".The next day Father Bobby gets on the stand, swears to tell the truth, and says that Tommy and John were with him at a Knicks game the night of the murder. Michael asks him if he has any proof. Father Bobby produces three ticket stubs.The jury finds Tommy and John not guilty.Addison's body is found in a swamp by La Guardia airport. Shot to death by Little Caesar's men. Adam Styler is arrested by internal affairs.The four friends and Carol meet for a private party. They share stories of their childhood and sing \\\"Walk Like a Man\\\" for Carol. Shakes' narration explains that this was the last night they would ever be together. Not long after that, John's body is found in an apartment stairway next to a bottle of booze that killed him. About a year after that, Tommy's body is found by the river with five bullets in his head. Both of them never reached thirty. Michael moves to England, becomes a carpenter, and never marries. Shakes still lives in Hell's Kitchen and writes for the paper. Carol is an unwed mother, compliments of John, and named her son John Michael Thomas. She calls him 'Shakes'.\"\n        ],\n        \"semantic_type\": \"\",\n        \"description\": \"\"\n      }\n    },\n    {\n      \"column\": \"review_date\",\n      \"properties\": {\n        \"dtype\": \"object\",\n        \"num_unique_values\": 3566,\n        \"samples\": [\n          \"18 August 2014\",\n          \"12 June 2014\",\n          \"30 April 2008\"\n        ],\n        \"semantic_type\": \"\",\n        \"description\": \"\"\n      }\n    },\n    {\n      \"column\": \"user_id\",\n      \"properties\": {\n        \"dtype\": \"string\",\n        \"num_unique_values\": 4390,\n        \"samples\": [\n          \"ur18703917\",\n          \"ur1838392\",\n          \"ur15949031\"\n        ],\n        \"semantic_type\": \"\",\n        \"description\": \"\"\n      }\n    },\n    {\n      \"column\": \"is_spoiler\",\n      \"properties\": {\n        \"dtype\": \"boolean\",\n        \"num_unique_values\": 2,\n        \"samples\": [\n          false,\n          true\n        ],\n        \"semantic_type\": \"\",\n        \"description\": \"\"\n      }\n    },\n    {\n      \"column\": \"review_text\",\n      \"properties\": {\n        \"dtype\": \"string\",\n        \"num_unique_values\": 5335,\n        \"samples\": [\n          \"Batman Forever. Personally, i don't like this title. Sounds...well....crap, and lame to be honest. Sounds like a kids movie. And guess what, it IS a kids movie. Before i lay into this film, I did find it entertaining. Both as a kid, and as an adult. But i didn't like it as a Batman film. It just doesn't capture the essence of what Burton created. In fact, it completely ignores it. It acts as more of a re-boot in a way. But the bottom line, its entertaining. Thats all that saves this.I don't understand why they got rid of Burton. His vision of Batman was brilliant. I also don't understand why they chose Joel Schumacher as his replacement. And i don't understand why they ruined a tremendous character in Two-Face. And I don't understand why.....you get the picture. Val Kilmer. Great actor. See The Doors for his best performance. See Batman Forever for his, well, not as good performance. Don't get me wrong, he was a good Batman. He's no Keaton, but he did well with what he had to work with. But none of the actors really shone in this. Nothing shone in this. Except the flashy neon signs in an equally flashy Gotham City. So, Schumacher thought, \\\"Ok i'm making a Batman film. Great. But how do i ruin it? I know, i'll put nipples on the suit. Yeah that'll do it. Oooh, and i'll make Two-Face a cheap Joker rip off. I know, i'll get Jim Carrey to dress in spandex and dance around and basically be...Jim Carrey. Oooooh, i'll also include a stupid sub-plot love story. I think thats it, i'll save my other ideas for the next one. Right, lets film!\\\" So they filmed. And here it is. Two-Face is a great, tragic character. Who rose to greatness, and then fell to tragedy. He isn't in this. He's a laughy stupid gimmicky character. Who jumps around in hysterics whenever there's an explosion. He's after revenge against Batman, because...well... no idea why. Batman didn't really do anything. So anyway, he teams up with The Riddler, who wants revenge against Bruce Wayne, because....he got fired from his company. How pathetic. Carrey and Tommy wasted their talents on this film. As did Kilmer, O'Donnell, Kidman, etc. Furthermore, Riddler aims to be the smartest man in the world by sucking up everyones brainwaves. (Cringe.) Anyhow, Batman must save the day. With a sidekick...Robin! I'm not a big fan of Robin. But i think the way they worked him into the film was pretty good. He's a young, troubled man who wants revenge. He's someone who Bruce can relate to. And tries to save Dick Grayson from choosing the path he chose, as during the film, he starts to regret, and wants a normal life. Which is another OKish moment in the film. I suppose.Overall, this film isn't particularly great. And i gave it a 6 mainly because i feel nostalgic when i see it. And its also entertaining. I wasn't bored when i watched it, then, or now. But I'll repeat what i said, I don't like it as a Batman film. You want Batman, check out the first one. That IS Batman.\",\n          \"Ever since \\\"Rise of the Planet of the apes\\\" was advertised, I've loved the direction this \\\"old worn out\\\" franchise is taking, and it seems a lot of other people are now on-board too. I mean, with the exception of \\\"Batman,\\\" what other franchise that's been \\\"rebooted\\\" was actually in dire need of it, and has actually pulled it off in a totally new, creative and original way? To get straight to the point. \\\"Dawn of the Planet of the apes\\\" is what \\\"The Dark Knight\\\" was to \\\"Batman begins.\\\" In that its successful in living up to the impossible expectations set-up after the surprise praise put upon number 1. If not completely surpassing those expectations.What worked for the best in \\\"rise\\\" is built upon with this one. Yes, Ceaser, the leader of all of these super intelligent apes is still the star of the show, brought to life with amazing motion capture CGI, and the under-praised actions of Andy Serkis. But what's going on around him is equally amazing. With the entire films special effects being at their best.There's a lot more use for the other apes this time as well, with the people behind their actions making some of the other characters equally as compelling As Caeser. But its still the story that comes first, and the film is made all the stronger for it. In the old movies you had to sustain disbelief a lot when it was just guys in rubber suits playing the apes, but here, you believe these characters are real when they act like apes, and completely forget your watching an animated animal when these guys are talking.The First movie had a couple of daft bits, but this one (surprising as it sounds) feels completely believable and not stupid at all. Its stories great and unpredictable, its effects are amazing, there's heartfelt moments, exciting moments,creepy moments,and even a few funny ones. With the whole thing being brought to life with modern, unique computer altered performances, that have to be seen to be believed.Maybe i'm being to generous, but I really can't praise this movie enough. Too call it a great sequel is un-fair because its more than that, and is possibly the first film i've seen in years that I may even add to my \\\"All time favourites.\\\" But is that all that surprising when \\\"Dawn\\\" is so damn near flawless.\"\n        ],\n        \"semantic_type\": \"\",\n        \"description\": \"\"\n      }\n    },\n    {\n      \"column\": \"rating_y\",\n      \"properties\": {\n        \"dtype\": \"number\",\n        \"std\": 2,\n        \"min\": 1,\n        \"max\": 10,\n        \"num_unique_values\": 10,\n        \"samples\": [\n          2,\n          9\n        ],\n        \"semantic_type\": \"\",\n        \"description\": \"\"\n      }\n    },\n    {\n      \"column\": \"review_summary\",\n      \"properties\": {\n        \"dtype\": \"string\",\n        \"num_unique_values\": 5233,\n        \"samples\": [\n          \"Hidden Role Models\",\n          \"A Guilty Pleasure\"\n        ],\n        \"semantic_type\": \"\",\n        \"description\": \"\"\n      }\n    },\n    {\n      \"column\": \"whole_review\",\n      \"properties\": {\n        \"dtype\": \"string\",\n        \"num_unique_values\": 5335,\n        \"samples\": [\n          \"Batman Forever. Personally, i don't like this title. Sounds...well....crap, and lame to be honest. Sounds like a kids movie. And guess what, it IS a kids movie. Before i lay into this film, I did find it entertaining. Both as a kid, and as an adult. But i didn't like it as a Batman film. It just doesn't capture the essence of what Burton created. In fact, it completely ignores it. It acts as more of a re-boot in a way. But the bottom line, its entertaining. Thats all that saves this.I don't understand why they got rid of Burton. His vision of Batman was brilliant. I also don't understand why they chose Joel Schumacher as his replacement. And i don't understand why they ruined a tremendous character in Two-Face. And I don't understand why.....you get the picture. Val Kilmer. Great actor. See The Doors for his best performance. See Batman Forever for his, well, not as good performance. Don't get me wrong, he was a good Batman. He's no Keaton, but he did well with what he had to work with. But none of the actors really shone in this. Nothing shone in this. Except the flashy neon signs in an equally flashy Gotham City. So, Schumacher thought, \\\"Ok i'm making a Batman film. Great. But how do i ruin it? I know, i'll put nipples on the suit. Yeah that'll do it. Oooh, and i'll make Two-Face a cheap Joker rip off. I know, i'll get Jim Carrey to dress in spandex and dance around and basically be...Jim Carrey. Oooooh, i'll also include a stupid sub-plot love story. I think thats it, i'll save my other ideas for the next one. Right, lets film!\\\" So they filmed. And here it is. Two-Face is a great, tragic character. Who rose to greatness, and then fell to tragedy. He isn't in this. He's a laughy stupid gimmicky character. Who jumps around in hysterics whenever there's an explosion. He's after revenge against Batman, because...well... no idea why. Batman didn't really do anything. So anyway, he teams up with The Riddler, who wants revenge against Bruce Wayne, because....he got fired from his company. How pathetic. Carrey and Tommy wasted their talents on this film. As did Kilmer, O'Donnell, Kidman, etc. Furthermore, Riddler aims to be the smartest man in the world by sucking up everyones brainwaves. (Cringe.) Anyhow, Batman must save the day. With a sidekick...Robin! I'm not a big fan of Robin. But i think the way they worked him into the film was pretty good. He's a young, troubled man who wants revenge. He's someone who Bruce can relate to. And tries to save Dick Grayson from choosing the path he chose, as during the film, he starts to regret, and wants a normal life. Which is another OKish moment in the film. I suppose.Overall, this film isn't particularly great. And i gave it a 6 mainly because i feel nostalgic when i see it. And its also entertaining. I wasn't bored when i watched it, then, or now. But I'll repeat what i said, I don't like it as a Batman film. You want Batman, check out the first one. That IS Batman.Bye bye Burton....Hello Schumacher.\",\n          \"Ever since \\\"Rise of the Planet of the apes\\\" was advertised, I've loved the direction this \\\"old worn out\\\" franchise is taking, and it seems a lot of other people are now on-board too. I mean, with the exception of \\\"Batman,\\\" what other franchise that's been \\\"rebooted\\\" was actually in dire need of it, and has actually pulled it off in a totally new, creative and original way? To get straight to the point. \\\"Dawn of the Planet of the apes\\\" is what \\\"The Dark Knight\\\" was to \\\"Batman begins.\\\" In that its successful in living up to the impossible expectations set-up after the surprise praise put upon number 1. If not completely surpassing those expectations.What worked for the best in \\\"rise\\\" is built upon with this one. Yes, Ceaser, the leader of all of these super intelligent apes is still the star of the show, brought to life with amazing motion capture CGI, and the under-praised actions of Andy Serkis. But what's going on around him is equally amazing. With the entire films special effects being at their best.There's a lot more use for the other apes this time as well, with the people behind their actions making some of the other characters equally as compelling As Caeser. But its still the story that comes first, and the film is made all the stronger for it. In the old movies you had to sustain disbelief a lot when it was just guys in rubber suits playing the apes, but here, you believe these characters are real when they act like apes, and completely forget your watching an animated animal when these guys are talking.The First movie had a couple of daft bits, but this one (surprising as it sounds) feels completely believable and not stupid at all. Its stories great and unpredictable, its effects are amazing, there's heartfelt moments, exciting moments,creepy moments,and even a few funny ones. With the whole thing being brought to life with modern, unique computer altered performances, that have to be seen to be believed.Maybe i'm being to generous, but I really can't praise this movie enough. Too call it a great sequel is un-fair because its more than that, and is possibly the first film i've seen in years that I may even add to my \\\"All time favourites.\\\" But is that all that surprising when \\\"Dawn\\\" is so damn near flawless.Has to be seen to be believed!!\"\n        ],\n        \"semantic_type\": \"\",\n        \"description\": \"\"\n      }\n    }\n  ]\n}"
            }
          },
          "metadata": {},
          "execution_count": 4
        }
      ],
      "source": [
        "# Loading the dataset from drive\n",
        "df = pd.read_csv(\"/content/drive/My Drive/DSC 514 NLP/sampled_data.csv\")\n",
        "df.head()"
      ]
    },
    {
      "cell_type": "markdown",
      "metadata": {
        "id": "XhUeo_1UGdgD"
      },
      "source": [
        "We will assign a unique ID to each review (review_id) before splitting the review:"
      ]
    },
    {
      "cell_type": "code",
      "execution_count": 5,
      "metadata": {
        "id": "KEzi5TD2GZhF"
      },
      "outputs": [],
      "source": [
        "# Unique review ID to each row\n",
        "df['review_id'] = df.index"
      ]
    },
    {
      "cell_type": "code",
      "execution_count": null,
      "metadata": {
        "id": "WQwMbEm_G2Tl"
      },
      "outputs": [],
      "source": [
        "# Creating a HuggingFace dataset\n",
        "dataset = Dataset.from_pandas(df[['review_text', 'is_spoiler', 'review_id']])"
      ]
    },
    {
      "cell_type": "code",
      "execution_count": 7,
      "metadata": {
        "colab": {
          "base_uri": "https://localhost:8080/",
          "height": 281,
          "referenced_widgets": [
            "196fef84e8754b60a4fbf8f75056ed32",
            "d0b60f25d0e24eca8e05a2a41e0b7baa",
            "66b87eecd84848beadc810753db24a8c",
            "e307112211ec4cada5ba2ddef38ce578",
            "270c6a37050746b3a8ed3a41b6565047",
            "89dc1b44a9694b0588f79b37311cf760",
            "2c5d49a501f04c16a3992b2472d1d54e",
            "5ff3466e9df14169973aa136a7966570",
            "98e5005323ce44fdb77deedeece2b6ca",
            "0fd0f1d30afa4a8d893674fb51b909fb",
            "95b1947fc8d44123b0b73594874ff602",
            "59d849d94cfd4e88908ce604243c68b2",
            "5a6da30569be4e69962ba975ce24fcfb",
            "e93e946ac0d9466db4ae6889a85c99f8",
            "d3bf82aac0e74ea68b82be43ea075c94",
            "9ae86e0a1f93480aacf613bd29256a93",
            "5d3dc9ec63644bfba989312350d40856",
            "eb8b88a453724984a61b1c502c9b0b82",
            "a1b15d3ba92f469581c604ccd5a323c6",
            "dcbea79dd6fe43b49490568f8b4708a1",
            "948b31aa69124f79ab8b7dbf4046c2a6",
            "db54373238ee48ef94becff663e7ee0e",
            "5b487c1fbfb74482ad51c542ab83388d",
            "46b5547cf5dd4875997722d484a6c3ea",
            "1846394c80a3446babfc30b19978d3f9",
            "33cef6f2db98454581e09fbbeee2d924",
            "7b10e0ddc40b43a498aa0055ffaa930d",
            "a35a7ceb984646ddb02145b4f996c0af",
            "afd49c58de6a489295e2843f7d7c787f",
            "e2f3b9264efb45c691b1cf90eb1751f6",
            "0b067478de92426b8fd9b88234d33b28",
            "57c51487d18e4e75a43eddd62cd51e72",
            "5e7ecbb5d5614762b77b64aee92fb1de",
            "89278b8f8b7c4b57910f793c5a847049",
            "f58948ac05844f49ac73cc0755e0c205",
            "a763cfd5de6747eea5f4d664d084471b",
            "e0a2c58c3ab54d5c9457b78ddda8ad4a",
            "875ae6afd51d43a98ff77e108dbf5db6",
            "d2f243d6cb6d4d508551743f0368c22a",
            "9df3abd96bbe4c54a1d06f13117b0ac7",
            "648619fc5b434bcc833c9211efcdfcd7",
            "4ec1f19b16654c1d8986b370c5373e3a",
            "276c60f992654e27952eeb8143d00c45",
            "91902033f3d1439991abc333b54385e4",
            "514b2bb549d04aeaba3886cd44c24c0d",
            "b8d73991e6f04124b4c719c1117b1790",
            "5ef5b534ad904ce4a8ea863b8056b748",
            "1de7a10ad9574b8fa17e0ab466cfe270",
            "0efc4484b1564a409659b5d5bd569f2f",
            "c97ac99d9efb4c56b208cedf3da55685",
            "0ac069b07c614a0ba45ec21c6cb4f8f6",
            "a37c6dd3cebd4a1eaf8c7e4e8a6e9eb8",
            "b75e3b0bfc82458cb198c14efdd8beff",
            "0b34042e7a54427caccbf8d0d4208cab",
            "5d40d826f501450a8d5cc8a13aa94b2b"
          ]
        },
        "id": "znGx7keSHI1E",
        "outputId": "b59c9d45-3300-4667-84c9-8cb1bc03fc08"
      },
      "outputs": [
        {
          "output_type": "stream",
          "name": "stderr",
          "text": [
            "/usr/local/lib/python3.11/dist-packages/huggingface_hub/utils/_auth.py:94: UserWarning: \n",
            "The secret `HF_TOKEN` does not exist in your Colab secrets.\n",
            "To authenticate with the Hugging Face Hub, create a token in your settings tab (https://huggingface.co/settings/tokens), set it as secret in your Google Colab and restart your session.\n",
            "You will be able to reuse this secret in all of your notebooks.\n",
            "Please note that authentication is recommended but still optional to access public models or datasets.\n",
            "  warnings.warn(\n"
          ]
        },
        {
          "output_type": "display_data",
          "data": {
            "text/plain": [
              "tokenizer_config.json:   0%|          | 0.00/25.0 [00:00<?, ?B/s]"
            ],
            "application/vnd.jupyter.widget-view+json": {
              "version_major": 2,
              "version_minor": 0,
              "model_id": "196fef84e8754b60a4fbf8f75056ed32"
            }
          },
          "metadata": {}
        },
        {
          "output_type": "display_data",
          "data": {
            "text/plain": [
              "vocab.json:   0%|          | 0.00/899k [00:00<?, ?B/s]"
            ],
            "application/vnd.jupyter.widget-view+json": {
              "version_major": 2,
              "version_minor": 0,
              "model_id": "59d849d94cfd4e88908ce604243c68b2"
            }
          },
          "metadata": {}
        },
        {
          "output_type": "display_data",
          "data": {
            "text/plain": [
              "merges.txt:   0%|          | 0.00/456k [00:00<?, ?B/s]"
            ],
            "application/vnd.jupyter.widget-view+json": {
              "version_major": 2,
              "version_minor": 0,
              "model_id": "5b487c1fbfb74482ad51c542ab83388d"
            }
          },
          "metadata": {}
        },
        {
          "output_type": "display_data",
          "data": {
            "text/plain": [
              "tokenizer.json:   0%|          | 0.00/1.36M [00:00<?, ?B/s]"
            ],
            "application/vnd.jupyter.widget-view+json": {
              "version_major": 2,
              "version_minor": 0,
              "model_id": "89278b8f8b7c4b57910f793c5a847049"
            }
          },
          "metadata": {}
        },
        {
          "output_type": "display_data",
          "data": {
            "text/plain": [
              "config.json:   0%|          | 0.00/481 [00:00<?, ?B/s]"
            ],
            "application/vnd.jupyter.widget-view+json": {
              "version_major": 2,
              "version_minor": 0,
              "model_id": "514b2bb549d04aeaba3886cd44c24c0d"
            }
          },
          "metadata": {}
        }
      ],
      "source": [
        "# Loading the tokenizer for roberta from pretrained\n",
        "tokenizer = RobertaTokenizer.from_pretrained('roberta-base')"
      ]
    },
    {
      "cell_type": "code",
      "execution_count": 8,
      "metadata": {
        "id": "9sUaTFuro-Ic"
      },
      "outputs": [],
      "source": [
        "# Next, this function will split the review into parts of 512 tokens each which is the maximum input for roberta\n",
        "# and will also keep the review_id and the label for each chunk created\n",
        "\n",
        "def chunk_review(batch):\n",
        "    chunk_size = 512\n",
        "    all_chunks = []  # a list to store all results\n",
        "\n",
        "    # Looping through each row in the batch\n",
        "    for review_text, is_spoiler, review_id in zip(batch[\"review_text\"], batch[\"is_spoiler\"], batch[\"review_id\"]):\n",
        "        tokens = tokenizer(review_text, truncation=False) # tokenizing, without truncating\n",
        "        input_ids = tokens[\"input_ids\"]                   # getting the id for the tokens\n",
        "        attention_mask = tokens[\"attention_mask\"]         # getting the attention mask\n",
        "\n",
        "        # Now, we split the review to chunks of size 512 max\n",
        "        for i in range(0, len(input_ids), chunk_size):\n",
        "            all_chunks.append({\n",
        "                \"review_id\": review_id,\n",
        "                \"input_ids\": input_ids[i:i+chunk_size],\n",
        "                \"attention_mask\": attention_mask[i:i+chunk_size], # we use the same label for all chunks of the same review\n",
        "                \"label\": is_spoiler })\n",
        "\n",
        "    # Returning a dictionary of lists to fit the format of hugging face\n",
        "    return {\n",
        "        \"review_id\": [chunk[\"review_id\"] for chunk in all_chunks],\n",
        "        \"input_ids\": [chunk[\"input_ids\"] for chunk in all_chunks],\n",
        "        \"attention_mask\": [chunk[\"attention_mask\"] for chunk in all_chunks],\n",
        "        \"label\": [chunk[\"label\"] for chunk in all_chunks]}\n"
      ]
    },
    {
      "cell_type": "code",
      "execution_count": 9,
      "metadata": {
        "colab": {
          "base_uri": "https://localhost:8080/",
          "height": 84,
          "referenced_widgets": [
            "e3f3f88dd86d42bebbdc90cd7b9d7673",
            "6b50a49c66ec4b25b486eaf01eb5a1c2",
            "9f45aab50c3b49f78882e5dc8c38555b",
            "4a8873fb6b174a90ab9965b0e31d89f8",
            "a8eae3ac808f4166958afedc1ae6e5a1",
            "57d7ff7974a743f6881a5cc3c59b808b",
            "4effcbe910024f628ba58277c59b431f",
            "517fb7dfb43446d7a4471aee7d3445e0",
            "b0db7d2f62064c1691390edc30f353d9",
            "2df60117a9c54471948f0a5b6f0ef7eb",
            "c04a9b8ff18c480e82cafa9f7a6676a0",
            "1628eca69a6b43f1a823c35dd934951a"
          ]
        },
        "id": "hDEruOoGLqNq",
        "outputId": "0750ec00-9666-4c4c-e264-3d388d9c2017"
      },
      "outputs": [
        {
          "data": {
            "application/vnd.jupyter.widget-view+json": {
              "model_id": "e3f3f88dd86d42bebbdc90cd7b9d7673",
              "version_major": 2,
              "version_minor": 0
            },
            "text/plain": [
              "Map:   0%|          | 0/5335 [00:00<?, ? examples/s]"
            ]
          },
          "metadata": {},
          "output_type": "display_data"
        },
        {
          "metadata": {
            "tags": null
          },
          "name": "stderr",
          "output_type": "stream",
          "text": [
            "Token indices sequence length is longer than the specified maximum sequence length for this model (541 > 512). Running this sequence through the model will result in indexing errors\n"
          ]
        },
        {
          "data": {
            "application/vnd.jupyter.widget-view+json": {
              "model_id": "1628eca69a6b43f1a823c35dd934951a",
              "version_major": 2,
              "version_minor": 0
            },
            "text/plain": [
              "Flattening the indices:   0%|          | 0/6590 [00:00<?, ? examples/s]"
            ]
          },
          "metadata": {},
          "output_type": "display_data"
        }
      ],
      "source": [
        "# So now we can apply the chunking\n",
        "# changed batched to True since now we are returning a list\n",
        "dataset_chunked = dataset.map(chunk_review, batched=True, remove_columns=[\"review_text\", \"is_spoiler\"])\n",
        "dataset_chunked = dataset_chunked.flatten_indices()"
      ]
    },
    {
      "cell_type": "code",
      "source": [
        "print(dataset_chunked)"
      ],
      "metadata": {
        "colab": {
          "base_uri": "https://localhost:8080/"
        },
        "id": "nfjjgQeHGXDx",
        "outputId": "428c9ddf-6de4-4514-e2e0-4e94c862bc7e"
      },
      "execution_count": 10,
      "outputs": [
        {
          "output_type": "stream",
          "name": "stdout",
          "text": [
            "Dataset({\n",
            "    features: ['review_id', 'input_ids', 'attention_mask', 'label'],\n",
            "    num_rows: 6590\n",
            "})\n"
          ]
        }
      ]
    },
    {
      "cell_type": "code",
      "execution_count": 11,
      "metadata": {
        "id": "kZ8jhCCQLvWQ"
      },
      "outputs": [],
      "source": [
        "# Splitting after apllying the chunking using the train-test split from Dataset , we want to keep the review_id\n",
        "dataset_split = dataset_chunked.train_test_split(test_size=0.2, seed=42)"
      ]
    },
    {
      "cell_type": "code",
      "execution_count": 12,
      "metadata": {
        "id": "jWrbBB-zNhWe"
      },
      "outputs": [],
      "source": [
        "# Formatting for Pytorch in order to convert these columns and be ready to used from Hugging Face\n",
        "dataset_split.set_format(type='torch', columns=['input_ids', 'attention_mask', 'label'])"
      ]
    },
    {
      "cell_type": "code",
      "execution_count": 13,
      "metadata": {
        "colab": {
          "base_uri": "https://localhost:8080/"
        },
        "id": "Oxq5Kb3cQgXA",
        "outputId": "3051a046-4db5-4811-b78f-841ca49c7b76"
      },
      "outputs": [
        {
          "output_type": "stream",
          "name": "stdout",
          "text": [
            "{'review_id': 0, 'input_ids': [0, 7516, 147, 64, 38, 386, 15, 596, 1697, 28972, 197, 1183, 42, 822, 13, 7125, 116, 30800, 6, 24, 18, 95, 6269, 4, 45527, 6, 18606, 28291, 18, 2664, 3914, 2048, 16, 10, 4613, 410, 22650, 6, 61, 2386, 123, 7, 109, 5, 144, 10861, 17605, 19650, 821, 8299, 4, 497, 5, 276, 86, 6, 37, 18, 10, 8840, 2598, 6, 3030, 7, 146, 402, 9, 1003, 4, 9136, 6, 37, 7416, 9, 33884, 8, 5, 372, 1151, 77, 37, 5315, 1637, 6, 53, 15, 39, 9794, 7, 465, 5, 1637, 4691, 293, 6, 37, 6952, 13, 215, 3280, 383, 25, 20310, 6, 689, 36, 3983, 7022, 39, 9759, 8, 4441, 24, 13, 3630, 16, 10, 4187, 1310, 43, 8, 657, 36, 700, 14528, 5712, 13, 390, 54, 32, 95, 7209, 198, 123, 7, 146, 1531, 9, 123, 6, 8, 47, 64, 75, 244, 619, 13, 5, 2173, 43, 178, 6, 9, 768, 6, 358, 1310, 6, 358, 30146, 16, 888, 233, 9, 5, 527, 6, 98, 24, 18, 45, 95, 10, 651, 9, 7031, 1545, 12, 31586, 11248, 4, 85, 18, 67, 966, 19280, 14, 37, 18, 215, 10, 9256, 12576, 6, 37, 18, 2882, 7, 458, 5, 2441, 19, 39, 1029, 12, 16823, 8, 64, 304, 39, 2048, 7, 323, 49, 3423, 9, 12594, 15, 5, 2441, 4, 7516, 8, 5, 3558, 6, 19, 3090, 36, 627, 7626, 9, 5, 2393, 3914, 18, 15955, 43, 19023, 3009, 19, 20, 23914, 15556, 368, 36, 4771, 102, 28291, 18, 2048, 43, 8, 1747, 3064, 13, 123, 137, 5, 4817, 9, 18152, 14, 37, 18, 122, 10, 3228, 12, 4416, 9556, 492, 5, 527, 10, 45, 12, 15605, 12, 19530, 40955, 6, 45, 12, 15605, 12, 30132, 219, 3558, 14, 14905, 5, 1569, 16, 202, 10, 5313, 4187, 122, 6, 1812, 107, 71, 5, 822, 21, 156, 4, 2], 'attention_mask': [1, 1, 1, 1, 1, 1, 1, 1, 1, 1, 1, 1, 1, 1, 1, 1, 1, 1, 1, 1, 1, 1, 1, 1, 1, 1, 1, 1, 1, 1, 1, 1, 1, 1, 1, 1, 1, 1, 1, 1, 1, 1, 1, 1, 1, 1, 1, 1, 1, 1, 1, 1, 1, 1, 1, 1, 1, 1, 1, 1, 1, 1, 1, 1, 1, 1, 1, 1, 1, 1, 1, 1, 1, 1, 1, 1, 1, 1, 1, 1, 1, 1, 1, 1, 1, 1, 1, 1, 1, 1, 1, 1, 1, 1, 1, 1, 1, 1, 1, 1, 1, 1, 1, 1, 1, 1, 1, 1, 1, 1, 1, 1, 1, 1, 1, 1, 1, 1, 1, 1, 1, 1, 1, 1, 1, 1, 1, 1, 1, 1, 1, 1, 1, 1, 1, 1, 1, 1, 1, 1, 1, 1, 1, 1, 1, 1, 1, 1, 1, 1, 1, 1, 1, 1, 1, 1, 1, 1, 1, 1, 1, 1, 1, 1, 1, 1, 1, 1, 1, 1, 1, 1, 1, 1, 1, 1, 1, 1, 1, 1, 1, 1, 1, 1, 1, 1, 1, 1, 1, 1, 1, 1, 1, 1, 1, 1, 1, 1, 1, 1, 1, 1, 1, 1, 1, 1, 1, 1, 1, 1, 1, 1, 1, 1, 1, 1, 1, 1, 1, 1, 1, 1, 1, 1, 1, 1, 1, 1, 1, 1, 1, 1, 1, 1, 1, 1, 1, 1, 1, 1, 1, 1, 1, 1, 1, 1, 1, 1, 1, 1, 1, 1, 1, 1, 1, 1, 1, 1, 1, 1, 1, 1, 1, 1, 1, 1, 1, 1, 1, 1, 1, 1, 1, 1, 1, 1, 1, 1, 1, 1, 1, 1, 1, 1, 1, 1, 1, 1, 1, 1, 1, 1, 1, 1, 1, 1, 1, 1, 1, 1, 1, 1, 1, 1, 1, 1, 1, 1, 1], 'label': True}\n"
          ]
        }
      ],
      "source": [
        "print(dataset_chunked[0]) # this should not return nested lists"
      ]
    },
    {
      "cell_type": "code",
      "execution_count": 14,
      "metadata": {
        "colab": {
          "base_uri": "https://localhost:8080/"
        },
        "id": "Zk4MQd3cLkg8",
        "outputId": "38656c4b-92a7-4496-bd4a-f03c346b4c4d"
      },
      "outputs": [
        {
          "metadata": {
            "tags": null
          },
          "name": "stdout",
          "output_type": "stream",
          "text": [
            "Total chunks: 6590\n",
            "Max token length in our chunks: 512\n",
            "Chunks > 512: 0\n"
          ]
        }
      ],
      "source": [
        "# Counting the token legths\n",
        "token_lengths = [len(chunk['input_ids']) for chunk in dataset_chunked]\n",
        "\n",
        "# Printing the info\n",
        "print(f\"Total chunks: {len(token_lengths)}\")\n",
        "print(f\"Max token length in our chunks: {max(token_lengths)}\")\n",
        "print(f\"Chunks > 512: {sum(l > 512 for l in token_lengths)}\")"
      ]
    },
    {
      "cell_type": "code",
      "execution_count": 15,
      "metadata": {
        "colab": {
          "base_uri": "https://localhost:8080/",
          "height": 472
        },
        "id": "v_eOtwLKNiHX",
        "outputId": "5b4463d2-9ae5-44b4-8ff4-8e2301334158"
      },
      "outputs": [
        {
          "output_type": "display_data",
          "data": {
            "text/plain": [
              "<Figure size 640x480 with 1 Axes>"
            ],
            "image/png": "[encoded data removed]"
          },
          "metadata": {}
        }
      ],
      "source": [
        "# From the cell above we have verified that the splitting was performed correctly\n",
        "\n",
        "# Checking also with plot that indeed the tokens have length less than the maximum that roberta can take\n",
        "plt.hist(token_lengths, bins=30, color='skyblue', edgecolor='black')\n",
        "plt.axvline(x=512, color='red', linestyle='--', linewidth=2, label='512 Tokens Limit')\n",
        "plt.title('Token Lengths After Chunking')\n",
        "plt.xlabel('Token Length')\n",
        "plt.ylabel('Number of Chunks')\n",
        "plt.legend()\n",
        "plt.show()"
      ]
    },
    {
      "cell_type": "markdown",
      "metadata": {
        "id": "SLbVHljgRmI5"
      },
      "source": [
        "From the plot above we can see that everything is working as we wanted, there are no chunks with length larger than 512. We can see a lot of smaller chunks and a spike at 512 where the longer reviews were splitted. Now we can load the roberta model."
      ]
    },
    {
      "cell_type": "code",
      "execution_count": 16,
      "metadata": {
        "id": "HgI-c97FWTUw"
      },
      "outputs": [],
      "source": [
        "os.environ['TOKENIZERS_PARALLELISM'] = 'false'\n",
        "\n",
        "label2id = { \"non-spoiler\": 0,\"spoiler\": 1}\n",
        "id2label = {0: \"non-spoiler\",1: \"spoiler\"}\n",
        "\n",
        "model_name = \"roberta-base\"\n",
        "\n",
        "config = RobertaConfig.from_pretrained(\n",
        "    model_name,\n",
        "    output_hidden_states = False,\n",
        "    num_labels = 2,\n",
        "    label2id = label2id,\n",
        "    id2label = id2label )"
      ]
    },
    {
      "cell_type": "code",
      "execution_count": 17,
      "metadata": {
        "colab": {
          "base_uri": "https://localhost:8080/",
          "height": 138,
          "referenced_widgets": [
            "e6b0bb3bd6ca4b5bb89a00c12d55236a",
            "fb89a003f14c4d01b356e995a7a4cebf",
            "08f77435159545f09df87a742e498ad1",
            "fe33cc3a64a54fe083748ad2554d01d6",
            "e8d20ea8ca3f46daba4bd3f5cde9821e",
            "5feabe766fc34f99974a91a999edcbd7",
            "53d8f33920e84bf89dce54760ce3d2f0",
            "e5d9536e22234c0c951a417019287bd0",
            "80487581d663415087d8017e21fbef9e",
            "dcb626f6ca574de9adffb72bd85a32ce",
            "5b583a0a66124bdb8e62c3db4fb29969"
          ]
        },
        "id": "GgKsDX_2WTM-",
        "outputId": "54c21121-06b6-43c0-c3fd-d3245af53b22"
      },
      "outputs": [
        {
          "output_type": "stream",
          "name": "stderr",
          "text": [
            "Xet Storage is enabled for this repo, but the 'hf_xet' package is not installed. Falling back to regular HTTP download. For better performance, install the package with: `pip install huggingface_hub[hf_xet]` or `pip install hf_xet`\n",
            "WARNING:huggingface_hub.file_download:Xet Storage is enabled for this repo, but the 'hf_xet' package is not installed. Falling back to regular HTTP download. For better performance, install the package with: `pip install huggingface_hub[hf_xet]` or `pip install hf_xet`\n"
          ]
        },
        {
          "output_type": "display_data",
          "data": {
            "text/plain": [
              "model.safetensors:   0%|          | 0.00/499M [00:00<?, ?B/s]"
            ],
            "application/vnd.jupyter.widget-view+json": {
              "version_major": 2,
              "version_minor": 0,
              "model_id": "e6b0bb3bd6ca4b5bb89a00c12d55236a"
            }
          },
          "metadata": {}
        },
        {
          "output_type": "stream",
          "name": "stderr",
          "text": [
            "Some weights of RobertaForSequenceClassification were not initialized from the model checkpoint at roberta-base and are newly initialized: ['classifier.dense.bias', 'classifier.dense.weight', 'classifier.out_proj.bias', 'classifier.out_proj.weight']\n",
            "You should probably TRAIN this model on a down-stream task to be able to use it for predictions and inference.\n"
          ]
        }
      ],
      "source": [
        "# Initializing the model\n",
        "model = RobertaForSequenceClassification.from_pretrained(model_name, config=config)"
      ]
    },
    {
      "cell_type": "code",
      "execution_count": 18,
      "metadata": {
        "id": "pi25uMujYyid"
      },
      "outputs": [],
      "source": [
        "# Batch size and gradient accumulation -> these can be changed if needed\n",
        "batch_size = 16\n",
        "gradient_accumulation_steps = 2"
      ]
    },
    {
      "cell_type": "code",
      "execution_count": 19,
      "metadata": {
        "id": "v95_pqh1Yyfg"
      },
      "outputs": [],
      "source": [
        "# Logging steps\n",
        "logging_steps = len(dataset_split[\"train\"]) // (batch_size * gradient_accumulation_steps)"
      ]
    },
    {
      "cell_type": "code",
      "execution_count": 20,
      "metadata": {
        "id": "DUzm-VSDYyco"
      },
      "outputs": [],
      "source": [
        "# Directory to save output\n",
        "OUTPUT_DIR = \"./\"\n",
        "os.makedirs(OUTPUT_DIR, exist_ok=True)"
      ]
    },
    {
      "cell_type": "code",
      "execution_count": 21,
      "metadata": {
        "colab": {
          "base_uri": "https://localhost:8080/"
        },
        "id": "HijwYi7MawhV",
        "outputId": "8786ade4-074f-48d6-e68b-a957aaed45e8"
      },
      "outputs": [
        {
          "output_type": "stream",
          "name": "stderr",
          "text": [
            "/usr/local/lib/python3.11/dist-packages/transformers/training_args.py:1611: FutureWarning: `evaluation_strategy` is deprecated and will be removed in version 4.46 of 🤗 Transformers. Use `eval_strategy` instead\n",
            "  warnings.warn(\n"
          ]
        }
      ],
      "source": [
        "# Training arguments for roberta\n",
        "# we want to match the chunked dataset so we will modify the previous arguements\n",
        "\n",
        "from transformers import TrainingArguments\n",
        "\n",
        "training_args = TrainingArguments(\n",
        "    output_dir=os.path.join(OUTPUT_DIR, \"roberta-model\"),\n",
        "    evaluation_strategy=\"epoch\",                            # evaluate after every epoch\n",
        "    save_strategy=\"epoch\",                                  # and save\n",
        "    logging_strategy=\"steps\",\n",
        "    logging_steps=logging_steps,                            # we calculated this above\n",
        "    per_device_train_batch_size=batch_size,\n",
        "    per_device_eval_batch_size=batch_size,\n",
        "    gradient_accumulation_steps=gradient_accumulation_steps,\n",
        "    num_train_epochs=3,                                   # number of epochs to train\n",
        "    learning_rate=2e-5,                                   # learning rate\n",
        "    weight_decay=0.02,                                    # weight decay\n",
        "    load_best_model_at_end=True,                          # we want to get the best model by validation loss\n",
        "    metric_for_best_model=\"eval_loss\",                    # metric to use will be eval_loss\n",
        "    greater_is_better=False,                              # we want to minimize the loss\n",
        "    save_total_limit=2,\n",
        "    logging_dir=\"./logs\",\n",
        "    report_to=\"wandb\" )                                   # to use the Weights & Biases site"
      ]
    },
    {
      "cell_type": "code",
      "execution_count": 22,
      "metadata": {
        "colab": {
          "base_uri": "https://localhost:8080/"
        },
        "id": "Y52TVxpUawbx",
        "outputId": "4b097190-e9a1-47db-9b96-7f1a98db6c35"
      },
      "outputs": [
        {
          "output_type": "stream",
          "name": "stderr",
          "text": [
            "<ipython-input-22-94c33ea09e95>:4: FutureWarning: `tokenizer` is deprecated and will be removed in version 5.0.0 for `Trainer.__init__`. Use `processing_class` instead.\n",
            "  trainer = Trainer(\n"
          ]
        }
      ],
      "source": [
        "# Trainer setup\n",
        "from transformers import Trainer, EarlyStoppingCallback\n",
        "\n",
        "trainer = Trainer(\n",
        "    model=model,\n",
        "    args=training_args,\n",
        "    train_dataset=dataset_split[\"train\"],\n",
        "    eval_dataset=dataset_split[\"test\"],\n",
        "    tokenizer=tokenizer,\n",
        "    callbacks=[EarlyStoppingCallback(early_stopping_patience=2)])"
      ]
    },
    {
      "cell_type": "code",
      "execution_count": null,
      "metadata": {
        "colab": {
          "base_uri": "https://localhost:8080/",
          "height": 295
        },
        "id": "7IX9itKFYyZl",
        "outputId": "c30b9499-8616-4c60-d5c4-1a7da366f244"
      },
      "outputs": [
        {
          "output_type": "stream",
          "name": "stderr",
          "text": [
            "\u001b[34m\u001b[1mwandb\u001b[0m: \u001b[33mWARNING\u001b[0m The `run_name` is currently set to the same value as `TrainingArguments.output_dir`. If this was not intended, please specify a different run name by setting the `TrainingArguments.run_name` parameter.\n",
            "\u001b[34m\u001b[1mwandb\u001b[0m: Using wandb-core as the SDK backend.  Please refer to https://wandb.me/wandb-core for more information.\n"
          ]
        },
        {
          "output_type": "display_data",
          "data": {
            "text/plain": [
              "<IPython.core.display.Javascript object>"
            ],
            "application/javascript": [
              "\n",
              "        window._wandbApiKey = new Promise((resolve, reject) => {\n",
              "            function loadScript(url) {\n",
              "            return new Promise(function(resolve, reject) {\n",
              "                let newScript = document.createElement(\"script\");\n",
              "                newScript.onerror = reject;\n",
              "                newScript.onload = resolve;\n",
              "                document.body.appendChild(newScript);\n",
              "                newScript.src = url;\n",
              "            });\n",
              "            }\n",
              "            loadScript(\"https://cdn.jsdelivr.net/npm/postmate/build/postmate.min.js\").then(() => {\n",
              "            const iframe = document.createElement('iframe')\n",
              "            iframe.style.cssText = \"width:0;height:0;border:none\"\n",
              "            document.body.appendChild(iframe)\n",
              "            const handshake = new Postmate({\n",
              "                container: iframe,\n",
              "                url: 'https://wandb.ai/authorize'\n",
              "            });\n",
              "            const timeout = setTimeout(() => reject(\"Couldn't auto authenticate\"), 5000)\n",
              "            handshake.then(function(child) {\n",
              "                child.on('authorize', data => {\n",
              "                    clearTimeout(timeout)\n",
              "                    resolve(data)\n",
              "                });\n",
              "            });\n",
              "            })\n",
              "        });\n",
              "    "
            ]
          },
          "metadata": {}
        },
        {
          "output_type": "stream",
          "name": "stderr",
          "text": [
            "\u001b[34m\u001b[1mwandb\u001b[0m: Logging into wandb.ai. (Learn how to deploy a W&B server locally: https://wandb.me/wandb-server)\n",
            "\u001b[34m\u001b[1mwandb\u001b[0m: You can find your API key in your browser here: https://wandb.ai/authorize\n",
            "wandb: Paste an API key from your profile and hit enter:"
          ]
        },
        {
          "name": "stdout",
          "output_type": "stream",
          "text": [
            " ··········\n"
          ]
        },
        {
          "output_type": "stream",
          "name": "stderr",
          "text": [
            "\u001b[34m\u001b[1mwandb\u001b[0m: \u001b[33mWARNING\u001b[0m If you're specifying your api key in code, ensure this code is not shared publicly.\n",
            "\u001b[34m\u001b[1mwandb\u001b[0m: \u001b[33mWARNING\u001b[0m Consider setting the WANDB_API_KEY environment variable, or running `wandb login` from the command line.\n",
            "\u001b[34m\u001b[1mwandb\u001b[0m: No netrc file found, creating one.\n",
            "\u001b[34m\u001b[1mwandb\u001b[0m: Appending key for api.wandb.ai to your netrc file: /root/.netrc\n",
            "\u001b[34m\u001b[1mwandb\u001b[0m: Currently logged in as: \u001b[33mctsekourona\u001b[0m (\u001b[33mctsekourona-university-of-cyprus\u001b[0m) to \u001b[32mhttps://api.wandb.ai\u001b[0m. Use \u001b[1m`wandb login --relogin`\u001b[0m to force relogin\n"
          ]
        },
        {
          "output_type": "display_data",
          "data": {
            "text/plain": [
              "<IPython.core.display.HTML object>"
            ],
            "text/html": [
              "Tracking run with wandb version 0.19.9"
            ]
          },
          "metadata": {}
        },
        {
          "output_type": "display_data",
          "data": {
            "text/plain": [
              "<IPython.core.display.HTML object>"
            ],
            "text/html": [
              "Run data is saved locally in <code>/content/wandb/run-20250407_071617-owlw1phs</code>"
            ]
          },
          "metadata": {}
        },
        {
          "output_type": "display_data",
          "data": {
            "text/plain": [
              "<IPython.core.display.HTML object>"
            ],
            "text/html": [
              "Syncing run <strong><a href='https://wandb.ai/ctsekourona-university-of-cyprus/huggingface/runs/owlw1phs' target=\"_blank\">./roberta-model</a></strong> to <a href='https://wandb.ai/ctsekourona-university-of-cyprus/huggingface' target=\"_blank\">Weights & Biases</a> (<a href='https://wandb.me/developer-guide' target=\"_blank\">docs</a>)<br>"
            ]
          },
          "metadata": {}
        },
        {
          "output_type": "display_data",
          "data": {
            "text/plain": [
              "<IPython.core.display.HTML object>"
            ],
            "text/html": [
              " View project at <a href='https://wandb.ai/ctsekourona-university-of-cyprus/huggingface' target=\"_blank\">https://wandb.ai/ctsekourona-university-of-cyprus/huggingface</a>"
            ]
          },
          "metadata": {}
        },
        {
          "output_type": "display_data",
          "data": {
            "text/plain": [
              "<IPython.core.display.HTML object>"
            ],
            "text/html": [
              " View run at <a href='https://wandb.ai/ctsekourona-university-of-cyprus/huggingface/runs/owlw1phs' target=\"_blank\">https://wandb.ai/ctsekourona-university-of-cyprus/huggingface/runs/owlw1phs</a>"
            ]
          },
          "metadata": {}
        }
      ],
      "source": [
        "# Finally, time to train\n",
        "trainer.train()"
      ]
    },
    {
      "cell_type": "code",
      "execution_count": null,
      "metadata": {
        "colab": {
          "background_save": true
        },
        "id": "kiy1_XkSfvrq"
      },
      "outputs": [],
      "source": [
        "# After training to calculate the metrics\n",
        "\n",
        "# In order to predict on the test data\n",
        "preds_output = trainer.predict(dataset_split[\"test\"])\n",
        "y_preds = np.argmax(preds_output.predictions, axis=1)\n",
        "y_true = preds_output.label_ids"
      ]
    },
    {
      "cell_type": "code",
      "execution_count": null,
      "metadata": {
        "colab": {
          "background_save": true
        },
        "id": "7a8NYwb8KsUU"
      },
      "outputs": [],
      "source": [
        "# Metrics\n",
        "from sklearn.metrics import f1_score, accuracy_score, precision_score, recall_score, roc_auc_score, classification_report\n",
        "\n",
        "# Evaluating\n",
        "print(f\"F1 Score : {f1_score(y_test, y_preds)}\")\n",
        "print(f\"Accuracy : {accuracy_score(y_test, y_preds)}\")\n",
        "print(f\"Precision: {precision_score(y_test, y_preds)}\")\n",
        "print(f\"Recall   : {recall_score(y_test, y_preds)}\")\n",
        "print(f\"ROC AUC  : {roc_auc_score(y_test, y_preds)}\")\n",
        "print(classification_report(y_test, y_preds))"
      ]
    },
    {
      "cell_type": "code",
      "execution_count": null,
      "metadata": {
        "colab": {
          "background_save": true
        },
        "id": "8XBADqR1fqyV"
      },
      "outputs": [],
      "source": [
        "model = trainer.model\n",
        "model.save_pretrained(os.path.join(OUTPUT_DIR, 'roberta-model/pretrained'), save_config=True)"
      ]
    },
    {
      "cell_type": "markdown",
      "metadata": {
        "id": "mKX__y5zhGmn"
      },
      "source": [
        "We evaluate and make predictions before aggregating.\n",
        "The function of trainer.predict() is run on the test set which is also splitted into chunks. We will now aggregate by the review id to see how many of the full reviews are considered spoilers."
      ]
    },
    {
      "cell_type": "code",
      "execution_count": null,
      "metadata": {
        "colab": {
          "background_save": true
        },
        "id": "YnSpdPcKfquy"
      },
      "outputs": [],
      "source": [
        "# Getting the review_ids from the dataset\n",
        "review_ids = [dataset_split[\"test\"][i][\"review_id\"] for i in range(len(dataset_split[\"test\"]))]"
      ]
    },
    {
      "cell_type": "code",
      "execution_count": null,
      "metadata": {
        "colab": {
          "background_save": true
        },
        "id": "GxqPqDA8gm2g"
      },
      "outputs": [],
      "source": [
        "# Creating a pandas dataframe to aggregate and store data\n",
        "# The dataframe contains the review id , the true labels and the predicted ones\n",
        "df_preds = pd.DataFrame({ \"review_id\": review_ids, \"y_true\": y_true, \"y_pred\": y_preds })"
      ]
    },
    {
      "cell_type": "code",
      "execution_count": null,
      "metadata": {
        "colab": {
          "background_save": true
        },
        "id": "y63QdBCDgmzK"
      },
      "outputs": [],
      "source": [
        "# Now, we aggregate the predictions by the review\n",
        "# What we want to do is to consider the whole review as a spoiler even if only one chunk is predicted as a spoiler\n",
        "\n",
        "agg_preds = df_preds.groupby(\"review_id\").agg({\"y_true\": \"max\", \"y_pred\": \"max\"}).reset_index()"
      ]
    },
    {
      "cell_type": "code",
      "execution_count": null,
      "metadata": {
        "colab": {
          "background_save": true
        },
        "id": "21rR_Dk3gmvs"
      },
      "outputs": [],
      "source": [
        "# Evaluating again, with the same metrics this time the whole reviews\n",
        "\n",
        "print(f\"F1 Score : {f1_score(agg_preds['y_true'], agg_preds['y_pred'])}\")\n",
        "print(f\"Accuracy : {accuracy_score(agg_preds['y_true'], agg_preds['y_pred'])}\")\n",
        "print(f\"Precision: {precision_score(agg_preds['y_true'], agg_preds['y_pred'])}\")\n",
        "print(f\"Recall   : {recall_score(agg_preds['y_true'], agg_preds['y_pred'])}\")\n",
        "print(f\"ROC AUC  : {roc_auc_score(agg_preds['y_true'], agg_preds['y_pred'])}\")\n",
        "print(classification_report(agg_preds['y_true'], agg_preds['y_pred']))"
      ]
    }
  ],
  "metadata": {
    "colab": {
      "provenance": []
    },
    "kernelspec": {
      "display_name": "Python 3",
      "name": "python3"
    },
    "language_info": {
      "name": "python"
    },
    "widgets": {
      "application/vnd.jupyter.widget-state+json": {
        "196fef84e8754b60a4fbf8f75056ed32": {
          "model_module": "@jupyter-widgets/controls",
          "model_name": "HBoxModel",
          "model_module_version": "1.5.0",
          "state": {
            "_dom_classes": [],
            "_model_module": "@jupyter-widgets/controls",
            "_model_module_version": "1.5.0",
            "_model_name": "HBoxModel",
            "_view_count": null,
            "_view_module": "@jupyter-widgets/controls",
            "_view_module_version": "1.5.0",
            "_view_name": "HBoxView",
            "box_style": "",
            "children": [
              "IPY_MODEL_d0b60f25d0e24eca8e05a2a41e0b7baa",
              "IPY_MODEL_66b87eecd84848beadc810753db24a8c",
              "IPY_MODEL_e307112211ec4cada5ba2ddef38ce578"
            ],
            "layout": "IPY_MODEL_270c6a37050746b3a8ed3a41b6565047"
          }
        },
        "d0b60f25d0e24eca8e05a2a41e0b7baa": {
          "model_module": "@jupyter-widgets/controls",
          "model_name": "HTMLModel",
          "model_module_version": "1.5.0",
          "state": {
            "_dom_classes": [],
            "_model_module": "@jupyter-widgets/controls",
            "_model_module_version": "1.5.0",
            "_model_name": "HTMLModel",
            "_view_count": null,
            "_view_module": "@jupyter-widgets/controls",
            "_view_module_version": "1.5.0",
            "_view_name": "HTMLView",
            "description": "",
            "description_tooltip": null,
            "layout": "IPY_MODEL_89dc1b44a9694b0588f79b37311cf760",
            "placeholder": "​",
            "style": "IPY_MODEL_2c5d49a501f04c16a3992b2472d1d54e",
            "value": "tokenizer_config.json: 100%"
          }
        },
        "66b87eecd84848beadc810753db24a8c": {
          "model_module": "@jupyter-widgets/controls",
          "model_name": "FloatProgressModel",
          "model_module_version": "1.5.0",
          "state": {
            "_dom_classes": [],
            "_model_module": "@jupyter-widgets/controls",
            "_model_module_version": "1.5.0",
            "_model_name": "FloatProgressModel",
            "_view_count": null,
            "_view_module": "@jupyter-widgets/controls",
            "_view_module_version": "1.5.0",
            "_view_name": "ProgressView",
            "bar_style": "success",
            "description": "",
            "description_tooltip": null,
            "layout": "IPY_MODEL_5ff3466e9df14169973aa136a7966570",
            "max": 25,
            "min": 0,
            "orientation": "horizontal",
            "style": "IPY_MODEL_98e5005323ce44fdb77deedeece2b6ca",
            "value": 25
          }
        },
        "e307112211ec4cada5ba2ddef38ce578": {
          "model_module": "@jupyter-widgets/controls",
          "model_name": "HTMLModel",
          "model_module_version": "1.5.0",
          "state": {
            "_dom_classes": [],
            "_model_module": "@jupyter-widgets/controls",
            "_model_module_version": "1.5.0",
            "_model_name": "HTMLModel",
            "_view_count": null,
            "_view_module": "@jupyter-widgets/controls",
            "_view_module_version": "1.5.0",
            "_view_name": "HTMLView",
            "description": "",
            "description_tooltip": null,
            "layout": "IPY_MODEL_0fd0f1d30afa4a8d893674fb51b909fb",
            "placeholder": "​",
            "style": "IPY_MODEL_95b1947fc8d44123b0b73594874ff602",
            "value": " 25.0/25.0 [00:00&lt;00:00, 604B/s]"
          }
        },
        "270c6a37050746b3a8ed3a41b6565047": {
          "model_module": "@jupyter-widgets/base",
          "model_name": "LayoutModel",
          "model_module_version": "1.2.0",
          "state": {
            "_model_module": "@jupyter-widgets/base",
            "_model_module_version": "1.2.0",
            "_model_name": "LayoutModel",
            "_view_count": null,
            "_view_module": "@jupyter-widgets/base",
            "_view_module_version": "1.2.0",
            "_view_name": "LayoutView",
            "align_content": null,
            "align_items": null,
            "align_self": null,
            "border": null,
            "bottom": null,
            "display": null,
            "flex": null,
            "flex_flow": null,
            "grid_area": null,
            "grid_auto_columns": null,
            "grid_auto_flow": null,
            "grid_auto_rows": null,
            "grid_column": null,
            "grid_gap": null,
            "grid_row": null,
            "grid_template_areas": null,
            "grid_template_columns": null,
            "grid_template_rows": null,
            "height": null,
            "justify_content": null,
            "justify_items": null,
            "left": null,
            "margin": null,
            "max_height": null,
            "max_width": null,
            "min_height": null,
            "min_width": null,
            "object_fit": null,
            "object_position": null,
            "order": null,
            "overflow": null,
            "overflow_x": null,
            "overflow_y": null,
            "padding": null,
            "right": null,
            "top": null,
            "visibility": null,
            "width": null
          }
        },
        "89dc1b44a9694b0588f79b37311cf760": {
          "model_module": "@jupyter-widgets/base",
          "model_name": "LayoutModel",
          "model_module_version": "1.2.0",
          "state": {
            "_model_module": "@jupyter-widgets/base",
            "_model_module_version": "1.2.0",
            "_model_name": "LayoutModel",
            "_view_count": null,
            "_view_module": "@jupyter-widgets/base",
            "_view_module_version": "1.2.0",
            "_view_name": "LayoutView",
            "align_content": null,
            "align_items": null,
            "align_self": null,
            "border": null,
            "bottom": null,
            "display": null,
            "flex": null,
            "flex_flow": null,
            "grid_area": null,
            "grid_auto_columns": null,
            "grid_auto_flow": null,
            "grid_auto_rows": null,
            "grid_column": null,
            "grid_gap": null,
            "grid_row": null,
            "grid_template_areas": null,
            "grid_template_columns": null,
            "grid_template_rows": null,
            "height": null,
            "justify_content": null,
            "justify_items": null,
            "left": null,
            "margin": null,
            "max_height": null,
            "max_width": null,
            "min_height": null,
            "min_width": null,
            "object_fit": null,
            "object_position": null,
            "order": null,
            "overflow": null,
            "overflow_x": null,
            "overflow_y": null,
            "padding": null,
            "right": null,
            "top": null,
            "visibility": null,
            "width": null
          }
        },
        "2c5d49a501f04c16a3992b2472d1d54e": {
          "model_module": "@jupyter-widgets/controls",
          "model_name": "DescriptionStyleModel",
          "model_module_version": "1.5.0",
          "state": {
            "_model_module": "@jupyter-widgets/controls",
            "_model_module_version": "1.5.0",
            "_model_name": "DescriptionStyleModel",
            "_view_count": null,
            "_view_module": "@jupyter-widgets/base",
            "_view_module_version": "1.2.0",
            "_view_name": "StyleView",
            "description_width": ""
          }
        },
        "5ff3466e9df14169973aa136a7966570": {
          "model_module": "@jupyter-widgets/base",
          "model_name": "LayoutModel",
          "model_module_version": "1.2.0",
          "state": {
            "_model_module": "@jupyter-widgets/base",
            "_model_module_version": "1.2.0",
            "_model_name": "LayoutModel",
            "_view_count": null,
            "_view_module": "@jupyter-widgets/base",
            "_view_module_version": "1.2.0",
            "_view_name": "LayoutView",
            "align_content": null,
            "align_items": null,
            "align_self": null,
            "border": null,
            "bottom": null,
            "display": null,
            "flex": null,
            "flex_flow": null,
            "grid_area": null,
            "grid_auto_columns": null,
            "grid_auto_flow": null,
            "grid_auto_rows": null,
            "grid_column": null,
            "grid_gap": null,
            "grid_row": null,
            "grid_template_areas": null,
            "grid_template_columns": null,
            "grid_template_rows": null,
            "height": null,
            "justify_content": null,
            "justify_items": null,
            "left": null,
            "margin": null,
            "max_height": null,
            "max_width": null,
            "min_height": null,
            "min_width": null,
            "object_fit": null,
            "object_position": null,
            "order": null,
            "overflow": null,
            "overflow_x": null,
            "overflow_y": null,
            "padding": null,
            "right": null,
            "top": null,
            "visibility": null,
            "width": null
          }
        },
        "98e5005323ce44fdb77deedeece2b6ca": {
          "model_module": "@jupyter-widgets/controls",
          "model_name": "ProgressStyleModel",
          "model_module_version": "1.5.0",
          "state": {
            "_model_module": "@jupyter-widgets/controls",
            "_model_module_version": "1.5.0",
            "_model_name": "ProgressStyleModel",
            "_view_count": null,
            "_view_module": "@jupyter-widgets/base",
            "_view_module_version": "1.2.0",
            "_view_name": "StyleView",
            "bar_color": null,
            "description_width": ""
          }
        },
        "0fd0f1d30afa4a8d893674fb51b909fb": {
          "model_module": "@jupyter-widgets/base",
          "model_name": "LayoutModel",
          "model_module_version": "1.2.0",
          "state": {
            "_model_module": "@jupyter-widgets/base",
            "_model_module_version": "1.2.0",
            "_model_name": "LayoutModel",
            "_view_count": null,
            "_view_module": "@jupyter-widgets/base",
            "_view_module_version": "1.2.0",
            "_view_name": "LayoutView",
            "align_content": null,
            "align_items": null,
            "align_self": null,
            "border": null,
            "bottom": null,
            "display": null,
            "flex": null,
            "flex_flow": null,
            "grid_area": null,
            "grid_auto_columns": null,
            "grid_auto_flow": null,
            "grid_auto_rows": null,
            "grid_column": null,
            "grid_gap": null,
            "grid_row": null,
            "grid_template_areas": null,
            "grid_template_columns": null,
            "grid_template_rows": null,
            "height": null,
            "justify_content": null,
            "justify_items": null,
            "left": null,
            "margin": null,
            "max_height": null,
            "max_width": null,
            "min_height": null,
            "min_width": null,
            "object_fit": null,
            "object_position": null,
            "order": null,
            "overflow": null,
            "overflow_x": null,
            "overflow_y": null,
            "padding": null,
            "right": null,
            "top": null,
            "visibility": null,
            "width": null
          }
        },
        "95b1947fc8d44123b0b73594874ff602": {
          "model_module": "@jupyter-widgets/controls",
          "model_name": "DescriptionStyleModel",
          "model_module_version": "1.5.0",
          "state": {
            "_model_module": "@jupyter-widgets/controls",
            "_model_module_version": "1.5.0",
            "_model_name": "DescriptionStyleModel",
            "_view_count": null,
            "_view_module": "@jupyter-widgets/base",
            "_view_module_version": "1.2.0",
            "_view_name": "StyleView",
            "description_width": ""
          }
        },
        "59d849d94cfd4e88908ce604243c68b2": {
          "model_module": "@jupyter-widgets/controls",
          "model_name": "HBoxModel",
          "model_module_version": "1.5.0",
          "state": {
            "_dom_classes": [],
            "_model_module": "@jupyter-widgets/controls",
            "_model_module_version": "1.5.0",
            "_model_name": "HBoxModel",
            "_view_count": null,
            "_view_module": "@jupyter-widgets/controls",
            "_view_module_version": "1.5.0",
            "_view_name": "HBoxView",
            "box_style": "",
            "children": [
              "IPY_MODEL_5a6da30569be4e69962ba975ce24fcfb",
              "IPY_MODEL_e93e946ac0d9466db4ae6889a85c99f8",
              "IPY_MODEL_d3bf82aac0e74ea68b82be43ea075c94"
            ],
            "layout": "IPY_MODEL_9ae86e0a1f93480aacf613bd29256a93"
          }
        },
        "5a6da30569be4e69962ba975ce24fcfb": {
          "model_module": "@jupyter-widgets/controls",
          "model_name": "HTMLModel",
          "model_module_version": "1.5.0",
          "state": {
            "_dom_classes": [],
            "_model_module": "@jupyter-widgets/controls",
            "_model_module_version": "1.5.0",
            "_model_name": "HTMLModel",
            "_view_count": null,
            "_view_module": "@jupyter-widgets/controls",
            "_view_module_version": "1.5.0",
            "_view_name": "HTMLView",
            "description": "",
            "description_tooltip": null,
            "layout": "IPY_MODEL_5d3dc9ec63644bfba989312350d40856",
            "placeholder": "​",
            "style": "IPY_MODEL_eb8b88a453724984a61b1c502c9b0b82",
            "value": "vocab.json: 100%"
          }
        },
        "e93e946ac0d9466db4ae6889a85c99f8": {
          "model_module": "@jupyter-widgets/controls",
          "model_name": "FloatProgressModel",
          "model_module_version": "1.5.0",
          "state": {
            "_dom_classes": [],
            "_model_module": "@jupyter-widgets/controls",
            "_model_module_version": "1.5.0",
            "_model_name": "FloatProgressModel",
            "_view_count": null,
            "_view_module": "@jupyter-widgets/controls",
            "_view_module_version": "1.5.0",
            "_view_name": "ProgressView",
            "bar_style": "success",
            "description": "",
            "description_tooltip": null,
            "layout": "IPY_MODEL_a1b15d3ba92f469581c604ccd5a323c6",
            "max": 898823,
            "min": 0,
            "orientation": "horizontal",
            "style": "IPY_MODEL_dcbea79dd6fe43b49490568f8b4708a1",
            "value": 898823
          }
        },
        "d3bf82aac0e74ea68b82be43ea075c94": {
          "model_module": "@jupyter-widgets/controls",
          "model_name": "HTMLModel",
          "model_module_version": "1.5.0",
          "state": {
            "_dom_classes": [],
            "_model_module": "@jupyter-widgets/controls",
            "_model_module_version": "1.5.0",
            "_model_name": "HTMLModel",
            "_view_count": null,
            "_view_module": "@jupyter-widgets/controls",
            "_view_module_version": "1.5.0",
            "_view_name": "HTMLView",
            "description": "",
            "description_tooltip": null,
            "layout": "IPY_MODEL_948b31aa69124f79ab8b7dbf4046c2a6",
            "placeholder": "​",
            "style": "IPY_MODEL_db54373238ee48ef94becff663e7ee0e",
            "value": " 899k/899k [00:00&lt;00:00, 4.55MB/s]"
          }
        },
        "9ae86e0a1f93480aacf613bd29256a93": {
          "model_module": "@jupyter-widgets/base",
          "model_name": "LayoutModel",
          "model_module_version": "1.2.0",
          "state": {
            "_model_module": "@jupyter-widgets/base",
            "_model_module_version": "1.2.0",
            "_model_name": "LayoutModel",
            "_view_count": null,
            "_view_module": "@jupyter-widgets/base",
            "_view_module_version": "1.2.0",
            "_view_name": "LayoutView",
            "align_content": null,
            "align_items": null,
            "align_self": null,
            "border": null,
            "bottom": null,
            "display": null,
            "flex": null,
            "flex_flow": null,
            "grid_area": null,
            "grid_auto_columns": null,
            "grid_auto_flow": null,
            "grid_auto_rows": null,
            "grid_column": null,
            "grid_gap": null,
            "grid_row": null,
            "grid_template_areas": null,
            "grid_template_columns": null,
            "grid_template_rows": null,
            "height": null,
            "justify_content": null,
            "justify_items": null,
            "left": null,
            "margin": null,
            "max_height": null,
            "max_width": null,
            "min_height": null,
            "min_width": null,
            "object_fit": null,
            "object_position": null,
            "order": null,
            "overflow": null,
            "overflow_x": null,
            "overflow_y": null,
            "padding": null,
            "right": null,
            "top": null,
            "visibility": null,
            "width": null
          }
        },
        "5d3dc9ec63644bfba989312350d40856": {
          "model_module": "@jupyter-widgets/base",
          "model_name": "LayoutModel",
          "model_module_version": "1.2.0",
          "state": {
            "_model_module": "@jupyter-widgets/base",
            "_model_module_version": "1.2.0",
            "_model_name": "LayoutModel",
            "_view_count": null,
            "_view_module": "@jupyter-widgets/base",
            "_view_module_version": "1.2.0",
            "_view_name": "LayoutView",
            "align_content": null,
            "align_items": null,
            "align_self": null,
            "border": null,
            "bottom": null,
            "display": null,
            "flex": null,
            "flex_flow": null,
            "grid_area": null,
            "grid_auto_columns": null,
            "grid_auto_flow": null,
            "grid_auto_rows": null,
            "grid_column": null,
            "grid_gap": null,
            "grid_row": null,
            "grid_template_areas": null,
            "grid_template_columns": null,
            "grid_template_rows": null,
            "height": null,
            "justify_content": null,
            "justify_items": null,
            "left": null,
            "margin": null,
            "max_height": null,
            "max_width": null,
            "min_height": null,
            "min_width": null,
            "object_fit": null,
            "object_position": null,
            "order": null,
            "overflow": null,
            "overflow_x": null,
            "overflow_y": null,
            "padding": null,
            "right": null,
            "top": null,
            "visibility": null,
            "width": null
          }
        },
        "eb8b88a453724984a61b1c502c9b0b82": {
          "model_module": "@jupyter-widgets/controls",
          "model_name": "DescriptionStyleModel",
          "model_module_version": "1.5.0",
          "state": {
            "_model_module": "@jupyter-widgets/controls",
            "_model_module_version": "1.5.0",
            "_model_name": "DescriptionStyleModel",
            "_view_count": null,
            "_view_module": "@jupyter-widgets/base",
            "_view_module_version": "1.2.0",
            "_view_name": "StyleView",
            "description_width": ""
          }
        },
        "a1b15d3ba92f469581c604ccd5a323c6": {
          "model_module": "@jupyter-widgets/base",
          "model_name": "LayoutModel",
          "model_module_version": "1.2.0",
          "state": {
            "_model_module": "@jupyter-widgets/base",
            "_model_module_version": "1.2.0",
            "_model_name": "LayoutModel",
            "_view_count": null,
            "_view_module": "@jupyter-widgets/base",
            "_view_module_version": "1.2.0",
            "_view_name": "LayoutView",
            "align_content": null,
            "align_items": null,
            "align_self": null,
            "border": null,
            "bottom": null,
            "display": null,
            "flex": null,
            "flex_flow": null,
            "grid_area": null,
            "grid_auto_columns": null,
            "grid_auto_flow": null,
            "grid_auto_rows": null,
            "grid_column": null,
            "grid_gap": null,
            "grid_row": null,
            "grid_template_areas": null,
            "grid_template_columns": null,
            "grid_template_rows": null,
            "height": null,
            "justify_content": null,
            "justify_items": null,
            "left": null,
            "margin": null,
            "max_height": null,
            "max_width": null,
            "min_height": null,
            "min_width": null,
            "object_fit": null,
            "object_position": null,
            "order": null,
            "overflow": null,
            "overflow_x": null,
            "overflow_y": null,
            "padding": null,
            "right": null,
            "top": null,
            "visibility": null,
            "width": null
          }
        },
        "dcbea79dd6fe43b49490568f8b4708a1": {
          "model_module": "@jupyter-widgets/controls",
          "model_name": "ProgressStyleModel",
          "model_module_version": "1.5.0",
          "state": {
            "_model_module": "@jupyter-widgets/controls",
            "_model_module_version": "1.5.0",
            "_model_name": "ProgressStyleModel",
            "_view_count": null,
            "_view_module": "@jupyter-widgets/base",
            "_view_module_version": "1.2.0",
            "_view_name": "StyleView",
            "bar_color": null,
            "description_width": ""
          }
        },
        "948b31aa69124f79ab8b7dbf4046c2a6": {
          "model_module": "@jupyter-widgets/base",
          "model_name": "LayoutModel",
          "model_module_version": "1.2.0",
          "state": {
            "_model_module": "@jupyter-widgets/base",
            "_model_module_version": "1.2.0",
            "_model_name": "LayoutModel",
            "_view_count": null,
            "_view_module": "@jupyter-widgets/base",
            "_view_module_version": "1.2.0",
            "_view_name": "LayoutView",
            "align_content": null,
            "align_items": null,
            "align_self": null,
            "border": null,
            "bottom": null,
            "display": null,
            "flex": null,
            "flex_flow": null,
            "grid_area": null,
            "grid_auto_columns": null,
            "grid_auto_flow": null,
            "grid_auto_rows": null,
            "grid_column": null,
            "grid_gap": null,
            "grid_row": null,
            "grid_template_areas": null,
            "grid_template_columns": null,
            "grid_template_rows": null,
            "height": null,
            "justify_content": null,
            "justify_items": null,
            "left": null,
            "margin": null,
            "max_height": null,
            "max_width": null,
            "min_height": null,
            "min_width": null,
            "object_fit": null,
            "object_position": null,
            "order": null,
            "overflow": null,
            "overflow_x": null,
            "overflow_y": null,
            "padding": null,
            "right": null,
            "top": null,
            "visibility": null,
            "width": null
          }
        },
        "db54373238ee48ef94becff663e7ee0e": {
          "model_module": "@jupyter-widgets/controls",
          "model_name": "DescriptionStyleModel",
          "model_module_version": "1.5.0",
          "state": {
            "_model_module": "@jupyter-widgets/controls",
            "_model_module_version": "1.5.0",
            "_model_name": "DescriptionStyleModel",
            "_view_count": null,
            "_view_module": "@jupyter-widgets/base",
            "_view_module_version": "1.2.0",
            "_view_name": "StyleView",
            "description_width": ""
          }
        },
        "5b487c1fbfb74482ad51c542ab83388d": {
          "model_module": "@jupyter-widgets/controls",
          "model_name": "HBoxModel",
          "model_module_version": "1.5.0",
          "state": {
            "_dom_classes": [],
            "_model_module": "@jupyter-widgets/controls",
            "_model_module_version": "1.5.0",
            "_model_name": "HBoxModel",
            "_view_count": null,
            "_view_module": "@jupyter-widgets/controls",
            "_view_module_version": "1.5.0",
            "_view_name": "HBoxView",
            "box_style": "",
            "children": [
              "IPY_MODEL_46b5547cf5dd4875997722d484a6c3ea",
              "IPY_MODEL_1846394c80a3446babfc30b19978d3f9",
              "IPY_MODEL_33cef6f2db98454581e09fbbeee2d924"
            ],
            "layout": "IPY_MODEL_7b10e0ddc40b43a498aa0055ffaa930d"
          }
        },
        "46b5547cf5dd4875997722d484a6c3ea": {
          "model_module": "@jupyter-widgets/controls",
          "model_name": "HTMLModel",
          "model_module_version": "1.5.0",
          "state": {
            "_dom_classes": [],
            "_model_module": "@jupyter-widgets/controls",
            "_model_module_version": "1.5.0",
            "_model_name": "HTMLModel",
            "_view_count": null,
            "_view_module": "@jupyter-widgets/controls",
            "_view_module_version": "1.5.0",
            "_view_name": "HTMLView",
            "description": "",
            "description_tooltip": null,
            "layout": "IPY_MODEL_a35a7ceb984646ddb02145b4f996c0af",
            "placeholder": "​",
            "style": "IPY_MODEL_afd49c58de6a489295e2843f7d7c787f",
            "value": "merges.txt: 100%"
          }
        },
        "1846394c80a3446babfc30b19978d3f9": {
          "model_module": "@jupyter-widgets/controls",
          "model_name": "FloatProgressModel",
          "model_module_version": "1.5.0",
          "state": {
            "_dom_classes": [],
            "_model_module": "@jupyter-widgets/controls",
            "_model_module_version": "1.5.0",
            "_model_name": "FloatProgressModel",
            "_view_count": null,
            "_view_module": "@jupyter-widgets/controls",
            "_view_module_version": "1.5.0",
            "_view_name": "ProgressView",
            "bar_style": "success",
            "description": "",
            "description_tooltip": null,
            "layout": "IPY_MODEL_e2f3b9264efb45c691b1cf90eb1751f6",
            "max": 456318,
            "min": 0,
            "orientation": "horizontal",
            "style": "IPY_MODEL_0b067478de92426b8fd9b88234d33b28",
            "value": 456318
          }
        },
        "33cef6f2db98454581e09fbbeee2d924": {
          "model_module": "@jupyter-widgets/controls",
          "model_name": "HTMLModel",
          "model_module_version": "1.5.0",
          "state": {
            "_dom_classes": [],
            "_model_module": "@jupyter-widgets/controls",
            "_model_module_version": "1.5.0",
            "_model_name": "HTMLModel",
            "_view_count": null,
            "_view_module": "@jupyter-widgets/controls",
            "_view_module_version": "1.5.0",
            "_view_name": "HTMLView",
            "description": "",
            "description_tooltip": null,
            "layout": "IPY_MODEL_57c51487d18e4e75a43eddd62cd51e72",
            "placeholder": "​",
            "style": "IPY_MODEL_5e7ecbb5d5614762b77b64aee92fb1de",
            "value": " 456k/456k [00:00&lt;00:00, 783kB/s]"
          }
        },
        "7b10e0ddc40b43a498aa0055ffaa930d": {
          "model_module": "@jupyter-widgets/base",
          "model_name": "LayoutModel",
          "model_module_version": "1.2.0",
          "state": {
            "_model_module": "@jupyter-widgets/base",
            "_model_module_version": "1.2.0",
            "_model_name": "LayoutModel",
            "_view_count": null,
            "_view_module": "@jupyter-widgets/base",
            "_view_module_version": "1.2.0",
            "_view_name": "LayoutView",
            "align_content": null,
            "align_items": null,
            "align_self": null,
            "border": null,
            "bottom": null,
            "display": null,
            "flex": null,
            "flex_flow": null,
            "grid_area": null,
            "grid_auto_columns": null,
            "grid_auto_flow": null,
            "grid_auto_rows": null,
            "grid_column": null,
            "grid_gap": null,
            "grid_row": null,
            "grid_template_areas": null,
            "grid_template_columns": null,
            "grid_template_rows": null,
            "height": null,
            "justify_content": null,
            "justify_items": null,
            "left": null,
            "margin": null,
            "max_height": null,
            "max_width": null,
            "min_height": null,
            "min_width": null,
            "object_fit": null,
            "object_position": null,
            "order": null,
            "overflow": null,
            "overflow_x": null,
            "overflow_y": null,
            "padding": null,
            "right": null,
            "top": null,
            "visibility": null,
            "width": null
          }
        },
        "a35a7ceb984646ddb02145b4f996c0af": {
          "model_module": "@jupyter-widgets/base",
          "model_name": "LayoutModel",
          "model_module_version": "1.2.0",
          "state": {
            "_model_module": "@jupyter-widgets/base",
            "_model_module_version": "1.2.0",
            "_model_name": "LayoutModel",
            "_view_count": null,
            "_view_module": "@jupyter-widgets/base",
            "_view_module_version": "1.2.0",
            "_view_name": "LayoutView",
            "align_content": null,
            "align_items": null,
            "align_self": null,
            "border": null,
            "bottom": null,
            "display": null,
            "flex": null,
            "flex_flow": null,
            "grid_area": null,
            "grid_auto_columns": null,
            "grid_auto_flow": null,
            "grid_auto_rows": null,
            "grid_column": null,
            "grid_gap": null,
            "grid_row": null,
            "grid_template_areas": null,
            "grid_template_columns": null,
            "grid_template_rows": null,
            "height": null,
            "justify_content": null,
            "justify_items": null,
            "left": null,
            "margin": null,
            "max_height": null,
            "max_width": null,
            "min_height": null,
            "min_width": null,
            "object_fit": null,
            "object_position": null,
            "order": null,
            "overflow": null,
            "overflow_x": null,
            "overflow_y": null,
            "padding": null,
            "right": null,
            "top": null,
            "visibility": null,
            "width": null
          }
        },
        "afd49c58de6a489295e2843f7d7c787f": {
          "model_module": "@jupyter-widgets/controls",
          "model_name": "DescriptionStyleModel",
          "model_module_version": "1.5.0",
          "state": {
            "_model_module": "@jupyter-widgets/controls",
            "_model_module_version": "1.5.0",
            "_model_name": "DescriptionStyleModel",
            "_view_count": null,
            "_view_module": "@jupyter-widgets/base",
            "_view_module_version": "1.2.0",
            "_view_name": "StyleView",
            "description_width": ""
          }
        },
        "e2f3b9264efb45c691b1cf90eb1751f6": {
          "model_module": "@jupyter-widgets/base",
          "model_name": "LayoutModel",
          "model_module_version": "1.2.0",
          "state": {
            "_model_module": "@jupyter-widgets/base",
            "_model_module_version": "1.2.0",
            "_model_name": "LayoutModel",
            "_view_count": null,
            "_view_module": "@jupyter-widgets/base",
            "_view_module_version": "1.2.0",
            "_view_name": "LayoutView",
            "align_content": null,
            "align_items": null,
            "align_self": null,
            "border": null,
            "bottom": null,
            "display": null,
            "flex": null,
            "flex_flow": null,
            "grid_area": null,
            "grid_auto_columns": null,
            "grid_auto_flow": null,
            "grid_auto_rows": null,
            "grid_column": null,
            "grid_gap": null,
            "grid_row": null,
            "grid_template_areas": null,
            "grid_template_columns": null,
            "grid_template_rows": null,
            "height": null,
            "justify_content": null,
            "justify_items": null,
            "left": null,
            "margin": null,
            "max_height": null,
            "max_width": null,
            "min_height": null,
            "min_width": null,
            "object_fit": null,
            "object_position": null,
            "order": null,
            "overflow": null,
            "overflow_x": null,
            "overflow_y": null,
            "padding": null,
            "right": null,
            "top": null,
            "visibility": null,
            "width": null
          }
        },
        "0b067478de92426b8fd9b88234d33b28": {
          "model_module": "@jupyter-widgets/controls",
          "model_name": "ProgressStyleModel",
          "model_module_version": "1.5.0",
          "state": {
            "_model_module": "@jupyter-widgets/controls",
            "_model_module_version": "1.5.0",
            "_model_name": "ProgressStyleModel",
            "_view_count": null,
            "_view_module": "@jupyter-widgets/base",
            "_view_module_version": "1.2.0",
            "_view_name": "StyleView",
            "bar_color": null,
            "description_width": ""
          }
        },
        "57c51487d18e4e75a43eddd62cd51e72": {
          "model_module": "@jupyter-widgets/base",
          "model_name": "LayoutModel",
          "model_module_version": "1.2.0",
          "state": {
            "_model_module": "@jupyter-widgets/base",
            "_model_module_version": "1.2.0",
            "_model_name": "LayoutModel",
            "_view_count": null,
            "_view_module": "@jupyter-widgets/base",
            "_view_module_version": "1.2.0",
            "_view_name": "LayoutView",
            "align_content": null,
            "align_items": null,
            "align_self": null,
            "border": null,
            "bottom": null,
            "display": null,
            "flex": null,
            "flex_flow": null,
            "grid_area": null,
            "grid_auto_columns": null,
            "grid_auto_flow": null,
            "grid_auto_rows": null,
            "grid_column": null,
            "grid_gap": null,
            "grid_row": null,
            "grid_template_areas": null,
            "grid_template_columns": null,
            "grid_template_rows": null,
            "height": null,
            "justify_content": null,
            "justify_items": null,
            "left": null,
            "margin": null,
            "max_height": null,
            "max_width": null,
            "min_height": null,
            "min_width": null,
            "object_fit": null,
            "object_position": null,
            "order": null,
            "overflow": null,
            "overflow_x": null,
            "overflow_y": null,
            "padding": null,
            "right": null,
            "top": null,
            "visibility": null,
            "width": null
          }
        },
        "5e7ecbb5d5614762b77b64aee92fb1de": {
          "model_module": "@jupyter-widgets/controls",
          "model_name": "DescriptionStyleModel",
          "model_module_version": "1.5.0",
          "state": {
            "_model_module": "@jupyter-widgets/controls",
            "_model_module_version": "1.5.0",
            "_model_name": "DescriptionStyleModel",
            "_view_count": null,
            "_view_module": "@jupyter-widgets/base",
            "_view_module_version": "1.2.0",
            "_view_name": "StyleView",
            "description_width": ""
          }
        },
        "89278b8f8b7c4b57910f793c5a847049": {
          "model_module": "@jupyter-widgets/controls",
          "model_name": "HBoxModel",
          "model_module_version": "1.5.0",
          "state": {
            "_dom_classes": [],
            "_model_module": "@jupyter-widgets/controls",
            "_model_module_version": "1.5.0",
            "_model_name": "HBoxModel",
            "_view_count": null,
            "_view_module": "@jupyter-widgets/controls",
            "_view_module_version": "1.5.0",
            "_view_name": "HBoxView",
            "box_style": "",
            "children": [
              "IPY_MODEL_f58948ac05844f49ac73cc0755e0c205",
              "IPY_MODEL_a763cfd5de6747eea5f4d664d084471b",
              "IPY_MODEL_e0a2c58c3ab54d5c9457b78ddda8ad4a"
            ],
            "layout": "IPY_MODEL_875ae6afd51d43a98ff77e108dbf5db6"
          }
        },
        "f58948ac05844f49ac73cc0755e0c205": {
          "model_module": "@jupyter-widgets/controls",
          "model_name": "HTMLModel",
          "model_module_version": "1.5.0",
          "state": {
            "_dom_classes": [],
            "_model_module": "@jupyter-widgets/controls",
            "_model_module_version": "1.5.0",
            "_model_name": "HTMLModel",
            "_view_count": null,
            "_view_module": "@jupyter-widgets/controls",
            "_view_module_version": "1.5.0",
            "_view_name": "HTMLView",
            "description": "",
            "description_tooltip": null,
            "layout": "IPY_MODEL_d2f243d6cb6d4d508551743f0368c22a",
            "placeholder": "​",
            "style": "IPY_MODEL_9df3abd96bbe4c54a1d06f13117b0ac7",
            "value": "tokenizer.json: 100%"
          }
        },
        "a763cfd5de6747eea5f4d664d084471b": {
          "model_module": "@jupyter-widgets/controls",
          "model_name": "FloatProgressModel",
          "model_module_version": "1.5.0",
          "state": {
            "_dom_classes": [],
            "_model_module": "@jupyter-widgets/controls",
            "_model_module_version": "1.5.0",
            "_model_name": "FloatProgressModel",
            "_view_count": null,
            "_view_module": "@jupyter-widgets/controls",
            "_view_module_version": "1.5.0",
            "_view_name": "ProgressView",
            "bar_style": "success",
            "description": "",
            "description_tooltip": null,
            "layout": "IPY_MODEL_648619fc5b434bcc833c9211efcdfcd7",
            "max": 1355863,
            "min": 0,
            "orientation": "horizontal",
            "style": "IPY_MODEL_4ec1f19b16654c1d8986b370c5373e3a",
            "value": 1355863
          }
        },
        "e0a2c58c3ab54d5c9457b78ddda8ad4a": {
          "model_module": "@jupyter-widgets/controls",
          "model_name": "HTMLModel",
          "model_module_version": "1.5.0",
          "state": {
            "_dom_classes": [],
            "_model_module": "@jupyter-widgets/controls",
            "_model_module_version": "1.5.0",
            "_model_name": "HTMLModel",
            "_view_count": null,
            "_view_module": "@jupyter-widgets/controls",
            "_view_module_version": "1.5.0",
            "_view_name": "HTMLView",
            "description": "",
            "description_tooltip": null,
            "layout": "IPY_MODEL_276c60f992654e27952eeb8143d00c45",
            "placeholder": "​",
            "style": "IPY_MODEL_91902033f3d1439991abc333b54385e4",
            "value": " 1.36M/1.36M [00:00&lt;00:00, 20.9MB/s]"
          }
        },
        "875ae6afd51d43a98ff77e108dbf5db6": {
          "model_module": "@jupyter-widgets/base",
          "model_name": "LayoutModel",
          "model_module_version": "1.2.0",
          "state": {
            "_model_module": "@jupyter-widgets/base",
            "_model_module_version": "1.2.0",
            "_model_name": "LayoutModel",
            "_view_count": null,
            "_view_module": "@jupyter-widgets/base",
            "_view_module_version": "1.2.0",
            "_view_name": "LayoutView",
            "align_content": null,
            "align_items": null,
            "align_self": null,
            "border": null,
            "bottom": null,
            "display": null,
            "flex": null,
            "flex_flow": null,
            "grid_area": null,
            "grid_auto_columns": null,
            "grid_auto_flow": null,
            "grid_auto_rows": null,
            "grid_column": null,
            "grid_gap": null,
            "grid_row": null,
            "grid_template_areas": null,
            "grid_template_columns": null,
            "grid_template_rows": null,
            "height": null,
            "justify_content": null,
            "justify_items": null,
            "left": null,
            "margin": null,
            "max_height": null,
            "max_width": null,
            "min_height": null,
            "min_width": null,
            "object_fit": null,
            "object_position": null,
            "order": null,
            "overflow": null,
            "overflow_x": null,
            "overflow_y": null,
            "padding": null,
            "right": null,
            "top": null,
            "visibility": null,
            "width": null
          }
        },
        "d2f243d6cb6d4d508551743f0368c22a": {
          "model_module": "@jupyter-widgets/base",
          "model_name": "LayoutModel",
          "model_module_version": "1.2.0",
          "state": {
            "_model_module": "@jupyter-widgets/base",
            "_model_module_version": "1.2.0",
            "_model_name": "LayoutModel",
            "_view_count": null,
            "_view_module": "@jupyter-widgets/base",
            "_view_module_version": "1.2.0",
            "_view_name": "LayoutView",
            "align_content": null,
            "align_items": null,
            "align_self": null,
            "border": null,
            "bottom": null,
            "display": null,
            "flex": null,
            "flex_flow": null,
            "grid_area": null,
            "grid_auto_columns": null,
            "grid_auto_flow": null,
            "grid_auto_rows": null,
            "grid_column": null,
            "grid_gap": null,
            "grid_row": null,
            "grid_template_areas": null,
            "grid_template_columns": null,
            "grid_template_rows": null,
            "height": null,
            "justify_content": null,
            "justify_items": null,
            "left": null,
            "margin": null,
            "max_height": null,
            "max_width": null,
            "min_height": null,
            "min_width": null,
            "object_fit": null,
            "object_position": null,
            "order": null,
            "overflow": null,
            "overflow_x": null,
            "overflow_y": null,
            "padding": null,
            "right": null,
            "top": null,
            "visibility": null,
            "width": null
          }
        },
        "9df3abd96bbe4c54a1d06f13117b0ac7": {
          "model_module": "@jupyter-widgets/controls",
          "model_name": "DescriptionStyleModel",
          "model_module_version": "1.5.0",
          "state": {
            "_model_module": "@jupyter-widgets/controls",
            "_model_module_version": "1.5.0",
            "_model_name": "DescriptionStyleModel",
            "_view_count": null,
            "_view_module": "@jupyter-widgets/base",
            "_view_module_version": "1.2.0",
            "_view_name": "StyleView",
            "description_width": ""
          }
        },
        "648619fc5b434bcc833c9211efcdfcd7": {
          "model_module": "@jupyter-widgets/base",
          "model_name": "LayoutModel",
          "model_module_version": "1.2.0",
          "state": {
            "_model_module": "@jupyter-widgets/base",
            "_model_module_version": "1.2.0",
            "_model_name": "LayoutModel",
            "_view_count": null,
            "_view_module": "@jupyter-widgets/base",
            "_view_module_version": "1.2.0",
            "_view_name": "LayoutView",
            "align_content": null,
            "align_items": null,
            "align_self": null,
            "border": null,
            "bottom": null,
            "display": null,
            "flex": null,
            "flex_flow": null,
            "grid_area": null,
            "grid_auto_columns": null,
            "grid_auto_flow": null,
            "grid_auto_rows": null,
            "grid_column": null,
            "grid_gap": null,
            "grid_row": null,
            "grid_template_areas": null,
            "grid_template_columns": null,
            "grid_template_rows": null,
            "height": null,
            "justify_content": null,
            "justify_items": null,
            "left": null,
            "margin": null,
            "max_height": null,
            "max_width": null,
            "min_height": null,
            "min_width": null,
            "object_fit": null,
            "object_position": null,
            "order": null,
            "overflow": null,
            "overflow_x": null,
            "overflow_y": null,
            "padding": null,
            "right": null,
            "top": null,
            "visibility": null,
            "width": null
          }
        },
        "4ec1f19b16654c1d8986b370c5373e3a": {
          "model_module": "@jupyter-widgets/controls",
          "model_name": "ProgressStyleModel",
          "model_module_version": "1.5.0",
          "state": {
            "_model_module": "@jupyter-widgets/controls",
            "_model_module_version": "1.5.0",
            "_model_name": "ProgressStyleModel",
            "_view_count": null,
            "_view_module": "@jupyter-widgets/base",
            "_view_module_version": "1.2.0",
            "_view_name": "StyleView",
            "bar_color": null,
            "description_width": ""
          }
        },
        "276c60f992654e27952eeb8143d00c45": {
          "model_module": "@jupyter-widgets/base",
          "model_name": "LayoutModel",
          "model_module_version": "1.2.0",
          "state": {
            "_model_module": "@jupyter-widgets/base",
            "_model_module_version": "1.2.0",
            "_model_name": "LayoutModel",
            "_view_count": null,
            "_view_module": "@jupyter-widgets/base",
            "_view_module_version": "1.2.0",
            "_view_name": "LayoutView",
            "align_content": null,
            "align_items": null,
            "align_self": null,
            "border": null,
            "bottom": null,
            "display": null,
            "flex": null,
            "flex_flow": null,
            "grid_area": null,
            "grid_auto_columns": null,
            "grid_auto_flow": null,
            "grid_auto_rows": null,
            "grid_column": null,
            "grid_gap": null,
            "grid_row": null,
            "grid_template_areas": null,
            "grid_template_columns": null,
            "grid_template_rows": null,
            "height": null,
            "justify_content": null,
            "justify_items": null,
            "left": null,
            "margin": null,
            "max_height": null,
            "max_width": null,
            "min_height": null,
            "min_width": null,
            "object_fit": null,
            "object_position": null,
            "order": null,
            "overflow": null,
            "overflow_x": null,
            "overflow_y": null,
            "padding": null,
            "right": null,
            "top": null,
            "visibility": null,
            "width": null
          }
        },
        "91902033f3d1439991abc333b54385e4": {
          "model_module": "@jupyter-widgets/controls",
          "model_name": "DescriptionStyleModel",
          "model_module_version": "1.5.0",
          "state": {
            "_model_module": "@jupyter-widgets/controls",
            "_model_module_version": "1.5.0",
            "_model_name": "DescriptionStyleModel",
            "_view_count": null,
            "_view_module": "@jupyter-widgets/base",
            "_view_module_version": "1.2.0",
            "_view_name": "StyleView",
            "description_width": ""
          }
        },
        "514b2bb549d04aeaba3886cd44c24c0d": {
          "model_module": "@jupyter-widgets/controls",
          "model_name": "HBoxModel",
          "model_module_version": "1.5.0",
          "state": {
            "_dom_classes": [],
            "_model_module": "@jupyter-widgets/controls",
            "_model_module_version": "1.5.0",
            "_model_name": "HBoxModel",
            "_view_count": null,
            "_view_module": "@jupyter-widgets/controls",
            "_view_module_version": "1.5.0",
            "_view_name": "HBoxView",
            "box_style": "",
            "children": [
              "IPY_MODEL_b8d73991e6f04124b4c719c1117b1790",
              "IPY_MODEL_5ef5b534ad904ce4a8ea863b8056b748",
              "IPY_MODEL_1de7a10ad9574b8fa17e0ab466cfe270"
            ],
            "layout": "IPY_MODEL_0efc4484b1564a409659b5d5bd569f2f"
          }
        },
        "b8d73991e6f04124b4c719c1117b1790": {
          "model_module": "@jupyter-widgets/controls",
          "model_name": "HTMLModel",
          "model_module_version": "1.5.0",
          "state": {
            "_dom_classes": [],
            "_model_module": "@jupyter-widgets/controls",
            "_model_module_version": "1.5.0",
            "_model_name": "HTMLModel",
            "_view_count": null,
            "_view_module": "@jupyter-widgets/controls",
            "_view_module_version": "1.5.0",
            "_view_name": "HTMLView",
            "description": "",
            "description_tooltip": null,
            "layout": "IPY_MODEL_c97ac99d9efb4c56b208cedf3da55685",
            "placeholder": "​",
            "style": "IPY_MODEL_0ac069b07c614a0ba45ec21c6cb4f8f6",
            "value": "config.json: 100%"
          }
        },
        "5ef5b534ad904ce4a8ea863b8056b748": {
          "model_module": "@jupyter-widgets/controls",
          "model_name": "FloatProgressModel",
          "model_module_version": "1.5.0",
          "state": {
            "_dom_classes": [],
            "_model_module": "@jupyter-widgets/controls",
            "_model_module_version": "1.5.0",
            "_model_name": "FloatProgressModel",
            "_view_count": null,
            "_view_module": "@jupyter-widgets/controls",
            "_view_module_version": "1.5.0",
            "_view_name": "ProgressView",
            "bar_style": "success",
            "description": "",
            "description_tooltip": null,
            "layout": "IPY_MODEL_a37c6dd3cebd4a1eaf8c7e4e8a6e9eb8",
            "max": 481,
            "min": 0,
            "orientation": "horizontal",
            "style": "IPY_MODEL_b75e3b0bfc82458cb198c14efdd8beff",
            "value": 481
          }
        },
        "1de7a10ad9574b8fa17e0ab466cfe270": {
          "model_module": "@jupyter-widgets/controls",
          "model_name": "HTMLModel",
          "model_module_version": "1.5.0",
          "state": {
            "_dom_classes": [],
            "_model_module": "@jupyter-widgets/controls",
            "_model_module_version": "1.5.0",
            "_model_name": "HTMLModel",
            "_view_count": null,
            "_view_module": "@jupyter-widgets/controls",
            "_view_module_version": "1.5.0",
            "_view_name": "HTMLView",
            "description": "",
            "description_tooltip": null,
            "layout": "IPY_MODEL_0b34042e7a54427caccbf8d0d4208cab",
            "placeholder": "​",
            "style": "IPY_MODEL_5d40d826f501450a8d5cc8a13aa94b2b",
            "value": " 481/481 [00:00&lt;00:00, 9.50kB/s]"
          }
        },
        "0efc4484b1564a409659b5d5bd569f2f": {
          "model_module": "@jupyter-widgets/base",
          "model_name": "LayoutModel",
          "model_module_version": "1.2.0",
          "state": {
            "_model_module": "@jupyter-widgets/base",
            "_model_module_version": "1.2.0",
            "_model_name": "LayoutModel",
            "_view_count": null,
            "_view_module": "@jupyter-widgets/base",
            "_view_module_version": "1.2.0",
            "_view_name": "LayoutView",
            "align_content": null,
            "align_items": null,
            "align_self": null,
            "border": null,
            "bottom": null,
            "display": null,
            "flex": null,
            "flex_flow": null,
            "grid_area": null,
            "grid_auto_columns": null,
            "grid_auto_flow": null,
            "grid_auto_rows": null,
            "grid_column": null,
            "grid_gap": null,
            "grid_row": null,
            "grid_template_areas": null,
            "grid_template_columns": null,
            "grid_template_rows": null,
            "height": null,
            "justify_content": null,
            "justify_items": null,
            "left": null,
            "margin": null,
            "max_height": null,
            "max_width": null,
            "min_height": null,
            "min_width": null,
            "object_fit": null,
            "object_position": null,
            "order": null,
            "overflow": null,
            "overflow_x": null,
            "overflow_y": null,
            "padding": null,
            "right": null,
            "top": null,
            "visibility": null,
            "width": null
          }
        },
        "c97ac99d9efb4c56b208cedf3da55685": {
          "model_module": "@jupyter-widgets/base",
          "model_name": "LayoutModel",
          "model_module_version": "1.2.0",
          "state": {
            "_model_module": "@jupyter-widgets/base",
            "_model_module_version": "1.2.0",
            "_model_name": "LayoutModel",
            "_view_count": null,
            "_view_module": "@jupyter-widgets/base",
            "_view_module_version": "1.2.0",
            "_view_name": "LayoutView",
            "align_content": null,
            "align_items": null,
            "align_self": null,
            "border": null,
            "bottom": null,
            "display": null,
            "flex": null,
            "flex_flow": null,
            "grid_area": null,
            "grid_auto_columns": null,
            "grid_auto_flow": null,
            "grid_auto_rows": null,
            "grid_column": null,
            "grid_gap": null,
            "grid_row": null,
            "grid_template_areas": null,
            "grid_template_columns": null,
            "grid_template_rows": null,
            "height": null,
            "justify_content": null,
            "justify_items": null,
            "left": null,
            "margin": null,
            "max_height": null,
            "max_width": null,
            "min_height": null,
            "min_width": null,
            "object_fit": null,
            "object_position": null,
            "order": null,
            "overflow": null,
            "overflow_x": null,
            "overflow_y": null,
            "padding": null,
            "right": null,
            "top": null,
            "visibility": null,
            "width": null
          }
        },
        "0ac069b07c614a0ba45ec21c6cb4f8f6": {
          "model_module": "@jupyter-widgets/controls",
          "model_name": "DescriptionStyleModel",
          "model_module_version": "1.5.0",
          "state": {
            "_model_module": "@jupyter-widgets/controls",
            "_model_module_version": "1.5.0",
            "_model_name": "DescriptionStyleModel",
            "_view_count": null,
            "_view_module": "@jupyter-widgets/base",
            "_view_module_version": "1.2.0",
            "_view_name": "StyleView",
            "description_width": ""
          }
        },
        "a37c6dd3cebd4a1eaf8c7e4e8a6e9eb8": {
          "model_module": "@jupyter-widgets/base",
          "model_name": "LayoutModel",
          "model_module_version": "1.2.0",
          "state": {
            "_model_module": "@jupyter-widgets/base",
            "_model_module_version": "1.2.0",
            "_model_name": "LayoutModel",
            "_view_count": null,
            "_view_module": "@jupyter-widgets/base",
            "_view_module_version": "1.2.0",
            "_view_name": "LayoutView",
            "align_content": null,
            "align_items": null,
            "align_self": null,
            "border": null,
            "bottom": null,
            "display": null,
            "flex": null,
            "flex_flow": null,
            "grid_area": null,
            "grid_auto_columns": null,
            "grid_auto_flow": null,
            "grid_auto_rows": null,
            "grid_column": null,
            "grid_gap": null,
            "grid_row": null,
            "grid_template_areas": null,
            "grid_template_columns": null,
            "grid_template_rows": null,
            "height": null,
            "justify_content": null,
            "justify_items": null,
            "left": null,
            "margin": null,
            "max_height": null,
            "max_width": null,
            "min_height": null,
            "min_width": null,
            "object_fit": null,
            "object_position": null,
            "order": null,
            "overflow": null,
            "overflow_x": null,
            "overflow_y": null,
            "padding": null,
            "right": null,
            "top": null,
            "visibility": null,
            "width": null
          }
        },
        "b75e3b0bfc82458cb198c14efdd8beff": {
          "model_module": "@jupyter-widgets/controls",
          "model_name": "ProgressStyleModel",
          "model_module_version": "1.5.0",
          "state": {
            "_model_module": "@jupyter-widgets/controls",
            "_model_module_version": "1.5.0",
            "_model_name": "ProgressStyleModel",
            "_view_count": null,
            "_view_module": "@jupyter-widgets/base",
            "_view_module_version": "1.2.0",
            "_view_name": "StyleView",
            "bar_color": null,
            "description_width": ""
          }
        },
        "0b34042e7a54427caccbf8d0d4208cab": {
          "model_module": "@jupyter-widgets/base",
          "model_name": "LayoutModel",
          "model_module_version": "1.2.0",
          "state": {
            "_model_module": "@jupyter-widgets/base",
            "_model_module_version": "1.2.0",
            "_model_name": "LayoutModel",
            "_view_count": null,
            "_view_module": "@jupyter-widgets/base",
            "_view_module_version": "1.2.0",
            "_view_name": "LayoutView",
            "align_content": null,
            "align_items": null,
            "align_self": null,
            "border": null,
            "bottom": null,
            "display": null,
            "flex": null,
            "flex_flow": null,
            "grid_area": null,
            "grid_auto_columns": null,
            "grid_auto_flow": null,
            "grid_auto_rows": null,
            "grid_column": null,
            "grid_gap": null,
            "grid_row": null,
            "grid_template_areas": null,
            "grid_template_columns": null,
            "grid_template_rows": null,
            "height": null,
            "justify_content": null,
            "justify_items": null,
            "left": null,
            "margin": null,
            "max_height": null,
            "max_width": null,
            "min_height": null,
            "min_width": null,
            "object_fit": null,
            "object_position": null,
            "order": null,
            "overflow": null,
            "overflow_x": null,
            "overflow_y": null,
            "padding": null,
            "right": null,
            "top": null,
            "visibility": null,
            "width": null
          }
        },
        "5d40d826f501450a8d5cc8a13aa94b2b": {
          "model_module": "@jupyter-widgets/controls",
          "model_name": "DescriptionStyleModel",
          "model_module_version": "1.5.0",
          "state": {
            "_model_module": "@jupyter-widgets/controls",
            "_model_module_version": "1.5.0",
            "_model_name": "DescriptionStyleModel",
            "_view_count": null,
            "_view_module": "@jupyter-widgets/base",
            "_view_module_version": "1.2.0",
            "_view_name": "StyleView",
            "description_width": ""
          }
        },
        "e3f3f88dd86d42bebbdc90cd7b9d7673": {
          "model_module": "@jupyter-widgets/controls",
          "model_name": "HBoxModel",
          "model_module_version": "1.5.0",
          "state": {
            "_dom_classes": [],
            "_model_module": "@jupyter-widgets/controls",
            "_model_module_version": "1.5.0",
            "_model_name": "HBoxModel",
            "_view_count": null,
            "_view_module": "@jupyter-widgets/controls",
            "_view_module_version": "1.5.0",
            "_view_name": "HBoxView",
            "box_style": "",
            "children": [
              "IPY_MODEL_6b50a49c66ec4b25b486eaf01eb5a1c2",
              "IPY_MODEL_9f45aab50c3b49f78882e5dc8c38555b",
              "IPY_MODEL_4a8873fb6b174a90ab9965b0e31d89f8"
            ],
            "layout": "IPY_MODEL_a8eae3ac808f4166958afedc1ae6e5a1"
          }
        },
        "6b50a49c66ec4b25b486eaf01eb5a1c2": {
          "model_module": "@jupyter-widgets/controls",
          "model_name": "HTMLModel",
          "model_module_version": "1.5.0",
          "state": {
            "_dom_classes": [],
            "_model_module": "@jupyter-widgets/controls",
            "_model_module_version": "1.5.0",
            "_model_name": "HTMLModel",
            "_view_count": null,
            "_view_module": "@jupyter-widgets/controls",
            "_view_module_version": "1.5.0",
            "_view_name": "HTMLView",
            "description": "",
            "description_tooltip": null,
            "layout": "IPY_MODEL_57d7ff7974a743f6881a5cc3c59b808b",
            "placeholder": "​",
            "style": "IPY_MODEL_4effcbe910024f628ba58277c59b431f",
            "value": "Map:  37%"
          }
        },
        "9f45aab50c3b49f78882e5dc8c38555b": {
          "model_module": "@jupyter-widgets/controls",
          "model_name": "FloatProgressModel",
          "model_module_version": "1.5.0",
          "state": {
            "_dom_classes": [],
            "_model_module": "@jupyter-widgets/controls",
            "_model_module_version": "1.5.0",
            "_model_name": "FloatProgressModel",
            "_view_count": null,
            "_view_module": "@jupyter-widgets/controls",
            "_view_module_version": "1.5.0",
            "_view_name": "ProgressView",
            "bar_style": "",
            "description": "",
            "description_tooltip": null,
            "layout": "IPY_MODEL_517fb7dfb43446d7a4471aee7d3445e0",
            "max": 5335,
            "min": 0,
            "orientation": "horizontal",
            "style": "IPY_MODEL_b0db7d2f62064c1691390edc30f353d9",
            "value": 2000
          }
        },
        "4a8873fb6b174a90ab9965b0e31d89f8": {
          "model_module": "@jupyter-widgets/controls",
          "model_name": "HTMLModel",
          "model_module_version": "1.5.0",
          "state": {
            "_dom_classes": [],
            "_model_module": "@jupyter-widgets/controls",
            "_model_module_version": "1.5.0",
            "_model_name": "HTMLModel",
            "_view_count": null,
            "_view_module": "@jupyter-widgets/controls",
            "_view_module_version": "1.5.0",
            "_view_name": "HTMLView",
            "description": "",
            "description_tooltip": null,
            "layout": "IPY_MODEL_2df60117a9c54471948f0a5b6f0ef7eb",
            "placeholder": "​",
            "style": "IPY_MODEL_c04a9b8ff18c480e82cafa9f7a6676a0",
            "value": " 2000/5335 [00:17&lt;00:29, 112.50 examples/s]"
          }
        },
        "a8eae3ac808f4166958afedc1ae6e5a1": {
          "model_module": "@jupyter-widgets/base",
          "model_name": "LayoutModel",
          "model_module_version": "1.2.0",
          "state": {
            "_model_module": "@jupyter-widgets/base",
            "_model_module_version": "1.2.0",
            "_model_name": "LayoutModel",
            "_view_count": null,
            "_view_module": "@jupyter-widgets/base",
            "_view_module_version": "1.2.0",
            "_view_name": "LayoutView",
            "align_content": null,
            "align_items": null,
            "align_self": null,
            "border": null,
            "bottom": null,
            "display": null,
            "flex": null,
            "flex_flow": null,
            "grid_area": null,
            "grid_auto_columns": null,
            "grid_auto_flow": null,
            "grid_auto_rows": null,
            "grid_column": null,
            "grid_gap": null,
            "grid_row": null,
            "grid_template_areas": null,
            "grid_template_columns": null,
            "grid_template_rows": null,
            "height": null,
            "justify_content": null,
            "justify_items": null,
            "left": null,
            "margin": null,
            "max_height": null,
            "max_width": null,
            "min_height": null,
            "min_width": null,
            "object_fit": null,
            "object_position": null,
            "order": null,
            "overflow": null,
            "overflow_x": null,
            "overflow_y": null,
            "padding": null,
            "right": null,
            "top": null,
            "visibility": null,
            "width": null
          }
        },
        "57d7ff7974a743f6881a5cc3c59b808b": {
          "model_module": "@jupyter-widgets/base",
          "model_name": "LayoutModel",
          "model_module_version": "1.2.0",
          "state": {
            "_model_module": "@jupyter-widgets/base",
            "_model_module_version": "1.2.0",
            "_model_name": "LayoutModel",
            "_view_count": null,
            "_view_module": "@jupyter-widgets/base",
            "_view_module_version": "1.2.0",
            "_view_name": "LayoutView",
            "align_content": null,
            "align_items": null,
            "align_self": null,
            "border": null,
            "bottom": null,
            "display": null,
            "flex": null,
            "flex_flow": null,
            "grid_area": null,
            "grid_auto_columns": null,
            "grid_auto_flow": null,
            "grid_auto_rows": null,
            "grid_column": null,
            "grid_gap": null,
            "grid_row": null,
            "grid_template_areas": null,
            "grid_template_columns": null,
            "grid_template_rows": null,
            "height": null,
            "justify_content": null,
            "justify_items": null,
            "left": null,
            "margin": null,
            "max_height": null,
            "max_width": null,
            "min_height": null,
            "min_width": null,
            "object_fit": null,
            "object_position": null,
            "order": null,
            "overflow": null,
            "overflow_x": null,
            "overflow_y": null,
            "padding": null,
            "right": null,
            "top": null,
            "visibility": null,
            "width": null
          }
        },
        "4effcbe910024f628ba58277c59b431f": {
          "model_module": "@jupyter-widgets/controls",
          "model_name": "DescriptionStyleModel",
          "model_module_version": "1.5.0",
          "state": {
            "_model_module": "@jupyter-widgets/controls",
            "_model_module_version": "1.5.0",
            "_model_name": "DescriptionStyleModel",
            "_view_count": null,
            "_view_module": "@jupyter-widgets/base",
            "_view_module_version": "1.2.0",
            "_view_name": "StyleView",
            "description_width": ""
          }
        },
        "517fb7dfb43446d7a4471aee7d3445e0": {
          "model_module": "@jupyter-widgets/base",
          "model_name": "LayoutModel",
          "model_module_version": "1.2.0",
          "state": {
            "_model_module": "@jupyter-widgets/base",
            "_model_module_version": "1.2.0",
            "_model_name": "LayoutModel",
            "_view_count": null,
            "_view_module": "@jupyter-widgets/base",
            "_view_module_version": "1.2.0",
            "_view_name": "LayoutView",
            "align_content": null,
            "align_items": null,
            "align_self": null,
            "border": null,
            "bottom": null,
            "display": null,
            "flex": null,
            "flex_flow": null,
            "grid_area": null,
            "grid_auto_columns": null,
            "grid_auto_flow": null,
            "grid_auto_rows": null,
            "grid_column": null,
            "grid_gap": null,
            "grid_row": null,
            "grid_template_areas": null,
            "grid_template_columns": null,
            "grid_template_rows": null,
            "height": null,
            "justify_content": null,
            "justify_items": null,
            "left": null,
            "margin": null,
            "max_height": null,
            "max_width": null,
            "min_height": null,
            "min_width": null,
            "object_fit": null,
            "object_position": null,
            "order": null,
            "overflow": null,
            "overflow_x": null,
            "overflow_y": null,
            "padding": null,
            "right": null,
            "top": null,
            "visibility": null,
            "width": null
          }
        },
        "b0db7d2f62064c1691390edc30f353d9": {
          "model_module": "@jupyter-widgets/controls",
          "model_name": "ProgressStyleModel",
          "model_module_version": "1.5.0",
          "state": {
            "_model_module": "@jupyter-widgets/controls",
            "_model_module_version": "1.5.0",
            "_model_name": "ProgressStyleModel",
            "_view_count": null,
            "_view_module": "@jupyter-widgets/base",
            "_view_module_version": "1.2.0",
            "_view_name": "StyleView",
            "bar_color": null,
            "description_width": ""
          }
        },
        "2df60117a9c54471948f0a5b6f0ef7eb": {
          "model_module": "@jupyter-widgets/base",
          "model_name": "LayoutModel",
          "model_module_version": "1.2.0",
          "state": {
            "_model_module": "@jupyter-widgets/base",
            "_model_module_version": "1.2.0",
            "_model_name": "LayoutModel",
            "_view_count": null,
            "_view_module": "@jupyter-widgets/base",
            "_view_module_version": "1.2.0",
            "_view_name": "LayoutView",
            "align_content": null,
            "align_items": null,
            "align_self": null,
            "border": null,
            "bottom": null,
            "display": null,
            "flex": null,
            "flex_flow": null,
            "grid_area": null,
            "grid_auto_columns": null,
            "grid_auto_flow": null,
            "grid_auto_rows": null,
            "grid_column": null,
            "grid_gap": null,
            "grid_row": null,
            "grid_template_areas": null,
            "grid_template_columns": null,
            "grid_template_rows": null,
            "height": null,
            "justify_content": null,
            "justify_items": null,
            "left": null,
            "margin": null,
            "max_height": null,
            "max_width": null,
            "min_height": null,
            "min_width": null,
            "object_fit": null,
            "object_position": null,
            "order": null,
            "overflow": null,
            "overflow_x": null,
            "overflow_y": null,
            "padding": null,
            "right": null,
            "top": null,
            "visibility": null,
            "width": null
          }
        },
        "c04a9b8ff18c480e82cafa9f7a6676a0": {
          "model_module": "@jupyter-widgets/controls",
          "model_name": "DescriptionStyleModel",
          "model_module_version": "1.5.0",
          "state": {
            "_model_module": "@jupyter-widgets/controls",
            "_model_module_version": "1.5.0",
            "_model_name": "DescriptionStyleModel",
            "_view_count": null,
            "_view_module": "@jupyter-widgets/base",
            "_view_module_version": "1.2.0",
            "_view_name": "StyleView",
            "description_width": ""
          }
        },
        "e6b0bb3bd6ca4b5bb89a00c12d55236a": {
          "model_module": "@jupyter-widgets/controls",
          "model_name": "HBoxModel",
          "model_module_version": "1.5.0",
          "state": {
            "_dom_classes": [],
            "_model_module": "@jupyter-widgets/controls",
            "_model_module_version": "1.5.0",
            "_model_name": "HBoxModel",
            "_view_count": null,
            "_view_module": "@jupyter-widgets/controls",
            "_view_module_version": "1.5.0",
            "_view_name": "HBoxView",
            "box_style": "",
            "children": [
              "IPY_MODEL_fb89a003f14c4d01b356e995a7a4cebf",
              "IPY_MODEL_08f77435159545f09df87a742e498ad1",
              "IPY_MODEL_fe33cc3a64a54fe083748ad2554d01d6"
            ],
            "layout": "IPY_MODEL_e8d20ea8ca3f46daba4bd3f5cde9821e"
          }
        },
        "fb89a003f14c4d01b356e995a7a4cebf": {
          "model_module": "@jupyter-widgets/controls",
          "model_name": "HTMLModel",
          "model_module_version": "1.5.0",
          "state": {
            "_dom_classes": [],
            "_model_module": "@jupyter-widgets/controls",
            "_model_module_version": "1.5.0",
            "_model_name": "HTMLModel",
            "_view_count": null,
            "_view_module": "@jupyter-widgets/controls",
            "_view_module_version": "1.5.0",
            "_view_name": "HTMLView",
            "description": "",
            "description_tooltip": null,
            "layout": "IPY_MODEL_5feabe766fc34f99974a91a999edcbd7",
            "placeholder": "​",
            "style": "IPY_MODEL_53d8f33920e84bf89dce54760ce3d2f0",
            "value": "model.safetensors: 100%"
          }
        },
        "08f77435159545f09df87a742e498ad1": {
          "model_module": "@jupyter-widgets/controls",
          "model_name": "FloatProgressModel",
          "model_module_version": "1.5.0",
          "state": {
            "_dom_classes": [],
            "_model_module": "@jupyter-widgets/controls",
            "_model_module_version": "1.5.0",
            "_model_name": "FloatProgressModel",
            "_view_count": null,
            "_view_module": "@jupyter-widgets/controls",
            "_view_module_version": "1.5.0",
            "_view_name": "ProgressView",
            "bar_style": "success",
            "description": "",
            "description_tooltip": null,
            "layout": "IPY_MODEL_e5d9536e22234c0c951a417019287bd0",
            "max": 498818054,
            "min": 0,
            "orientation": "horizontal",
            "style": "IPY_MODEL_80487581d663415087d8017e21fbef9e",
            "value": 498818054
          }
        },
        "fe33cc3a64a54fe083748ad2554d01d6": {
          "model_module": "@jupyter-widgets/controls",
          "model_name": "HTMLModel",
          "model_module_version": "1.5.0",
          "state": {
            "_dom_classes": [],
            "_model_module": "@jupyter-widgets/controls",
            "_model_module_version": "1.5.0",
            "_model_name": "HTMLModel",
            "_view_count": null,
            "_view_module": "@jupyter-widgets/controls",
            "_view_module_version": "1.5.0",
            "_view_name": "HTMLView",
            "description": "",
            "description_tooltip": null,
            "layout": "IPY_MODEL_dcb626f6ca574de9adffb72bd85a32ce",
            "placeholder": "​",
            "style": "IPY_MODEL_5b583a0a66124bdb8e62c3db4fb29969",
            "value": " 499M/499M [00:05&lt;00:00, 144MB/s]"
          }
        },
        "e8d20ea8ca3f46daba4bd3f5cde9821e": {
          "model_module": "@jupyter-widgets/base",
          "model_name": "LayoutModel",
          "model_module_version": "1.2.0",
          "state": {
            "_model_module": "@jupyter-widgets/base",
            "_model_module_version": "1.2.0",
            "_model_name": "LayoutModel",
            "_view_count": null,
            "_view_module": "@jupyter-widgets/base",
            "_view_module_version": "1.2.0",
            "_view_name": "LayoutView",
            "align_content": null,
            "align_items": null,
            "align_self": null,
            "border": null,
            "bottom": null,
            "display": null,
            "flex": null,
            "flex_flow": null,
            "grid_area": null,
            "grid_auto_columns": null,
            "grid_auto_flow": null,
            "grid_auto_rows": null,
            "grid_column": null,
            "grid_gap": null,
            "grid_row": null,
            "grid_template_areas": null,
            "grid_template_columns": null,
            "grid_template_rows": null,
            "height": null,
            "justify_content": null,
            "justify_items": null,
            "left": null,
            "margin": null,
            "max_height": null,
            "max_width": null,
            "min_height": null,
            "min_width": null,
            "object_fit": null,
            "object_position": null,
            "order": null,
            "overflow": null,
            "overflow_x": null,
            "overflow_y": null,
            "padding": null,
            "right": null,
            "top": null,
            "visibility": null,
            "width": null
          }
        },
        "5feabe766fc34f99974a91a999edcbd7": {
          "model_module": "@jupyter-widgets/base",
          "model_name": "LayoutModel",
          "model_module_version": "1.2.0",
          "state": {
            "_model_module": "@jupyter-widgets/base",
            "_model_module_version": "1.2.0",
            "_model_name": "LayoutModel",
            "_view_count": null,
            "_view_module": "@jupyter-widgets/base",
            "_view_module_version": "1.2.0",
            "_view_name": "LayoutView",
            "align_content": null,
            "align_items": null,
            "align_self": null,
            "border": null,
            "bottom": null,
            "display": null,
            "flex": null,
            "flex_flow": null,
            "grid_area": null,
            "grid_auto_columns": null,
            "grid_auto_flow": null,
            "grid_auto_rows": null,
            "grid_column": null,
            "grid_gap": null,
            "grid_row": null,
            "grid_template_areas": null,
            "grid_template_columns": null,
            "grid_template_rows": null,
            "height": null,
            "justify_content": null,
            "justify_items": null,
            "left": null,
            "margin": null,
            "max_height": null,
            "max_width": null,
            "min_height": null,
            "min_width": null,
            "object_fit": null,
            "object_position": null,
            "order": null,
            "overflow": null,
            "overflow_x": null,
            "overflow_y": null,
            "padding": null,
            "right": null,
            "top": null,
            "visibility": null,
            "width": null
          }
        },
        "53d8f33920e84bf89dce54760ce3d2f0": {
          "model_module": "@jupyter-widgets/controls",
          "model_name": "DescriptionStyleModel",
          "model_module_version": "1.5.0",
          "state": {
            "_model_module": "@jupyter-widgets/controls",
            "_model_module_version": "1.5.0",
            "_model_name": "DescriptionStyleModel",
            "_view_count": null,
            "_view_module": "@jupyter-widgets/base",
            "_view_module_version": "1.2.0",
            "_view_name": "StyleView",
            "description_width": ""
          }
        },
        "e5d9536e22234c0c951a417019287bd0": {
          "model_module": "@jupyter-widgets/base",
          "model_name": "LayoutModel",
          "model_module_version": "1.2.0",
          "state": {
            "_model_module": "@jupyter-widgets/base",
            "_model_module_version": "1.2.0",
            "_model_name": "LayoutModel",
            "_view_count": null,
            "_view_module": "@jupyter-widgets/base",
            "_view_module_version": "1.2.0",
            "_view_name": "LayoutView",
            "align_content": null,
            "align_items": null,
            "align_self": null,
            "border": null,
            "bottom": null,
            "display": null,
            "flex": null,
            "flex_flow": null,
            "grid_area": null,
            "grid_auto_columns": null,
            "grid_auto_flow": null,
            "grid_auto_rows": null,
            "grid_column": null,
            "grid_gap": null,
            "grid_row": null,
            "grid_template_areas": null,
            "grid_template_columns": null,
            "grid_template_rows": null,
            "height": null,
            "justify_content": null,
            "justify_items": null,
            "left": null,
            "margin": null,
            "max_height": null,
            "max_width": null,
            "min_height": null,
            "min_width": null,
            "object_fit": null,
            "object_position": null,
            "order": null,
            "overflow": null,
            "overflow_x": null,
            "overflow_y": null,
            "padding": null,
            "right": null,
            "top": null,
            "visibility": null,
            "width": null
          }
        },
        "80487581d663415087d8017e21fbef9e": {
          "model_module": "@jupyter-widgets/controls",
          "model_name": "ProgressStyleModel",
          "model_module_version": "1.5.0",
          "state": {
            "_model_module": "@jupyter-widgets/controls",
            "_model_module_version": "1.5.0",
            "_model_name": "ProgressStyleModel",
            "_view_count": null,
            "_view_module": "@jupyter-widgets/base",
            "_view_module_version": "1.2.0",
            "_view_name": "StyleView",
            "bar_color": null,
            "description_width": ""
          }
        },
        "dcb626f6ca574de9adffb72bd85a32ce": {
          "model_module": "@jupyter-widgets/base",
          "model_name": "LayoutModel",
          "model_module_version": "1.2.0",
          "state": {
            "_model_module": "@jupyter-widgets/base",
            "_model_module_version": "1.2.0",
            "_model_name": "LayoutModel",
            "_view_count": null,
            "_view_module": "@jupyter-widgets/base",
            "_view_module_version": "1.2.0",
            "_view_name": "LayoutView",
            "align_content": null,
            "align_items": null,
            "align_self": null,
            "border": null,
            "bottom": null,
            "display": null,
            "flex": null,
            "flex_flow": null,
            "grid_area": null,
            "grid_auto_columns": null,
            "grid_auto_flow": null,
            "grid_auto_rows": null,
            "grid_column": null,
            "grid_gap": null,
            "grid_row": null,
            "grid_template_areas": null,
            "grid_template_columns": null,
            "grid_template_rows": null,
            "height": null,
            "justify_content": null,
            "justify_items": null,
            "left": null,
            "margin": null,
            "max_height": null,
            "max_width": null,
            "min_height": null,
            "min_width": null,
            "object_fit": null,
            "object_position": null,
            "order": null,
            "overflow": null,
            "overflow_x": null,
            "overflow_y": null,
            "padding": null,
            "right": null,
            "top": null,
            "visibility": null,
            "width": null
          }
        },
        "5b583a0a66124bdb8e62c3db4fb29969": {
          "model_module": "@jupyter-widgets/controls",
          "model_name": "DescriptionStyleModel",
          "model_module_version": "1.5.0",
          "state": {
            "_model_module": "@jupyter-widgets/controls",
            "_model_module_version": "1.5.0",
            "_model_name": "DescriptionStyleModel",
            "_view_count": null,
            "_view_module": "@jupyter-widgets/base",
            "_view_module_version": "1.2.0",
            "_view_name": "StyleView",
            "description_width": ""
          }
        }
      }
    }
  },
  "nbformat": 4,
  "nbformat_minor": 0
}