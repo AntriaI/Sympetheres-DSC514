{
 "cells": [
  {
   "cell_type": "markdown",
   "id": "1a85f971-ad11-4f88-bf21-4a91cf9ca960",
   "metadata": {},
   "source": [
    "# Detection of Movie Spoilers in Reviews"
   ]
  },
  {
   "cell_type": "markdown",
   "id": "15fa1708-e7e8-4ff2-814d-58ed5422c046",
   "metadata": {},
   "source": [
    "##### ***Import essential libraries***"
   ]
  },
  {
   "cell_type": "code",
   "execution_count": 67,
   "id": "923dd9ae-eace-410b-90f0-d374d73e2a07",
   "metadata": {},
   "outputs": [],
   "source": [
    "import pandas as pd\n",
    "import numpy as np\n",
    "import ast #to convert series of strings to series of lists"
   ]
  },
  {
   "cell_type": "markdown",
   "id": "261ec0c6-7c42-4baa-9795-e68b750c64c3",
   "metadata": {},
   "source": [
    " "
   ]
  },
  {
   "cell_type": "markdown",
   "id": "6f78ce29-2a6d-4eb3-9293-5f46b6f1b2aa",
   "metadata": {},
   "source": [
    "##### Understanding the data"
   ]
  },
  {
   "cell_type": "markdown",
   "id": "64f10ffa-6bf4-49e9-8117-c390fbe552fd",
   "metadata": {},
   "source": [
    "Apories:\n",
    "1. what is rating_x, rating_y\n",
    "2. maybe convert duration to minutes would be better to compare"
   ]
  },
  {
   "cell_type": "code",
   "execution_count": 64,
   "id": "e63a1585-253d-4a1b-936a-0ecea798bd4c",
   "metadata": {},
   "outputs": [],
   "source": [
    "original_data = pd.read_csv('movie_spoiler_sample.csv')"
   ]
  },
  {
   "cell_type": "code",
   "execution_count": 13,
   "id": "2648e9fd-0032-47ac-bad0-1bebaa83c513",
   "metadata": {},
   "outputs": [
    {
     "data": {
      "text/html": [
       "<div>\n",
       "<style scoped>\n",
       "    .dataframe tbody tr th:only-of-type {\n",
       "        vertical-align: middle;\n",
       "    }\n",
       "\n",
       "    .dataframe tbody tr th {\n",
       "        vertical-align: top;\n",
       "    }\n",
       "\n",
       "    .dataframe thead th {\n",
       "        text-align: right;\n",
       "    }\n",
       "</style>\n",
       "<table border=\"1\" class=\"dataframe\">\n",
       "  <thead>\n",
       "    <tr style=\"text-align: right;\">\n",
       "      <th></th>\n",
       "      <th>movie_id</th>\n",
       "      <th>plot_summary</th>\n",
       "      <th>duration</th>\n",
       "      <th>genre</th>\n",
       "      <th>rating_x</th>\n",
       "      <th>release_date</th>\n",
       "      <th>plot_synopsis</th>\n",
       "      <th>review_date</th>\n",
       "      <th>user_id</th>\n",
       "      <th>is_spoiler</th>\n",
       "      <th>review_text</th>\n",
       "      <th>rating_y</th>\n",
       "      <th>review_summary</th>\n",
       "    </tr>\n",
       "  </thead>\n",
       "  <tbody>\n",
       "    <tr>\n",
       "      <th>0</th>\n",
       "      <td>tt0318649</td>\n",
       "      <td>Master explorer and former US Navy Seal Dirk P...</td>\n",
       "      <td>2h 4min</td>\n",
       "      <td>['Action', 'Adventure', 'Comedy']</td>\n",
       "      <td>6.0</td>\n",
       "      <td>2005-04-08</td>\n",
       "      <td>The film begins with a prologue set in Richmon...</td>\n",
       "      <td>27 May 2005</td>\n",
       "      <td>ur3270789</td>\n",
       "      <td>False</td>\n",
       "      <td>The film starts in the Richmond battle (1865) ...</td>\n",
       "      <td>7</td>\n",
       "      <td>Splendid adventure film with mesmerizing deser...</td>\n",
       "    </tr>\n",
       "    <tr>\n",
       "      <th>1</th>\n",
       "      <td>tt0803096</td>\n",
       "      <td>When the world of the Orcs of Draenor is being...</td>\n",
       "      <td>2h 3min</td>\n",
       "      <td>['Action', 'Adventure', 'Fantasy']</td>\n",
       "      <td>6.9</td>\n",
       "      <td>2016-06-10</td>\n",
       "      <td>For ages in the region of Middle Earth, humans...</td>\n",
       "      <td>20 June 2016</td>\n",
       "      <td>ur47788388</td>\n",
       "      <td>True</td>\n",
       "      <td>I saw the movie with six friends and we all lo...</td>\n",
       "      <td>10</td>\n",
       "      <td>Epic movie for fans and non fans</td>\n",
       "    </tr>\n",
       "    <tr>\n",
       "      <th>2</th>\n",
       "      <td>tt0425112</td>\n",
       "      <td>Top London cop, PC Nicholas Angel is good. Too...</td>\n",
       "      <td>2h 1min</td>\n",
       "      <td>['Action', 'Comedy']</td>\n",
       "      <td>7.9</td>\n",
       "      <td>2007-04-20</td>\n",
       "      <td>Nicholas Angel (Simon Pegg) is undoubtedly Lon...</td>\n",
       "      <td>11 June 2007</td>\n",
       "      <td>ur14440242</td>\n",
       "      <td>True</td>\n",
       "      <td>I enjoyed this movie very much, but it being l...</td>\n",
       "      <td>8</td>\n",
       "      <td>once again a funny British film</td>\n",
       "    </tr>\n",
       "    <tr>\n",
       "      <th>3</th>\n",
       "      <td>tt0327056</td>\n",
       "      <td>In the summer of 1975 in a neighborhood in Bos...</td>\n",
       "      <td>2h 18min</td>\n",
       "      <td>['Crime', 'Drama', 'Mystery']</td>\n",
       "      <td>8.0</td>\n",
       "      <td>2003-10-15</td>\n",
       "      <td>Three young boys, all the best of friends, are...</td>\n",
       "      <td>5 November 2015</td>\n",
       "      <td>ur63623011</td>\n",
       "      <td>False</td>\n",
       "      <td>What you get here is no more than Clint eastwo...</td>\n",
       "      <td>1</td>\n",
       "      <td>For he made a 'plot twist' out of it</td>\n",
       "    </tr>\n",
       "    <tr>\n",
       "      <th>4</th>\n",
       "      <td>tt0259711</td>\n",
       "      <td>Incarcerated and charged with murder, David Aa...</td>\n",
       "      <td>2h 16min</td>\n",
       "      <td>['Fantasy', 'Mystery', 'Romance']</td>\n",
       "      <td>6.9</td>\n",
       "      <td>2001-12-14</td>\n",
       "      <td>David Aames (Tom Cruise) drives to work, he fi...</td>\n",
       "      <td>12 August 2016</td>\n",
       "      <td>ur2781970</td>\n",
       "      <td>False</td>\n",
       "      <td>I think the first time I saw this movie, I did...</td>\n",
       "      <td>10</td>\n",
       "      <td>As brilliant as I recalled it!</td>\n",
       "    </tr>\n",
       "  </tbody>\n",
       "</table>\n",
       "</div>"
      ],
      "text/plain": [
       "    movie_id                                       plot_summary  duration  \\\n",
       "0  tt0318649  Master explorer and former US Navy Seal Dirk P...   2h 4min   \n",
       "1  tt0803096  When the world of the Orcs of Draenor is being...   2h 3min   \n",
       "2  tt0425112  Top London cop, PC Nicholas Angel is good. Too...   2h 1min   \n",
       "3  tt0327056  In the summer of 1975 in a neighborhood in Bos...  2h 18min   \n",
       "4  tt0259711  Incarcerated and charged with murder, David Aa...  2h 16min   \n",
       "\n",
       "                                genre  rating_x release_date  \\\n",
       "0   ['Action', 'Adventure', 'Comedy']       6.0   2005-04-08   \n",
       "1  ['Action', 'Adventure', 'Fantasy']       6.9   2016-06-10   \n",
       "2                ['Action', 'Comedy']       7.9   2007-04-20   \n",
       "3       ['Crime', 'Drama', 'Mystery']       8.0   2003-10-15   \n",
       "4   ['Fantasy', 'Mystery', 'Romance']       6.9   2001-12-14   \n",
       "\n",
       "                                       plot_synopsis      review_date  \\\n",
       "0  The film begins with a prologue set in Richmon...      27 May 2005   \n",
       "1  For ages in the region of Middle Earth, humans...     20 June 2016   \n",
       "2  Nicholas Angel (Simon Pegg) is undoubtedly Lon...     11 June 2007   \n",
       "3  Three young boys, all the best of friends, are...  5 November 2015   \n",
       "4  David Aames (Tom Cruise) drives to work, he fi...   12 August 2016   \n",
       "\n",
       "      user_id  is_spoiler                                        review_text  \\\n",
       "0   ur3270789       False  The film starts in the Richmond battle (1865) ...   \n",
       "1  ur47788388        True  I saw the movie with six friends and we all lo...   \n",
       "2  ur14440242        True  I enjoyed this movie very much, but it being l...   \n",
       "3  ur63623011       False  What you get here is no more than Clint eastwo...   \n",
       "4   ur2781970       False  I think the first time I saw this movie, I did...   \n",
       "\n",
       "   rating_y                                     review_summary  \n",
       "0         7  Splendid adventure film with mesmerizing deser...  \n",
       "1        10                   Epic movie for fans and non fans  \n",
       "2         8                    once again a funny British film  \n",
       "3         1               For he made a 'plot twist' out of it  \n",
       "4        10                     As brilliant as I recalled it!  "
      ]
     },
     "execution_count": 13,
     "metadata": {},
     "output_type": "execute_result"
    }
   ],
   "source": [
    "original_data.head(5)"
   ]
  },
  {
   "cell_type": "code",
   "execution_count": 5,
   "id": "2f2cb037-75c0-4fb3-9000-071aa1987e2a",
   "metadata": {},
   "outputs": [
    {
     "data": {
      "text/plain": [
       "Index(['movie_id', 'plot_summary', 'duration', 'genre', 'rating_x',\n",
       "       'release_date', 'plot_synopsis', 'review_date', 'user_id', 'is_spoiler',\n",
       "       'review_text', 'rating_y', 'review_summary'],\n",
       "      dtype='object')"
      ]
     },
     "execution_count": 5,
     "metadata": {},
     "output_type": "execute_result"
    }
   ],
   "source": [
    "original_data.columns"
   ]
  },
  {
   "cell_type": "code",
   "execution_count": 6,
   "id": "036ae674-3795-4fba-8421-c7124ede2609",
   "metadata": {},
   "outputs": [
    {
     "data": {
      "text/plain": [
       "(72054, 13)"
      ]
     },
     "execution_count": 6,
     "metadata": {},
     "output_type": "execute_result"
    }
   ],
   "source": [
    "original_data.shape"
   ]
  },
  {
   "cell_type": "code",
   "execution_count": 10,
   "id": "7162c5a6-d585-4b30-b7a9-fea35ea1dc4f",
   "metadata": {},
   "outputs": [
    {
     "data": {
      "text/plain": [
       "is_spoiler\n",
       "False    36277\n",
       "True     35777\n",
       "Name: count, dtype: int64"
      ]
     },
     "execution_count": 10,
     "metadata": {},
     "output_type": "execute_result"
    }
   ],
   "source": [
    "original_data['is_spoiler'].value_counts() #it is balanced"
   ]
  },
  {
   "cell_type": "code",
   "execution_count": 11,
   "id": "912966c5-73c6-4a87-8132-222ec0814646",
   "metadata": {},
   "outputs": [
    {
     "data": {
      "text/plain": [
       "False"
      ]
     },
     "execution_count": 11,
     "metadata": {},
     "output_type": "execute_result"
    }
   ],
   "source": [
    "original_data.duplicated().any() #no duplicated rows"
   ]
  },
  {
   "cell_type": "code",
   "execution_count": 17,
   "id": "00cf20ad-9adf-4e52-a3aa-c812ac6ebce1",
   "metadata": {},
   "outputs": [
    {
     "data": {
      "text/plain": [
       "movie_id           object\n",
       "plot_summary       object\n",
       "duration           object\n",
       "genre              object\n",
       "rating_x          float64\n",
       "release_date       object\n",
       "plot_synopsis      object\n",
       "review_date        object\n",
       "user_id            object\n",
       "is_spoiler           bool\n",
       "review_text        object\n",
       "rating_y            int64\n",
       "review_summary     object\n",
       "dtype: object"
      ]
     },
     "execution_count": 17,
     "metadata": {},
     "output_type": "execute_result"
    }
   ],
   "source": [
    "original_data.dtypes"
   ]
  },
  {
   "cell_type": "code",
   "execution_count": 60,
   "id": "aae8a8b4-ff27-4d5c-af78-5803468863f9",
   "metadata": {},
   "outputs": [
    {
     "data": {
      "text/plain": [
       "'27 May 2005'"
      ]
     },
     "execution_count": 60,
     "metadata": {},
     "output_type": "execute_result"
    }
   ],
   "source": [
    "original_data['review_date'][0]"
   ]
  },
  {
   "cell_type": "code",
   "execution_count": 65,
   "id": "d7ba99e6-b29b-4276-a779-ed8407106a23",
   "metadata": {},
   "outputs": [],
   "source": [
    "#remove starting and trailing white spaces from strings\n",
    "columns_to_strip = ['movie_id','plot_summary','duration','genre','release_date','plot_synopsis',\n",
    "                            'review_date','user_id','review_text','review_summary']\n",
    "original_data[columns_to_strip] = original_data[columns_to_strip].apply(lambda col: col.str.strip())"
   ]
  },
  {
   "cell_type": "code",
   "execution_count": 72,
   "id": "64ec81aa-fad6-4bd9-84fa-48f6d755aff7",
   "metadata": {},
   "outputs": [],
   "source": [
    "#replace empty strings with NA\n",
    "original_data[columns_to_strip] = original_data[columns_to_strip].replace('', np.nan)"
   ]
  },
  {
   "cell_type": "code",
   "execution_count": 73,
   "id": "bfa29a2b-1b82-4900-8806-7c8c7a42ecfc",
   "metadata": {},
   "outputs": [
    {
     "data": {
      "text/plain": [
       "movie_id          0\n",
       "plot_summary      0\n",
       "duration          0\n",
       "genre             0\n",
       "rating_x          0\n",
       "release_date      0\n",
       "plot_synopsis     0\n",
       "review_date       0\n",
       "user_id           0\n",
       "is_spoiler        0\n",
       "review_text       0\n",
       "rating_y          0\n",
       "review_summary    0\n",
       "dtype: int64"
      ]
     },
     "execution_count": 73,
     "metadata": {},
     "output_type": "execute_result"
    }
   ],
   "source": [
    "#check how many null values each feature has\n",
    "original_data.isnull().sum() #no missing values"
   ]
  },
  {
   "cell_type": "code",
   "execution_count": 18,
   "id": "debeba27-1867-4704-b079-75dcaf7db5cc",
   "metadata": {},
   "outputs": [
    {
     "data": {
      "text/plain": [
       "0         ['Action', 'Adventure', 'Comedy']\n",
       "1        ['Action', 'Adventure', 'Fantasy']\n",
       "2                      ['Action', 'Comedy']\n",
       "3             ['Crime', 'Drama', 'Mystery']\n",
       "4         ['Fantasy', 'Mystery', 'Romance']\n",
       "                        ...                \n",
       "72049                            ['Comedy']\n",
       "72050                 ['Comedy', 'Fantasy']\n",
       "72051     ['Biography', 'Drama', 'History']\n",
       "72052     ['Adventure', 'Comedy', 'Family']\n",
       "72053     ['Action', 'Adventure', 'Sci-Fi']\n",
       "Name: genre, Length: 72054, dtype: object"
      ]
     },
     "execution_count": 18,
     "metadata": {},
     "output_type": "execute_result"
    }
   ],
   "source": [
    "genre = original_data['genre']\n",
    "genre"
   ]
  },
  {
   "cell_type": "code",
   "execution_count": 19,
   "id": "63c9f6d5-c36a-44f9-8813-4d508a0b1041",
   "metadata": {},
   "outputs": [
    {
     "data": {
      "text/plain": [
       "\"['Action', 'Adventure', 'Comedy']\""
      ]
     },
     "execution_count": 19,
     "metadata": {},
     "output_type": "execute_result"
    }
   ],
   "source": [
    "genre[0]"
   ]
  },
  {
   "cell_type": "code",
   "execution_count": 33,
   "id": "12932785-1571-4ad2-9818-f8c6a61260cb",
   "metadata": {},
   "outputs": [
    {
     "data": {
      "text/plain": [
       "True"
      ]
     },
     "execution_count": 33,
     "metadata": {},
     "output_type": "execute_result"
    }
   ],
   "source": [
    "#check if every element of genre feature is a string in order to make them lists\n",
    "original_data['genre'].apply(lambda x: isinstance(x, str)).all()"
   ]
  },
  {
   "cell_type": "code",
   "execution_count": 34,
   "id": "531879bb-e1fb-4257-8b41-ccd16d2cbdc2",
   "metadata": {},
   "outputs": [],
   "source": [
    "#convert genre feature from strings to a lists\n",
    "original_data['genre'] = original_data['genre'].apply(ast.literal_eval)"
   ]
  },
  {
   "cell_type": "code",
   "execution_count": 75,
   "id": "cca5069c-8850-4396-8ae6-5321c0b35901",
   "metadata": {},
   "outputs": [
    {
     "ename": "ValueError",
     "evalue": "invalid literal for int() with base 10: ''",
     "output_type": "error",
     "traceback": [
      "\u001b[1;31m---------------------------------------------------------------------------\u001b[0m",
      "\u001b[1;31mValueError\u001b[0m                                Traceback (most recent call last)",
      "Cell \u001b[1;32mIn[75], line 16\u001b[0m\n\u001b[0;32m     14\u001b[0m \u001b[38;5;28;01mif\u001b[39;00m \u001b[38;5;28mlen\u001b[39m(splitted) \u001b[38;5;241m>\u001b[39m \u001b[38;5;241m1\u001b[39m:  \u001b[38;5;66;03m# Contains both hours and minutes\u001b[39;00m\n\u001b[0;32m     15\u001b[0m     hours \u001b[38;5;241m=\u001b[39m \u001b[38;5;28mint\u001b[39m(splitted[\u001b[38;5;241m0\u001b[39m])\n\u001b[1;32m---> 16\u001b[0m     minutes \u001b[38;5;241m=\u001b[39m \u001b[38;5;28mint\u001b[39m(splitted[\u001b[38;5;241m1\u001b[39m]\u001b[38;5;241m.\u001b[39msplit(\u001b[38;5;124m'\u001b[39m\u001b[38;5;124mmin\u001b[39m\u001b[38;5;124m'\u001b[39m)[\u001b[38;5;241m0\u001b[39m]\u001b[38;5;241m.\u001b[39mstrip())\n\u001b[0;32m     17\u001b[0m \u001b[38;5;28;01melif\u001b[39;00m \u001b[38;5;124m'\u001b[39m\u001b[38;5;124mh\u001b[39m\u001b[38;5;124m'\u001b[39m \u001b[38;5;129;01min\u001b[39;00m elem:  \u001b[38;5;66;03m# Only hours\u001b[39;00m\n\u001b[0;32m     18\u001b[0m     hours \u001b[38;5;241m=\u001b[39m \u001b[38;5;28mint\u001b[39m(splitted[\u001b[38;5;241m0\u001b[39m]\u001b[38;5;241m.\u001b[39mstrip())\n",
      "\u001b[1;31mValueError\u001b[0m: invalid literal for int() with base 10: ''"
     ]
    }
   ],
   "source": [
    "#convert duration to minutes\n",
    "# Create a new column for duration in minutes\n",
    "duration_minutes = []\n",
    "\n",
    "for elem in original_data['duration']:\n",
    "    # Initialize hours and minutes to 0\n",
    "    hours = 0\n",
    "    minutes = 0\n",
    "    \n",
    "    # Split the string by 'h'\n",
    "    splitted = elem.split('h')\n",
    "    \n",
    "    # Check if the hour part exists\n",
    "    if len(splitted) > 1:  # Contains both hours and minutes\n",
    "        hours = int(splitted[0])\n",
    "        minutes = int(splitted[1].split('min')[0].strip())\n",
    "    elif 'h' in elem:  # Only hours\n",
    "        hours = int(splitted[0].strip())\n",
    "    elif 'min' in elem:  # Only minutes\n",
    "        minutes = int(elem.split('min')[0].strip())\n",
    "    \n",
    "    # Calculate total time in minutes\n",
    "    total_minutes = hours * 60 + minutes\n",
    "    duration_minutes.append(total_minutes)\n",
    "\n",
    "# Add the new column to the dataframe\n",
    "original_data['duration_minutes'] = duration_minutes"
   ]
  },
  {
   "cell_type": "code",
   "execution_count": 49,
   "id": "ceaa185e-c58c-4500-8ebc-57964131bfff",
   "metadata": {},
   "outputs": [
    {
     "data": {
      "text/plain": [
       "'4min'"
      ]
     },
     "execution_count": 49,
     "metadata": {},
     "output_type": "execute_result"
    }
   ],
   "source": [
    "original_data['duration'][0].split('h ')[1]"
   ]
  },
  {
   "cell_type": "code",
   "execution_count": null,
   "id": "e3382206-a618-4e3f-a2c3-40803d7c9035",
   "metadata": {},
   "outputs": [],
   "source": []
  },
  {
   "cell_type": "code",
   "execution_count": null,
   "id": "f4c1eb92-f6aa-42c7-ba62-a8bc9e6233dc",
   "metadata": {},
   "outputs": [],
   "source": []
  },
  {
   "cell_type": "code",
   "execution_count": null,
   "id": "3335caf4-971c-402c-84a9-4111326cd022",
   "metadata": {},
   "outputs": [],
   "source": []
  },
  {
   "cell_type": "code",
   "execution_count": null,
   "id": "a232d65f-d5aa-4882-bf53-4c520448b82f",
   "metadata": {},
   "outputs": [],
   "source": []
  }
 ],
 "metadata": {
  "kernelspec": {
   "display_name": "Python 3 (ipykernel)",
   "language": "python",
   "name": "python3"
  },
  "language_info": {
   "codemirror_mode": {
    "name": "ipython",
    "version": 3
   },
   "file_extension": ".py",
   "mimetype": "text/x-python",
   "name": "python",
   "nbconvert_exporter": "python",
   "pygments_lexer": "ipython3",
   "version": "3.12.3"
  }
 },
 "nbformat": 4,
 "nbformat_minor": 5
}
