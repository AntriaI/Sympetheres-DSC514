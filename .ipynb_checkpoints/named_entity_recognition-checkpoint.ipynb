{
 "cells": [
  {
   "cell_type": "code",
   "execution_count": null,
   "id": "4f651542",
   "metadata": {},
   "outputs": [],
   "source": [
    "!pip install spacy\n",
    "!python3 -m spacy download en_core_web_sm\n"
   ]
  },
  {
   "cell_type": "code",
   "execution_count": null,
   "id": "8dda57bb",
   "metadata": {},
   "outputs": [],
   "source": [
    "!python -m spacy download en_core_web_sm\n"
   ]
  },
  {
   "cell_type": "code",
   "execution_count": null,
   "id": "611e47b5",
   "metadata": {},
   "outputs": [],
   "source": [
    "#this takes a while to run - hence why i used review_text instead of whole_review!\n",
    "\n",
    "import spacy\n",
    "import pandas as pd\n",
    "import nltk\n",
    "from nltk.tokenize import word_tokenize\n",
    "from collections import Counter\n",
    "\n",
    "# Ensure NLTK tokenizer is available\n",
    "nltk.download('punkt')\n",
    "\n",
    "# Load spaCy model\n",
    "nlp = spacy.load(\"en_core_web_sm\")\n",
    "\n",
    "# Function to tokenize text using nltk\n",
    "def tokenize_text(text):\n",
    "    return \" \".join(word_tokenize(text))  # Convert tokens back to a string for spaCy\n",
    "\n",
    "# Group reviews by movie_id\n",
    "grouped_reviews = sampled_data.groupby(\"movie_id\")[\"review_text\"].apply(lambda x: \" \".join(x))\n",
    "\n",
    "# Dictionary to store PERSON entity counts per movie\n",
    "person_entities_by_movie = {}\n",
    "\n",
    "# Process each movie's reviews separately\n",
    "for movie_id, text in grouped_reviews.items():\n",
    "    tokenized_text = tokenize_text(text)  # Tokenize using NLTK\n",
    "    doc = nlp(tokenized_text)  # Apply spaCy NER\n",
    "    person_entities = [ent.text for ent in doc.ents if ent.label_ == \"PERSON\"]  # Extract only PERSON entities\n",
    "    \n",
    "    # Count occurrences of each PERSON entity\n",
    "    person_counts = Counter(person_entities)\n",
    "    \n",
    "    # Store results\n",
    "    person_entities_by_movie[movie_id] = person_counts\n",
    "\n",
    "# Print the most common PERSON entities per movie\n",
    "for movie_id, person_counts in person_entities_by_movie.items():\n",
    "    print(f\"Movie ID: {movie_id} - Most Common PERSON Entities:\")\n",
    "    for entity, count in person_counts.most_common(5):  # Top 5 most common PERSON names\n",
    "        print(f\"{entity}: {count} times\")\n",
    "    print(\"\\n\" + \"=\"*40 + \"\\n\")  # Separator for readability\n"
   ]
  }
 ],
 "metadata": {
  "kernelspec": {
   "display_name": "Python 3 (ipykernel)",
   "language": "python",
   "name": "python3"
  },
  "language_info": {
   "codemirror_mode": {
    "name": "ipython",
    "version": 3
   },
   "file_extension": ".py",
   "mimetype": "text/x-python",
   "name": "python",
   "nbconvert_exporter": "python",
   "pygments_lexer": "ipython3",
   "version": "3.9.7"
  }
 },
 "nbformat": 4,
 "nbformat_minor": 5
}
